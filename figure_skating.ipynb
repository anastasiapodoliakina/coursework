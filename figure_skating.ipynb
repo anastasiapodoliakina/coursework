{
 "cells": [
  {
   "cell_type": "code",
   "execution_count": 200,
   "metadata": {},
   "outputs": [],
   "source": [
    "import pandas as pd\n",
    "import numpy as np\n",
    "import plotly.express as px"
   ]
  },
  {
   "cell_type": "markdown",
   "metadata": {},
   "source": [
    "## *Visualizing Datasets*"
   ]
  },
  {
   "cell_type": "code",
   "execution_count": 201,
   "metadata": {},
   "outputs": [
    {
     "data": {
      "text/html": [
       "<div>\n",
       "<style scoped>\n",
       "    .dataframe tbody tr th:only-of-type {\n",
       "        vertical-align: middle;\n",
       "    }\n",
       "\n",
       "    .dataframe tbody tr th {\n",
       "        vertical-align: top;\n",
       "    }\n",
       "\n",
       "    .dataframe thead th {\n",
       "        text-align: right;\n",
       "    }\n",
       "</style>\n",
       "<table border=\"1\" class=\"dataframe\">\n",
       "  <thead>\n",
       "    <tr style=\"text-align: right;\">\n",
       "      <th></th>\n",
       "      <th>skater_id</th>\n",
       "      <th>rank</th>\n",
       "      <th>skater_name_1</th>\n",
       "      <th>skater_name_2</th>\n",
       "      <th>noc</th>\n",
       "      <th>starting_number</th>\n",
       "      <th>segment</th>\n",
       "      <th>category</th>\n",
       "      <th>total_segment_score</th>\n",
       "      <th>total_element_score</th>\n",
       "      <th>total_program_component_score</th>\n",
       "      <th>total_deductions</th>\n",
       "    </tr>\n",
       "  </thead>\n",
       "  <tbody>\n",
       "    <tr>\n",
       "      <th>0</th>\n",
       "      <td>1_CHEN Nathan_Single_USA_Free Skating_Men Sing...</td>\n",
       "      <td>1</td>\n",
       "      <td>CHEN Nathan</td>\n",
       "      <td>NaN</td>\n",
       "      <td>USA</td>\n",
       "      <td>24</td>\n",
       "      <td>Free Skating</td>\n",
       "      <td>Men Single Skating</td>\n",
       "      <td>218.63</td>\n",
       "      <td>121.41</td>\n",
       "      <td>97.22</td>\n",
       "      <td>0.0</td>\n",
       "    </tr>\n",
       "    <tr>\n",
       "      <th>1</th>\n",
       "      <td>2_KAGIYAMA Yuma_Single_JPN_Free Skating_Men Si...</td>\n",
       "      <td>2</td>\n",
       "      <td>KAGIYAMA Yuma</td>\n",
       "      <td>NaN</td>\n",
       "      <td>JPN</td>\n",
       "      <td>23</td>\n",
       "      <td>Free Skating</td>\n",
       "      <td>Men Single Skating</td>\n",
       "      <td>201.93</td>\n",
       "      <td>107.99</td>\n",
       "      <td>93.94</td>\n",
       "      <td>0.0</td>\n",
       "    </tr>\n",
       "    <tr>\n",
       "      <th>2</th>\n",
       "      <td>3_HANYU Yuzuru_Single_JPN_Free Skating_Men Sin...</td>\n",
       "      <td>3</td>\n",
       "      <td>HANYU Yuzuru</td>\n",
       "      <td>NaN</td>\n",
       "      <td>JPN</td>\n",
       "      <td>17</td>\n",
       "      <td>Free Skating</td>\n",
       "      <td>Men Single Skating</td>\n",
       "      <td>188.06</td>\n",
       "      <td>99.62</td>\n",
       "      <td>90.44</td>\n",
       "      <td>-2.0</td>\n",
       "    </tr>\n",
       "    <tr>\n",
       "      <th>3</th>\n",
       "      <td>4_GRASSL Daniel_Single_ITA_Free Skating_Men Si...</td>\n",
       "      <td>4</td>\n",
       "      <td>GRASSL Daniel</td>\n",
       "      <td>NaN</td>\n",
       "      <td>ITA</td>\n",
       "      <td>13</td>\n",
       "      <td>Free Skating</td>\n",
       "      <td>Men Single Skating</td>\n",
       "      <td>187.43</td>\n",
       "      <td>103.35</td>\n",
       "      <td>84.08</td>\n",
       "      <td>0.0</td>\n",
       "    </tr>\n",
       "    <tr>\n",
       "      <th>4</th>\n",
       "      <td>5_UNO Shoma_Single_JPN_Free Skating_Men Single...</td>\n",
       "      <td>5</td>\n",
       "      <td>UNO Shoma</td>\n",
       "      <td>NaN</td>\n",
       "      <td>JPN</td>\n",
       "      <td>22</td>\n",
       "      <td>Free Skating</td>\n",
       "      <td>Men Single Skating</td>\n",
       "      <td>187.10</td>\n",
       "      <td>96.24</td>\n",
       "      <td>91.86</td>\n",
       "      <td>-1.0</td>\n",
       "    </tr>\n",
       "    <tr>\n",
       "      <th>...</th>\n",
       "      <td>...</td>\n",
       "      <td>...</td>\n",
       "      <td>...</td>\n",
       "      <td>...</td>\n",
       "      <td>...</td>\n",
       "      <td>...</td>\n",
       "      <td>...</td>\n",
       "      <td>...</td>\n",
       "      <td>...</td>\n",
       "      <td>...</td>\n",
       "      <td>...</td>\n",
       "      <td>...</td>\n",
       "    </tr>\n",
       "    <tr>\n",
       "      <th>238</th>\n",
       "      <td>6_TASCHLEROVA Natalie_TASCHLER Filip_CZE_Rhyth...</td>\n",
       "      <td>6</td>\n",
       "      <td>TASCHLEROVA Natalie</td>\n",
       "      <td>TASCHLER Filip</td>\n",
       "      <td>CZE</td>\n",
       "      <td>2</td>\n",
       "      <td>Rhythm Dance</td>\n",
       "      <td>Team Event - Ice Dance</td>\n",
       "      <td>68.99</td>\n",
       "      <td>38.68</td>\n",
       "      <td>30.31</td>\n",
       "      <td>0.0</td>\n",
       "    </tr>\n",
       "    <tr>\n",
       "      <th>239</th>\n",
       "      <td>7_KOMATSUBARA Misato_KOLETO Tim_JPN_Rhythm Dan...</td>\n",
       "      <td>7</td>\n",
       "      <td>KOMATSUBARA Misato</td>\n",
       "      <td>KOLETO Tim</td>\n",
       "      <td>JPN</td>\n",
       "      <td>1</td>\n",
       "      <td>Rhythm Dance</td>\n",
       "      <td>Team Event - Ice Dance</td>\n",
       "      <td>66.54</td>\n",
       "      <td>37.15</td>\n",
       "      <td>29.39</td>\n",
       "      <td>0.0</td>\n",
       "    </tr>\n",
       "    <tr>\n",
       "      <th>240</th>\n",
       "      <td>8_KAZAKOVA Maria_REVIYA Georgy_GEO_Rhythm Danc...</td>\n",
       "      <td>8</td>\n",
       "      <td>KAZAKOVA Maria</td>\n",
       "      <td>REVIYA Georgy</td>\n",
       "      <td>GEO</td>\n",
       "      <td>4</td>\n",
       "      <td>Rhythm Dance</td>\n",
       "      <td>Team Event - Ice Dance</td>\n",
       "      <td>64.60</td>\n",
       "      <td>35.00</td>\n",
       "      <td>29.60</td>\n",
       "      <td>0.0</td>\n",
       "    </tr>\n",
       "    <tr>\n",
       "      <th>241</th>\n",
       "      <td>9_NAZAROVA Oleksandra_NIKITIN Maksym_UKR_Rhyth...</td>\n",
       "      <td>9</td>\n",
       "      <td>NAZAROVA Oleksandra</td>\n",
       "      <td>NIKITIN Maksym</td>\n",
       "      <td>UKR</td>\n",
       "      <td>5</td>\n",
       "      <td>Rhythm Dance</td>\n",
       "      <td>Team Event - Ice Dance</td>\n",
       "      <td>64.08</td>\n",
       "      <td>34.16</td>\n",
       "      <td>29.92</td>\n",
       "      <td>0.0</td>\n",
       "    </tr>\n",
       "    <tr>\n",
       "      <th>242</th>\n",
       "      <td>10_MUELLER Katharina_DIECK Tim_GER_Rhythm Danc...</td>\n",
       "      <td>10</td>\n",
       "      <td>MUELLER Katharina</td>\n",
       "      <td>DIECK Tim</td>\n",
       "      <td>GER</td>\n",
       "      <td>3</td>\n",
       "      <td>Rhythm Dance</td>\n",
       "      <td>Team Event - Ice Dance</td>\n",
       "      <td>63.21</td>\n",
       "      <td>33.52</td>\n",
       "      <td>29.69</td>\n",
       "      <td>0.0</td>\n",
       "    </tr>\n",
       "  </tbody>\n",
       "</table>\n",
       "<p>243 rows × 12 columns</p>\n",
       "</div>"
      ],
      "text/plain": [
       "                                             skater_id  rank  \\\n",
       "0    1_CHEN Nathan_Single_USA_Free Skating_Men Sing...     1   \n",
       "1    2_KAGIYAMA Yuma_Single_JPN_Free Skating_Men Si...     2   \n",
       "2    3_HANYU Yuzuru_Single_JPN_Free Skating_Men Sin...     3   \n",
       "3    4_GRASSL Daniel_Single_ITA_Free Skating_Men Si...     4   \n",
       "4    5_UNO Shoma_Single_JPN_Free Skating_Men Single...     5   \n",
       "..                                                 ...   ...   \n",
       "238  6_TASCHLEROVA Natalie_TASCHLER Filip_CZE_Rhyth...     6   \n",
       "239  7_KOMATSUBARA Misato_KOLETO Tim_JPN_Rhythm Dan...     7   \n",
       "240  8_KAZAKOVA Maria_REVIYA Georgy_GEO_Rhythm Danc...     8   \n",
       "241  9_NAZAROVA Oleksandra_NIKITIN Maksym_UKR_Rhyth...     9   \n",
       "242  10_MUELLER Katharina_DIECK Tim_GER_Rhythm Danc...    10   \n",
       "\n",
       "           skater_name_1   skater_name_2  noc  starting_number       segment  \\\n",
       "0            CHEN Nathan             NaN  USA               24  Free Skating   \n",
       "1          KAGIYAMA Yuma             NaN  JPN               23  Free Skating   \n",
       "2           HANYU Yuzuru             NaN  JPN               17  Free Skating   \n",
       "3          GRASSL Daniel             NaN  ITA               13  Free Skating   \n",
       "4              UNO Shoma             NaN  JPN               22  Free Skating   \n",
       "..                   ...             ...  ...              ...           ...   \n",
       "238  TASCHLEROVA Natalie  TASCHLER Filip  CZE                2  Rhythm Dance   \n",
       "239   KOMATSUBARA Misato      KOLETO Tim  JPN                1  Rhythm Dance   \n",
       "240       KAZAKOVA Maria   REVIYA Georgy  GEO                4  Rhythm Dance   \n",
       "241  NAZAROVA Oleksandra  NIKITIN Maksym  UKR                5  Rhythm Dance   \n",
       "242    MUELLER Katharina       DIECK Tim  GER                3  Rhythm Dance   \n",
       "\n",
       "                   category  total_segment_score  total_element_score  \\\n",
       "0        Men Single Skating               218.63               121.41   \n",
       "1        Men Single Skating               201.93               107.99   \n",
       "2        Men Single Skating               188.06                99.62   \n",
       "3        Men Single Skating               187.43               103.35   \n",
       "4        Men Single Skating               187.10                96.24   \n",
       "..                      ...                  ...                  ...   \n",
       "238  Team Event - Ice Dance                68.99                38.68   \n",
       "239  Team Event - Ice Dance                66.54                37.15   \n",
       "240  Team Event - Ice Dance                64.60                35.00   \n",
       "241  Team Event - Ice Dance                64.08                34.16   \n",
       "242  Team Event - Ice Dance                63.21                33.52   \n",
       "\n",
       "     total_program_component_score  total_deductions  \n",
       "0                            97.22               0.0  \n",
       "1                            93.94               0.0  \n",
       "2                            90.44              -2.0  \n",
       "3                            84.08               0.0  \n",
       "4                            91.86              -1.0  \n",
       "..                             ...               ...  \n",
       "238                          30.31               0.0  \n",
       "239                          29.39               0.0  \n",
       "240                          29.60               0.0  \n",
       "241                          29.92               0.0  \n",
       "242                          29.69               0.0  \n",
       "\n",
       "[243 rows x 12 columns]"
      ]
     },
     "execution_count": 201,
     "metadata": {},
     "output_type": "execute_result"
    }
   ],
   "source": [
    "df_skaters = pd.read_excel('data/skaters.xlsx')\n",
    "df_skaters"
   ]
  },
  {
   "cell_type": "code",
   "execution_count": 202,
   "metadata": {},
   "outputs": [
    {
     "data": {
      "text/html": [
       "<div>\n",
       "<style scoped>\n",
       "    .dataframe tbody tr th:only-of-type {\n",
       "        vertical-align: middle;\n",
       "    }\n",
       "\n",
       "    .dataframe tbody tr th {\n",
       "        vertical-align: top;\n",
       "    }\n",
       "\n",
       "    .dataframe thead th {\n",
       "        text-align: right;\n",
       "    }\n",
       "</style>\n",
       "<table border=\"1\" class=\"dataframe\">\n",
       "  <thead>\n",
       "    <tr style=\"text-align: right;\">\n",
       "      <th></th>\n",
       "      <th>element_number</th>\n",
       "      <th>element_name</th>\n",
       "      <th>info_symbol</th>\n",
       "      <th>base_value</th>\n",
       "      <th>x_symbol</th>\n",
       "      <th>goe</th>\n",
       "      <th>judge_1</th>\n",
       "      <th>judge_2</th>\n",
       "      <th>judge_3</th>\n",
       "      <th>judge_4</th>\n",
       "      <th>judge_5</th>\n",
       "      <th>judge_6</th>\n",
       "      <th>judge_7</th>\n",
       "      <th>judge_8</th>\n",
       "      <th>judge_9</th>\n",
       "      <th>total_score</th>\n",
       "      <th>component_type</th>\n",
       "      <th>skater_id</th>\n",
       "    </tr>\n",
       "  </thead>\n",
       "  <tbody>\n",
       "    <tr>\n",
       "      <th>0</th>\n",
       "      <td>1</td>\n",
       "      <td>4F+3T</td>\n",
       "      <td>NaN</td>\n",
       "      <td>15.20</td>\n",
       "      <td>NaN</td>\n",
       "      <td>4.40</td>\n",
       "      <td>4</td>\n",
       "      <td>4</td>\n",
       "      <td>4</td>\n",
       "      <td>4</td>\n",
       "      <td>4</td>\n",
       "      <td>4</td>\n",
       "      <td>4</td>\n",
       "      <td>4</td>\n",
       "      <td>4</td>\n",
       "      <td>19.60</td>\n",
       "      <td>Element</td>\n",
       "      <td>1_CHEN Nathan_Single_USA_Free Skating_Men Sing...</td>\n",
       "    </tr>\n",
       "    <tr>\n",
       "      <th>1</th>\n",
       "      <td>2</td>\n",
       "      <td>4F</td>\n",
       "      <td>NaN</td>\n",
       "      <td>11.00</td>\n",
       "      <td>NaN</td>\n",
       "      <td>4.24</td>\n",
       "      <td>4</td>\n",
       "      <td>4</td>\n",
       "      <td>3</td>\n",
       "      <td>4</td>\n",
       "      <td>4</td>\n",
       "      <td>5</td>\n",
       "      <td>3</td>\n",
       "      <td>4</td>\n",
       "      <td>4</td>\n",
       "      <td>15.24</td>\n",
       "      <td>Element</td>\n",
       "      <td>1_CHEN Nathan_Single_USA_Free Skating_Men Sing...</td>\n",
       "    </tr>\n",
       "    <tr>\n",
       "      <th>2</th>\n",
       "      <td>3</td>\n",
       "      <td>4S</td>\n",
       "      <td>NaN</td>\n",
       "      <td>9.70</td>\n",
       "      <td>NaN</td>\n",
       "      <td>1.80</td>\n",
       "      <td>0</td>\n",
       "      <td>1</td>\n",
       "      <td>2</td>\n",
       "      <td>3</td>\n",
       "      <td>2</td>\n",
       "      <td>3</td>\n",
       "      <td>1</td>\n",
       "      <td>2</td>\n",
       "      <td>2</td>\n",
       "      <td>11.50</td>\n",
       "      <td>Element</td>\n",
       "      <td>1_CHEN Nathan_Single_USA_Free Skating_Men Sing...</td>\n",
       "    </tr>\n",
       "    <tr>\n",
       "      <th>3</th>\n",
       "      <td>4</td>\n",
       "      <td>CCSp4</td>\n",
       "      <td>NaN</td>\n",
       "      <td>3.20</td>\n",
       "      <td>NaN</td>\n",
       "      <td>0.96</td>\n",
       "      <td>3</td>\n",
       "      <td>3</td>\n",
       "      <td>2</td>\n",
       "      <td>3</td>\n",
       "      <td>3</td>\n",
       "      <td>4</td>\n",
       "      <td>3</td>\n",
       "      <td>3</td>\n",
       "      <td>3</td>\n",
       "      <td>4.16</td>\n",
       "      <td>Element</td>\n",
       "      <td>1_CHEN Nathan_Single_USA_Free Skating_Men Sing...</td>\n",
       "    </tr>\n",
       "    <tr>\n",
       "      <th>4</th>\n",
       "      <td>5</td>\n",
       "      <td>4Lz</td>\n",
       "      <td>NaN</td>\n",
       "      <td>11.50</td>\n",
       "      <td>NaN</td>\n",
       "      <td>4.93</td>\n",
       "      <td>4</td>\n",
       "      <td>4</td>\n",
       "      <td>4</td>\n",
       "      <td>5</td>\n",
       "      <td>4</td>\n",
       "      <td>5</td>\n",
       "      <td>5</td>\n",
       "      <td>4</td>\n",
       "      <td>4</td>\n",
       "      <td>16.43</td>\n",
       "      <td>Element</td>\n",
       "      <td>1_CHEN Nathan_Single_USA_Free Skating_Men Sing...</td>\n",
       "    </tr>\n",
       "    <tr>\n",
       "      <th>...</th>\n",
       "      <td>...</td>\n",
       "      <td>...</td>\n",
       "      <td>...</td>\n",
       "      <td>...</td>\n",
       "      <td>...</td>\n",
       "      <td>...</td>\n",
       "      <td>...</td>\n",
       "      <td>...</td>\n",
       "      <td>...</td>\n",
       "      <td>...</td>\n",
       "      <td>...</td>\n",
       "      <td>...</td>\n",
       "      <td>...</td>\n",
       "      <td>...</td>\n",
       "      <td>...</td>\n",
       "      <td>...</td>\n",
       "      <td>...</td>\n",
       "      <td>...</td>\n",
       "    </tr>\n",
       "    <tr>\n",
       "      <th>2067</th>\n",
       "      <td>1</td>\n",
       "      <td>SqTwW3+SqTwM4</td>\n",
       "      <td>NaN</td>\n",
       "      <td>6.47</td>\n",
       "      <td>NaN</td>\n",
       "      <td>-0.10</td>\n",
       "      <td>0</td>\n",
       "      <td>0</td>\n",
       "      <td>0</td>\n",
       "      <td>0</td>\n",
       "      <td>-1</td>\n",
       "      <td>1</td>\n",
       "      <td>0</td>\n",
       "      <td>-1</td>\n",
       "      <td>0</td>\n",
       "      <td>6.37</td>\n",
       "      <td>Element</td>\n",
       "      <td>10_MUELLER Katharina_DIECK Tim_GER_Rhythm Danc...</td>\n",
       "    </tr>\n",
       "    <tr>\n",
       "      <th>2068</th>\n",
       "      <td>2</td>\n",
       "      <td>CuLi3</td>\n",
       "      <td>NaN</td>\n",
       "      <td>4.55</td>\n",
       "      <td>NaN</td>\n",
       "      <td>0.66</td>\n",
       "      <td>0</td>\n",
       "      <td>1</td>\n",
       "      <td>1</td>\n",
       "      <td>1</td>\n",
       "      <td>1</td>\n",
       "      <td>2</td>\n",
       "      <td>2</td>\n",
       "      <td>3</td>\n",
       "      <td>2</td>\n",
       "      <td>5.21</td>\n",
       "      <td>Element</td>\n",
       "      <td>10_MUELLER Katharina_DIECK Tim_GER_Rhythm Danc...</td>\n",
       "    </tr>\n",
       "    <tr>\n",
       "      <th>2069</th>\n",
       "      <td>3</td>\n",
       "      <td>1MB2+kpNYNY</td>\n",
       "      <td>NaN</td>\n",
       "      <td>5.85</td>\n",
       "      <td>NaN</td>\n",
       "      <td>0.57</td>\n",
       "      <td>0</td>\n",
       "      <td>1</td>\n",
       "      <td>0</td>\n",
       "      <td>0</td>\n",
       "      <td>1</td>\n",
       "      <td>1</td>\n",
       "      <td>1</td>\n",
       "      <td>1</td>\n",
       "      <td>1</td>\n",
       "      <td>6.42</td>\n",
       "      <td>Element</td>\n",
       "      <td>10_MUELLER Katharina_DIECK Tim_GER_Rhythm Danc...</td>\n",
       "    </tr>\n",
       "    <tr>\n",
       "      <th>2070</th>\n",
       "      <td>4</td>\n",
       "      <td>PStW3+PStM3</td>\n",
       "      <td>NaN</td>\n",
       "      <td>7.70</td>\n",
       "      <td>NaN</td>\n",
       "      <td>0.82</td>\n",
       "      <td>0</td>\n",
       "      <td>0</td>\n",
       "      <td>1</td>\n",
       "      <td>1</td>\n",
       "      <td>1</td>\n",
       "      <td>1</td>\n",
       "      <td>2</td>\n",
       "      <td>1</td>\n",
       "      <td>1</td>\n",
       "      <td>8.52</td>\n",
       "      <td>Element</td>\n",
       "      <td>10_MUELLER Katharina_DIECK Tim_GER_Rhythm Danc...</td>\n",
       "    </tr>\n",
       "    <tr>\n",
       "      <th>2071</th>\n",
       "      <td>5</td>\n",
       "      <td>DiSt1</td>\n",
       "      <td>NaN</td>\n",
       "      <td>6.45</td>\n",
       "      <td>NaN</td>\n",
       "      <td>0.55</td>\n",
       "      <td>0</td>\n",
       "      <td>0</td>\n",
       "      <td>1</td>\n",
       "      <td>-1</td>\n",
       "      <td>0</td>\n",
       "      <td>1</td>\n",
       "      <td>1</td>\n",
       "      <td>1</td>\n",
       "      <td>1</td>\n",
       "      <td>7.00</td>\n",
       "      <td>Element</td>\n",
       "      <td>10_MUELLER Katharina_DIECK Tim_GER_Rhythm Danc...</td>\n",
       "    </tr>\n",
       "  </tbody>\n",
       "</table>\n",
       "<p>2072 rows × 18 columns</p>\n",
       "</div>"
      ],
      "text/plain": [
       "      element_number   element_name info_symbol  base_value x_symbol   goe  \\\n",
       "0                  1          4F+3T         NaN       15.20      NaN  4.40   \n",
       "1                  2             4F         NaN       11.00      NaN  4.24   \n",
       "2                  3             4S         NaN        9.70      NaN  1.80   \n",
       "3                  4          CCSp4         NaN        3.20      NaN  0.96   \n",
       "4                  5            4Lz         NaN       11.50      NaN  4.93   \n",
       "...              ...            ...         ...         ...      ...   ...   \n",
       "2067               1  SqTwW3+SqTwM4         NaN        6.47      NaN -0.10   \n",
       "2068               2          CuLi3         NaN        4.55      NaN  0.66   \n",
       "2069               3    1MB2+kpNYNY         NaN        5.85      NaN  0.57   \n",
       "2070               4    PStW3+PStM3         NaN        7.70      NaN  0.82   \n",
       "2071               5          DiSt1         NaN        6.45      NaN  0.55   \n",
       "\n",
       "     judge_1 judge_2 judge_3 judge_4 judge_5 judge_6 judge_7 judge_8 judge_9  \\\n",
       "0          4       4       4       4       4       4       4       4       4   \n",
       "1          4       4       3       4       4       5       3       4       4   \n",
       "2          0       1       2       3       2       3       1       2       2   \n",
       "3          3       3       2       3       3       4       3       3       3   \n",
       "4          4       4       4       5       4       5       5       4       4   \n",
       "...      ...     ...     ...     ...     ...     ...     ...     ...     ...   \n",
       "2067       0       0       0       0      -1       1       0      -1       0   \n",
       "2068       0       1       1       1       1       2       2       3       2   \n",
       "2069       0       1       0       0       1       1       1       1       1   \n",
       "2070       0       0       1       1       1       1       2       1       1   \n",
       "2071       0       0       1      -1       0       1       1       1       1   \n",
       "\n",
       "      total_score component_type  \\\n",
       "0           19.60        Element   \n",
       "1           15.24        Element   \n",
       "2           11.50        Element   \n",
       "3            4.16        Element   \n",
       "4           16.43        Element   \n",
       "...           ...            ...   \n",
       "2067         6.37        Element   \n",
       "2068         5.21        Element   \n",
       "2069         6.42        Element   \n",
       "2070         8.52        Element   \n",
       "2071         7.00        Element   \n",
       "\n",
       "                                              skater_id  \n",
       "0     1_CHEN Nathan_Single_USA_Free Skating_Men Sing...  \n",
       "1     1_CHEN Nathan_Single_USA_Free Skating_Men Sing...  \n",
       "2     1_CHEN Nathan_Single_USA_Free Skating_Men Sing...  \n",
       "3     1_CHEN Nathan_Single_USA_Free Skating_Men Sing...  \n",
       "4     1_CHEN Nathan_Single_USA_Free Skating_Men Sing...  \n",
       "...                                                 ...  \n",
       "2067  10_MUELLER Katharina_DIECK Tim_GER_Rhythm Danc...  \n",
       "2068  10_MUELLER Katharina_DIECK Tim_GER_Rhythm Danc...  \n",
       "2069  10_MUELLER Katharina_DIECK Tim_GER_Rhythm Danc...  \n",
       "2070  10_MUELLER Katharina_DIECK Tim_GER_Rhythm Danc...  \n",
       "2071  10_MUELLER Katharina_DIECK Tim_GER_Rhythm Danc...  \n",
       "\n",
       "[2072 rows x 18 columns]"
      ]
     },
     "execution_count": 202,
     "metadata": {},
     "output_type": "execute_result"
    }
   ],
   "source": [
    "df_elements = pd.read_excel('data/executed_elements.xlsx')\n",
    "df_elements"
   ]
  },
  {
   "cell_type": "code",
   "execution_count": 203,
   "metadata": {},
   "outputs": [
    {
     "data": {
      "text/html": [
       "<div>\n",
       "<style scoped>\n",
       "    .dataframe tbody tr th:only-of-type {\n",
       "        vertical-align: middle;\n",
       "    }\n",
       "\n",
       "    .dataframe tbody tr th {\n",
       "        vertical-align: top;\n",
       "    }\n",
       "\n",
       "    .dataframe thead th {\n",
       "        text-align: right;\n",
       "    }\n",
       "</style>\n",
       "<table border=\"1\" class=\"dataframe\">\n",
       "  <thead>\n",
       "    <tr style=\"text-align: right;\">\n",
       "      <th></th>\n",
       "      <th>component_type</th>\n",
       "      <th>element_name</th>\n",
       "      <th>judge_1</th>\n",
       "      <th>judge_2</th>\n",
       "      <th>judge_3</th>\n",
       "      <th>judge_4</th>\n",
       "      <th>judge_5</th>\n",
       "      <th>judge_6</th>\n",
       "      <th>judge_7</th>\n",
       "      <th>judge_8</th>\n",
       "      <th>judge_9</th>\n",
       "      <th>total_score</th>\n",
       "      <th>factor</th>\n",
       "      <th>skater_id</th>\n",
       "    </tr>\n",
       "  </thead>\n",
       "  <tbody>\n",
       "    <tr>\n",
       "      <th>0</th>\n",
       "      <td>Program Component</td>\n",
       "      <td>Skating Skills</td>\n",
       "      <td>9.75</td>\n",
       "      <td>9.75</td>\n",
       "      <td>9.50</td>\n",
       "      <td>9.75</td>\n",
       "      <td>9.75</td>\n",
       "      <td>9.50</td>\n",
       "      <td>9.75</td>\n",
       "      <td>9.75</td>\n",
       "      <td>9.75</td>\n",
       "      <td>9.71</td>\n",
       "      <td>2.0</td>\n",
       "      <td>1_CHEN Nathan_Single_USA_Free Skating_Men Sing...</td>\n",
       "    </tr>\n",
       "    <tr>\n",
       "      <th>1</th>\n",
       "      <td>Program Component</td>\n",
       "      <td>Transitions</td>\n",
       "      <td>9.50</td>\n",
       "      <td>9.50</td>\n",
       "      <td>9.50</td>\n",
       "      <td>9.50</td>\n",
       "      <td>9.75</td>\n",
       "      <td>9.50</td>\n",
       "      <td>9.25</td>\n",
       "      <td>9.50</td>\n",
       "      <td>9.75</td>\n",
       "      <td>9.54</td>\n",
       "      <td>2.0</td>\n",
       "      <td>1_CHEN Nathan_Single_USA_Free Skating_Men Sing...</td>\n",
       "    </tr>\n",
       "    <tr>\n",
       "      <th>2</th>\n",
       "      <td>Program Component</td>\n",
       "      <td>Performance</td>\n",
       "      <td>9.75</td>\n",
       "      <td>9.50</td>\n",
       "      <td>9.75</td>\n",
       "      <td>10.00</td>\n",
       "      <td>9.75</td>\n",
       "      <td>10.00</td>\n",
       "      <td>9.75</td>\n",
       "      <td>9.75</td>\n",
       "      <td>9.75</td>\n",
       "      <td>9.79</td>\n",
       "      <td>2.0</td>\n",
       "      <td>1_CHEN Nathan_Single_USA_Free Skating_Men Sing...</td>\n",
       "    </tr>\n",
       "    <tr>\n",
       "      <th>3</th>\n",
       "      <td>Program Component</td>\n",
       "      <td>Composition</td>\n",
       "      <td>9.50</td>\n",
       "      <td>9.50</td>\n",
       "      <td>9.75</td>\n",
       "      <td>9.75</td>\n",
       "      <td>9.75</td>\n",
       "      <td>10.00</td>\n",
       "      <td>9.75</td>\n",
       "      <td>9.75</td>\n",
       "      <td>9.75</td>\n",
       "      <td>9.71</td>\n",
       "      <td>2.0</td>\n",
       "      <td>1_CHEN Nathan_Single_USA_Free Skating_Men Sing...</td>\n",
       "    </tr>\n",
       "    <tr>\n",
       "      <th>4</th>\n",
       "      <td>Program Component</td>\n",
       "      <td>Interpretation of the Music</td>\n",
       "      <td>10.00</td>\n",
       "      <td>9.75</td>\n",
       "      <td>9.75</td>\n",
       "      <td>10.00</td>\n",
       "      <td>9.75</td>\n",
       "      <td>10.00</td>\n",
       "      <td>9.50</td>\n",
       "      <td>9.75</td>\n",
       "      <td>10.00</td>\n",
       "      <td>9.86</td>\n",
       "      <td>2.0</td>\n",
       "      <td>1_CHEN Nathan_Single_USA_Free Skating_Men Sing...</td>\n",
       "    </tr>\n",
       "    <tr>\n",
       "      <th>...</th>\n",
       "      <td>...</td>\n",
       "      <td>...</td>\n",
       "      <td>...</td>\n",
       "      <td>...</td>\n",
       "      <td>...</td>\n",
       "      <td>...</td>\n",
       "      <td>...</td>\n",
       "      <td>...</td>\n",
       "      <td>...</td>\n",
       "      <td>...</td>\n",
       "      <td>...</td>\n",
       "      <td>...</td>\n",
       "      <td>...</td>\n",
       "      <td>...</td>\n",
       "    </tr>\n",
       "    <tr>\n",
       "      <th>1210</th>\n",
       "      <td>Program Component</td>\n",
       "      <td>Skating Skills</td>\n",
       "      <td>7.00</td>\n",
       "      <td>7.00</td>\n",
       "      <td>7.00</td>\n",
       "      <td>7.00</td>\n",
       "      <td>7.50</td>\n",
       "      <td>7.75</td>\n",
       "      <td>7.75</td>\n",
       "      <td>7.75</td>\n",
       "      <td>7.50</td>\n",
       "      <td>7.36</td>\n",
       "      <td>0.8</td>\n",
       "      <td>10_MUELLER Katharina_DIECK Tim_GER_Rhythm Danc...</td>\n",
       "    </tr>\n",
       "    <tr>\n",
       "      <th>1211</th>\n",
       "      <td>Program Component</td>\n",
       "      <td>Transitions</td>\n",
       "      <td>7.00</td>\n",
       "      <td>7.00</td>\n",
       "      <td>7.00</td>\n",
       "      <td>7.00</td>\n",
       "      <td>7.25</td>\n",
       "      <td>7.50</td>\n",
       "      <td>7.50</td>\n",
       "      <td>7.50</td>\n",
       "      <td>7.50</td>\n",
       "      <td>7.25</td>\n",
       "      <td>0.8</td>\n",
       "      <td>10_MUELLER Katharina_DIECK Tim_GER_Rhythm Danc...</td>\n",
       "    </tr>\n",
       "    <tr>\n",
       "      <th>1212</th>\n",
       "      <td>Program Component</td>\n",
       "      <td>Performance</td>\n",
       "      <td>7.25</td>\n",
       "      <td>6.75</td>\n",
       "      <td>7.25</td>\n",
       "      <td>7.25</td>\n",
       "      <td>7.50</td>\n",
       "      <td>8.00</td>\n",
       "      <td>7.75</td>\n",
       "      <td>7.50</td>\n",
       "      <td>7.75</td>\n",
       "      <td>7.46</td>\n",
       "      <td>0.8</td>\n",
       "      <td>10_MUELLER Katharina_DIECK Tim_GER_Rhythm Danc...</td>\n",
       "    </tr>\n",
       "    <tr>\n",
       "      <th>1213</th>\n",
       "      <td>Program Component</td>\n",
       "      <td>Composition</td>\n",
       "      <td>7.25</td>\n",
       "      <td>7.00</td>\n",
       "      <td>7.50</td>\n",
       "      <td>7.00</td>\n",
       "      <td>7.75</td>\n",
       "      <td>7.75</td>\n",
       "      <td>8.00</td>\n",
       "      <td>7.75</td>\n",
       "      <td>7.75</td>\n",
       "      <td>7.54</td>\n",
       "      <td>0.8</td>\n",
       "      <td>10_MUELLER Katharina_DIECK Tim_GER_Rhythm Danc...</td>\n",
       "    </tr>\n",
       "    <tr>\n",
       "      <th>1214</th>\n",
       "      <td>Program Component</td>\n",
       "      <td>Timing</td>\n",
       "      <td>7.25</td>\n",
       "      <td>7.00</td>\n",
       "      <td>7.25</td>\n",
       "      <td>7.25</td>\n",
       "      <td>7.50</td>\n",
       "      <td>8.00</td>\n",
       "      <td>7.75</td>\n",
       "      <td>7.75</td>\n",
       "      <td>7.75</td>\n",
       "      <td>7.50</td>\n",
       "      <td>0.8</td>\n",
       "      <td>10_MUELLER Katharina_DIECK Tim_GER_Rhythm Danc...</td>\n",
       "    </tr>\n",
       "  </tbody>\n",
       "</table>\n",
       "<p>1215 rows × 14 columns</p>\n",
       "</div>"
      ],
      "text/plain": [
       "         component_type                 element_name  judge_1  judge_2  \\\n",
       "0     Program Component               Skating Skills     9.75     9.75   \n",
       "1     Program Component                  Transitions     9.50     9.50   \n",
       "2     Program Component                  Performance     9.75     9.50   \n",
       "3     Program Component                  Composition     9.50     9.50   \n",
       "4     Program Component  Interpretation of the Music    10.00     9.75   \n",
       "...                 ...                          ...      ...      ...   \n",
       "1210  Program Component               Skating Skills     7.00     7.00   \n",
       "1211  Program Component                  Transitions     7.00     7.00   \n",
       "1212  Program Component                  Performance     7.25     6.75   \n",
       "1213  Program Component                  Composition     7.25     7.00   \n",
       "1214  Program Component                       Timing     7.25     7.00   \n",
       "\n",
       "      judge_3  judge_4  judge_5  judge_6  judge_7  judge_8  judge_9  \\\n",
       "0        9.50     9.75     9.75     9.50     9.75     9.75     9.75   \n",
       "1        9.50     9.50     9.75     9.50     9.25     9.50     9.75   \n",
       "2        9.75    10.00     9.75    10.00     9.75     9.75     9.75   \n",
       "3        9.75     9.75     9.75    10.00     9.75     9.75     9.75   \n",
       "4        9.75    10.00     9.75    10.00     9.50     9.75    10.00   \n",
       "...       ...      ...      ...      ...      ...      ...      ...   \n",
       "1210     7.00     7.00     7.50     7.75     7.75     7.75     7.50   \n",
       "1211     7.00     7.00     7.25     7.50     7.50     7.50     7.50   \n",
       "1212     7.25     7.25     7.50     8.00     7.75     7.50     7.75   \n",
       "1213     7.50     7.00     7.75     7.75     8.00     7.75     7.75   \n",
       "1214     7.25     7.25     7.50     8.00     7.75     7.75     7.75   \n",
       "\n",
       "      total_score  factor                                          skater_id  \n",
       "0            9.71     2.0  1_CHEN Nathan_Single_USA_Free Skating_Men Sing...  \n",
       "1            9.54     2.0  1_CHEN Nathan_Single_USA_Free Skating_Men Sing...  \n",
       "2            9.79     2.0  1_CHEN Nathan_Single_USA_Free Skating_Men Sing...  \n",
       "3            9.71     2.0  1_CHEN Nathan_Single_USA_Free Skating_Men Sing...  \n",
       "4            9.86     2.0  1_CHEN Nathan_Single_USA_Free Skating_Men Sing...  \n",
       "...           ...     ...                                                ...  \n",
       "1210         7.36     0.8  10_MUELLER Katharina_DIECK Tim_GER_Rhythm Danc...  \n",
       "1211         7.25     0.8  10_MUELLER Katharina_DIECK Tim_GER_Rhythm Danc...  \n",
       "1212         7.46     0.8  10_MUELLER Katharina_DIECK Tim_GER_Rhythm Danc...  \n",
       "1213         7.54     0.8  10_MUELLER Katharina_DIECK Tim_GER_Rhythm Danc...  \n",
       "1214         7.50     0.8  10_MUELLER Katharina_DIECK Tim_GER_Rhythm Danc...  \n",
       "\n",
       "[1215 rows x 14 columns]"
      ]
     },
     "execution_count": 203,
     "metadata": {},
     "output_type": "execute_result"
    }
   ],
   "source": [
    "df_components = pd.read_excel('data/program_components.xlsx')\n",
    "df_components"
   ]
  },
  {
   "cell_type": "markdown",
   "metadata": {},
   "source": [
    "## *Descriptive Statistics*"
   ]
  },
  {
   "cell_type": "markdown",
   "metadata": {},
   "source": [
    "### *Men*"
   ]
  },
  {
   "cell_type": "markdown",
   "metadata": {},
   "source": [
    "*Maximum score for free program in men single skating category*"
   ]
  },
  {
   "cell_type": "code",
   "execution_count": 204,
   "metadata": {},
   "outputs": [
    {
     "name": "stdout",
     "output_type": "stream",
     "text": [
      "218.63\n",
      "CHEN Nathan\n"
     ]
    }
   ],
   "source": [
    "max_value = df_skaters.query('category == \"Men Single Skating\" and segment == \"Free Skating\"')['total_segment_score'].max()\n",
    "max_value_row = df_skaters.query('category == \"Men Single Skating\" and segment == \"Free Skating\"').iloc[df_skaters.query('category == \"Men Single Skating\" and segment == \"Free Skating\"')['total_segment_score'].idxmax()]\n",
    "print(max_value)\n",
    "print(max_value_row['skater_name_1'])"
   ]
  },
  {
   "cell_type": "markdown",
   "metadata": {},
   "source": [
    "*Mean score for free skating*"
   ]
  },
  {
   "cell_type": "code",
   "execution_count": 205,
   "metadata": {},
   "outputs": [
    {
     "name": "stdout",
     "output_type": "stream",
     "text": [
      "167.70375\n"
     ]
    }
   ],
   "source": [
    "print(df_skaters.query('category == \"Men Single Skating\" and segment == \"Free Skating\"')['total_segment_score'].mean())"
   ]
  },
  {
   "cell_type": "code",
   "execution_count": 206,
   "metadata": {},
   "outputs": [
    {
     "name": "stdout",
     "output_type": "stream",
     "text": [
      "21.760285086947217\n"
     ]
    }
   ],
   "source": [
    "print(df_skaters.query('category == \"Men Single Skating\" and segment == \"Free Skating\"')['total_segment_score'].std())"
   ]
  },
  {
   "cell_type": "markdown",
   "metadata": {},
   "source": [
    "*Maximum score for short program in men single skating category*"
   ]
  },
  {
   "cell_type": "code",
   "execution_count": 207,
   "metadata": {},
   "outputs": [
    {
     "name": "stdout",
     "output_type": "stream",
     "text": [
      "113.97\n",
      "CHEN Nathan\n"
     ]
    }
   ],
   "source": [
    "max_value = df_skaters.query('category == \"Men Single Skating\" and segment == \"Short Program\"')['total_segment_score'].max()\n",
    "max_value_row = df_skaters.loc[df_skaters.query('category == \"Men Single Skating\" and segment == \"Short Program\"')['total_segment_score'].idxmax()]\n",
    "print(max_value)\n",
    "print(max_value_row['skater_name_1'])"
   ]
  },
  {
   "cell_type": "markdown",
   "metadata": {},
   "source": [
    "*Mean score for short program*"
   ]
  },
  {
   "cell_type": "code",
   "execution_count": 208,
   "metadata": {},
   "outputs": [
    {
     "name": "stdout",
     "output_type": "stream",
     "text": [
      "86.28275862068966\n"
     ]
    }
   ],
   "source": [
    "print(df_skaters.query('category == \"Men Single Skating\" and segment == \"Short Program\"')['total_segment_score'].mean())"
   ]
  },
  {
   "cell_type": "code",
   "execution_count": 209,
   "metadata": {},
   "outputs": [
    {
     "name": "stdout",
     "output_type": "stream",
     "text": [
      "12.914337242148392\n"
     ]
    }
   ],
   "source": [
    "print(df_skaters.query('category == \"Men Single Skating\" and segment == \"Short Program\"')['total_segment_score'].std())"
   ]
  },
  {
   "cell_type": "markdown",
   "metadata": {},
   "source": [
    "*Maximum score for free program for men in team event*"
   ]
  },
  {
   "cell_type": "code",
   "execution_count": 210,
   "metadata": {},
   "outputs": [
    {
     "name": "stdout",
     "output_type": "stream",
     "text": [
      "208.94\n",
      "KAGIYAMA Yuma\n"
     ]
    }
   ],
   "source": [
    "max_value = df_skaters.query('category == \"Team Event - Men Single Skating\" and segment == \"Free Skating\"')['total_segment_score'].max()\n",
    "max_value_row = df_skaters.loc[df_skaters.query('category == \"Team Event - Men Single Skating\" and segment == \"Free Skating\"')['total_segment_score'].idxmax()]\n",
    "print(max_value)\n",
    "print(max_value_row['skater_name_1'])"
   ]
  },
  {
   "cell_type": "markdown",
   "metadata": {},
   "source": [
    "*Mean score for free skating in men team event*"
   ]
  },
  {
   "cell_type": "code",
   "execution_count": 211,
   "metadata": {},
   "outputs": [
    {
     "name": "stdout",
     "output_type": "stream",
     "text": [
      "167.934\n"
     ]
    }
   ],
   "source": [
    "print(df_skaters.query('category == \"Team Event - Men Single Skating\" and segment == \"Free Skating\"')['total_segment_score'].mean())"
   ]
  },
  {
   "cell_type": "code",
   "execution_count": 212,
   "metadata": {},
   "outputs": [
    {
     "name": "stdout",
     "output_type": "stream",
     "text": [
      "32.028657168229834\n"
     ]
    }
   ],
   "source": [
    "print(df_skaters.query('category == \"Team Event - Men Single Skating\" and segment == \"Free Skating\"')['total_segment_score'].std())"
   ]
  },
  {
   "cell_type": "markdown",
   "metadata": {},
   "source": [
    "*Maximum score for short program for men in team event*"
   ]
  },
  {
   "cell_type": "code",
   "execution_count": 213,
   "metadata": {},
   "outputs": [
    {
     "name": "stdout",
     "output_type": "stream",
     "text": [
      "111.71\n",
      "CHEN Nathan\n"
     ]
    }
   ],
   "source": [
    "max_value = df_skaters.query('category == \"Team Event - Men Single Skating\" and segment == \"Short Program\"')['total_segment_score'].max()\n",
    "max_value_row = df_skaters.loc[df_skaters.query('category == \"Team Event - Men Single Skating\" and segment == \"Short Program\"')['total_segment_score'].idxmax()]\n",
    "print(max_value)\n",
    "print(max_value_row['skater_name_1'])"
   ]
  },
  {
   "cell_type": "markdown",
   "metadata": {},
   "source": [
    "*Mean score for short program in men team event*"
   ]
  },
  {
   "cell_type": "code",
   "execution_count": 214,
   "metadata": {},
   "outputs": [
    {
     "name": "stdout",
     "output_type": "stream",
     "text": [
      "88.08777777777777\n"
     ]
    }
   ],
   "source": [
    "print(df_skaters.query('category == \"Team Event - Men Single Skating\" and segment == \"Short Program\"')['total_segment_score'].mean())"
   ]
  },
  {
   "cell_type": "code",
   "execution_count": 215,
   "metadata": {},
   "outputs": [
    {
     "name": "stdout",
     "output_type": "stream",
     "text": [
      "14.837673147917917\n"
     ]
    }
   ],
   "source": [
    "print(df_skaters.query('category == \"Team Event - Men Single Skating\" and segment == \"Short Program\"')['total_segment_score'].std())"
   ]
  },
  {
   "cell_type": "markdown",
   "metadata": {},
   "source": [
    "### *Women*"
   ]
  },
  {
   "cell_type": "markdown",
   "metadata": {},
   "source": [
    "*Maximum score for free program in women single skating category*"
   ]
  },
  {
   "cell_type": "code",
   "execution_count": 216,
   "metadata": {},
   "outputs": [
    {
     "name": "stdout",
     "output_type": "stream",
     "text": [
      "177.13\n",
      "TRUSOVA Alexandra\n"
     ]
    }
   ],
   "source": [
    "max_value = df_skaters.query('category == \"Women Single Skating\" and segment == \"Free Skating\"')['total_segment_score'].max()\n",
    "max_value_row = df_skaters.loc[df_skaters.query('category == \"Women Single Skating\" and segment == \"Free Skating\"')['total_segment_score'].idxmax()]\n",
    "print(max_value)\n",
    "print(max_value_row['skater_name_1'])"
   ]
  },
  {
   "cell_type": "markdown",
   "metadata": {},
   "source": [
    "*Mean score for free skating*"
   ]
  },
  {
   "cell_type": "code",
   "execution_count": 217,
   "metadata": {},
   "outputs": [
    {
     "name": "stdout",
     "output_type": "stream",
     "text": [
      "127.91879999999999\n"
     ]
    }
   ],
   "source": [
    "print(df_skaters.query('category == \"Women Single Skating\" and segment == \"Free Skating\"')['total_segment_score'].mean())"
   ]
  },
  {
   "cell_type": "code",
   "execution_count": 218,
   "metadata": {},
   "outputs": [
    {
     "name": "stdout",
     "output_type": "stream",
     "text": [
      "20.827025175638184\n"
     ]
    }
   ],
   "source": [
    "print(df_skaters.query('category == \"Women Single Skating\" and segment == \"Free Skating\"')['total_segment_score'].std())"
   ]
  },
  {
   "cell_type": "markdown",
   "metadata": {},
   "source": [
    "*Maximum score for short program in women single skating category*"
   ]
  },
  {
   "cell_type": "code",
   "execution_count": 219,
   "metadata": {},
   "outputs": [
    {
     "name": "stdout",
     "output_type": "stream",
     "text": [
      "82.16\n",
      "VALIEVA Kamila\n"
     ]
    }
   ],
   "source": [
    "max_value = df_skaters.query('category == \"Women Single Skating\" and segment == \"Short Program\"')['total_segment_score'].max()\n",
    "max_value_row = df_skaters.loc[df_skaters.query('category == \"Women Single Skating\" and segment == \"Short Program\"')['total_segment_score'].idxmax()]\n",
    "print(max_value)\n",
    "print(max_value_row['skater_name_1'])"
   ]
  },
  {
   "cell_type": "markdown",
   "metadata": {},
   "source": [
    "*Mean score for short program*"
   ]
  },
  {
   "cell_type": "code",
   "execution_count": 220,
   "metadata": {},
   "outputs": [
    {
     "name": "stdout",
     "output_type": "stream",
     "text": [
      "63.73833333333334\n"
     ]
    }
   ],
   "source": [
    "print(df_skaters.query('category == \"Women Single Skating\" and segment == \"Short Program\"')['total_segment_score'].mean())"
   ]
  },
  {
   "cell_type": "code",
   "execution_count": 221,
   "metadata": {},
   "outputs": [
    {
     "name": "stdout",
     "output_type": "stream",
     "text": [
      "8.544606317814578\n"
     ]
    }
   ],
   "source": [
    "print(df_skaters.query('category == \"Women Single Skating\" and segment == \"Short Program\"')['total_segment_score'].std())"
   ]
  },
  {
   "cell_type": "markdown",
   "metadata": {},
   "source": [
    "*Maximum score for free program for women in team event*"
   ]
  },
  {
   "cell_type": "code",
   "execution_count": 222,
   "metadata": {},
   "outputs": [
    {
     "name": "stdout",
     "output_type": "stream",
     "text": [
      "178.92\n",
      "VALIEVA Kamila\n"
     ]
    }
   ],
   "source": [
    "max_value = df_skaters.query('category == \"Team Event - Women Single Skating\" and segment == \"Free Skating\"')['total_segment_score'].max()\n",
    "max_value_row = df_skaters.loc[df_skaters.query('category == \"Team Event - Women Single Skating\" and segment == \"Free Skating\"')['total_segment_score'].idxmax()]\n",
    "print(max_value)\n",
    "print(max_value_row['skater_name_1'])"
   ]
  },
  {
   "cell_type": "markdown",
   "metadata": {},
   "source": [
    "*Mean acore for free scating in team event*"
   ]
  },
  {
   "cell_type": "code",
   "execution_count": 223,
   "metadata": {},
   "outputs": [
    {
     "name": "stdout",
     "output_type": "stream",
     "text": [
      "136.51\n"
     ]
    }
   ],
   "source": [
    "print(df_skaters.query('category == \"Team Event - Women Single Skating\" and segment == \"Free Skating\"')['total_segment_score'].mean())"
   ]
  },
  {
   "cell_type": "code",
   "execution_count": 224,
   "metadata": {},
   "outputs": [
    {
     "name": "stdout",
     "output_type": "stream",
     "text": [
      "31.721923018631767\n"
     ]
    }
   ],
   "source": [
    "print(df_skaters.query('category == \"Team Event - Women Single Skating\" and segment == \"Free Skating\"')['total_segment_score'].std())"
   ]
  },
  {
   "cell_type": "markdown",
   "metadata": {},
   "source": [
    "*Maximum score for short program for women in team event*"
   ]
  },
  {
   "cell_type": "code",
   "execution_count": 225,
   "metadata": {},
   "outputs": [
    {
     "name": "stdout",
     "output_type": "stream",
     "text": [
      "90.18\n",
      "VALIEVA Kamila\n"
     ]
    }
   ],
   "source": [
    "max_value = df_skaters.query('category == \"Team Event - Women Single Skating\" and segment == \"Short Program\"')['total_segment_score'].max()\n",
    "max_value_row = df_skaters.loc[df_skaters.query('category == \"Team Event - Women Single Skating\" and segment == \"Short Program\"')['total_segment_score'].idxmax()]\n",
    "print(max_value)\n",
    "print(max_value_row['skater_name_1'])"
   ]
  },
  {
   "cell_type": "markdown",
   "metadata": {},
   "source": [
    "*Mean score for short program in team event*"
   ]
  },
  {
   "cell_type": "code",
   "execution_count": 226,
   "metadata": {},
   "outputs": [
    {
     "name": "stdout",
     "output_type": "stream",
     "text": [
      "65.902\n"
     ]
    }
   ],
   "source": [
    "print(df_skaters.query('category == \"Team Event - Women Single Skating\" and segment == \"Short Program\"')['total_segment_score'].mean())"
   ]
  },
  {
   "cell_type": "code",
   "execution_count": 227,
   "metadata": {},
   "outputs": [
    {
     "name": "stdout",
     "output_type": "stream",
     "text": [
      "11.257651027930592\n"
     ]
    }
   ],
   "source": [
    "print(df_skaters.query('category == \"Team Event - Women Single Skating\" and segment == \"Short Program\"')['total_segment_score'].std())"
   ]
  },
  {
   "cell_type": "markdown",
   "metadata": {},
   "source": [
    "### *Pairs*"
   ]
  },
  {
   "cell_type": "markdown",
   "metadata": {},
   "source": [
    "*Maximum score for free program in pair skating category*"
   ]
  },
  {
   "cell_type": "code",
   "execution_count": 228,
   "metadata": {},
   "outputs": [
    {
     "name": "stdout",
     "output_type": "stream",
     "text": [
      "155.47\n",
      "SUI Wenjing\n",
      "HAN Cong\n"
     ]
    }
   ],
   "source": [
    "max_value = df_skaters.query('category == \"Pair Skating\" and segment == \"Free Skating\"')['total_segment_score'].max()\n",
    "max_value_row = df_skaters.loc[df_skaters.query('category == \"Pair Skating\" and segment == \"Free Skating\"')['total_segment_score'].idxmax()]\n",
    "print(max_value)\n",
    "print(max_value_row['skater_name_1'])\n",
    "print(max_value_row['skater_name_2'])"
   ]
  },
  {
   "cell_type": "code",
   "execution_count": 229,
   "metadata": {},
   "outputs": [
    {
     "name": "stdout",
     "output_type": "stream",
     "text": [
      "127.60562499999999\n"
     ]
    }
   ],
   "source": [
    "print(df_skaters.query('category == \"Pair Skating\" and segment == \"Free Skating\"')['total_segment_score'].mean())"
   ]
  },
  {
   "cell_type": "code",
   "execution_count": 230,
   "metadata": {},
   "outputs": [
    {
     "name": "stdout",
     "output_type": "stream",
     "text": [
      "20.231406268060887\n"
     ]
    }
   ],
   "source": [
    "print(df_skaters.query('category == \"Pair Skating\" and segment == \"Free Skating\"')['total_segment_score'].std())"
   ]
  },
  {
   "cell_type": "markdown",
   "metadata": {},
   "source": [
    "*Maximum score for short program in pair skating category*"
   ]
  },
  {
   "cell_type": "code",
   "execution_count": 231,
   "metadata": {},
   "outputs": [
    {
     "name": "stdout",
     "output_type": "stream",
     "text": [
      "84.41\n",
      "SUI Wenjing\n",
      "HAN Cong\n"
     ]
    }
   ],
   "source": [
    "max_value = df_skaters.query('category == \"Pair Skating\" and segment == \"Short Program\"')['total_segment_score'].max()\n",
    "max_value_row = df_skaters.loc[df_skaters.query('category == \"Pair Skating\" and segment == \"Short Program\"')['total_segment_score'].idxmax()]\n",
    "print(max_value)\n",
    "print(max_value_row['skater_name_1'])\n",
    "print(max_value_row['skater_name_2'])"
   ]
  },
  {
   "cell_type": "code",
   "execution_count": 232,
   "metadata": {},
   "outputs": [
    {
     "name": "stdout",
     "output_type": "stream",
     "text": [
      "68.03777777777778\n"
     ]
    }
   ],
   "source": [
    "print(df_skaters.query('category == \"Pair Skating\" and segment == \"Short Program\"')['total_segment_score'].mean())"
   ]
  },
  {
   "cell_type": "code",
   "execution_count": 233,
   "metadata": {},
   "outputs": [
    {
     "name": "stdout",
     "output_type": "stream",
     "text": [
      "10.496316191634627\n"
     ]
    }
   ],
   "source": [
    "print(df_skaters.query('category == \"Pair Skating\" and segment == \"Short Program\"')['total_segment_score'].std())"
   ]
  },
  {
   "cell_type": "markdown",
   "metadata": {},
   "source": [
    "*Maximum score for free program in pair skating team category*"
   ]
  },
  {
   "cell_type": "code",
   "execution_count": 234,
   "metadata": {},
   "outputs": [
    {
     "name": "stdout",
     "output_type": "stream",
     "text": [
      "145.2\n",
      "MISHINA Anastasia\n",
      "GALLIAMOV Aleksandr\n"
     ]
    }
   ],
   "source": [
    "max_value = df_skaters.query('category == \"Team Event - Pair Skating\" and segment == \"Free Skating\"')['total_segment_score'].max()\n",
    "max_value_row = df_skaters.loc[df_skaters.query('category == \"Team Event - Pair Skating\" and segment == \"Free Skating\"')['total_segment_score'].idxmax()]\n",
    "print(max_value)\n",
    "print(max_value_row['skater_name_1'])\n",
    "print(max_value_row['skater_name_2'])"
   ]
  },
  {
   "cell_type": "code",
   "execution_count": 235,
   "metadata": {},
   "outputs": [
    {
     "name": "stdout",
     "output_type": "stream",
     "text": [
      "135.118\n"
     ]
    }
   ],
   "source": [
    "print(df_skaters.query('category == \"Team Event - Pair Skating\" and segment == \"Free Skating\"')['total_segment_score'].mean())"
   ]
  },
  {
   "cell_type": "code",
   "execution_count": 236,
   "metadata": {},
   "outputs": [
    {
     "name": "stdout",
     "output_type": "stream",
     "text": [
      "7.006402072390647\n"
     ]
    }
   ],
   "source": [
    "print(df_skaters.query('category == \"Team Event - Pair Skating\" and segment == \"Free Skating\"')['total_segment_score'].std())"
   ]
  },
  {
   "cell_type": "markdown",
   "metadata": {},
   "source": [
    "*Maximum score for short program in pair skating team category*"
   ]
  },
  {
   "cell_type": "code",
   "execution_count": 237,
   "metadata": {},
   "outputs": [
    {
     "name": "stdout",
     "output_type": "stream",
     "text": [
      "82.83\n",
      "SUI Wenjing\n",
      "HAN Cong\n"
     ]
    }
   ],
   "source": [
    "max_value = df_skaters.query('category == \"Team Event - Pair Skating\" and segment == \"Short Program\"')['total_segment_score'].max()\n",
    "max_value_row = df_skaters.loc[df_skaters.query('category == \"Team Event - Pair Skating\" and segment == \"Short Program\"')['total_segment_score'].idxmax()]\n",
    "print(max_value)\n",
    "print(max_value_row['skater_name_1'])\n",
    "print(max_value_row['skater_name_2'])"
   ]
  },
  {
   "cell_type": "code",
   "execution_count": 238,
   "metadata": {},
   "outputs": [
    {
     "name": "stdout",
     "output_type": "stream",
     "text": [
      "68.63333333333333\n"
     ]
    }
   ],
   "source": [
    "print(df_skaters.query('category == \"Team Event - Pair Skating\" and segment == \"Short Program\"')['total_segment_score'].mean())"
   ]
  },
  {
   "cell_type": "code",
   "execution_count": 239,
   "metadata": {},
   "outputs": [
    {
     "name": "stdout",
     "output_type": "stream",
     "text": [
      "10.752285803493134\n"
     ]
    }
   ],
   "source": [
    "print(df_skaters.query('category == \"Team Event - Pair Skating\" and segment == \"Short Program\"')['total_segment_score'].std())"
   ]
  },
  {
   "cell_type": "markdown",
   "metadata": {},
   "source": [
    "### *Ice Dance*"
   ]
  },
  {
   "cell_type": "markdown",
   "metadata": {},
   "source": [
    "*Maximum score for free dance in ice dance category*"
   ]
  },
  {
   "cell_type": "code",
   "execution_count": 240,
   "metadata": {},
   "outputs": [
    {
     "name": "stdout",
     "output_type": "stream",
     "text": [
      "136.15\n",
      "PAPADAKIS Gabriella\n",
      "CIZERON Guillaume\n"
     ]
    }
   ],
   "source": [
    "max_value = df_skaters.query('category == \"Ice Dance\" and segment == \"Free Dance\"')['total_segment_score'].max()\n",
    "max_value_row = df_skaters.loc[df_skaters.query('category == \"Ice Dance\" and segment == \"Free Dance\"')['total_segment_score'].idxmax()]\n",
    "print(max_value)\n",
    "print(max_value_row['skater_name_1'])\n",
    "print(max_value_row['skater_name_2'])"
   ]
  },
  {
   "cell_type": "code",
   "execution_count": 241,
   "metadata": {},
   "outputs": [
    {
     "name": "stdout",
     "output_type": "stream",
     "text": [
      "114.42999999999999\n"
     ]
    }
   ],
   "source": [
    "print(df_skaters.query('category == \"Ice Dance\" and segment == \"Free Dance\"')['total_segment_score'].mean())"
   ]
  },
  {
   "cell_type": "code",
   "execution_count": 242,
   "metadata": {},
   "outputs": [
    {
     "name": "stdout",
     "output_type": "stream",
     "text": [
      "12.460097997418124\n"
     ]
    }
   ],
   "source": [
    "print(df_skaters.query('category == \"Ice Dance\" and segment == \"Free Dance\"')['total_segment_score'].std())"
   ]
  },
  {
   "cell_type": "markdown",
   "metadata": {},
   "source": [
    "*Maximum score for rhythm dance in ice dance category*"
   ]
  },
  {
   "cell_type": "code",
   "execution_count": 243,
   "metadata": {},
   "outputs": [
    {
     "name": "stdout",
     "output_type": "stream",
     "text": [
      "90.83\n",
      "PAPADAKIS Gabriella\n",
      "CIZERON Guillaume\n"
     ]
    }
   ],
   "source": [
    "max_value = df_skaters.query('category == \"Ice Dance\" and segment == \"Rhythm Dance\"')['total_segment_score'].max()\n",
    "max_value_row = df_skaters.loc[df_skaters.query('category == \"Ice Dance\" and segment == \"Rhythm Dance\"')['total_segment_score'].idxmax()]\n",
    "print(max_value)\n",
    "print(max_value_row['skater_name_1'])\n",
    "print(max_value_row['skater_name_2'])"
   ]
  },
  {
   "cell_type": "code",
   "execution_count": 244,
   "metadata": {},
   "outputs": [
    {
     "name": "stdout",
     "output_type": "stream",
     "text": [
      "74.76739130434783\n"
     ]
    }
   ],
   "source": [
    "print(df_skaters.query('category == \"Ice Dance\" and segment == \"Rhythm Dance\"')['total_segment_score'].mean())"
   ]
  },
  {
   "cell_type": "code",
   "execution_count": 245,
   "metadata": {},
   "outputs": [
    {
     "name": "stdout",
     "output_type": "stream",
     "text": [
      "8.923095782289964\n"
     ]
    }
   ],
   "source": [
    "print(df_skaters.query('category == \"Ice Dance\" and segment == \"Rhythm Dance\"')['total_segment_score'].std())"
   ]
  },
  {
   "cell_type": "markdown",
   "metadata": {},
   "source": [
    "*Maximum score for free dance in ice dance team category*"
   ]
  },
  {
   "cell_type": "code",
   "execution_count": 246,
   "metadata": {},
   "outputs": [
    {
     "name": "stdout",
     "output_type": "stream",
     "text": [
      "129.07\n",
      "CHOCK Madison\n",
      "BATES Evan\n"
     ]
    }
   ],
   "source": [
    "max_value = df_skaters.query('category == \"Team Event - Ice Dance\" and segment == \"Free Dance\"')['total_segment_score'].max()\n",
    "max_value_row = df_skaters.loc[df_skaters.query('category == \"Team Event - Ice Dance\" and segment == \"Free Dance\"')['total_segment_score'].idxmax()]\n",
    "print(max_value)\n",
    "print(max_value_row['skater_name_1'])\n",
    "print(max_value_row['skater_name_2'])"
   ]
  },
  {
   "cell_type": "code",
   "execution_count": 247,
   "metadata": {},
   "outputs": [
    {
     "name": "stdout",
     "output_type": "stream",
     "text": [
      "117.494\n"
     ]
    }
   ],
   "source": [
    "print(df_skaters.query('category == \"Team Event - Ice Dance\" and segment == \"Free Dance\"')['total_segment_score'].mean())"
   ]
  },
  {
   "cell_type": "code",
   "execution_count": 248,
   "metadata": {},
   "outputs": [
    {
     "name": "stdout",
     "output_type": "stream",
     "text": [
      "13.7534879212511\n"
     ]
    }
   ],
   "source": [
    "print(df_skaters.query('category == \"Team Event - Ice Dance\" and segment == \"Free Dance\"')['total_segment_score'].std())"
   ]
  },
  {
   "cell_type": "markdown",
   "metadata": {},
   "source": [
    "*Maximum score for rhythm dance in ice dance team category*"
   ]
  },
  {
   "cell_type": "code",
   "execution_count": 249,
   "metadata": {},
   "outputs": [
    {
     "name": "stdout",
     "output_type": "stream",
     "text": [
      "86.56\n",
      "HUBBELL Madison\n",
      "DONOHUE Zachary\n"
     ]
    }
   ],
   "source": [
    "max_value = df_skaters.query('category == \"Team Event - Ice Dance\" and segment == \"Rhythm Dance\"')['total_segment_score'].max()\n",
    "max_value_row = df_skaters.loc[df_skaters.query('category == \"Team Event - Ice Dance\" and segment == \"Rhythm Dance\"')['total_segment_score'].idxmax()]\n",
    "print(max_value)\n",
    "print(max_value_row['skater_name_1'])\n",
    "print(max_value_row['skater_name_2'])"
   ]
  },
  {
   "cell_type": "code",
   "execution_count": 250,
   "metadata": {},
   "outputs": [
    {
     "name": "stdout",
     "output_type": "stream",
     "text": [
      "74.02400000000002\n"
     ]
    }
   ],
   "source": [
    "print(df_skaters.query('category == \"Team Event - Ice Dance\" and segment == \"Rhythm Dance\"')['total_segment_score'].mean())"
   ]
  },
  {
   "cell_type": "code",
   "execution_count": 251,
   "metadata": {},
   "outputs": [
    {
     "name": "stdout",
     "output_type": "stream",
     "text": [
      "9.643048388462137\n"
     ]
    }
   ],
   "source": [
    "print(df_skaters.query('category == \"Team Event - Ice Dance\" and segment == \"Rhythm Dance\"')['total_segment_score'].std())"
   ]
  },
  {
   "cell_type": "markdown",
   "metadata": {},
   "source": [
    "# *Plots*"
   ]
  },
  {
   "cell_type": "code",
   "execution_count": 252,
   "metadata": {},
   "outputs": [
    {
     "data": {
      "application/vnd.plotly.v1+json": {
       "config": {
        "plotlyServerURL": "https://plot.ly"
       },
       "data": [
        {
         "hovertemplate": "gender=Male<br>rank=%{x}<br>total_segment_score=%{y}<extra></extra>",
         "legendgroup": "Male",
         "marker": {
          "color": "#636efa",
          "pattern": {
           "shape": ""
          }
         },
         "name": "Male",
         "orientation": "v",
         "showlegend": true,
         "textposition": "auto",
         "type": "bar",
         "x": {
          "bdata": "AQIDBAUGBwgJCgsMDQ4PEBESExQVFhcY",
          "dtype": "i1"
         },
         "xaxis": "x",
         "y": {
          "bdata": "XI/C9ShUa0D2KFyPwj1pQFK4HoXrgWdA9ihcj8JtZ0AzMzMzM2NnQAAAAAAAAGdApHA9CtfbZkBmZmZmZm5mQKRwPQrXS2ZApHA9CteLZUAUrkfhelRlQIXrUbge7WRAhetRuB5tZEAfhetRuFZkQJqZmZmZOWRAuB6F61EAZEDNzMzMzNxjQClcj8L1iGNA4XoUrkdhY0CPwvUoXPdhQEjhehSux2FArkfhehROYUA9CtejcA1hQJqZmZmZ6V9A",
          "dtype": "f8"
         },
         "yaxis": "y"
        },
        {
         "hovertemplate": "gender=Female<br>rank=%{x}<br>total_segment_score=%{y}<extra></extra>",
         "legendgroup": "Female",
         "marker": {
          "color": "#EF553B",
          "pattern": {
           "shape": ""
          }
         },
         "name": "Female",
         "orientation": "v",
         "showlegend": true,
         "textposition": "auto",
         "type": "bar",
         "x": {
          "bdata": "AQIDBAUGBwgJCgsMDQ4PEBESExQVFhcYGQ==",
          "dtype": "i1"
         },
         "xaxis": "x",
         "y": {
          "bdata": "XI/C9SgkZkAAAAAAAPhlQOF6FK5HKWNAAAAAAADYYUD2KFyPwr1hQPYoXI/CnWFAZmZmZmZuYUA9CtejcB1hQGZmZmZmFmFAw/UoXI/yYEAzMzMzM9tgQHE9CtejsF9ASOF6FK7XXkCkcD0K10NeQJqZmZmZiV1AFK5H4XokXUAUrkfhevRcQFK4HoXrwVxA4XoUrkehXEDNzMzMzAxcQGZmZmZmxltAZmZmZmb2WkDD9ShcjwJaQJqZmZmZCVlAFK5H4XoEWEA=",
          "dtype": "f8"
         },
         "yaxis": "y"
        }
       ],
       "layout": {
        "barmode": "relative",
        "legend": {
         "title": {
          "text": "gender"
         },
         "tracegroupgap": 0
        },
        "template": {
         "data": {
          "bar": [
           {
            "error_x": {
             "color": "#2a3f5f"
            },
            "error_y": {
             "color": "#2a3f5f"
            },
            "marker": {
             "line": {
              "color": "#E5ECF6",
              "width": 0.5
             },
             "pattern": {
              "fillmode": "overlay",
              "size": 10,
              "solidity": 0.2
             }
            },
            "type": "bar"
           }
          ],
          "barpolar": [
           {
            "marker": {
             "line": {
              "color": "#E5ECF6",
              "width": 0.5
             },
             "pattern": {
              "fillmode": "overlay",
              "size": 10,
              "solidity": 0.2
             }
            },
            "type": "barpolar"
           }
          ],
          "carpet": [
           {
            "aaxis": {
             "endlinecolor": "#2a3f5f",
             "gridcolor": "white",
             "linecolor": "white",
             "minorgridcolor": "white",
             "startlinecolor": "#2a3f5f"
            },
            "baxis": {
             "endlinecolor": "#2a3f5f",
             "gridcolor": "white",
             "linecolor": "white",
             "minorgridcolor": "white",
             "startlinecolor": "#2a3f5f"
            },
            "type": "carpet"
           }
          ],
          "choropleth": [
           {
            "colorbar": {
             "outlinewidth": 0,
             "ticks": ""
            },
            "type": "choropleth"
           }
          ],
          "contour": [
           {
            "colorbar": {
             "outlinewidth": 0,
             "ticks": ""
            },
            "colorscale": [
             [
              0,
              "#0d0887"
             ],
             [
              0.1111111111111111,
              "#46039f"
             ],
             [
              0.2222222222222222,
              "#7201a8"
             ],
             [
              0.3333333333333333,
              "#9c179e"
             ],
             [
              0.4444444444444444,
              "#bd3786"
             ],
             [
              0.5555555555555556,
              "#d8576b"
             ],
             [
              0.6666666666666666,
              "#ed7953"
             ],
             [
              0.7777777777777778,
              "#fb9f3a"
             ],
             [
              0.8888888888888888,
              "#fdca26"
             ],
             [
              1,
              "#f0f921"
             ]
            ],
            "type": "contour"
           }
          ],
          "contourcarpet": [
           {
            "colorbar": {
             "outlinewidth": 0,
             "ticks": ""
            },
            "type": "contourcarpet"
           }
          ],
          "heatmap": [
           {
            "colorbar": {
             "outlinewidth": 0,
             "ticks": ""
            },
            "colorscale": [
             [
              0,
              "#0d0887"
             ],
             [
              0.1111111111111111,
              "#46039f"
             ],
             [
              0.2222222222222222,
              "#7201a8"
             ],
             [
              0.3333333333333333,
              "#9c179e"
             ],
             [
              0.4444444444444444,
              "#bd3786"
             ],
             [
              0.5555555555555556,
              "#d8576b"
             ],
             [
              0.6666666666666666,
              "#ed7953"
             ],
             [
              0.7777777777777778,
              "#fb9f3a"
             ],
             [
              0.8888888888888888,
              "#fdca26"
             ],
             [
              1,
              "#f0f921"
             ]
            ],
            "type": "heatmap"
           }
          ],
          "histogram": [
           {
            "marker": {
             "pattern": {
              "fillmode": "overlay",
              "size": 10,
              "solidity": 0.2
             }
            },
            "type": "histogram"
           }
          ],
          "histogram2d": [
           {
            "colorbar": {
             "outlinewidth": 0,
             "ticks": ""
            },
            "colorscale": [
             [
              0,
              "#0d0887"
             ],
             [
              0.1111111111111111,
              "#46039f"
             ],
             [
              0.2222222222222222,
              "#7201a8"
             ],
             [
              0.3333333333333333,
              "#9c179e"
             ],
             [
              0.4444444444444444,
              "#bd3786"
             ],
             [
              0.5555555555555556,
              "#d8576b"
             ],
             [
              0.6666666666666666,
              "#ed7953"
             ],
             [
              0.7777777777777778,
              "#fb9f3a"
             ],
             [
              0.8888888888888888,
              "#fdca26"
             ],
             [
              1,
              "#f0f921"
             ]
            ],
            "type": "histogram2d"
           }
          ],
          "histogram2dcontour": [
           {
            "colorbar": {
             "outlinewidth": 0,
             "ticks": ""
            },
            "colorscale": [
             [
              0,
              "#0d0887"
             ],
             [
              0.1111111111111111,
              "#46039f"
             ],
             [
              0.2222222222222222,
              "#7201a8"
             ],
             [
              0.3333333333333333,
              "#9c179e"
             ],
             [
              0.4444444444444444,
              "#bd3786"
             ],
             [
              0.5555555555555556,
              "#d8576b"
             ],
             [
              0.6666666666666666,
              "#ed7953"
             ],
             [
              0.7777777777777778,
              "#fb9f3a"
             ],
             [
              0.8888888888888888,
              "#fdca26"
             ],
             [
              1,
              "#f0f921"
             ]
            ],
            "type": "histogram2dcontour"
           }
          ],
          "mesh3d": [
           {
            "colorbar": {
             "outlinewidth": 0,
             "ticks": ""
            },
            "type": "mesh3d"
           }
          ],
          "parcoords": [
           {
            "line": {
             "colorbar": {
              "outlinewidth": 0,
              "ticks": ""
             }
            },
            "type": "parcoords"
           }
          ],
          "pie": [
           {
            "automargin": true,
            "type": "pie"
           }
          ],
          "scatter": [
           {
            "fillpattern": {
             "fillmode": "overlay",
             "size": 10,
             "solidity": 0.2
            },
            "type": "scatter"
           }
          ],
          "scatter3d": [
           {
            "line": {
             "colorbar": {
              "outlinewidth": 0,
              "ticks": ""
             }
            },
            "marker": {
             "colorbar": {
              "outlinewidth": 0,
              "ticks": ""
             }
            },
            "type": "scatter3d"
           }
          ],
          "scattercarpet": [
           {
            "marker": {
             "colorbar": {
              "outlinewidth": 0,
              "ticks": ""
             }
            },
            "type": "scattercarpet"
           }
          ],
          "scattergeo": [
           {
            "marker": {
             "colorbar": {
              "outlinewidth": 0,
              "ticks": ""
             }
            },
            "type": "scattergeo"
           }
          ],
          "scattergl": [
           {
            "marker": {
             "colorbar": {
              "outlinewidth": 0,
              "ticks": ""
             }
            },
            "type": "scattergl"
           }
          ],
          "scattermap": [
           {
            "marker": {
             "colorbar": {
              "outlinewidth": 0,
              "ticks": ""
             }
            },
            "type": "scattermap"
           }
          ],
          "scattermapbox": [
           {
            "marker": {
             "colorbar": {
              "outlinewidth": 0,
              "ticks": ""
             }
            },
            "type": "scattermapbox"
           }
          ],
          "scatterpolar": [
           {
            "marker": {
             "colorbar": {
              "outlinewidth": 0,
              "ticks": ""
             }
            },
            "type": "scatterpolar"
           }
          ],
          "scatterpolargl": [
           {
            "marker": {
             "colorbar": {
              "outlinewidth": 0,
              "ticks": ""
             }
            },
            "type": "scatterpolargl"
           }
          ],
          "scatterternary": [
           {
            "marker": {
             "colorbar": {
              "outlinewidth": 0,
              "ticks": ""
             }
            },
            "type": "scatterternary"
           }
          ],
          "surface": [
           {
            "colorbar": {
             "outlinewidth": 0,
             "ticks": ""
            },
            "colorscale": [
             [
              0,
              "#0d0887"
             ],
             [
              0.1111111111111111,
              "#46039f"
             ],
             [
              0.2222222222222222,
              "#7201a8"
             ],
             [
              0.3333333333333333,
              "#9c179e"
             ],
             [
              0.4444444444444444,
              "#bd3786"
             ],
             [
              0.5555555555555556,
              "#d8576b"
             ],
             [
              0.6666666666666666,
              "#ed7953"
             ],
             [
              0.7777777777777778,
              "#fb9f3a"
             ],
             [
              0.8888888888888888,
              "#fdca26"
             ],
             [
              1,
              "#f0f921"
             ]
            ],
            "type": "surface"
           }
          ],
          "table": [
           {
            "cells": {
             "fill": {
              "color": "#EBF0F8"
             },
             "line": {
              "color": "white"
             }
            },
            "header": {
             "fill": {
              "color": "#C8D4E3"
             },
             "line": {
              "color": "white"
             }
            },
            "type": "table"
           }
          ]
         },
         "layout": {
          "annotationdefaults": {
           "arrowcolor": "#2a3f5f",
           "arrowhead": 0,
           "arrowwidth": 1
          },
          "autotypenumbers": "strict",
          "coloraxis": {
           "colorbar": {
            "outlinewidth": 0,
            "ticks": ""
           }
          },
          "colorscale": {
           "diverging": [
            [
             0,
             "#8e0152"
            ],
            [
             0.1,
             "#c51b7d"
            ],
            [
             0.2,
             "#de77ae"
            ],
            [
             0.3,
             "#f1b6da"
            ],
            [
             0.4,
             "#fde0ef"
            ],
            [
             0.5,
             "#f7f7f7"
            ],
            [
             0.6,
             "#e6f5d0"
            ],
            [
             0.7,
             "#b8e186"
            ],
            [
             0.8,
             "#7fbc41"
            ],
            [
             0.9,
             "#4d9221"
            ],
            [
             1,
             "#276419"
            ]
           ],
           "sequential": [
            [
             0,
             "#0d0887"
            ],
            [
             0.1111111111111111,
             "#46039f"
            ],
            [
             0.2222222222222222,
             "#7201a8"
            ],
            [
             0.3333333333333333,
             "#9c179e"
            ],
            [
             0.4444444444444444,
             "#bd3786"
            ],
            [
             0.5555555555555556,
             "#d8576b"
            ],
            [
             0.6666666666666666,
             "#ed7953"
            ],
            [
             0.7777777777777778,
             "#fb9f3a"
            ],
            [
             0.8888888888888888,
             "#fdca26"
            ],
            [
             1,
             "#f0f921"
            ]
           ],
           "sequentialminus": [
            [
             0,
             "#0d0887"
            ],
            [
             0.1111111111111111,
             "#46039f"
            ],
            [
             0.2222222222222222,
             "#7201a8"
            ],
            [
             0.3333333333333333,
             "#9c179e"
            ],
            [
             0.4444444444444444,
             "#bd3786"
            ],
            [
             0.5555555555555556,
             "#d8576b"
            ],
            [
             0.6666666666666666,
             "#ed7953"
            ],
            [
             0.7777777777777778,
             "#fb9f3a"
            ],
            [
             0.8888888888888888,
             "#fdca26"
            ],
            [
             1,
             "#f0f921"
            ]
           ]
          },
          "colorway": [
           "#636efa",
           "#EF553B",
           "#00cc96",
           "#ab63fa",
           "#FFA15A",
           "#19d3f3",
           "#FF6692",
           "#B6E880",
           "#FF97FF",
           "#FECB52"
          ],
          "font": {
           "color": "#2a3f5f"
          },
          "geo": {
           "bgcolor": "white",
           "lakecolor": "white",
           "landcolor": "#E5ECF6",
           "showlakes": true,
           "showland": true,
           "subunitcolor": "white"
          },
          "hoverlabel": {
           "align": "left"
          },
          "hovermode": "closest",
          "mapbox": {
           "style": "light"
          },
          "paper_bgcolor": "white",
          "plot_bgcolor": "#E5ECF6",
          "polar": {
           "angularaxis": {
            "gridcolor": "white",
            "linecolor": "white",
            "ticks": ""
           },
           "bgcolor": "#E5ECF6",
           "radialaxis": {
            "gridcolor": "white",
            "linecolor": "white",
            "ticks": ""
           }
          },
          "scene": {
           "xaxis": {
            "backgroundcolor": "#E5ECF6",
            "gridcolor": "white",
            "gridwidth": 2,
            "linecolor": "white",
            "showbackground": true,
            "ticks": "",
            "zerolinecolor": "white"
           },
           "yaxis": {
            "backgroundcolor": "#E5ECF6",
            "gridcolor": "white",
            "gridwidth": 2,
            "linecolor": "white",
            "showbackground": true,
            "ticks": "",
            "zerolinecolor": "white"
           },
           "zaxis": {
            "backgroundcolor": "#E5ECF6",
            "gridcolor": "white",
            "gridwidth": 2,
            "linecolor": "white",
            "showbackground": true,
            "ticks": "",
            "zerolinecolor": "white"
           }
          },
          "shapedefaults": {
           "line": {
            "color": "#2a3f5f"
           }
          },
          "ternary": {
           "aaxis": {
            "gridcolor": "white",
            "linecolor": "white",
            "ticks": ""
           },
           "baxis": {
            "gridcolor": "white",
            "linecolor": "white",
            "ticks": ""
           },
           "bgcolor": "#E5ECF6",
           "caxis": {
            "gridcolor": "white",
            "linecolor": "white",
            "ticks": ""
           }
          },
          "title": {
           "x": 0.05
          },
          "xaxis": {
           "automargin": true,
           "gridcolor": "white",
           "linecolor": "white",
           "ticks": "",
           "title": {
            "standoff": 15
           },
           "zerolinecolor": "white",
           "zerolinewidth": 2
          },
          "yaxis": {
           "automargin": true,
           "gridcolor": "white",
           "linecolor": "white",
           "ticks": "",
           "title": {
            "standoff": 15
           },
           "zerolinecolor": "white",
           "zerolinewidth": 2
          }
         }
        },
        "title": {
         "text": "Male vs Felame total segment score(Single Skating free program)"
        },
        "xaxis": {
         "anchor": "y",
         "domain": [
          0,
          1
         ],
         "title": {
          "text": "rank"
         }
        },
        "yaxis": {
         "anchor": "x",
         "domain": [
          0,
          1
         ],
         "title": {
          "text": "total_segment_score"
         }
        }
       }
      }
     },
     "metadata": {},
     "output_type": "display_data"
    }
   ],
   "source": [
    "df_plot = df_skaters[(df_skaters[\"segment\"] == \"Free Skating\") & (df_skaters[\"category\"].isin([\"Men Single Skating\", \"Women Single Skating\"]))].copy()\n",
    "df_plot[\"gender\"] = df_plot[\"category\"].apply(lambda x: \"Male\" if \"Men\" in x else \"Female\")\n",
    "\n",
    "fig = px.bar(df_plot,x=\"rank\", y=\"total_segment_score\", color=\"gender\",\n",
    "    title=\"Male vs Felame total segment score(Single Skating free program)\")\n",
    "fig.show()"
   ]
  },
  {
   "cell_type": "code",
   "execution_count": 253,
   "metadata": {},
   "outputs": [
    {
     "data": {
      "application/vnd.plotly.v1+json": {
       "config": {
        "plotlyServerURL": "https://plot.ly"
       },
       "data": [
        {
         "hovertemplate": "gender=Male<br>rank=%{x}<br>total_segment_score=%{y}<extra></extra>",
         "legendgroup": "Male",
         "marker": {
          "color": "#636efa",
          "pattern": {
           "shape": ""
          }
         },
         "name": "Male",
         "orientation": "v",
         "showlegend": true,
         "textposition": "auto",
         "type": "bar",
         "x": {
          "bdata": "AQIDBAUGBwgJCgsMDQ4PEBESExQVFhcYGRobHB0=",
          "dtype": "i1"
         },
         "xaxis": "x",
         "y": {
          "bdata": "rkfhehR+XEBI4XoUrgdbQJqZmZmZeVpAcT0K16PgWEAfhetRuH5YQI/C9ShcT1hAcT0K16PwV0CamZmZmclXQI/C9ShcT1dAAAAAAABAV0AfhetRuL5WQClcj8L1qFZAuB6F61EoVkCPwvUoXK9VQNejcD0Kh1VAMzMzMzNTVUDD9ShcjzJVQJqZmZmZCVVAXI/C9SjsU0DD9Shcj6JTQI/C9Shcn1NA16NwPQqHU0AzMzMzM0NTQArXo3A9ClNAXI/C9SjMUkBxPQrXowBRQFyPwvUobFBAw/UoXI9SUEDD9Shcj2JPQA==",
          "dtype": "f8"
         },
         "yaxis": "y"
        },
        {
         "hovertemplate": "gender=Female<br>rank=%{x}<br>total_segment_score=%{y}<extra></extra>",
         "legendgroup": "Female",
         "marker": {
          "color": "#EF553B",
          "pattern": {
           "shape": ""
          }
         },
         "name": "Female",
         "orientation": "v",
         "showlegend": true,
         "textposition": "auto",
         "type": "bar",
         "x": {
          "bdata": "AQIDBAUGBwgJCgsMDQ4PEBESExQVFhcYGRobHB0e",
          "dtype": "i1"
         },
         "xaxis": "x",
         "y": {
          "bdata": "CtejcD2KVEDNzMzMzAxUQPYoXI/C9VNAZmZmZmamUkBxPQrXo2BSQPYoXI/ClVFA9ihcj8KFUUAAAAAAAGBRQFK4HoXr8VBAmpmZmZlZUEC4HoXrUVhQQKRwPQrXE1BA16NwPQoHUEBxPQrXo5BPQLgehetRWE9AKVyPwvXoTkB7FK5H4bpOQFK4HoXrkU5ASOF6FK6HTkCkcD0K10NOQGZmZmZmxk1AH4XrUbieTUAUrkfhepRNQArXo3A9ik1AXI/C9Sh8TEDhehSuR0FLQLgehetRuEpAhetRuB5FSkDXo3A9CvdIQNejcD0KV0hA",
          "dtype": "f8"
         },
         "yaxis": "y"
        }
       ],
       "layout": {
        "barmode": "relative",
        "legend": {
         "title": {
          "text": "gender"
         },
         "tracegroupgap": 0
        },
        "template": {
         "data": {
          "bar": [
           {
            "error_x": {
             "color": "#2a3f5f"
            },
            "error_y": {
             "color": "#2a3f5f"
            },
            "marker": {
             "line": {
              "color": "#E5ECF6",
              "width": 0.5
             },
             "pattern": {
              "fillmode": "overlay",
              "size": 10,
              "solidity": 0.2
             }
            },
            "type": "bar"
           }
          ],
          "barpolar": [
           {
            "marker": {
             "line": {
              "color": "#E5ECF6",
              "width": 0.5
             },
             "pattern": {
              "fillmode": "overlay",
              "size": 10,
              "solidity": 0.2
             }
            },
            "type": "barpolar"
           }
          ],
          "carpet": [
           {
            "aaxis": {
             "endlinecolor": "#2a3f5f",
             "gridcolor": "white",
             "linecolor": "white",
             "minorgridcolor": "white",
             "startlinecolor": "#2a3f5f"
            },
            "baxis": {
             "endlinecolor": "#2a3f5f",
             "gridcolor": "white",
             "linecolor": "white",
             "minorgridcolor": "white",
             "startlinecolor": "#2a3f5f"
            },
            "type": "carpet"
           }
          ],
          "choropleth": [
           {
            "colorbar": {
             "outlinewidth": 0,
             "ticks": ""
            },
            "type": "choropleth"
           }
          ],
          "contour": [
           {
            "colorbar": {
             "outlinewidth": 0,
             "ticks": ""
            },
            "colorscale": [
             [
              0,
              "#0d0887"
             ],
             [
              0.1111111111111111,
              "#46039f"
             ],
             [
              0.2222222222222222,
              "#7201a8"
             ],
             [
              0.3333333333333333,
              "#9c179e"
             ],
             [
              0.4444444444444444,
              "#bd3786"
             ],
             [
              0.5555555555555556,
              "#d8576b"
             ],
             [
              0.6666666666666666,
              "#ed7953"
             ],
             [
              0.7777777777777778,
              "#fb9f3a"
             ],
             [
              0.8888888888888888,
              "#fdca26"
             ],
             [
              1,
              "#f0f921"
             ]
            ],
            "type": "contour"
           }
          ],
          "contourcarpet": [
           {
            "colorbar": {
             "outlinewidth": 0,
             "ticks": ""
            },
            "type": "contourcarpet"
           }
          ],
          "heatmap": [
           {
            "colorbar": {
             "outlinewidth": 0,
             "ticks": ""
            },
            "colorscale": [
             [
              0,
              "#0d0887"
             ],
             [
              0.1111111111111111,
              "#46039f"
             ],
             [
              0.2222222222222222,
              "#7201a8"
             ],
             [
              0.3333333333333333,
              "#9c179e"
             ],
             [
              0.4444444444444444,
              "#bd3786"
             ],
             [
              0.5555555555555556,
              "#d8576b"
             ],
             [
              0.6666666666666666,
              "#ed7953"
             ],
             [
              0.7777777777777778,
              "#fb9f3a"
             ],
             [
              0.8888888888888888,
              "#fdca26"
             ],
             [
              1,
              "#f0f921"
             ]
            ],
            "type": "heatmap"
           }
          ],
          "histogram": [
           {
            "marker": {
             "pattern": {
              "fillmode": "overlay",
              "size": 10,
              "solidity": 0.2
             }
            },
            "type": "histogram"
           }
          ],
          "histogram2d": [
           {
            "colorbar": {
             "outlinewidth": 0,
             "ticks": ""
            },
            "colorscale": [
             [
              0,
              "#0d0887"
             ],
             [
              0.1111111111111111,
              "#46039f"
             ],
             [
              0.2222222222222222,
              "#7201a8"
             ],
             [
              0.3333333333333333,
              "#9c179e"
             ],
             [
              0.4444444444444444,
              "#bd3786"
             ],
             [
              0.5555555555555556,
              "#d8576b"
             ],
             [
              0.6666666666666666,
              "#ed7953"
             ],
             [
              0.7777777777777778,
              "#fb9f3a"
             ],
             [
              0.8888888888888888,
              "#fdca26"
             ],
             [
              1,
              "#f0f921"
             ]
            ],
            "type": "histogram2d"
           }
          ],
          "histogram2dcontour": [
           {
            "colorbar": {
             "outlinewidth": 0,
             "ticks": ""
            },
            "colorscale": [
             [
              0,
              "#0d0887"
             ],
             [
              0.1111111111111111,
              "#46039f"
             ],
             [
              0.2222222222222222,
              "#7201a8"
             ],
             [
              0.3333333333333333,
              "#9c179e"
             ],
             [
              0.4444444444444444,
              "#bd3786"
             ],
             [
              0.5555555555555556,
              "#d8576b"
             ],
             [
              0.6666666666666666,
              "#ed7953"
             ],
             [
              0.7777777777777778,
              "#fb9f3a"
             ],
             [
              0.8888888888888888,
              "#fdca26"
             ],
             [
              1,
              "#f0f921"
             ]
            ],
            "type": "histogram2dcontour"
           }
          ],
          "mesh3d": [
           {
            "colorbar": {
             "outlinewidth": 0,
             "ticks": ""
            },
            "type": "mesh3d"
           }
          ],
          "parcoords": [
           {
            "line": {
             "colorbar": {
              "outlinewidth": 0,
              "ticks": ""
             }
            },
            "type": "parcoords"
           }
          ],
          "pie": [
           {
            "automargin": true,
            "type": "pie"
           }
          ],
          "scatter": [
           {
            "fillpattern": {
             "fillmode": "overlay",
             "size": 10,
             "solidity": 0.2
            },
            "type": "scatter"
           }
          ],
          "scatter3d": [
           {
            "line": {
             "colorbar": {
              "outlinewidth": 0,
              "ticks": ""
             }
            },
            "marker": {
             "colorbar": {
              "outlinewidth": 0,
              "ticks": ""
             }
            },
            "type": "scatter3d"
           }
          ],
          "scattercarpet": [
           {
            "marker": {
             "colorbar": {
              "outlinewidth": 0,
              "ticks": ""
             }
            },
            "type": "scattercarpet"
           }
          ],
          "scattergeo": [
           {
            "marker": {
             "colorbar": {
              "outlinewidth": 0,
              "ticks": ""
             }
            },
            "type": "scattergeo"
           }
          ],
          "scattergl": [
           {
            "marker": {
             "colorbar": {
              "outlinewidth": 0,
              "ticks": ""
             }
            },
            "type": "scattergl"
           }
          ],
          "scattermap": [
           {
            "marker": {
             "colorbar": {
              "outlinewidth": 0,
              "ticks": ""
             }
            },
            "type": "scattermap"
           }
          ],
          "scattermapbox": [
           {
            "marker": {
             "colorbar": {
              "outlinewidth": 0,
              "ticks": ""
             }
            },
            "type": "scattermapbox"
           }
          ],
          "scatterpolar": [
           {
            "marker": {
             "colorbar": {
              "outlinewidth": 0,
              "ticks": ""
             }
            },
            "type": "scatterpolar"
           }
          ],
          "scatterpolargl": [
           {
            "marker": {
             "colorbar": {
              "outlinewidth": 0,
              "ticks": ""
             }
            },
            "type": "scatterpolargl"
           }
          ],
          "scatterternary": [
           {
            "marker": {
             "colorbar": {
              "outlinewidth": 0,
              "ticks": ""
             }
            },
            "type": "scatterternary"
           }
          ],
          "surface": [
           {
            "colorbar": {
             "outlinewidth": 0,
             "ticks": ""
            },
            "colorscale": [
             [
              0,
              "#0d0887"
             ],
             [
              0.1111111111111111,
              "#46039f"
             ],
             [
              0.2222222222222222,
              "#7201a8"
             ],
             [
              0.3333333333333333,
              "#9c179e"
             ],
             [
              0.4444444444444444,
              "#bd3786"
             ],
             [
              0.5555555555555556,
              "#d8576b"
             ],
             [
              0.6666666666666666,
              "#ed7953"
             ],
             [
              0.7777777777777778,
              "#fb9f3a"
             ],
             [
              0.8888888888888888,
              "#fdca26"
             ],
             [
              1,
              "#f0f921"
             ]
            ],
            "type": "surface"
           }
          ],
          "table": [
           {
            "cells": {
             "fill": {
              "color": "#EBF0F8"
             },
             "line": {
              "color": "white"
             }
            },
            "header": {
             "fill": {
              "color": "#C8D4E3"
             },
             "line": {
              "color": "white"
             }
            },
            "type": "table"
           }
          ]
         },
         "layout": {
          "annotationdefaults": {
           "arrowcolor": "#2a3f5f",
           "arrowhead": 0,
           "arrowwidth": 1
          },
          "autotypenumbers": "strict",
          "coloraxis": {
           "colorbar": {
            "outlinewidth": 0,
            "ticks": ""
           }
          },
          "colorscale": {
           "diverging": [
            [
             0,
             "#8e0152"
            ],
            [
             0.1,
             "#c51b7d"
            ],
            [
             0.2,
             "#de77ae"
            ],
            [
             0.3,
             "#f1b6da"
            ],
            [
             0.4,
             "#fde0ef"
            ],
            [
             0.5,
             "#f7f7f7"
            ],
            [
             0.6,
             "#e6f5d0"
            ],
            [
             0.7,
             "#b8e186"
            ],
            [
             0.8,
             "#7fbc41"
            ],
            [
             0.9,
             "#4d9221"
            ],
            [
             1,
             "#276419"
            ]
           ],
           "sequential": [
            [
             0,
             "#0d0887"
            ],
            [
             0.1111111111111111,
             "#46039f"
            ],
            [
             0.2222222222222222,
             "#7201a8"
            ],
            [
             0.3333333333333333,
             "#9c179e"
            ],
            [
             0.4444444444444444,
             "#bd3786"
            ],
            [
             0.5555555555555556,
             "#d8576b"
            ],
            [
             0.6666666666666666,
             "#ed7953"
            ],
            [
             0.7777777777777778,
             "#fb9f3a"
            ],
            [
             0.8888888888888888,
             "#fdca26"
            ],
            [
             1,
             "#f0f921"
            ]
           ],
           "sequentialminus": [
            [
             0,
             "#0d0887"
            ],
            [
             0.1111111111111111,
             "#46039f"
            ],
            [
             0.2222222222222222,
             "#7201a8"
            ],
            [
             0.3333333333333333,
             "#9c179e"
            ],
            [
             0.4444444444444444,
             "#bd3786"
            ],
            [
             0.5555555555555556,
             "#d8576b"
            ],
            [
             0.6666666666666666,
             "#ed7953"
            ],
            [
             0.7777777777777778,
             "#fb9f3a"
            ],
            [
             0.8888888888888888,
             "#fdca26"
            ],
            [
             1,
             "#f0f921"
            ]
           ]
          },
          "colorway": [
           "#636efa",
           "#EF553B",
           "#00cc96",
           "#ab63fa",
           "#FFA15A",
           "#19d3f3",
           "#FF6692",
           "#B6E880",
           "#FF97FF",
           "#FECB52"
          ],
          "font": {
           "color": "#2a3f5f"
          },
          "geo": {
           "bgcolor": "white",
           "lakecolor": "white",
           "landcolor": "#E5ECF6",
           "showlakes": true,
           "showland": true,
           "subunitcolor": "white"
          },
          "hoverlabel": {
           "align": "left"
          },
          "hovermode": "closest",
          "mapbox": {
           "style": "light"
          },
          "paper_bgcolor": "white",
          "plot_bgcolor": "#E5ECF6",
          "polar": {
           "angularaxis": {
            "gridcolor": "white",
            "linecolor": "white",
            "ticks": ""
           },
           "bgcolor": "#E5ECF6",
           "radialaxis": {
            "gridcolor": "white",
            "linecolor": "white",
            "ticks": ""
           }
          },
          "scene": {
           "xaxis": {
            "backgroundcolor": "#E5ECF6",
            "gridcolor": "white",
            "gridwidth": 2,
            "linecolor": "white",
            "showbackground": true,
            "ticks": "",
            "zerolinecolor": "white"
           },
           "yaxis": {
            "backgroundcolor": "#E5ECF6",
            "gridcolor": "white",
            "gridwidth": 2,
            "linecolor": "white",
            "showbackground": true,
            "ticks": "",
            "zerolinecolor": "white"
           },
           "zaxis": {
            "backgroundcolor": "#E5ECF6",
            "gridcolor": "white",
            "gridwidth": 2,
            "linecolor": "white",
            "showbackground": true,
            "ticks": "",
            "zerolinecolor": "white"
           }
          },
          "shapedefaults": {
           "line": {
            "color": "#2a3f5f"
           }
          },
          "ternary": {
           "aaxis": {
            "gridcolor": "white",
            "linecolor": "white",
            "ticks": ""
           },
           "baxis": {
            "gridcolor": "white",
            "linecolor": "white",
            "ticks": ""
           },
           "bgcolor": "#E5ECF6",
           "caxis": {
            "gridcolor": "white",
            "linecolor": "white",
            "ticks": ""
           }
          },
          "title": {
           "x": 0.05
          },
          "xaxis": {
           "automargin": true,
           "gridcolor": "white",
           "linecolor": "white",
           "ticks": "",
           "title": {
            "standoff": 15
           },
           "zerolinecolor": "white",
           "zerolinewidth": 2
          },
          "yaxis": {
           "automargin": true,
           "gridcolor": "white",
           "linecolor": "white",
           "ticks": "",
           "title": {
            "standoff": 15
           },
           "zerolinecolor": "white",
           "zerolinewidth": 2
          }
         }
        },
        "title": {
         "text": "Male vs Felame total segment score(Single Skating Short Program)"
        },
        "xaxis": {
         "anchor": "y",
         "domain": [
          0,
          1
         ],
         "title": {
          "text": "rank"
         }
        },
        "yaxis": {
         "anchor": "x",
         "domain": [
          0,
          1
         ],
         "title": {
          "text": "total_segment_score"
         }
        }
       }
      }
     },
     "metadata": {},
     "output_type": "display_data"
    }
   ],
   "source": [
    "df_plot = df_skaters[(df_skaters[\"segment\"] == \"Short Program\") & (df_skaters[\"category\"].isin([\"Men Single Skating\", \"Women Single Skating\"]))].copy()\n",
    "df_plot[\"gender\"] = df_plot[\"category\"].apply(lambda x: \"Male\" if \"Men\" in x else \"Female\")\n",
    "\n",
    "fig = px.bar(df_plot,x=\"rank\", y=\"total_segment_score\", color=\"gender\",\n",
    "    title=\"Male vs Felame total segment score(Single Skating Short Program)\")\n",
    "fig.show()"
   ]
  },
  {
   "cell_type": "code",
   "execution_count": 254,
   "metadata": {},
   "outputs": [
    {
     "data": {
      "application/vnd.plotly.v1+json": {
       "config": {
        "plotlyServerURL": "https://plot.ly"
       },
       "data": [
        {
         "alignmentgroup": "True",
         "customdata": [
          [
           "CHEN Nathan"
          ],
          [
           "BROWN Jason"
          ]
         ],
         "hovertemplate": "Country=%{x}<br>Total Segment Score=%{y}<br>skater_name_1=%{customdata[0]}<extra></extra>",
         "legendgroup": "USA",
         "marker": {
          "color": "#636efa"
         },
         "name": "USA",
         "notched": false,
         "offsetgroup": "USA",
         "orientation": "v",
         "showlegend": true,
         "type": "box",
         "x": [
          "USA",
          "USA"
         ],
         "x0": " ",
         "xaxis": "x",
         "y": {
          "bdata": "rkfhehR+XECPwvUoXE9YQA==",
          "dtype": "f8"
         },
         "y0": " ",
         "yaxis": "y"
        },
        {
         "alignmentgroup": "True",
         "customdata": [
          [
           "KAGIYAMA Yuma"
          ],
          [
           "UNO Shoma"
          ],
          [
           "HANYU Yuzuru"
          ]
         ],
         "hovertemplate": "Country=%{x}<br>Total Segment Score=%{y}<br>skater_name_1=%{customdata[0]}<extra></extra>",
         "legendgroup": "JPN",
         "marker": {
          "color": "#EF553B"
         },
         "name": "JPN",
         "notched": false,
         "offsetgroup": "JPN",
         "orientation": "v",
         "showlegend": true,
         "type": "box",
         "x": [
          "JPN",
          "JPN",
          "JPN"
         ],
         "x0": " ",
         "xaxis": "x",
         "y": {
          "bdata": "SOF6FK4HW0CamZmZmXlaQJqZmZmZyVdA",
          "dtype": "f8"
         },
         "y0": " ",
         "yaxis": "y"
        },
        {
         "alignmentgroup": "True",
         "customdata": [
          [
           "CHA Junhwan"
          ],
          [
           "LEE Sihyeong"
          ]
         ],
         "hovertemplate": "Country=%{x}<br>Total Segment Score=%{y}<br>skater_name_1=%{customdata[0]}<extra></extra>",
         "legendgroup": "KOR",
         "marker": {
          "color": "#00cc96"
         },
         "name": "KOR",
         "notched": false,
         "offsetgroup": "KOR",
         "orientation": "v",
         "showlegend": true,
         "type": "box",
         "x": [
          "KOR",
          "KOR"
         ],
         "x0": " ",
         "xaxis": "x",
         "y": {
          "bdata": "cT0K16PgWEBcj8L1KGxQQA==",
          "dtype": "f8"
         },
         "y0": " ",
         "yaxis": "y"
        },
        {
         "alignmentgroup": "True",
         "customdata": [
          [
           "KVITELASHVILI Morisi"
          ]
         ],
         "hovertemplate": "Country=%{x}<br>Total Segment Score=%{y}<br>skater_name_1=%{customdata[0]}<extra></extra>",
         "legendgroup": "GEO",
         "marker": {
          "color": "#ab63fa"
         },
         "name": "GEO",
         "notched": false,
         "offsetgroup": "GEO",
         "orientation": "v",
         "showlegend": true,
         "type": "box",
         "x": [
          "GEO"
         ],
         "x0": " ",
         "xaxis": "x",
         "y": {
          "bdata": "H4XrUbh+WEA=",
          "dtype": "f8"
         },
         "y0": " ",
         "yaxis": "y"
        },
        {
         "alignmentgroup": "True",
         "customdata": [
          [
           "SEMENENKO Evgeni"
          ],
          [
           "KONDRATIUK Mark"
          ],
          [
           "MOZALEV Andrei"
          ]
         ],
         "hovertemplate": "Country=%{x}<br>Total Segment Score=%{y}<br>skater_name_1=%{customdata[0]}<extra></extra>",
         "legendgroup": "ROC",
         "marker": {
          "color": "#FFA15A"
         },
         "name": "ROC",
         "notched": false,
         "offsetgroup": "ROC",
         "orientation": "v",
         "showlegend": true,
         "type": "box",
         "x": [
          "ROC",
          "ROC",
          "ROC"
         ],
         "x0": " ",
         "xaxis": "x",
         "y": {
          "bdata": "cT0K16PwV0DXo3A9CodVQDMzMzMzQ1NA",
          "dtype": "f8"
         },
         "y0": " ",
         "yaxis": "y"
        },
        {
         "alignmentgroup": "True",
         "customdata": [
          [
           "MESSING Keegan"
          ],
          [
           "SADOVSKY Roman"
          ]
         ],
         "hovertemplate": "Country=%{x}<br>Total Segment Score=%{y}<br>skater_name_1=%{customdata[0]}<extra></extra>",
         "legendgroup": "CAN",
         "marker": {
          "color": "#19d3f3"
         },
         "name": "CAN",
         "notched": false,
         "offsetgroup": "CAN",
         "orientation": "v",
         "showlegend": true,
         "type": "box",
         "x": [
          "CAN",
          "CAN"
         ],
         "x0": " ",
         "xaxis": "x",
         "y": {
          "bdata": "j8L1KFxPV0DD9Shcj2JPQA==",
          "dtype": "f8"
         },
         "y0": " ",
         "yaxis": "y"
        },
        {
         "alignmentgroup": "True",
         "customdata": [
          [
           "AYMOZ Kevin"
          ],
          [
           "SIAO HIM FA Adam"
          ]
         ],
         "hovertemplate": "Country=%{x}<br>Total Segment Score=%{y}<br>skater_name_1=%{customdata[0]}<extra></extra>",
         "legendgroup": "FRA",
         "marker": {
          "color": "#FF6692"
         },
         "name": "FRA",
         "notched": false,
         "offsetgroup": "FRA",
         "orientation": "v",
         "showlegend": true,
         "type": "box",
         "x": [
          "FRA",
          "FRA"
         ],
         "x0": " ",
         "xaxis": "x",
         "y": {
          "bdata": "AAAAAABAV0CPwvUoXK9VQA==",
          "dtype": "f8"
         },
         "y0": " ",
         "yaxis": "y"
        },
        {
         "alignmentgroup": "True",
         "customdata": [
          [
           "JIN Boyang"
          ]
         ],
         "hovertemplate": "Country=%{x}<br>Total Segment Score=%{y}<br>skater_name_1=%{customdata[0]}<extra></extra>",
         "legendgroup": "CHN",
         "marker": {
          "color": "#B6E880"
         },
         "name": "CHN",
         "notched": false,
         "offsetgroup": "CHN",
         "orientation": "v",
         "showlegend": true,
         "type": "box",
         "x": [
          "CHN"
         ],
         "x0": " ",
         "xaxis": "x",
         "y": {
          "bdata": "H4XrUbi+VkA=",
          "dtype": "f8"
         },
         "y0": " ",
         "yaxis": "y"
        },
        {
         "alignmentgroup": "True",
         "customdata": [
          [
           "GRASSL Daniel"
          ],
          [
           "RIZZO Matteo"
          ]
         ],
         "hovertemplate": "Country=%{x}<br>Total Segment Score=%{y}<br>skater_name_1=%{customdata[0]}<extra></extra>",
         "legendgroup": "ITA",
         "marker": {
          "color": "#FF97FF"
         },
         "name": "ITA",
         "notched": false,
         "offsetgroup": "ITA",
         "orientation": "v",
         "showlegend": true,
         "type": "box",
         "x": [
          "ITA",
          "ITA"
         ],
         "x0": " ",
         "xaxis": "x",
         "y": {
          "bdata": "KVyPwvWoVkC4HoXrUShWQA==",
          "dtype": "f8"
         },
         "y0": " ",
         "yaxis": "y"
        },
        {
         "alignmentgroup": "True",
         "customdata": [
          [
           "VASILJEVS Deniss"
          ]
         ],
         "hovertemplate": "Country=%{x}<br>Total Segment Score=%{y}<br>skater_name_1=%{customdata[0]}<extra></extra>",
         "legendgroup": "LAT",
         "marker": {
          "color": "#FECB52"
         },
         "name": "LAT",
         "notched": false,
         "offsetgroup": "LAT",
         "orientation": "v",
         "showlegend": true,
         "type": "box",
         "x": [
          "LAT"
         ],
         "x0": " ",
         "xaxis": "x",
         "y": {
          "bdata": "MzMzMzNTVUA=",
          "dtype": "f8"
         },
         "y0": " ",
         "yaxis": "y"
        },
        {
         "alignmentgroup": "True",
         "customdata": [
          [
           "KERRY Brendan"
          ]
         ],
         "hovertemplate": "Country=%{x}<br>Total Segment Score=%{y}<br>skater_name_1=%{customdata[0]}<extra></extra>",
         "legendgroup": "AUS",
         "marker": {
          "color": "#636efa"
         },
         "name": "AUS",
         "notched": false,
         "offsetgroup": "AUS",
         "orientation": "v",
         "showlegend": true,
         "type": "box",
         "x": [
          "AUS"
         ],
         "x0": " ",
         "xaxis": "x",
         "y": {
          "bdata": "w/UoXI8yVUA=",
          "dtype": "f8"
         },
         "y0": " ",
         "yaxis": "y"
        },
        {
         "alignmentgroup": "True",
         "customdata": [
          [
           "LITVINTSEV Vladimir"
          ]
         ],
         "hovertemplate": "Country=%{x}<br>Total Segment Score=%{y}<br>skater_name_1=%{customdata[0]}<extra></extra>",
         "legendgroup": "AZE",
         "marker": {
          "color": "#EF553B"
         },
         "name": "AZE",
         "notched": false,
         "offsetgroup": "AZE",
         "orientation": "v",
         "showlegend": true,
         "type": "box",
         "x": [
          "AZE"
         ],
         "x0": " ",
         "xaxis": "x",
         "y": {
          "bdata": "mpmZmZkJVUA=",
          "dtype": "f8"
         },
         "y0": " ",
         "yaxis": "y"
        },
        {
         "alignmentgroup": "True",
         "customdata": [
          [
           "CARRILLO Donovan"
          ]
         ],
         "hovertemplate": "Country=%{x}<br>Total Segment Score=%{y}<br>skater_name_1=%{customdata[0]}<extra></extra>",
         "legendgroup": "MEX",
         "marker": {
          "color": "#00cc96"
         },
         "name": "MEX",
         "notched": false,
         "offsetgroup": "MEX",
         "orientation": "v",
         "showlegend": true,
         "type": "box",
         "x": [
          "MEX"
         ],
         "x0": " ",
         "xaxis": "x",
         "y": {
          "bdata": "XI/C9SjsU0A=",
          "dtype": "f8"
         },
         "y0": " ",
         "yaxis": "y"
        },
        {
         "alignmentgroup": "True",
         "customdata": [
          [
           "MAJOROV Nikolaj"
          ]
         ],
         "hovertemplate": "Country=%{x}<br>Total Segment Score=%{y}<br>skater_name_1=%{customdata[0]}<extra></extra>",
         "legendgroup": "SWE",
         "marker": {
          "color": "#ab63fa"
         },
         "name": "SWE",
         "notched": false,
         "offsetgroup": "SWE",
         "orientation": "v",
         "showlegend": true,
         "type": "box",
         "x": [
          "SWE"
         ],
         "x0": " ",
         "xaxis": "x",
         "y": {
          "bdata": "w/UoXI+iU0A=",
          "dtype": "f8"
         },
         "y0": " ",
         "yaxis": "y"
        },
        {
         "alignmentgroup": "True",
         "customdata": [
          [
           "MILYUKOV Konstantin"
          ]
         ],
         "hovertemplate": "Country=%{x}<br>Total Segment Score=%{y}<br>skater_name_1=%{customdata[0]}<extra></extra>",
         "legendgroup": "BLR",
         "marker": {
          "color": "#FFA15A"
         },
         "name": "BLR",
         "notched": false,
         "offsetgroup": "BLR",
         "orientation": "v",
         "showlegend": true,
         "type": "box",
         "x": [
          "BLR"
         ],
         "x0": " ",
         "xaxis": "x",
         "y": {
          "bdata": "j8L1KFyfU0A=",
          "dtype": "f8"
         },
         "y0": " ",
         "yaxis": "y"
        },
        {
         "alignmentgroup": "True",
         "customdata": [
          [
           "SHMURATKO Ivan"
          ]
         ],
         "hovertemplate": "Country=%{x}<br>Total Segment Score=%{y}<br>skater_name_1=%{customdata[0]}<extra></extra>",
         "legendgroup": "UKR",
         "marker": {
          "color": "#19d3f3"
         },
         "name": "UKR",
         "notched": false,
         "offsetgroup": "UKR",
         "orientation": "v",
         "showlegend": true,
         "type": "box",
         "x": [
          "UKR"
         ],
         "x0": " ",
         "xaxis": "x",
         "y": {
          "bdata": "16NwPQqHU0A=",
          "dtype": "f8"
         },
         "y0": " ",
         "yaxis": "y"
        },
        {
         "alignmentgroup": "True",
         "customdata": [
          [
           "BRITSCHGI Lukas"
          ]
         ],
         "hovertemplate": "Country=%{x}<br>Total Segment Score=%{y}<br>skater_name_1=%{customdata[0]}<extra></extra>",
         "legendgroup": "SUI",
         "marker": {
          "color": "#FF6692"
         },
         "name": "SUI",
         "notched": false,
         "offsetgroup": "SUI",
         "orientation": "v",
         "showlegend": true,
         "type": "box",
         "x": [
          "SUI"
         ],
         "x0": " ",
         "xaxis": "x",
         "y": {
          "bdata": "CtejcD0KU0A=",
          "dtype": "f8"
         },
         "y0": " ",
         "yaxis": "y"
        },
        {
         "alignmentgroup": "True",
         "customdata": [
          [
           "BREZINA Michal"
          ]
         ],
         "hovertemplate": "Country=%{x}<br>Total Segment Score=%{y}<br>skater_name_1=%{customdata[0]}<extra></extra>",
         "legendgroup": "CZE",
         "marker": {
          "color": "#B6E880"
         },
         "name": "CZE",
         "notched": false,
         "offsetgroup": "CZE",
         "orientation": "v",
         "showlegend": true,
         "type": "box",
         "x": [
          "CZE"
         ],
         "x0": " ",
         "xaxis": "x",
         "y": {
          "bdata": "XI/C9SjMUkA=",
          "dtype": "f8"
         },
         "y0": " ",
         "yaxis": "y"
        },
        {
         "alignmentgroup": "True",
         "customdata": [
          [
           "BYCHENKO Alexei"
          ]
         ],
         "hovertemplate": "Country=%{x}<br>Total Segment Score=%{y}<br>skater_name_1=%{customdata[0]}<extra></extra>",
         "legendgroup": "ISR",
         "marker": {
          "color": "#FF97FF"
         },
         "name": "ISR",
         "notched": false,
         "offsetgroup": "ISR",
         "orientation": "v",
         "showlegend": true,
         "type": "box",
         "x": [
          "ISR"
         ],
         "x0": " ",
         "xaxis": "x",
         "y": {
          "bdata": "cT0K16MAUUA=",
          "dtype": "f8"
         },
         "y0": " ",
         "yaxis": "y"
        },
        {
         "alignmentgroup": "True",
         "customdata": [
          [
           "SELEVKO Aleksandr"
          ]
         ],
         "hovertemplate": "Country=%{x}<br>Total Segment Score=%{y}<br>skater_name_1=%{customdata[0]}<extra></extra>",
         "legendgroup": "EST",
         "marker": {
          "color": "#FECB52"
         },
         "name": "EST",
         "notched": false,
         "offsetgroup": "EST",
         "orientation": "v",
         "showlegend": true,
         "type": "box",
         "x": [
          "EST"
         ],
         "x0": " ",
         "xaxis": "x",
         "y": {
          "bdata": "w/UoXI9SUEA=",
          "dtype": "f8"
         },
         "y0": " ",
         "yaxis": "y"
        },
        {
         "alignmentgroup": "True",
         "boxpoints": "all",
         "customdata": [
          [
           "CHEN Nathan"
          ],
          [
           "BROWN Jason"
          ]
         ],
         "fillcolor": "rgba(255,255,255,0)",
         "hoveron": "points",
         "hovertemplate": "noc=%{x}<br>total_segment_score=%{y}<br>skater_name_1=%{customdata[0]}<extra></extra>",
         "legendgroup": "USA",
         "line": {
          "color": "rgba(255,255,255,0)"
         },
         "marker": {
          "color": "#636efa"
         },
         "name": "USA",
         "offsetgroup": "USA",
         "orientation": "v",
         "pointpos": 0,
         "showlegend": true,
         "type": "box",
         "x": [
          "USA",
          "USA"
         ],
         "x0": " ",
         "xaxis": "x",
         "y": {
          "bdata": "rkfhehR+XECPwvUoXE9YQA==",
          "dtype": "f8"
         },
         "y0": " ",
         "yaxis": "y"
        },
        {
         "alignmentgroup": "True",
         "boxpoints": "all",
         "customdata": [
          [
           "KAGIYAMA Yuma"
          ],
          [
           "UNO Shoma"
          ],
          [
           "HANYU Yuzuru"
          ]
         ],
         "fillcolor": "rgba(255,255,255,0)",
         "hoveron": "points",
         "hovertemplate": "noc=%{x}<br>total_segment_score=%{y}<br>skater_name_1=%{customdata[0]}<extra></extra>",
         "legendgroup": "JPN",
         "line": {
          "color": "rgba(255,255,255,0)"
         },
         "marker": {
          "color": "#EF553B"
         },
         "name": "JPN",
         "offsetgroup": "JPN",
         "orientation": "v",
         "pointpos": 0,
         "showlegend": true,
         "type": "box",
         "x": [
          "JPN",
          "JPN",
          "JPN"
         ],
         "x0": " ",
         "xaxis": "x",
         "y": {
          "bdata": "SOF6FK4HW0CamZmZmXlaQJqZmZmZyVdA",
          "dtype": "f8"
         },
         "y0": " ",
         "yaxis": "y"
        },
        {
         "alignmentgroup": "True",
         "boxpoints": "all",
         "customdata": [
          [
           "CHA Junhwan"
          ],
          [
           "LEE Sihyeong"
          ]
         ],
         "fillcolor": "rgba(255,255,255,0)",
         "hoveron": "points",
         "hovertemplate": "noc=%{x}<br>total_segment_score=%{y}<br>skater_name_1=%{customdata[0]}<extra></extra>",
         "legendgroup": "KOR",
         "line": {
          "color": "rgba(255,255,255,0)"
         },
         "marker": {
          "color": "#00cc96"
         },
         "name": "KOR",
         "offsetgroup": "KOR",
         "orientation": "v",
         "pointpos": 0,
         "showlegend": true,
         "type": "box",
         "x": [
          "KOR",
          "KOR"
         ],
         "x0": " ",
         "xaxis": "x",
         "y": {
          "bdata": "cT0K16PgWEBcj8L1KGxQQA==",
          "dtype": "f8"
         },
         "y0": " ",
         "yaxis": "y"
        },
        {
         "alignmentgroup": "True",
         "boxpoints": "all",
         "customdata": [
          [
           "KVITELASHVILI Morisi"
          ]
         ],
         "fillcolor": "rgba(255,255,255,0)",
         "hoveron": "points",
         "hovertemplate": "noc=%{x}<br>total_segment_score=%{y}<br>skater_name_1=%{customdata[0]}<extra></extra>",
         "legendgroup": "GEO",
         "line": {
          "color": "rgba(255,255,255,0)"
         },
         "marker": {
          "color": "#ab63fa"
         },
         "name": "GEO",
         "offsetgroup": "GEO",
         "orientation": "v",
         "pointpos": 0,
         "showlegend": true,
         "type": "box",
         "x": [
          "GEO"
         ],
         "x0": " ",
         "xaxis": "x",
         "y": {
          "bdata": "H4XrUbh+WEA=",
          "dtype": "f8"
         },
         "y0": " ",
         "yaxis": "y"
        },
        {
         "alignmentgroup": "True",
         "boxpoints": "all",
         "customdata": [
          [
           "SEMENENKO Evgeni"
          ],
          [
           "KONDRATIUK Mark"
          ],
          [
           "MOZALEV Andrei"
          ]
         ],
         "fillcolor": "rgba(255,255,255,0)",
         "hoveron": "points",
         "hovertemplate": "noc=%{x}<br>total_segment_score=%{y}<br>skater_name_1=%{customdata[0]}<extra></extra>",
         "legendgroup": "ROC",
         "line": {
          "color": "rgba(255,255,255,0)"
         },
         "marker": {
          "color": "#FFA15A"
         },
         "name": "ROC",
         "offsetgroup": "ROC",
         "orientation": "v",
         "pointpos": 0,
         "showlegend": true,
         "type": "box",
         "x": [
          "ROC",
          "ROC",
          "ROC"
         ],
         "x0": " ",
         "xaxis": "x",
         "y": {
          "bdata": "cT0K16PwV0DXo3A9CodVQDMzMzMzQ1NA",
          "dtype": "f8"
         },
         "y0": " ",
         "yaxis": "y"
        },
        {
         "alignmentgroup": "True",
         "boxpoints": "all",
         "customdata": [
          [
           "MESSING Keegan"
          ],
          [
           "SADOVSKY Roman"
          ]
         ],
         "fillcolor": "rgba(255,255,255,0)",
         "hoveron": "points",
         "hovertemplate": "noc=%{x}<br>total_segment_score=%{y}<br>skater_name_1=%{customdata[0]}<extra></extra>",
         "legendgroup": "CAN",
         "line": {
          "color": "rgba(255,255,255,0)"
         },
         "marker": {
          "color": "#19d3f3"
         },
         "name": "CAN",
         "offsetgroup": "CAN",
         "orientation": "v",
         "pointpos": 0,
         "showlegend": true,
         "type": "box",
         "x": [
          "CAN",
          "CAN"
         ],
         "x0": " ",
         "xaxis": "x",
         "y": {
          "bdata": "j8L1KFxPV0DD9Shcj2JPQA==",
          "dtype": "f8"
         },
         "y0": " ",
         "yaxis": "y"
        },
        {
         "alignmentgroup": "True",
         "boxpoints": "all",
         "customdata": [
          [
           "AYMOZ Kevin"
          ],
          [
           "SIAO HIM FA Adam"
          ]
         ],
         "fillcolor": "rgba(255,255,255,0)",
         "hoveron": "points",
         "hovertemplate": "noc=%{x}<br>total_segment_score=%{y}<br>skater_name_1=%{customdata[0]}<extra></extra>",
         "legendgroup": "FRA",
         "line": {
          "color": "rgba(255,255,255,0)"
         },
         "marker": {
          "color": "#FF6692"
         },
         "name": "FRA",
         "offsetgroup": "FRA",
         "orientation": "v",
         "pointpos": 0,
         "showlegend": true,
         "type": "box",
         "x": [
          "FRA",
          "FRA"
         ],
         "x0": " ",
         "xaxis": "x",
         "y": {
          "bdata": "AAAAAABAV0CPwvUoXK9VQA==",
          "dtype": "f8"
         },
         "y0": " ",
         "yaxis": "y"
        },
        {
         "alignmentgroup": "True",
         "boxpoints": "all",
         "customdata": [
          [
           "JIN Boyang"
          ]
         ],
         "fillcolor": "rgba(255,255,255,0)",
         "hoveron": "points",
         "hovertemplate": "noc=%{x}<br>total_segment_score=%{y}<br>skater_name_1=%{customdata[0]}<extra></extra>",
         "legendgroup": "CHN",
         "line": {
          "color": "rgba(255,255,255,0)"
         },
         "marker": {
          "color": "#B6E880"
         },
         "name": "CHN",
         "offsetgroup": "CHN",
         "orientation": "v",
         "pointpos": 0,
         "showlegend": true,
         "type": "box",
         "x": [
          "CHN"
         ],
         "x0": " ",
         "xaxis": "x",
         "y": {
          "bdata": "H4XrUbi+VkA=",
          "dtype": "f8"
         },
         "y0": " ",
         "yaxis": "y"
        },
        {
         "alignmentgroup": "True",
         "boxpoints": "all",
         "customdata": [
          [
           "GRASSL Daniel"
          ],
          [
           "RIZZO Matteo"
          ]
         ],
         "fillcolor": "rgba(255,255,255,0)",
         "hoveron": "points",
         "hovertemplate": "noc=%{x}<br>total_segment_score=%{y}<br>skater_name_1=%{customdata[0]}<extra></extra>",
         "legendgroup": "ITA",
         "line": {
          "color": "rgba(255,255,255,0)"
         },
         "marker": {
          "color": "#FF97FF"
         },
         "name": "ITA",
         "offsetgroup": "ITA",
         "orientation": "v",
         "pointpos": 0,
         "showlegend": true,
         "type": "box",
         "x": [
          "ITA",
          "ITA"
         ],
         "x0": " ",
         "xaxis": "x",
         "y": {
          "bdata": "KVyPwvWoVkC4HoXrUShWQA==",
          "dtype": "f8"
         },
         "y0": " ",
         "yaxis": "y"
        },
        {
         "alignmentgroup": "True",
         "boxpoints": "all",
         "customdata": [
          [
           "VASILJEVS Deniss"
          ]
         ],
         "fillcolor": "rgba(255,255,255,0)",
         "hoveron": "points",
         "hovertemplate": "noc=%{x}<br>total_segment_score=%{y}<br>skater_name_1=%{customdata[0]}<extra></extra>",
         "legendgroup": "LAT",
         "line": {
          "color": "rgba(255,255,255,0)"
         },
         "marker": {
          "color": "#FECB52"
         },
         "name": "LAT",
         "offsetgroup": "LAT",
         "orientation": "v",
         "pointpos": 0,
         "showlegend": true,
         "type": "box",
         "x": [
          "LAT"
         ],
         "x0": " ",
         "xaxis": "x",
         "y": {
          "bdata": "MzMzMzNTVUA=",
          "dtype": "f8"
         },
         "y0": " ",
         "yaxis": "y"
        },
        {
         "alignmentgroup": "True",
         "boxpoints": "all",
         "customdata": [
          [
           "KERRY Brendan"
          ]
         ],
         "fillcolor": "rgba(255,255,255,0)",
         "hoveron": "points",
         "hovertemplate": "noc=%{x}<br>total_segment_score=%{y}<br>skater_name_1=%{customdata[0]}<extra></extra>",
         "legendgroup": "AUS",
         "line": {
          "color": "rgba(255,255,255,0)"
         },
         "marker": {
          "color": "#636efa"
         },
         "name": "AUS",
         "offsetgroup": "AUS",
         "orientation": "v",
         "pointpos": 0,
         "showlegend": true,
         "type": "box",
         "x": [
          "AUS"
         ],
         "x0": " ",
         "xaxis": "x",
         "y": {
          "bdata": "w/UoXI8yVUA=",
          "dtype": "f8"
         },
         "y0": " ",
         "yaxis": "y"
        },
        {
         "alignmentgroup": "True",
         "boxpoints": "all",
         "customdata": [
          [
           "LITVINTSEV Vladimir"
          ]
         ],
         "fillcolor": "rgba(255,255,255,0)",
         "hoveron": "points",
         "hovertemplate": "noc=%{x}<br>total_segment_score=%{y}<br>skater_name_1=%{customdata[0]}<extra></extra>",
         "legendgroup": "AZE",
         "line": {
          "color": "rgba(255,255,255,0)"
         },
         "marker": {
          "color": "#EF553B"
         },
         "name": "AZE",
         "offsetgroup": "AZE",
         "orientation": "v",
         "pointpos": 0,
         "showlegend": true,
         "type": "box",
         "x": [
          "AZE"
         ],
         "x0": " ",
         "xaxis": "x",
         "y": {
          "bdata": "mpmZmZkJVUA=",
          "dtype": "f8"
         },
         "y0": " ",
         "yaxis": "y"
        },
        {
         "alignmentgroup": "True",
         "boxpoints": "all",
         "customdata": [
          [
           "CARRILLO Donovan"
          ]
         ],
         "fillcolor": "rgba(255,255,255,0)",
         "hoveron": "points",
         "hovertemplate": "noc=%{x}<br>total_segment_score=%{y}<br>skater_name_1=%{customdata[0]}<extra></extra>",
         "legendgroup": "MEX",
         "line": {
          "color": "rgba(255,255,255,0)"
         },
         "marker": {
          "color": "#00cc96"
         },
         "name": "MEX",
         "offsetgroup": "MEX",
         "orientation": "v",
         "pointpos": 0,
         "showlegend": true,
         "type": "box",
         "x": [
          "MEX"
         ],
         "x0": " ",
         "xaxis": "x",
         "y": {
          "bdata": "XI/C9SjsU0A=",
          "dtype": "f8"
         },
         "y0": " ",
         "yaxis": "y"
        },
        {
         "alignmentgroup": "True",
         "boxpoints": "all",
         "customdata": [
          [
           "MAJOROV Nikolaj"
          ]
         ],
         "fillcolor": "rgba(255,255,255,0)",
         "hoveron": "points",
         "hovertemplate": "noc=%{x}<br>total_segment_score=%{y}<br>skater_name_1=%{customdata[0]}<extra></extra>",
         "legendgroup": "SWE",
         "line": {
          "color": "rgba(255,255,255,0)"
         },
         "marker": {
          "color": "#ab63fa"
         },
         "name": "SWE",
         "offsetgroup": "SWE",
         "orientation": "v",
         "pointpos": 0,
         "showlegend": true,
         "type": "box",
         "x": [
          "SWE"
         ],
         "x0": " ",
         "xaxis": "x",
         "y": {
          "bdata": "w/UoXI+iU0A=",
          "dtype": "f8"
         },
         "y0": " ",
         "yaxis": "y"
        },
        {
         "alignmentgroup": "True",
         "boxpoints": "all",
         "customdata": [
          [
           "MILYUKOV Konstantin"
          ]
         ],
         "fillcolor": "rgba(255,255,255,0)",
         "hoveron": "points",
         "hovertemplate": "noc=%{x}<br>total_segment_score=%{y}<br>skater_name_1=%{customdata[0]}<extra></extra>",
         "legendgroup": "BLR",
         "line": {
          "color": "rgba(255,255,255,0)"
         },
         "marker": {
          "color": "#FFA15A"
         },
         "name": "BLR",
         "offsetgroup": "BLR",
         "orientation": "v",
         "pointpos": 0,
         "showlegend": true,
         "type": "box",
         "x": [
          "BLR"
         ],
         "x0": " ",
         "xaxis": "x",
         "y": {
          "bdata": "j8L1KFyfU0A=",
          "dtype": "f8"
         },
         "y0": " ",
         "yaxis": "y"
        },
        {
         "alignmentgroup": "True",
         "boxpoints": "all",
         "customdata": [
          [
           "SHMURATKO Ivan"
          ]
         ],
         "fillcolor": "rgba(255,255,255,0)",
         "hoveron": "points",
         "hovertemplate": "noc=%{x}<br>total_segment_score=%{y}<br>skater_name_1=%{customdata[0]}<extra></extra>",
         "legendgroup": "UKR",
         "line": {
          "color": "rgba(255,255,255,0)"
         },
         "marker": {
          "color": "#19d3f3"
         },
         "name": "UKR",
         "offsetgroup": "UKR",
         "orientation": "v",
         "pointpos": 0,
         "showlegend": true,
         "type": "box",
         "x": [
          "UKR"
         ],
         "x0": " ",
         "xaxis": "x",
         "y": {
          "bdata": "16NwPQqHU0A=",
          "dtype": "f8"
         },
         "y0": " ",
         "yaxis": "y"
        },
        {
         "alignmentgroup": "True",
         "boxpoints": "all",
         "customdata": [
          [
           "BRITSCHGI Lukas"
          ]
         ],
         "fillcolor": "rgba(255,255,255,0)",
         "hoveron": "points",
         "hovertemplate": "noc=%{x}<br>total_segment_score=%{y}<br>skater_name_1=%{customdata[0]}<extra></extra>",
         "legendgroup": "SUI",
         "line": {
          "color": "rgba(255,255,255,0)"
         },
         "marker": {
          "color": "#FF6692"
         },
         "name": "SUI",
         "offsetgroup": "SUI",
         "orientation": "v",
         "pointpos": 0,
         "showlegend": true,
         "type": "box",
         "x": [
          "SUI"
         ],
         "x0": " ",
         "xaxis": "x",
         "y": {
          "bdata": "CtejcD0KU0A=",
          "dtype": "f8"
         },
         "y0": " ",
         "yaxis": "y"
        },
        {
         "alignmentgroup": "True",
         "boxpoints": "all",
         "customdata": [
          [
           "BREZINA Michal"
          ]
         ],
         "fillcolor": "rgba(255,255,255,0)",
         "hoveron": "points",
         "hovertemplate": "noc=%{x}<br>total_segment_score=%{y}<br>skater_name_1=%{customdata[0]}<extra></extra>",
         "legendgroup": "CZE",
         "line": {
          "color": "rgba(255,255,255,0)"
         },
         "marker": {
          "color": "#B6E880"
         },
         "name": "CZE",
         "offsetgroup": "CZE",
         "orientation": "v",
         "pointpos": 0,
         "showlegend": true,
         "type": "box",
         "x": [
          "CZE"
         ],
         "x0": " ",
         "xaxis": "x",
         "y": {
          "bdata": "XI/C9SjMUkA=",
          "dtype": "f8"
         },
         "y0": " ",
         "yaxis": "y"
        },
        {
         "alignmentgroup": "True",
         "boxpoints": "all",
         "customdata": [
          [
           "BYCHENKO Alexei"
          ]
         ],
         "fillcolor": "rgba(255,255,255,0)",
         "hoveron": "points",
         "hovertemplate": "noc=%{x}<br>total_segment_score=%{y}<br>skater_name_1=%{customdata[0]}<extra></extra>",
         "legendgroup": "ISR",
         "line": {
          "color": "rgba(255,255,255,0)"
         },
         "marker": {
          "color": "#FF97FF"
         },
         "name": "ISR",
         "offsetgroup": "ISR",
         "orientation": "v",
         "pointpos": 0,
         "showlegend": true,
         "type": "box",
         "x": [
          "ISR"
         ],
         "x0": " ",
         "xaxis": "x",
         "y": {
          "bdata": "cT0K16MAUUA=",
          "dtype": "f8"
         },
         "y0": " ",
         "yaxis": "y"
        },
        {
         "alignmentgroup": "True",
         "boxpoints": "all",
         "customdata": [
          [
           "SELEVKO Aleksandr"
          ]
         ],
         "fillcolor": "rgba(255,255,255,0)",
         "hoveron": "points",
         "hovertemplate": "noc=%{x}<br>total_segment_score=%{y}<br>skater_name_1=%{customdata[0]}<extra></extra>",
         "legendgroup": "EST",
         "line": {
          "color": "rgba(255,255,255,0)"
         },
         "marker": {
          "color": "#FECB52"
         },
         "name": "EST",
         "offsetgroup": "EST",
         "orientation": "v",
         "pointpos": 0,
         "showlegend": true,
         "type": "box",
         "x": [
          "EST"
         ],
         "x0": " ",
         "xaxis": "x",
         "y": {
          "bdata": "w/UoXI9SUEA=",
          "dtype": "f8"
         },
         "y0": " ",
         "yaxis": "y"
        }
       ],
       "layout": {
        "boxmode": "overlay",
        "legend": {
         "title": {
          "text": "Country"
         },
         "tracegroupgap": 0
        },
        "template": {
         "data": {
          "bar": [
           {
            "error_x": {
             "color": "#2a3f5f"
            },
            "error_y": {
             "color": "#2a3f5f"
            },
            "marker": {
             "line": {
              "color": "#E5ECF6",
              "width": 0.5
             },
             "pattern": {
              "fillmode": "overlay",
              "size": 10,
              "solidity": 0.2
             }
            },
            "type": "bar"
           }
          ],
          "barpolar": [
           {
            "marker": {
             "line": {
              "color": "#E5ECF6",
              "width": 0.5
             },
             "pattern": {
              "fillmode": "overlay",
              "size": 10,
              "solidity": 0.2
             }
            },
            "type": "barpolar"
           }
          ],
          "carpet": [
           {
            "aaxis": {
             "endlinecolor": "#2a3f5f",
             "gridcolor": "white",
             "linecolor": "white",
             "minorgridcolor": "white",
             "startlinecolor": "#2a3f5f"
            },
            "baxis": {
             "endlinecolor": "#2a3f5f",
             "gridcolor": "white",
             "linecolor": "white",
             "minorgridcolor": "white",
             "startlinecolor": "#2a3f5f"
            },
            "type": "carpet"
           }
          ],
          "choropleth": [
           {
            "colorbar": {
             "outlinewidth": 0,
             "ticks": ""
            },
            "type": "choropleth"
           }
          ],
          "contour": [
           {
            "colorbar": {
             "outlinewidth": 0,
             "ticks": ""
            },
            "colorscale": [
             [
              0,
              "#0d0887"
             ],
             [
              0.1111111111111111,
              "#46039f"
             ],
             [
              0.2222222222222222,
              "#7201a8"
             ],
             [
              0.3333333333333333,
              "#9c179e"
             ],
             [
              0.4444444444444444,
              "#bd3786"
             ],
             [
              0.5555555555555556,
              "#d8576b"
             ],
             [
              0.6666666666666666,
              "#ed7953"
             ],
             [
              0.7777777777777778,
              "#fb9f3a"
             ],
             [
              0.8888888888888888,
              "#fdca26"
             ],
             [
              1,
              "#f0f921"
             ]
            ],
            "type": "contour"
           }
          ],
          "contourcarpet": [
           {
            "colorbar": {
             "outlinewidth": 0,
             "ticks": ""
            },
            "type": "contourcarpet"
           }
          ],
          "heatmap": [
           {
            "colorbar": {
             "outlinewidth": 0,
             "ticks": ""
            },
            "colorscale": [
             [
              0,
              "#0d0887"
             ],
             [
              0.1111111111111111,
              "#46039f"
             ],
             [
              0.2222222222222222,
              "#7201a8"
             ],
             [
              0.3333333333333333,
              "#9c179e"
             ],
             [
              0.4444444444444444,
              "#bd3786"
             ],
             [
              0.5555555555555556,
              "#d8576b"
             ],
             [
              0.6666666666666666,
              "#ed7953"
             ],
             [
              0.7777777777777778,
              "#fb9f3a"
             ],
             [
              0.8888888888888888,
              "#fdca26"
             ],
             [
              1,
              "#f0f921"
             ]
            ],
            "type": "heatmap"
           }
          ],
          "histogram": [
           {
            "marker": {
             "pattern": {
              "fillmode": "overlay",
              "size": 10,
              "solidity": 0.2
             }
            },
            "type": "histogram"
           }
          ],
          "histogram2d": [
           {
            "colorbar": {
             "outlinewidth": 0,
             "ticks": ""
            },
            "colorscale": [
             [
              0,
              "#0d0887"
             ],
             [
              0.1111111111111111,
              "#46039f"
             ],
             [
              0.2222222222222222,
              "#7201a8"
             ],
             [
              0.3333333333333333,
              "#9c179e"
             ],
             [
              0.4444444444444444,
              "#bd3786"
             ],
             [
              0.5555555555555556,
              "#d8576b"
             ],
             [
              0.6666666666666666,
              "#ed7953"
             ],
             [
              0.7777777777777778,
              "#fb9f3a"
             ],
             [
              0.8888888888888888,
              "#fdca26"
             ],
             [
              1,
              "#f0f921"
             ]
            ],
            "type": "histogram2d"
           }
          ],
          "histogram2dcontour": [
           {
            "colorbar": {
             "outlinewidth": 0,
             "ticks": ""
            },
            "colorscale": [
             [
              0,
              "#0d0887"
             ],
             [
              0.1111111111111111,
              "#46039f"
             ],
             [
              0.2222222222222222,
              "#7201a8"
             ],
             [
              0.3333333333333333,
              "#9c179e"
             ],
             [
              0.4444444444444444,
              "#bd3786"
             ],
             [
              0.5555555555555556,
              "#d8576b"
             ],
             [
              0.6666666666666666,
              "#ed7953"
             ],
             [
              0.7777777777777778,
              "#fb9f3a"
             ],
             [
              0.8888888888888888,
              "#fdca26"
             ],
             [
              1,
              "#f0f921"
             ]
            ],
            "type": "histogram2dcontour"
           }
          ],
          "mesh3d": [
           {
            "colorbar": {
             "outlinewidth": 0,
             "ticks": ""
            },
            "type": "mesh3d"
           }
          ],
          "parcoords": [
           {
            "line": {
             "colorbar": {
              "outlinewidth": 0,
              "ticks": ""
             }
            },
            "type": "parcoords"
           }
          ],
          "pie": [
           {
            "automargin": true,
            "type": "pie"
           }
          ],
          "scatter": [
           {
            "fillpattern": {
             "fillmode": "overlay",
             "size": 10,
             "solidity": 0.2
            },
            "type": "scatter"
           }
          ],
          "scatter3d": [
           {
            "line": {
             "colorbar": {
              "outlinewidth": 0,
              "ticks": ""
             }
            },
            "marker": {
             "colorbar": {
              "outlinewidth": 0,
              "ticks": ""
             }
            },
            "type": "scatter3d"
           }
          ],
          "scattercarpet": [
           {
            "marker": {
             "colorbar": {
              "outlinewidth": 0,
              "ticks": ""
             }
            },
            "type": "scattercarpet"
           }
          ],
          "scattergeo": [
           {
            "marker": {
             "colorbar": {
              "outlinewidth": 0,
              "ticks": ""
             }
            },
            "type": "scattergeo"
           }
          ],
          "scattergl": [
           {
            "marker": {
             "colorbar": {
              "outlinewidth": 0,
              "ticks": ""
             }
            },
            "type": "scattergl"
           }
          ],
          "scattermap": [
           {
            "marker": {
             "colorbar": {
              "outlinewidth": 0,
              "ticks": ""
             }
            },
            "type": "scattermap"
           }
          ],
          "scattermapbox": [
           {
            "marker": {
             "colorbar": {
              "outlinewidth": 0,
              "ticks": ""
             }
            },
            "type": "scattermapbox"
           }
          ],
          "scatterpolar": [
           {
            "marker": {
             "colorbar": {
              "outlinewidth": 0,
              "ticks": ""
             }
            },
            "type": "scatterpolar"
           }
          ],
          "scatterpolargl": [
           {
            "marker": {
             "colorbar": {
              "outlinewidth": 0,
              "ticks": ""
             }
            },
            "type": "scatterpolargl"
           }
          ],
          "scatterternary": [
           {
            "marker": {
             "colorbar": {
              "outlinewidth": 0,
              "ticks": ""
             }
            },
            "type": "scatterternary"
           }
          ],
          "surface": [
           {
            "colorbar": {
             "outlinewidth": 0,
             "ticks": ""
            },
            "colorscale": [
             [
              0,
              "#0d0887"
             ],
             [
              0.1111111111111111,
              "#46039f"
             ],
             [
              0.2222222222222222,
              "#7201a8"
             ],
             [
              0.3333333333333333,
              "#9c179e"
             ],
             [
              0.4444444444444444,
              "#bd3786"
             ],
             [
              0.5555555555555556,
              "#d8576b"
             ],
             [
              0.6666666666666666,
              "#ed7953"
             ],
             [
              0.7777777777777778,
              "#fb9f3a"
             ],
             [
              0.8888888888888888,
              "#fdca26"
             ],
             [
              1,
              "#f0f921"
             ]
            ],
            "type": "surface"
           }
          ],
          "table": [
           {
            "cells": {
             "fill": {
              "color": "#EBF0F8"
             },
             "line": {
              "color": "white"
             }
            },
            "header": {
             "fill": {
              "color": "#C8D4E3"
             },
             "line": {
              "color": "white"
             }
            },
            "type": "table"
           }
          ]
         },
         "layout": {
          "annotationdefaults": {
           "arrowcolor": "#2a3f5f",
           "arrowhead": 0,
           "arrowwidth": 1
          },
          "autotypenumbers": "strict",
          "coloraxis": {
           "colorbar": {
            "outlinewidth": 0,
            "ticks": ""
           }
          },
          "colorscale": {
           "diverging": [
            [
             0,
             "#8e0152"
            ],
            [
             0.1,
             "#c51b7d"
            ],
            [
             0.2,
             "#de77ae"
            ],
            [
             0.3,
             "#f1b6da"
            ],
            [
             0.4,
             "#fde0ef"
            ],
            [
             0.5,
             "#f7f7f7"
            ],
            [
             0.6,
             "#e6f5d0"
            ],
            [
             0.7,
             "#b8e186"
            ],
            [
             0.8,
             "#7fbc41"
            ],
            [
             0.9,
             "#4d9221"
            ],
            [
             1,
             "#276419"
            ]
           ],
           "sequential": [
            [
             0,
             "#0d0887"
            ],
            [
             0.1111111111111111,
             "#46039f"
            ],
            [
             0.2222222222222222,
             "#7201a8"
            ],
            [
             0.3333333333333333,
             "#9c179e"
            ],
            [
             0.4444444444444444,
             "#bd3786"
            ],
            [
             0.5555555555555556,
             "#d8576b"
            ],
            [
             0.6666666666666666,
             "#ed7953"
            ],
            [
             0.7777777777777778,
             "#fb9f3a"
            ],
            [
             0.8888888888888888,
             "#fdca26"
            ],
            [
             1,
             "#f0f921"
            ]
           ],
           "sequentialminus": [
            [
             0,
             "#0d0887"
            ],
            [
             0.1111111111111111,
             "#46039f"
            ],
            [
             0.2222222222222222,
             "#7201a8"
            ],
            [
             0.3333333333333333,
             "#9c179e"
            ],
            [
             0.4444444444444444,
             "#bd3786"
            ],
            [
             0.5555555555555556,
             "#d8576b"
            ],
            [
             0.6666666666666666,
             "#ed7953"
            ],
            [
             0.7777777777777778,
             "#fb9f3a"
            ],
            [
             0.8888888888888888,
             "#fdca26"
            ],
            [
             1,
             "#f0f921"
            ]
           ]
          },
          "colorway": [
           "#636efa",
           "#EF553B",
           "#00cc96",
           "#ab63fa",
           "#FFA15A",
           "#19d3f3",
           "#FF6692",
           "#B6E880",
           "#FF97FF",
           "#FECB52"
          ],
          "font": {
           "color": "#2a3f5f"
          },
          "geo": {
           "bgcolor": "white",
           "lakecolor": "white",
           "landcolor": "#E5ECF6",
           "showlakes": true,
           "showland": true,
           "subunitcolor": "white"
          },
          "hoverlabel": {
           "align": "left"
          },
          "hovermode": "closest",
          "mapbox": {
           "style": "light"
          },
          "paper_bgcolor": "white",
          "plot_bgcolor": "#E5ECF6",
          "polar": {
           "angularaxis": {
            "gridcolor": "white",
            "linecolor": "white",
            "ticks": ""
           },
           "bgcolor": "#E5ECF6",
           "radialaxis": {
            "gridcolor": "white",
            "linecolor": "white",
            "ticks": ""
           }
          },
          "scene": {
           "xaxis": {
            "backgroundcolor": "#E5ECF6",
            "gridcolor": "white",
            "gridwidth": 2,
            "linecolor": "white",
            "showbackground": true,
            "ticks": "",
            "zerolinecolor": "white"
           },
           "yaxis": {
            "backgroundcolor": "#E5ECF6",
            "gridcolor": "white",
            "gridwidth": 2,
            "linecolor": "white",
            "showbackground": true,
            "ticks": "",
            "zerolinecolor": "white"
           },
           "zaxis": {
            "backgroundcolor": "#E5ECF6",
            "gridcolor": "white",
            "gridwidth": 2,
            "linecolor": "white",
            "showbackground": true,
            "ticks": "",
            "zerolinecolor": "white"
           }
          },
          "shapedefaults": {
           "line": {
            "color": "#2a3f5f"
           }
          },
          "ternary": {
           "aaxis": {
            "gridcolor": "white",
            "linecolor": "white",
            "ticks": ""
           },
           "baxis": {
            "gridcolor": "white",
            "linecolor": "white",
            "ticks": ""
           },
           "bgcolor": "#E5ECF6",
           "caxis": {
            "gridcolor": "white",
            "linecolor": "white",
            "ticks": ""
           }
          },
          "title": {
           "x": 0.05
          },
          "xaxis": {
           "automargin": true,
           "gridcolor": "white",
           "linecolor": "white",
           "ticks": "",
           "title": {
            "standoff": 15
           },
           "zerolinecolor": "white",
           "zerolinewidth": 2
          },
          "yaxis": {
           "automargin": true,
           "gridcolor": "white",
           "linecolor": "white",
           "ticks": "",
           "title": {
            "standoff": 15
           },
           "zerolinecolor": "white",
           "zerolinewidth": 2
          }
         }
        },
        "title": {
         "text": "Score Distribution by Country (Men, Short Program)"
        },
        "xaxis": {
         "anchor": "y",
         "categoryarray": [
          "USA",
          "JPN",
          "KOR",
          "GEO",
          "ROC",
          "CAN",
          "FRA",
          "CHN",
          "ITA",
          "LAT",
          "AUS",
          "AZE",
          "MEX",
          "SWE",
          "BLR",
          "UKR",
          "SUI",
          "CZE",
          "ISR",
          "EST"
         ],
         "categoryorder": "array",
         "domain": [
          0,
          1
         ],
         "title": {
          "text": "Country"
         }
        },
        "yaxis": {
         "anchor": "x",
         "domain": [
          0,
          1
         ],
         "title": {
          "text": "Total Segment Score"
         }
        }
       }
      }
     },
     "metadata": {},
     "output_type": "display_data"
    }
   ],
   "source": [
    "men_short = df_skaters[(df_skaters['category'] == 'Men Single Skating') & (df_skaters['segment'] == 'Short Program')]\n",
    "\n",
    "fig = px.box(\n",
    "    men_short,\n",
    "    x='noc',\n",
    "    y='total_segment_score',\n",
    "    color='noc',\n",
    "    title='Score Distribution by Country (Men, Short Program)',\n",
    "    labels={'noc': 'Country', 'total_segment_score': 'Total Segment Score'},\n",
    "    hover_data=['skater_name_1']\n",
    ")\n",
    "\n",
    "strip_fig = px.strip(\n",
    "    men_short,\n",
    "    x='noc',\n",
    "    y='total_segment_score',\n",
    "    color='noc',\n",
    "    hover_data=['skater_name_1']\n",
    ")\n",
    "\n",
    "for trace in strip_fig.data:\n",
    "    fig.add_trace(trace)\n",
    "\n",
    "fig.show()"
   ]
  },
  {
   "cell_type": "code",
   "execution_count": 255,
   "metadata": {},
   "outputs": [
    {
     "data": {
      "application/vnd.plotly.v1+json": {
       "config": {
        "plotlyServerURL": "https://plot.ly"
       },
       "data": [
        {
         "alignmentgroup": "True",
         "customdata": [
          [
           "CHEN Nathan"
          ],
          [
           "BROWN Jason"
          ]
         ],
         "hovertemplate": "Country=%{x}<br>Total Segment Score=%{y}<br>skater_name_1=%{customdata[0]}<extra></extra>",
         "legendgroup": "USA",
         "marker": {
          "color": "#636efa"
         },
         "name": "USA",
         "notched": false,
         "offsetgroup": "USA",
         "orientation": "v",
         "showlegend": true,
         "type": "box",
         "x": [
          "USA",
          "USA"
         ],
         "x0": " ",
         "xaxis": "x",
         "y": {
          "bdata": "XI/C9ShUa0AAAAAAAABnQA==",
          "dtype": "f8"
         },
         "y0": " ",
         "yaxis": "y"
        },
        {
         "alignmentgroup": "True",
         "customdata": [
          [
           "KAGIYAMA Yuma"
          ],
          [
           "HANYU Yuzuru"
          ],
          [
           "UNO Shoma"
          ]
         ],
         "hovertemplate": "Country=%{x}<br>Total Segment Score=%{y}<br>skater_name_1=%{customdata[0]}<extra></extra>",
         "legendgroup": "JPN",
         "marker": {
          "color": "#EF553B"
         },
         "name": "JPN",
         "notched": false,
         "offsetgroup": "JPN",
         "orientation": "v",
         "showlegend": true,
         "type": "box",
         "x": [
          "JPN",
          "JPN",
          "JPN"
         ],
         "x0": " ",
         "xaxis": "x",
         "y": {
          "bdata": "9ihcj8I9aUBSuB6F64FnQDMzMzMzY2dA",
          "dtype": "f8"
         },
         "y0": " ",
         "yaxis": "y"
        },
        {
         "alignmentgroup": "True",
         "customdata": [
          [
           "GRASSL Daniel"
          ],
          [
           "RIZZO Matteo"
          ]
         ],
         "hovertemplate": "Country=%{x}<br>Total Segment Score=%{y}<br>skater_name_1=%{customdata[0]}<extra></extra>",
         "legendgroup": "ITA",
         "marker": {
          "color": "#00cc96"
         },
         "name": "ITA",
         "notched": false,
         "offsetgroup": "ITA",
         "orientation": "v",
         "showlegend": true,
         "type": "box",
         "x": [
          "ITA",
          "ITA"
         ],
         "x0": " ",
         "xaxis": "x",
         "y": {
          "bdata": "9ihcj8JtZ0DNzMzMzNxjQA==",
          "dtype": "f8"
         },
         "y0": " ",
         "yaxis": "y"
        },
        {
         "alignmentgroup": "True",
         "customdata": [
          [
           "CHA Junhwan"
          ]
         ],
         "hovertemplate": "Country=%{x}<br>Total Segment Score=%{y}<br>skater_name_1=%{customdata[0]}<extra></extra>",
         "legendgroup": "KOR",
         "marker": {
          "color": "#ab63fa"
         },
         "name": "KOR",
         "notched": false,
         "offsetgroup": "KOR",
         "orientation": "v",
         "showlegend": true,
         "type": "box",
         "x": [
          "KOR"
         ],
         "x0": " ",
         "xaxis": "x",
         "y": {
          "bdata": "pHA9CtfbZkA=",
          "dtype": "f8"
         },
         "y0": " ",
         "yaxis": "y"
        },
        {
         "alignmentgroup": "True",
         "customdata": [
          [
           "JIN Boyang"
          ]
         ],
         "hovertemplate": "Country=%{x}<br>Total Segment Score=%{y}<br>skater_name_1=%{customdata[0]}<extra></extra>",
         "legendgroup": "CHN",
         "marker": {
          "color": "#FFA15A"
         },
         "name": "CHN",
         "notched": false,
         "offsetgroup": "CHN",
         "orientation": "v",
         "showlegend": true,
         "type": "box",
         "x": [
          "CHN"
         ],
         "x0": " ",
         "xaxis": "x",
         "y": {
          "bdata": "ZmZmZmZuZkA=",
          "dtype": "f8"
         },
         "y0": " ",
         "yaxis": "y"
        },
        {
         "alignmentgroup": "True",
         "customdata": [
          [
           "SEMENENKO Evgeni"
          ],
          [
           "KONDRATIUK Mark"
          ],
          [
           "MOZALEV Andrei"
          ]
         ],
         "hovertemplate": "Country=%{x}<br>Total Segment Score=%{y}<br>skater_name_1=%{customdata[0]}<extra></extra>",
         "legendgroup": "ROC",
         "marker": {
          "color": "#19d3f3"
         },
         "name": "ROC",
         "notched": false,
         "offsetgroup": "ROC",
         "orientation": "v",
         "showlegend": true,
         "type": "box",
         "x": [
          "ROC",
          "ROC",
          "ROC"
         ],
         "x0": " ",
         "xaxis": "x",
         "y": {
          "bdata": "pHA9CtdLZkAfhetRuFZkQClcj8L1iGNA",
          "dtype": "f8"
         },
         "y0": " ",
         "yaxis": "y"
        },
        {
         "alignmentgroup": "True",
         "customdata": [
          [
           "MESSING Keegan"
          ]
         ],
         "hovertemplate": "Country=%{x}<br>Total Segment Score=%{y}<br>skater_name_1=%{customdata[0]}<extra></extra>",
         "legendgroup": "CAN",
         "marker": {
          "color": "#FF6692"
         },
         "name": "CAN",
         "notched": false,
         "offsetgroup": "CAN",
         "orientation": "v",
         "showlegend": true,
         "type": "box",
         "x": [
          "CAN"
         ],
         "x0": " ",
         "xaxis": "x",
         "y": {
          "bdata": "pHA9CteLZUA=",
          "dtype": "f8"
         },
         "y0": " ",
         "yaxis": "y"
        },
        {
         "alignmentgroup": "True",
         "customdata": [
          [
           "KVITELASHVILI Morisi"
          ]
         ],
         "hovertemplate": "Country=%{x}<br>Total Segment Score=%{y}<br>skater_name_1=%{customdata[0]}<extra></extra>",
         "legendgroup": "GEO",
         "marker": {
          "color": "#B6E880"
         },
         "name": "GEO",
         "notched": false,
         "offsetgroup": "GEO",
         "orientation": "v",
         "showlegend": true,
         "type": "box",
         "x": [
          "GEO"
         ],
         "x0": " ",
         "xaxis": "x",
         "y": {
          "bdata": "FK5H4XpUZUA=",
          "dtype": "f8"
         },
         "y0": " ",
         "yaxis": "y"
        },
        {
         "alignmentgroup": "True",
         "customdata": [
          [
           "VASILJEVS Deniss"
          ]
         ],
         "hovertemplate": "Country=%{x}<br>Total Segment Score=%{y}<br>skater_name_1=%{customdata[0]}<extra></extra>",
         "legendgroup": "LAT",
         "marker": {
          "color": "#FF97FF"
         },
         "name": "LAT",
         "notched": false,
         "offsetgroup": "LAT",
         "orientation": "v",
         "showlegend": true,
         "type": "box",
         "x": [
          "LAT"
         ],
         "x0": " ",
         "xaxis": "x",
         "y": {
          "bdata": "hetRuB7tZEA=",
          "dtype": "f8"
         },
         "y0": " ",
         "yaxis": "y"
        },
        {
         "alignmentgroup": "True",
         "customdata": [
          [
           "SIAO HIM FA Adam"
          ],
          [
           "AYMOZ Kevin"
          ]
         ],
         "hovertemplate": "Country=%{x}<br>Total Segment Score=%{y}<br>skater_name_1=%{customdata[0]}<extra></extra>",
         "legendgroup": "FRA",
         "marker": {
          "color": "#FECB52"
         },
         "name": "FRA",
         "notched": false,
         "offsetgroup": "FRA",
         "orientation": "v",
         "showlegend": true,
         "type": "box",
         "x": [
          "FRA",
          "FRA"
         ],
         "x0": " ",
         "xaxis": "x",
         "y": {
          "bdata": "hetRuB5tZECamZmZmTlkQA==",
          "dtype": "f8"
         },
         "y0": " ",
         "yaxis": "y"
        },
        {
         "alignmentgroup": "True",
         "customdata": [
          [
           "KERRY Brendan"
          ]
         ],
         "hovertemplate": "Country=%{x}<br>Total Segment Score=%{y}<br>skater_name_1=%{customdata[0]}<extra></extra>",
         "legendgroup": "AUS",
         "marker": {
          "color": "#636efa"
         },
         "name": "AUS",
         "notched": false,
         "offsetgroup": "AUS",
         "orientation": "v",
         "showlegend": true,
         "type": "box",
         "x": [
          "AUS"
         ],
         "x0": " ",
         "xaxis": "x",
         "y": {
          "bdata": "uB6F61EAZEA=",
          "dtype": "f8"
         },
         "y0": " ",
         "yaxis": "y"
        },
        {
         "alignmentgroup": "True",
         "customdata": [
          [
           "LITVINTSEV Vladimir"
          ]
         ],
         "hovertemplate": "Country=%{x}<br>Total Segment Score=%{y}<br>skater_name_1=%{customdata[0]}<extra></extra>",
         "legendgroup": "AZE",
         "marker": {
          "color": "#EF553B"
         },
         "name": "AZE",
         "notched": false,
         "offsetgroup": "AZE",
         "orientation": "v",
         "showlegend": true,
         "type": "box",
         "x": [
          "AZE"
         ],
         "x0": " ",
         "xaxis": "x",
         "y": {
          "bdata": "4XoUrkdhY0A=",
          "dtype": "f8"
         },
         "y0": " ",
         "yaxis": "y"
        },
        {
         "alignmentgroup": "True",
         "customdata": [
          [
           "MILYUKOV Konstantin"
          ]
         ],
         "hovertemplate": "Country=%{x}<br>Total Segment Score=%{y}<br>skater_name_1=%{customdata[0]}<extra></extra>",
         "legendgroup": "BLR",
         "marker": {
          "color": "#00cc96"
         },
         "name": "BLR",
         "notched": false,
         "offsetgroup": "BLR",
         "orientation": "v",
         "showlegend": true,
         "type": "box",
         "x": [
          "BLR"
         ],
         "x0": " ",
         "xaxis": "x",
         "y": {
          "bdata": "j8L1KFz3YUA=",
          "dtype": "f8"
         },
         "y0": " ",
         "yaxis": "y"
        },
        {
         "alignmentgroup": "True",
         "customdata": [
          [
           "MAJOROV Nikolaj"
          ]
         ],
         "hovertemplate": "Country=%{x}<br>Total Segment Score=%{y}<br>skater_name_1=%{customdata[0]}<extra></extra>",
         "legendgroup": "SWE",
         "marker": {
          "color": "#ab63fa"
         },
         "name": "SWE",
         "notched": false,
         "offsetgroup": "SWE",
         "orientation": "v",
         "showlegend": true,
         "type": "box",
         "x": [
          "SWE"
         ],
         "x0": " ",
         "xaxis": "x",
         "y": {
          "bdata": "SOF6FK7HYUA=",
          "dtype": "f8"
         },
         "y0": " ",
         "yaxis": "y"
        },
        {
         "alignmentgroup": "True",
         "customdata": [
          [
           "CARRILLO Donovan"
          ]
         ],
         "hovertemplate": "Country=%{x}<br>Total Segment Score=%{y}<br>skater_name_1=%{customdata[0]}<extra></extra>",
         "legendgroup": "MEX",
         "marker": {
          "color": "#FFA15A"
         },
         "name": "MEX",
         "notched": false,
         "offsetgroup": "MEX",
         "orientation": "v",
         "showlegend": true,
         "type": "box",
         "x": [
          "MEX"
         ],
         "x0": " ",
         "xaxis": "x",
         "y": {
          "bdata": "rkfhehROYUA=",
          "dtype": "f8"
         },
         "y0": " ",
         "yaxis": "y"
        },
        {
         "alignmentgroup": "True",
         "customdata": [
          [
           "BRITSCHGI Lukas"
          ]
         ],
         "hovertemplate": "Country=%{x}<br>Total Segment Score=%{y}<br>skater_name_1=%{customdata[0]}<extra></extra>",
         "legendgroup": "SUI",
         "marker": {
          "color": "#19d3f3"
         },
         "name": "SUI",
         "notched": false,
         "offsetgroup": "SUI",
         "orientation": "v",
         "showlegend": true,
         "type": "box",
         "x": [
          "SUI"
         ],
         "x0": " ",
         "xaxis": "x",
         "y": {
          "bdata": "PQrXo3ANYUA=",
          "dtype": "f8"
         },
         "y0": " ",
         "yaxis": "y"
        },
        {
         "alignmentgroup": "True",
         "customdata": [
          [
           "SHMURATKO Ivan"
          ]
         ],
         "hovertemplate": "Country=%{x}<br>Total Segment Score=%{y}<br>skater_name_1=%{customdata[0]}<extra></extra>",
         "legendgroup": "UKR",
         "marker": {
          "color": "#FF6692"
         },
         "name": "UKR",
         "notched": false,
         "offsetgroup": "UKR",
         "orientation": "v",
         "showlegend": true,
         "type": "box",
         "x": [
          "UKR"
         ],
         "x0": " ",
         "xaxis": "x",
         "y": {
          "bdata": "mpmZmZnpX0A=",
          "dtype": "f8"
         },
         "y0": " ",
         "yaxis": "y"
        },
        {
         "alignmentgroup": "True",
         "boxpoints": "all",
         "customdata": [
          [
           "CHEN Nathan"
          ],
          [
           "BROWN Jason"
          ]
         ],
         "fillcolor": "rgba(255,255,255,0)",
         "hoveron": "points",
         "hovertemplate": "noc=%{x}<br>total_segment_score=%{y}<br>skater_name_1=%{customdata[0]}<extra></extra>",
         "legendgroup": "USA",
         "line": {
          "color": "rgba(255,255,255,0)"
         },
         "marker": {
          "color": "#636efa"
         },
         "name": "USA",
         "offsetgroup": "USA",
         "orientation": "v",
         "pointpos": 0,
         "showlegend": true,
         "type": "box",
         "x": [
          "USA",
          "USA"
         ],
         "x0": " ",
         "xaxis": "x",
         "y": {
          "bdata": "XI/C9ShUa0AAAAAAAABnQA==",
          "dtype": "f8"
         },
         "y0": " ",
         "yaxis": "y"
        },
        {
         "alignmentgroup": "True",
         "boxpoints": "all",
         "customdata": [
          [
           "KAGIYAMA Yuma"
          ],
          [
           "HANYU Yuzuru"
          ],
          [
           "UNO Shoma"
          ]
         ],
         "fillcolor": "rgba(255,255,255,0)",
         "hoveron": "points",
         "hovertemplate": "noc=%{x}<br>total_segment_score=%{y}<br>skater_name_1=%{customdata[0]}<extra></extra>",
         "legendgroup": "JPN",
         "line": {
          "color": "rgba(255,255,255,0)"
         },
         "marker": {
          "color": "#EF553B"
         },
         "name": "JPN",
         "offsetgroup": "JPN",
         "orientation": "v",
         "pointpos": 0,
         "showlegend": true,
         "type": "box",
         "x": [
          "JPN",
          "JPN",
          "JPN"
         ],
         "x0": " ",
         "xaxis": "x",
         "y": {
          "bdata": "9ihcj8I9aUBSuB6F64FnQDMzMzMzY2dA",
          "dtype": "f8"
         },
         "y0": " ",
         "yaxis": "y"
        },
        {
         "alignmentgroup": "True",
         "boxpoints": "all",
         "customdata": [
          [
           "GRASSL Daniel"
          ],
          [
           "RIZZO Matteo"
          ]
         ],
         "fillcolor": "rgba(255,255,255,0)",
         "hoveron": "points",
         "hovertemplate": "noc=%{x}<br>total_segment_score=%{y}<br>skater_name_1=%{customdata[0]}<extra></extra>",
         "legendgroup": "ITA",
         "line": {
          "color": "rgba(255,255,255,0)"
         },
         "marker": {
          "color": "#00cc96"
         },
         "name": "ITA",
         "offsetgroup": "ITA",
         "orientation": "v",
         "pointpos": 0,
         "showlegend": true,
         "type": "box",
         "x": [
          "ITA",
          "ITA"
         ],
         "x0": " ",
         "xaxis": "x",
         "y": {
          "bdata": "9ihcj8JtZ0DNzMzMzNxjQA==",
          "dtype": "f8"
         },
         "y0": " ",
         "yaxis": "y"
        },
        {
         "alignmentgroup": "True",
         "boxpoints": "all",
         "customdata": [
          [
           "CHA Junhwan"
          ]
         ],
         "fillcolor": "rgba(255,255,255,0)",
         "hoveron": "points",
         "hovertemplate": "noc=%{x}<br>total_segment_score=%{y}<br>skater_name_1=%{customdata[0]}<extra></extra>",
         "legendgroup": "KOR",
         "line": {
          "color": "rgba(255,255,255,0)"
         },
         "marker": {
          "color": "#ab63fa"
         },
         "name": "KOR",
         "offsetgroup": "KOR",
         "orientation": "v",
         "pointpos": 0,
         "showlegend": true,
         "type": "box",
         "x": [
          "KOR"
         ],
         "x0": " ",
         "xaxis": "x",
         "y": {
          "bdata": "pHA9CtfbZkA=",
          "dtype": "f8"
         },
         "y0": " ",
         "yaxis": "y"
        },
        {
         "alignmentgroup": "True",
         "boxpoints": "all",
         "customdata": [
          [
           "JIN Boyang"
          ]
         ],
         "fillcolor": "rgba(255,255,255,0)",
         "hoveron": "points",
         "hovertemplate": "noc=%{x}<br>total_segment_score=%{y}<br>skater_name_1=%{customdata[0]}<extra></extra>",
         "legendgroup": "CHN",
         "line": {
          "color": "rgba(255,255,255,0)"
         },
         "marker": {
          "color": "#FFA15A"
         },
         "name": "CHN",
         "offsetgroup": "CHN",
         "orientation": "v",
         "pointpos": 0,
         "showlegend": true,
         "type": "box",
         "x": [
          "CHN"
         ],
         "x0": " ",
         "xaxis": "x",
         "y": {
          "bdata": "ZmZmZmZuZkA=",
          "dtype": "f8"
         },
         "y0": " ",
         "yaxis": "y"
        },
        {
         "alignmentgroup": "True",
         "boxpoints": "all",
         "customdata": [
          [
           "SEMENENKO Evgeni"
          ],
          [
           "KONDRATIUK Mark"
          ],
          [
           "MOZALEV Andrei"
          ]
         ],
         "fillcolor": "rgba(255,255,255,0)",
         "hoveron": "points",
         "hovertemplate": "noc=%{x}<br>total_segment_score=%{y}<br>skater_name_1=%{customdata[0]}<extra></extra>",
         "legendgroup": "ROC",
         "line": {
          "color": "rgba(255,255,255,0)"
         },
         "marker": {
          "color": "#19d3f3"
         },
         "name": "ROC",
         "offsetgroup": "ROC",
         "orientation": "v",
         "pointpos": 0,
         "showlegend": true,
         "type": "box",
         "x": [
          "ROC",
          "ROC",
          "ROC"
         ],
         "x0": " ",
         "xaxis": "x",
         "y": {
          "bdata": "pHA9CtdLZkAfhetRuFZkQClcj8L1iGNA",
          "dtype": "f8"
         },
         "y0": " ",
         "yaxis": "y"
        },
        {
         "alignmentgroup": "True",
         "boxpoints": "all",
         "customdata": [
          [
           "MESSING Keegan"
          ]
         ],
         "fillcolor": "rgba(255,255,255,0)",
         "hoveron": "points",
         "hovertemplate": "noc=%{x}<br>total_segment_score=%{y}<br>skater_name_1=%{customdata[0]}<extra></extra>",
         "legendgroup": "CAN",
         "line": {
          "color": "rgba(255,255,255,0)"
         },
         "marker": {
          "color": "#FF6692"
         },
         "name": "CAN",
         "offsetgroup": "CAN",
         "orientation": "v",
         "pointpos": 0,
         "showlegend": true,
         "type": "box",
         "x": [
          "CAN"
         ],
         "x0": " ",
         "xaxis": "x",
         "y": {
          "bdata": "pHA9CteLZUA=",
          "dtype": "f8"
         },
         "y0": " ",
         "yaxis": "y"
        },
        {
         "alignmentgroup": "True",
         "boxpoints": "all",
         "customdata": [
          [
           "KVITELASHVILI Morisi"
          ]
         ],
         "fillcolor": "rgba(255,255,255,0)",
         "hoveron": "points",
         "hovertemplate": "noc=%{x}<br>total_segment_score=%{y}<br>skater_name_1=%{customdata[0]}<extra></extra>",
         "legendgroup": "GEO",
         "line": {
          "color": "rgba(255,255,255,0)"
         },
         "marker": {
          "color": "#B6E880"
         },
         "name": "GEO",
         "offsetgroup": "GEO",
         "orientation": "v",
         "pointpos": 0,
         "showlegend": true,
         "type": "box",
         "x": [
          "GEO"
         ],
         "x0": " ",
         "xaxis": "x",
         "y": {
          "bdata": "FK5H4XpUZUA=",
          "dtype": "f8"
         },
         "y0": " ",
         "yaxis": "y"
        },
        {
         "alignmentgroup": "True",
         "boxpoints": "all",
         "customdata": [
          [
           "VASILJEVS Deniss"
          ]
         ],
         "fillcolor": "rgba(255,255,255,0)",
         "hoveron": "points",
         "hovertemplate": "noc=%{x}<br>total_segment_score=%{y}<br>skater_name_1=%{customdata[0]}<extra></extra>",
         "legendgroup": "LAT",
         "line": {
          "color": "rgba(255,255,255,0)"
         },
         "marker": {
          "color": "#FF97FF"
         },
         "name": "LAT",
         "offsetgroup": "LAT",
         "orientation": "v",
         "pointpos": 0,
         "showlegend": true,
         "type": "box",
         "x": [
          "LAT"
         ],
         "x0": " ",
         "xaxis": "x",
         "y": {
          "bdata": "hetRuB7tZEA=",
          "dtype": "f8"
         },
         "y0": " ",
         "yaxis": "y"
        },
        {
         "alignmentgroup": "True",
         "boxpoints": "all",
         "customdata": [
          [
           "SIAO HIM FA Adam"
          ],
          [
           "AYMOZ Kevin"
          ]
         ],
         "fillcolor": "rgba(255,255,255,0)",
         "hoveron": "points",
         "hovertemplate": "noc=%{x}<br>total_segment_score=%{y}<br>skater_name_1=%{customdata[0]}<extra></extra>",
         "legendgroup": "FRA",
         "line": {
          "color": "rgba(255,255,255,0)"
         },
         "marker": {
          "color": "#FECB52"
         },
         "name": "FRA",
         "offsetgroup": "FRA",
         "orientation": "v",
         "pointpos": 0,
         "showlegend": true,
         "type": "box",
         "x": [
          "FRA",
          "FRA"
         ],
         "x0": " ",
         "xaxis": "x",
         "y": {
          "bdata": "hetRuB5tZECamZmZmTlkQA==",
          "dtype": "f8"
         },
         "y0": " ",
         "yaxis": "y"
        },
        {
         "alignmentgroup": "True",
         "boxpoints": "all",
         "customdata": [
          [
           "KERRY Brendan"
          ]
         ],
         "fillcolor": "rgba(255,255,255,0)",
         "hoveron": "points",
         "hovertemplate": "noc=%{x}<br>total_segment_score=%{y}<br>skater_name_1=%{customdata[0]}<extra></extra>",
         "legendgroup": "AUS",
         "line": {
          "color": "rgba(255,255,255,0)"
         },
         "marker": {
          "color": "#636efa"
         },
         "name": "AUS",
         "offsetgroup": "AUS",
         "orientation": "v",
         "pointpos": 0,
         "showlegend": true,
         "type": "box",
         "x": [
          "AUS"
         ],
         "x0": " ",
         "xaxis": "x",
         "y": {
          "bdata": "uB6F61EAZEA=",
          "dtype": "f8"
         },
         "y0": " ",
         "yaxis": "y"
        },
        {
         "alignmentgroup": "True",
         "boxpoints": "all",
         "customdata": [
          [
           "LITVINTSEV Vladimir"
          ]
         ],
         "fillcolor": "rgba(255,255,255,0)",
         "hoveron": "points",
         "hovertemplate": "noc=%{x}<br>total_segment_score=%{y}<br>skater_name_1=%{customdata[0]}<extra></extra>",
         "legendgroup": "AZE",
         "line": {
          "color": "rgba(255,255,255,0)"
         },
         "marker": {
          "color": "#EF553B"
         },
         "name": "AZE",
         "offsetgroup": "AZE",
         "orientation": "v",
         "pointpos": 0,
         "showlegend": true,
         "type": "box",
         "x": [
          "AZE"
         ],
         "x0": " ",
         "xaxis": "x",
         "y": {
          "bdata": "4XoUrkdhY0A=",
          "dtype": "f8"
         },
         "y0": " ",
         "yaxis": "y"
        },
        {
         "alignmentgroup": "True",
         "boxpoints": "all",
         "customdata": [
          [
           "MILYUKOV Konstantin"
          ]
         ],
         "fillcolor": "rgba(255,255,255,0)",
         "hoveron": "points",
         "hovertemplate": "noc=%{x}<br>total_segment_score=%{y}<br>skater_name_1=%{customdata[0]}<extra></extra>",
         "legendgroup": "BLR",
         "line": {
          "color": "rgba(255,255,255,0)"
         },
         "marker": {
          "color": "#00cc96"
         },
         "name": "BLR",
         "offsetgroup": "BLR",
         "orientation": "v",
         "pointpos": 0,
         "showlegend": true,
         "type": "box",
         "x": [
          "BLR"
         ],
         "x0": " ",
         "xaxis": "x",
         "y": {
          "bdata": "j8L1KFz3YUA=",
          "dtype": "f8"
         },
         "y0": " ",
         "yaxis": "y"
        },
        {
         "alignmentgroup": "True",
         "boxpoints": "all",
         "customdata": [
          [
           "MAJOROV Nikolaj"
          ]
         ],
         "fillcolor": "rgba(255,255,255,0)",
         "hoveron": "points",
         "hovertemplate": "noc=%{x}<br>total_segment_score=%{y}<br>skater_name_1=%{customdata[0]}<extra></extra>",
         "legendgroup": "SWE",
         "line": {
          "color": "rgba(255,255,255,0)"
         },
         "marker": {
          "color": "#ab63fa"
         },
         "name": "SWE",
         "offsetgroup": "SWE",
         "orientation": "v",
         "pointpos": 0,
         "showlegend": true,
         "type": "box",
         "x": [
          "SWE"
         ],
         "x0": " ",
         "xaxis": "x",
         "y": {
          "bdata": "SOF6FK7HYUA=",
          "dtype": "f8"
         },
         "y0": " ",
         "yaxis": "y"
        },
        {
         "alignmentgroup": "True",
         "boxpoints": "all",
         "customdata": [
          [
           "CARRILLO Donovan"
          ]
         ],
         "fillcolor": "rgba(255,255,255,0)",
         "hoveron": "points",
         "hovertemplate": "noc=%{x}<br>total_segment_score=%{y}<br>skater_name_1=%{customdata[0]}<extra></extra>",
         "legendgroup": "MEX",
         "line": {
          "color": "rgba(255,255,255,0)"
         },
         "marker": {
          "color": "#FFA15A"
         },
         "name": "MEX",
         "offsetgroup": "MEX",
         "orientation": "v",
         "pointpos": 0,
         "showlegend": true,
         "type": "box",
         "x": [
          "MEX"
         ],
         "x0": " ",
         "xaxis": "x",
         "y": {
          "bdata": "rkfhehROYUA=",
          "dtype": "f8"
         },
         "y0": " ",
         "yaxis": "y"
        },
        {
         "alignmentgroup": "True",
         "boxpoints": "all",
         "customdata": [
          [
           "BRITSCHGI Lukas"
          ]
         ],
         "fillcolor": "rgba(255,255,255,0)",
         "hoveron": "points",
         "hovertemplate": "noc=%{x}<br>total_segment_score=%{y}<br>skater_name_1=%{customdata[0]}<extra></extra>",
         "legendgroup": "SUI",
         "line": {
          "color": "rgba(255,255,255,0)"
         },
         "marker": {
          "color": "#19d3f3"
         },
         "name": "SUI",
         "offsetgroup": "SUI",
         "orientation": "v",
         "pointpos": 0,
         "showlegend": true,
         "type": "box",
         "x": [
          "SUI"
         ],
         "x0": " ",
         "xaxis": "x",
         "y": {
          "bdata": "PQrXo3ANYUA=",
          "dtype": "f8"
         },
         "y0": " ",
         "yaxis": "y"
        },
        {
         "alignmentgroup": "True",
         "boxpoints": "all",
         "customdata": [
          [
           "SHMURATKO Ivan"
          ]
         ],
         "fillcolor": "rgba(255,255,255,0)",
         "hoveron": "points",
         "hovertemplate": "noc=%{x}<br>total_segment_score=%{y}<br>skater_name_1=%{customdata[0]}<extra></extra>",
         "legendgroup": "UKR",
         "line": {
          "color": "rgba(255,255,255,0)"
         },
         "marker": {
          "color": "#FF6692"
         },
         "name": "UKR",
         "offsetgroup": "UKR",
         "orientation": "v",
         "pointpos": 0,
         "showlegend": true,
         "type": "box",
         "x": [
          "UKR"
         ],
         "x0": " ",
         "xaxis": "x",
         "y": {
          "bdata": "mpmZmZnpX0A=",
          "dtype": "f8"
         },
         "y0": " ",
         "yaxis": "y"
        }
       ],
       "layout": {
        "boxmode": "overlay",
        "legend": {
         "title": {
          "text": "Country"
         },
         "tracegroupgap": 0
        },
        "template": {
         "data": {
          "bar": [
           {
            "error_x": {
             "color": "#2a3f5f"
            },
            "error_y": {
             "color": "#2a3f5f"
            },
            "marker": {
             "line": {
              "color": "#E5ECF6",
              "width": 0.5
             },
             "pattern": {
              "fillmode": "overlay",
              "size": 10,
              "solidity": 0.2
             }
            },
            "type": "bar"
           }
          ],
          "barpolar": [
           {
            "marker": {
             "line": {
              "color": "#E5ECF6",
              "width": 0.5
             },
             "pattern": {
              "fillmode": "overlay",
              "size": 10,
              "solidity": 0.2
             }
            },
            "type": "barpolar"
           }
          ],
          "carpet": [
           {
            "aaxis": {
             "endlinecolor": "#2a3f5f",
             "gridcolor": "white",
             "linecolor": "white",
             "minorgridcolor": "white",
             "startlinecolor": "#2a3f5f"
            },
            "baxis": {
             "endlinecolor": "#2a3f5f",
             "gridcolor": "white",
             "linecolor": "white",
             "minorgridcolor": "white",
             "startlinecolor": "#2a3f5f"
            },
            "type": "carpet"
           }
          ],
          "choropleth": [
           {
            "colorbar": {
             "outlinewidth": 0,
             "ticks": ""
            },
            "type": "choropleth"
           }
          ],
          "contour": [
           {
            "colorbar": {
             "outlinewidth": 0,
             "ticks": ""
            },
            "colorscale": [
             [
              0,
              "#0d0887"
             ],
             [
              0.1111111111111111,
              "#46039f"
             ],
             [
              0.2222222222222222,
              "#7201a8"
             ],
             [
              0.3333333333333333,
              "#9c179e"
             ],
             [
              0.4444444444444444,
              "#bd3786"
             ],
             [
              0.5555555555555556,
              "#d8576b"
             ],
             [
              0.6666666666666666,
              "#ed7953"
             ],
             [
              0.7777777777777778,
              "#fb9f3a"
             ],
             [
              0.8888888888888888,
              "#fdca26"
             ],
             [
              1,
              "#f0f921"
             ]
            ],
            "type": "contour"
           }
          ],
          "contourcarpet": [
           {
            "colorbar": {
             "outlinewidth": 0,
             "ticks": ""
            },
            "type": "contourcarpet"
           }
          ],
          "heatmap": [
           {
            "colorbar": {
             "outlinewidth": 0,
             "ticks": ""
            },
            "colorscale": [
             [
              0,
              "#0d0887"
             ],
             [
              0.1111111111111111,
              "#46039f"
             ],
             [
              0.2222222222222222,
              "#7201a8"
             ],
             [
              0.3333333333333333,
              "#9c179e"
             ],
             [
              0.4444444444444444,
              "#bd3786"
             ],
             [
              0.5555555555555556,
              "#d8576b"
             ],
             [
              0.6666666666666666,
              "#ed7953"
             ],
             [
              0.7777777777777778,
              "#fb9f3a"
             ],
             [
              0.8888888888888888,
              "#fdca26"
             ],
             [
              1,
              "#f0f921"
             ]
            ],
            "type": "heatmap"
           }
          ],
          "histogram": [
           {
            "marker": {
             "pattern": {
              "fillmode": "overlay",
              "size": 10,
              "solidity": 0.2
             }
            },
            "type": "histogram"
           }
          ],
          "histogram2d": [
           {
            "colorbar": {
             "outlinewidth": 0,
             "ticks": ""
            },
            "colorscale": [
             [
              0,
              "#0d0887"
             ],
             [
              0.1111111111111111,
              "#46039f"
             ],
             [
              0.2222222222222222,
              "#7201a8"
             ],
             [
              0.3333333333333333,
              "#9c179e"
             ],
             [
              0.4444444444444444,
              "#bd3786"
             ],
             [
              0.5555555555555556,
              "#d8576b"
             ],
             [
              0.6666666666666666,
              "#ed7953"
             ],
             [
              0.7777777777777778,
              "#fb9f3a"
             ],
             [
              0.8888888888888888,
              "#fdca26"
             ],
             [
              1,
              "#f0f921"
             ]
            ],
            "type": "histogram2d"
           }
          ],
          "histogram2dcontour": [
           {
            "colorbar": {
             "outlinewidth": 0,
             "ticks": ""
            },
            "colorscale": [
             [
              0,
              "#0d0887"
             ],
             [
              0.1111111111111111,
              "#46039f"
             ],
             [
              0.2222222222222222,
              "#7201a8"
             ],
             [
              0.3333333333333333,
              "#9c179e"
             ],
             [
              0.4444444444444444,
              "#bd3786"
             ],
             [
              0.5555555555555556,
              "#d8576b"
             ],
             [
              0.6666666666666666,
              "#ed7953"
             ],
             [
              0.7777777777777778,
              "#fb9f3a"
             ],
             [
              0.8888888888888888,
              "#fdca26"
             ],
             [
              1,
              "#f0f921"
             ]
            ],
            "type": "histogram2dcontour"
           }
          ],
          "mesh3d": [
           {
            "colorbar": {
             "outlinewidth": 0,
             "ticks": ""
            },
            "type": "mesh3d"
           }
          ],
          "parcoords": [
           {
            "line": {
             "colorbar": {
              "outlinewidth": 0,
              "ticks": ""
             }
            },
            "type": "parcoords"
           }
          ],
          "pie": [
           {
            "automargin": true,
            "type": "pie"
           }
          ],
          "scatter": [
           {
            "fillpattern": {
             "fillmode": "overlay",
             "size": 10,
             "solidity": 0.2
            },
            "type": "scatter"
           }
          ],
          "scatter3d": [
           {
            "line": {
             "colorbar": {
              "outlinewidth": 0,
              "ticks": ""
             }
            },
            "marker": {
             "colorbar": {
              "outlinewidth": 0,
              "ticks": ""
             }
            },
            "type": "scatter3d"
           }
          ],
          "scattercarpet": [
           {
            "marker": {
             "colorbar": {
              "outlinewidth": 0,
              "ticks": ""
             }
            },
            "type": "scattercarpet"
           }
          ],
          "scattergeo": [
           {
            "marker": {
             "colorbar": {
              "outlinewidth": 0,
              "ticks": ""
             }
            },
            "type": "scattergeo"
           }
          ],
          "scattergl": [
           {
            "marker": {
             "colorbar": {
              "outlinewidth": 0,
              "ticks": ""
             }
            },
            "type": "scattergl"
           }
          ],
          "scattermap": [
           {
            "marker": {
             "colorbar": {
              "outlinewidth": 0,
              "ticks": ""
             }
            },
            "type": "scattermap"
           }
          ],
          "scattermapbox": [
           {
            "marker": {
             "colorbar": {
              "outlinewidth": 0,
              "ticks": ""
             }
            },
            "type": "scattermapbox"
           }
          ],
          "scatterpolar": [
           {
            "marker": {
             "colorbar": {
              "outlinewidth": 0,
              "ticks": ""
             }
            },
            "type": "scatterpolar"
           }
          ],
          "scatterpolargl": [
           {
            "marker": {
             "colorbar": {
              "outlinewidth": 0,
              "ticks": ""
             }
            },
            "type": "scatterpolargl"
           }
          ],
          "scatterternary": [
           {
            "marker": {
             "colorbar": {
              "outlinewidth": 0,
              "ticks": ""
             }
            },
            "type": "scatterternary"
           }
          ],
          "surface": [
           {
            "colorbar": {
             "outlinewidth": 0,
             "ticks": ""
            },
            "colorscale": [
             [
              0,
              "#0d0887"
             ],
             [
              0.1111111111111111,
              "#46039f"
             ],
             [
              0.2222222222222222,
              "#7201a8"
             ],
             [
              0.3333333333333333,
              "#9c179e"
             ],
             [
              0.4444444444444444,
              "#bd3786"
             ],
             [
              0.5555555555555556,
              "#d8576b"
             ],
             [
              0.6666666666666666,
              "#ed7953"
             ],
             [
              0.7777777777777778,
              "#fb9f3a"
             ],
             [
              0.8888888888888888,
              "#fdca26"
             ],
             [
              1,
              "#f0f921"
             ]
            ],
            "type": "surface"
           }
          ],
          "table": [
           {
            "cells": {
             "fill": {
              "color": "#EBF0F8"
             },
             "line": {
              "color": "white"
             }
            },
            "header": {
             "fill": {
              "color": "#C8D4E3"
             },
             "line": {
              "color": "white"
             }
            },
            "type": "table"
           }
          ]
         },
         "layout": {
          "annotationdefaults": {
           "arrowcolor": "#2a3f5f",
           "arrowhead": 0,
           "arrowwidth": 1
          },
          "autotypenumbers": "strict",
          "coloraxis": {
           "colorbar": {
            "outlinewidth": 0,
            "ticks": ""
           }
          },
          "colorscale": {
           "diverging": [
            [
             0,
             "#8e0152"
            ],
            [
             0.1,
             "#c51b7d"
            ],
            [
             0.2,
             "#de77ae"
            ],
            [
             0.3,
             "#f1b6da"
            ],
            [
             0.4,
             "#fde0ef"
            ],
            [
             0.5,
             "#f7f7f7"
            ],
            [
             0.6,
             "#e6f5d0"
            ],
            [
             0.7,
             "#b8e186"
            ],
            [
             0.8,
             "#7fbc41"
            ],
            [
             0.9,
             "#4d9221"
            ],
            [
             1,
             "#276419"
            ]
           ],
           "sequential": [
            [
             0,
             "#0d0887"
            ],
            [
             0.1111111111111111,
             "#46039f"
            ],
            [
             0.2222222222222222,
             "#7201a8"
            ],
            [
             0.3333333333333333,
             "#9c179e"
            ],
            [
             0.4444444444444444,
             "#bd3786"
            ],
            [
             0.5555555555555556,
             "#d8576b"
            ],
            [
             0.6666666666666666,
             "#ed7953"
            ],
            [
             0.7777777777777778,
             "#fb9f3a"
            ],
            [
             0.8888888888888888,
             "#fdca26"
            ],
            [
             1,
             "#f0f921"
            ]
           ],
           "sequentialminus": [
            [
             0,
             "#0d0887"
            ],
            [
             0.1111111111111111,
             "#46039f"
            ],
            [
             0.2222222222222222,
             "#7201a8"
            ],
            [
             0.3333333333333333,
             "#9c179e"
            ],
            [
             0.4444444444444444,
             "#bd3786"
            ],
            [
             0.5555555555555556,
             "#d8576b"
            ],
            [
             0.6666666666666666,
             "#ed7953"
            ],
            [
             0.7777777777777778,
             "#fb9f3a"
            ],
            [
             0.8888888888888888,
             "#fdca26"
            ],
            [
             1,
             "#f0f921"
            ]
           ]
          },
          "colorway": [
           "#636efa",
           "#EF553B",
           "#00cc96",
           "#ab63fa",
           "#FFA15A",
           "#19d3f3",
           "#FF6692",
           "#B6E880",
           "#FF97FF",
           "#FECB52"
          ],
          "font": {
           "color": "#2a3f5f"
          },
          "geo": {
           "bgcolor": "white",
           "lakecolor": "white",
           "landcolor": "#E5ECF6",
           "showlakes": true,
           "showland": true,
           "subunitcolor": "white"
          },
          "hoverlabel": {
           "align": "left"
          },
          "hovermode": "closest",
          "mapbox": {
           "style": "light"
          },
          "paper_bgcolor": "white",
          "plot_bgcolor": "#E5ECF6",
          "polar": {
           "angularaxis": {
            "gridcolor": "white",
            "linecolor": "white",
            "ticks": ""
           },
           "bgcolor": "#E5ECF6",
           "radialaxis": {
            "gridcolor": "white",
            "linecolor": "white",
            "ticks": ""
           }
          },
          "scene": {
           "xaxis": {
            "backgroundcolor": "#E5ECF6",
            "gridcolor": "white",
            "gridwidth": 2,
            "linecolor": "white",
            "showbackground": true,
            "ticks": "",
            "zerolinecolor": "white"
           },
           "yaxis": {
            "backgroundcolor": "#E5ECF6",
            "gridcolor": "white",
            "gridwidth": 2,
            "linecolor": "white",
            "showbackground": true,
            "ticks": "",
            "zerolinecolor": "white"
           },
           "zaxis": {
            "backgroundcolor": "#E5ECF6",
            "gridcolor": "white",
            "gridwidth": 2,
            "linecolor": "white",
            "showbackground": true,
            "ticks": "",
            "zerolinecolor": "white"
           }
          },
          "shapedefaults": {
           "line": {
            "color": "#2a3f5f"
           }
          },
          "ternary": {
           "aaxis": {
            "gridcolor": "white",
            "linecolor": "white",
            "ticks": ""
           },
           "baxis": {
            "gridcolor": "white",
            "linecolor": "white",
            "ticks": ""
           },
           "bgcolor": "#E5ECF6",
           "caxis": {
            "gridcolor": "white",
            "linecolor": "white",
            "ticks": ""
           }
          },
          "title": {
           "x": 0.05
          },
          "xaxis": {
           "automargin": true,
           "gridcolor": "white",
           "linecolor": "white",
           "ticks": "",
           "title": {
            "standoff": 15
           },
           "zerolinecolor": "white",
           "zerolinewidth": 2
          },
          "yaxis": {
           "automargin": true,
           "gridcolor": "white",
           "linecolor": "white",
           "ticks": "",
           "title": {
            "standoff": 15
           },
           "zerolinecolor": "white",
           "zerolinewidth": 2
          }
         }
        },
        "title": {
         "text": "Score Distribution by Country (Men, Free Skating)"
        },
        "xaxis": {
         "anchor": "y",
         "categoryarray": [
          "USA",
          "JPN",
          "ITA",
          "KOR",
          "CHN",
          "ROC",
          "CAN",
          "GEO",
          "LAT",
          "FRA",
          "AUS",
          "AZE",
          "BLR",
          "SWE",
          "MEX",
          "SUI",
          "UKR"
         ],
         "categoryorder": "array",
         "domain": [
          0,
          1
         ],
         "title": {
          "text": "Country"
         }
        },
        "yaxis": {
         "anchor": "x",
         "domain": [
          0,
          1
         ],
         "title": {
          "text": "Total Segment Score"
         }
        }
       }
      }
     },
     "metadata": {},
     "output_type": "display_data"
    }
   ],
   "source": [
    "men_free = df_skaters[(df_skaters['category'] == 'Men Single Skating') & (df_skaters['segment'] == 'Free Skating')]\n",
    "\n",
    "fig = px.box(\n",
    "    men_free,\n",
    "    x='noc',\n",
    "    y='total_segment_score',\n",
    "    color='noc',\n",
    "    title='Score Distribution by Country (Men, Free Skating)',\n",
    "    labels={'noc': 'Country', 'total_segment_score': 'Total Segment Score'},\n",
    "    hover_data=['skater_name_1']\n",
    ")\n",
    "\n",
    "strip_fig = px.strip(\n",
    "    men_free,\n",
    "    x='noc',\n",
    "    y='total_segment_score',\n",
    "    color='noc',\n",
    "    hover_data=['skater_name_1']\n",
    ")\n",
    "\n",
    "for trace in strip_fig.data:\n",
    "    fig.add_trace(trace)\n",
    "\n",
    "fig.show()"
   ]
  },
  {
   "cell_type": "code",
   "execution_count": 256,
   "metadata": {},
   "outputs": [
    {
     "data": {
      "application/vnd.plotly.v1+json": {
       "config": {
        "plotlyServerURL": "https://plot.ly"
       },
       "data": [
        {
         "alignmentgroup": "True",
         "customdata": [
          [
           "TRUSOVA Alexandra"
          ],
          [
           "SHCHERBAKOVA Anna"
          ],
          [
           "VALIEVA Kamila"
          ]
         ],
         "hovertemplate": "Country=%{x}<br>Total Segment Score=%{y}<br>skater_name_1=%{customdata[0]}<extra></extra>",
         "legendgroup": "ROC",
         "marker": {
          "color": "#636efa"
         },
         "name": "ROC",
         "notched": false,
         "offsetgroup": "ROC",
         "orientation": "v",
         "showlegend": true,
         "type": "box",
         "x": [
          "ROC",
          "ROC",
          "ROC"
         ],
         "x0": " ",
         "xaxis": "x",
         "y": {
          "bdata": "XI/C9SgkZkAAAAAAAPhlQPYoXI/CvWFA",
          "dtype": "f8"
         },
         "y0": " ",
         "yaxis": "y"
        },
        {
         "alignmentgroup": "True",
         "customdata": [
          [
           "SAKAMOTO Kaori"
          ],
          [
           "HIGUCHI Wakaba"
          ],
          [
           "KAWABE Mana"
          ]
         ],
         "hovertemplate": "Country=%{x}<br>Total Segment Score=%{y}<br>skater_name_1=%{customdata[0]}<extra></extra>",
         "legendgroup": "JPN",
         "marker": {
          "color": "#EF553B"
         },
         "name": "JPN",
         "notched": false,
         "offsetgroup": "JPN",
         "orientation": "v",
         "showlegend": true,
         "type": "box",
         "x": [
          "JPN",
          "JPN",
          "JPN"
         ],
         "x0": " ",
         "xaxis": "x",
         "y": {
          "bdata": "4XoUrkcpY0D2KFyPwp1hQMP1KFyPAlpA",
          "dtype": "f8"
         },
         "y0": " ",
         "yaxis": "y"
        },
        {
         "alignmentgroup": "True",
         "customdata": [
          [
           "YOU Young"
          ],
          [
           "KIM Yelim"
          ]
         ],
         "hovertemplate": "Country=%{x}<br>Total Segment Score=%{y}<br>skater_name_1=%{customdata[0]}<extra></extra>",
         "legendgroup": "KOR",
         "marker": {
          "color": "#00cc96"
         },
         "name": "KOR",
         "notched": false,
         "offsetgroup": "KOR",
         "orientation": "v",
         "showlegend": true,
         "type": "box",
         "x": [
          "KOR",
          "KOR"
         ],
         "x0": " ",
         "xaxis": "x",
         "y": {
          "bdata": "AAAAAADYYUAzMzMzM9tgQA==",
          "dtype": "f8"
         },
         "y0": " ",
         "yaxis": "y"
        },
        {
         "alignmentgroup": "True",
         "customdata": [
          [
           "LIU Alysa"
          ],
          [
           "BELL Mariah"
          ],
          [
           "CHEN Karen"
          ]
         ],
         "hovertemplate": "Country=%{x}<br>Total Segment Score=%{y}<br>skater_name_1=%{customdata[0]}<extra></extra>",
         "legendgroup": "USA",
         "marker": {
          "color": "#ab63fa"
         },
         "name": "USA",
         "notched": false,
         "offsetgroup": "USA",
         "orientation": "v",
         "showlegend": true,
         "type": "box",
         "x": [
          "USA",
          "USA",
          "USA"
         ],
         "x0": " ",
         "xaxis": "x",
         "y": {
          "bdata": "ZmZmZmZuYUA9CtejcB1hQBSuR+F69FxA",
          "dtype": "f8"
         },
         "y0": " ",
         "yaxis": "y"
        },
        {
         "alignmentgroup": "True",
         "customdata": [
          [
           "HENDRICKX Loena"
          ]
         ],
         "hovertemplate": "Country=%{x}<br>Total Segment Score=%{y}<br>skater_name_1=%{customdata[0]}<extra></extra>",
         "legendgroup": "BEL",
         "marker": {
          "color": "#FFA15A"
         },
         "name": "BEL",
         "notched": false,
         "offsetgroup": "BEL",
         "orientation": "v",
         "showlegend": true,
         "type": "box",
         "x": [
          "BEL"
         ],
         "x0": " ",
         "xaxis": "x",
         "y": {
          "bdata": "ZmZmZmYWYUA=",
          "dtype": "f8"
         },
         "y0": " ",
         "yaxis": "y"
        },
        {
         "alignmentgroup": "True",
         "customdata": [
          [
           "GUBANOVA Anastasiia"
          ]
         ],
         "hovertemplate": "Country=%{x}<br>Total Segment Score=%{y}<br>skater_name_1=%{customdata[0]}<extra></extra>",
         "legendgroup": "GEO",
         "marker": {
          "color": "#19d3f3"
         },
         "name": "GEO",
         "notched": false,
         "offsetgroup": "GEO",
         "orientation": "v",
         "showlegend": true,
         "type": "box",
         "x": [
          "GEO"
         ],
         "x0": " ",
         "xaxis": "x",
         "y": {
          "bdata": "w/UoXI/yYEA=",
          "dtype": "f8"
         },
         "y0": " ",
         "yaxis": "y"
        },
        {
         "alignmentgroup": "True",
         "customdata": [
          [
           "KURAKOVA Ekaterina"
          ]
         ],
         "hovertemplate": "Country=%{x}<br>Total Segment Score=%{y}<br>skater_name_1=%{customdata[0]}<extra></extra>",
         "legendgroup": "POL",
         "marker": {
          "color": "#FF6692"
         },
         "name": "POL",
         "notched": false,
         "offsetgroup": "POL",
         "orientation": "v",
         "showlegend": true,
         "type": "box",
         "x": [
          "POL"
         ],
         "x0": " ",
         "xaxis": "x",
         "y": {
          "bdata": "cT0K16OwX0A=",
          "dtype": "f8"
         },
         "y0": " ",
         "yaxis": "y"
        },
        {
         "alignmentgroup": "True",
         "customdata": [
          [
           "SAFONOVA Viktoriia"
          ]
         ],
         "hovertemplate": "Country=%{x}<br>Total Segment Score=%{y}<br>skater_name_1=%{customdata[0]}<extra></extra>",
         "legendgroup": "BLR",
         "marker": {
          "color": "#B6E880"
         },
         "name": "BLR",
         "notched": false,
         "offsetgroup": "BLR",
         "orientation": "v",
         "showlegend": true,
         "type": "box",
         "x": [
          "BLR"
         ],
         "x0": " ",
         "xaxis": "x",
         "y": {
          "bdata": "SOF6FK7XXkA=",
          "dtype": "f8"
         },
         "y0": " ",
         "yaxis": "y"
        },
        {
         "alignmentgroup": "True",
         "customdata": [
          [
           "MIKUTINA Olga"
          ]
         ],
         "hovertemplate": "Country=%{x}<br>Total Segment Score=%{y}<br>skater_name_1=%{customdata[0]}<extra></extra>",
         "legendgroup": "AUT",
         "marker": {
          "color": "#FF97FF"
         },
         "name": "AUT",
         "notched": false,
         "offsetgroup": "AUT",
         "orientation": "v",
         "showlegend": true,
         "type": "box",
         "x": [
          "AUT"
         ],
         "x0": " ",
         "xaxis": "x",
         "y": {
          "bdata": "pHA9CtdDXkA=",
          "dtype": "f8"
         },
         "y0": " ",
         "yaxis": "y"
        },
        {
         "alignmentgroup": "True",
         "customdata": [
          [
           "RYABOVA Ekaterina"
          ]
         ],
         "hovertemplate": "Country=%{x}<br>Total Segment Score=%{y}<br>skater_name_1=%{customdata[0]}<extra></extra>",
         "legendgroup": "AZE",
         "marker": {
          "color": "#FECB52"
         },
         "name": "AZE",
         "notched": false,
         "offsetgroup": "AZE",
         "orientation": "v",
         "showlegend": true,
         "type": "box",
         "x": [
          "AZE"
         ],
         "x0": " ",
         "xaxis": "x",
         "y": {
          "bdata": "mpmZmZmJXUA=",
          "dtype": "f8"
         },
         "y0": " ",
         "yaxis": "y"
        },
        {
         "alignmentgroup": "True",
         "customdata": [
          [
           "van ZUNDERT Lindsay"
          ]
         ],
         "hovertemplate": "Country=%{x}<br>Total Segment Score=%{y}<br>skater_name_1=%{customdata[0]}<extra></extra>",
         "legendgroup": "NED",
         "marker": {
          "color": "#636efa"
         },
         "name": "NED",
         "notched": false,
         "offsetgroup": "NED",
         "orientation": "v",
         "showlegend": true,
         "type": "box",
         "x": [
          "NED"
         ],
         "x0": " ",
         "xaxis": "x",
         "y": {
          "bdata": "FK5H4XokXUA=",
          "dtype": "f8"
         },
         "y0": " ",
         "yaxis": "y"
        },
        {
         "alignmentgroup": "True",
         "customdata": [
          [
           "SCHIZAS Madeline"
          ]
         ],
         "hovertemplate": "Country=%{x}<br>Total Segment Score=%{y}<br>skater_name_1=%{customdata[0]}<extra></extra>",
         "legendgroup": "CAN",
         "marker": {
          "color": "#EF553B"
         },
         "name": "CAN",
         "notched": false,
         "offsetgroup": "CAN",
         "orientation": "v",
         "showlegend": true,
         "type": "box",
         "x": [
          "CAN"
         ],
         "x0": " ",
         "xaxis": "x",
         "y": {
          "bdata": "UrgehevBXEA=",
          "dtype": "f8"
         },
         "y0": " ",
         "yaxis": "y"
        },
        {
         "alignmentgroup": "True",
         "customdata": [
          [
           "SCHOTT Nicole"
          ]
         ],
         "hovertemplate": "Country=%{x}<br>Total Segment Score=%{y}<br>skater_name_1=%{customdata[0]}<extra></extra>",
         "legendgroup": "GER",
         "marker": {
          "color": "#00cc96"
         },
         "name": "GER",
         "notched": false,
         "offsetgroup": "GER",
         "orientation": "v",
         "showlegend": true,
         "type": "box",
         "x": [
          "GER"
         ],
         "x0": " ",
         "xaxis": "x",
         "y": {
          "bdata": "4XoUrkehXEA=",
          "dtype": "f8"
         },
         "y0": " ",
         "yaxis": "y"
        },
        {
         "alignmentgroup": "True",
         "customdata": [
          [
           "KIIBUS Eva-Lotta"
          ]
         ],
         "hovertemplate": "Country=%{x}<br>Total Segment Score=%{y}<br>skater_name_1=%{customdata[0]}<extra></extra>",
         "legendgroup": "EST",
         "marker": {
          "color": "#ab63fa"
         },
         "name": "EST",
         "notched": false,
         "offsetgroup": "EST",
         "orientation": "v",
         "showlegend": true,
         "type": "box",
         "x": [
          "EST"
         ],
         "x0": " ",
         "xaxis": "x",
         "y": {
          "bdata": "zczMzMwMXEA=",
          "dtype": "f8"
         },
         "y0": " ",
         "yaxis": "y"
        },
        {
         "alignmentgroup": "True",
         "customdata": [
          [
           "BREZINOVA Eliska"
          ]
         ],
         "hovertemplate": "Country=%{x}<br>Total Segment Score=%{y}<br>skater_name_1=%{customdata[0]}<extra></extra>",
         "legendgroup": "CZE",
         "marker": {
          "color": "#FFA15A"
         },
         "name": "CZE",
         "notched": false,
         "offsetgroup": "CZE",
         "orientation": "v",
         "showlegend": true,
         "type": "box",
         "x": [
          "CZE"
         ],
         "x0": " ",
         "xaxis": "x",
         "y": {
          "bdata": "ZmZmZmbGW0A=",
          "dtype": "f8"
         },
         "y0": " ",
         "yaxis": "y"
        },
        {
         "alignmentgroup": "True",
         "customdata": [
          [
           "PAGANINI Alexia"
          ]
         ],
         "hovertemplate": "Country=%{x}<br>Total Segment Score=%{y}<br>skater_name_1=%{customdata[0]}<extra></extra>",
         "legendgroup": "SUI",
         "marker": {
          "color": "#19d3f3"
         },
         "name": "SUI",
         "notched": false,
         "offsetgroup": "SUI",
         "orientation": "v",
         "showlegend": true,
         "type": "box",
         "x": [
          "SUI"
         ],
         "x0": " ",
         "xaxis": "x",
         "y": {
          "bdata": "ZmZmZmb2WkA=",
          "dtype": "f8"
         },
         "y0": " ",
         "yaxis": "y"
        },
        {
         "alignmentgroup": "True",
         "customdata": [
          [
           "FEIGIN Alexandra"
          ]
         ],
         "hovertemplate": "Country=%{x}<br>Total Segment Score=%{y}<br>skater_name_1=%{customdata[0]}<extra></extra>",
         "legendgroup": "BUL",
         "marker": {
          "color": "#FF6692"
         },
         "name": "BUL",
         "notched": false,
         "offsetgroup": "BUL",
         "orientation": "v",
         "showlegend": true,
         "type": "box",
         "x": [
          "BUL"
         ],
         "x0": " ",
         "xaxis": "x",
         "y": {
          "bdata": "mpmZmZkJWUA=",
          "dtype": "f8"
         },
         "y0": " ",
         "yaxis": "y"
        },
        {
         "alignmentgroup": "True",
         "customdata": [
          [
           "SAARINEN Jenni"
          ]
         ],
         "hovertemplate": "Country=%{x}<br>Total Segment Score=%{y}<br>skater_name_1=%{customdata[0]}<extra></extra>",
         "legendgroup": "FIN",
         "marker": {
          "color": "#B6E880"
         },
         "name": "FIN",
         "notched": false,
         "offsetgroup": "FIN",
         "orientation": "v",
         "showlegend": true,
         "type": "box",
         "x": [
          "FIN"
         ],
         "x0": " ",
         "xaxis": "x",
         "y": {
          "bdata": "FK5H4XoEWEA=",
          "dtype": "f8"
         },
         "y0": " ",
         "yaxis": "y"
        },
        {
         "alignmentgroup": "True",
         "boxpoints": "all",
         "customdata": [
          [
           "TRUSOVA Alexandra"
          ],
          [
           "SHCHERBAKOVA Anna"
          ],
          [
           "VALIEVA Kamila"
          ]
         ],
         "fillcolor": "rgba(255,255,255,0)",
         "hoveron": "points",
         "hovertemplate": "noc=%{x}<br>total_segment_score=%{y}<br>skater_name_1=%{customdata[0]}<extra></extra>",
         "legendgroup": "ROC",
         "line": {
          "color": "rgba(255,255,255,0)"
         },
         "marker": {
          "color": "#636efa"
         },
         "name": "ROC",
         "offsetgroup": "ROC",
         "orientation": "v",
         "pointpos": 0,
         "showlegend": true,
         "type": "box",
         "x": [
          "ROC",
          "ROC",
          "ROC"
         ],
         "x0": " ",
         "xaxis": "x",
         "y": {
          "bdata": "XI/C9SgkZkAAAAAAAPhlQPYoXI/CvWFA",
          "dtype": "f8"
         },
         "y0": " ",
         "yaxis": "y"
        },
        {
         "alignmentgroup": "True",
         "boxpoints": "all",
         "customdata": [
          [
           "SAKAMOTO Kaori"
          ],
          [
           "HIGUCHI Wakaba"
          ],
          [
           "KAWABE Mana"
          ]
         ],
         "fillcolor": "rgba(255,255,255,0)",
         "hoveron": "points",
         "hovertemplate": "noc=%{x}<br>total_segment_score=%{y}<br>skater_name_1=%{customdata[0]}<extra></extra>",
         "legendgroup": "JPN",
         "line": {
          "color": "rgba(255,255,255,0)"
         },
         "marker": {
          "color": "#EF553B"
         },
         "name": "JPN",
         "offsetgroup": "JPN",
         "orientation": "v",
         "pointpos": 0,
         "showlegend": true,
         "type": "box",
         "x": [
          "JPN",
          "JPN",
          "JPN"
         ],
         "x0": " ",
         "xaxis": "x",
         "y": {
          "bdata": "4XoUrkcpY0D2KFyPwp1hQMP1KFyPAlpA",
          "dtype": "f8"
         },
         "y0": " ",
         "yaxis": "y"
        },
        {
         "alignmentgroup": "True",
         "boxpoints": "all",
         "customdata": [
          [
           "YOU Young"
          ],
          [
           "KIM Yelim"
          ]
         ],
         "fillcolor": "rgba(255,255,255,0)",
         "hoveron": "points",
         "hovertemplate": "noc=%{x}<br>total_segment_score=%{y}<br>skater_name_1=%{customdata[0]}<extra></extra>",
         "legendgroup": "KOR",
         "line": {
          "color": "rgba(255,255,255,0)"
         },
         "marker": {
          "color": "#00cc96"
         },
         "name": "KOR",
         "offsetgroup": "KOR",
         "orientation": "v",
         "pointpos": 0,
         "showlegend": true,
         "type": "box",
         "x": [
          "KOR",
          "KOR"
         ],
         "x0": " ",
         "xaxis": "x",
         "y": {
          "bdata": "AAAAAADYYUAzMzMzM9tgQA==",
          "dtype": "f8"
         },
         "y0": " ",
         "yaxis": "y"
        },
        {
         "alignmentgroup": "True",
         "boxpoints": "all",
         "customdata": [
          [
           "LIU Alysa"
          ],
          [
           "BELL Mariah"
          ],
          [
           "CHEN Karen"
          ]
         ],
         "fillcolor": "rgba(255,255,255,0)",
         "hoveron": "points",
         "hovertemplate": "noc=%{x}<br>total_segment_score=%{y}<br>skater_name_1=%{customdata[0]}<extra></extra>",
         "legendgroup": "USA",
         "line": {
          "color": "rgba(255,255,255,0)"
         },
         "marker": {
          "color": "#ab63fa"
         },
         "name": "USA",
         "offsetgroup": "USA",
         "orientation": "v",
         "pointpos": 0,
         "showlegend": true,
         "type": "box",
         "x": [
          "USA",
          "USA",
          "USA"
         ],
         "x0": " ",
         "xaxis": "x",
         "y": {
          "bdata": "ZmZmZmZuYUA9CtejcB1hQBSuR+F69FxA",
          "dtype": "f8"
         },
         "y0": " ",
         "yaxis": "y"
        },
        {
         "alignmentgroup": "True",
         "boxpoints": "all",
         "customdata": [
          [
           "HENDRICKX Loena"
          ]
         ],
         "fillcolor": "rgba(255,255,255,0)",
         "hoveron": "points",
         "hovertemplate": "noc=%{x}<br>total_segment_score=%{y}<br>skater_name_1=%{customdata[0]}<extra></extra>",
         "legendgroup": "BEL",
         "line": {
          "color": "rgba(255,255,255,0)"
         },
         "marker": {
          "color": "#FFA15A"
         },
         "name": "BEL",
         "offsetgroup": "BEL",
         "orientation": "v",
         "pointpos": 0,
         "showlegend": true,
         "type": "box",
         "x": [
          "BEL"
         ],
         "x0": " ",
         "xaxis": "x",
         "y": {
          "bdata": "ZmZmZmYWYUA=",
          "dtype": "f8"
         },
         "y0": " ",
         "yaxis": "y"
        },
        {
         "alignmentgroup": "True",
         "boxpoints": "all",
         "customdata": [
          [
           "GUBANOVA Anastasiia"
          ]
         ],
         "fillcolor": "rgba(255,255,255,0)",
         "hoveron": "points",
         "hovertemplate": "noc=%{x}<br>total_segment_score=%{y}<br>skater_name_1=%{customdata[0]}<extra></extra>",
         "legendgroup": "GEO",
         "line": {
          "color": "rgba(255,255,255,0)"
         },
         "marker": {
          "color": "#19d3f3"
         },
         "name": "GEO",
         "offsetgroup": "GEO",
         "orientation": "v",
         "pointpos": 0,
         "showlegend": true,
         "type": "box",
         "x": [
          "GEO"
         ],
         "x0": " ",
         "xaxis": "x",
         "y": {
          "bdata": "w/UoXI/yYEA=",
          "dtype": "f8"
         },
         "y0": " ",
         "yaxis": "y"
        },
        {
         "alignmentgroup": "True",
         "boxpoints": "all",
         "customdata": [
          [
           "KURAKOVA Ekaterina"
          ]
         ],
         "fillcolor": "rgba(255,255,255,0)",
         "hoveron": "points",
         "hovertemplate": "noc=%{x}<br>total_segment_score=%{y}<br>skater_name_1=%{customdata[0]}<extra></extra>",
         "legendgroup": "POL",
         "line": {
          "color": "rgba(255,255,255,0)"
         },
         "marker": {
          "color": "#FF6692"
         },
         "name": "POL",
         "offsetgroup": "POL",
         "orientation": "v",
         "pointpos": 0,
         "showlegend": true,
         "type": "box",
         "x": [
          "POL"
         ],
         "x0": " ",
         "xaxis": "x",
         "y": {
          "bdata": "cT0K16OwX0A=",
          "dtype": "f8"
         },
         "y0": " ",
         "yaxis": "y"
        },
        {
         "alignmentgroup": "True",
         "boxpoints": "all",
         "customdata": [
          [
           "SAFONOVA Viktoriia"
          ]
         ],
         "fillcolor": "rgba(255,255,255,0)",
         "hoveron": "points",
         "hovertemplate": "noc=%{x}<br>total_segment_score=%{y}<br>skater_name_1=%{customdata[0]}<extra></extra>",
         "legendgroup": "BLR",
         "line": {
          "color": "rgba(255,255,255,0)"
         },
         "marker": {
          "color": "#B6E880"
         },
         "name": "BLR",
         "offsetgroup": "BLR",
         "orientation": "v",
         "pointpos": 0,
         "showlegend": true,
         "type": "box",
         "x": [
          "BLR"
         ],
         "x0": " ",
         "xaxis": "x",
         "y": {
          "bdata": "SOF6FK7XXkA=",
          "dtype": "f8"
         },
         "y0": " ",
         "yaxis": "y"
        },
        {
         "alignmentgroup": "True",
         "boxpoints": "all",
         "customdata": [
          [
           "MIKUTINA Olga"
          ]
         ],
         "fillcolor": "rgba(255,255,255,0)",
         "hoveron": "points",
         "hovertemplate": "noc=%{x}<br>total_segment_score=%{y}<br>skater_name_1=%{customdata[0]}<extra></extra>",
         "legendgroup": "AUT",
         "line": {
          "color": "rgba(255,255,255,0)"
         },
         "marker": {
          "color": "#FF97FF"
         },
         "name": "AUT",
         "offsetgroup": "AUT",
         "orientation": "v",
         "pointpos": 0,
         "showlegend": true,
         "type": "box",
         "x": [
          "AUT"
         ],
         "x0": " ",
         "xaxis": "x",
         "y": {
          "bdata": "pHA9CtdDXkA=",
          "dtype": "f8"
         },
         "y0": " ",
         "yaxis": "y"
        },
        {
         "alignmentgroup": "True",
         "boxpoints": "all",
         "customdata": [
          [
           "RYABOVA Ekaterina"
          ]
         ],
         "fillcolor": "rgba(255,255,255,0)",
         "hoveron": "points",
         "hovertemplate": "noc=%{x}<br>total_segment_score=%{y}<br>skater_name_1=%{customdata[0]}<extra></extra>",
         "legendgroup": "AZE",
         "line": {
          "color": "rgba(255,255,255,0)"
         },
         "marker": {
          "color": "#FECB52"
         },
         "name": "AZE",
         "offsetgroup": "AZE",
         "orientation": "v",
         "pointpos": 0,
         "showlegend": true,
         "type": "box",
         "x": [
          "AZE"
         ],
         "x0": " ",
         "xaxis": "x",
         "y": {
          "bdata": "mpmZmZmJXUA=",
          "dtype": "f8"
         },
         "y0": " ",
         "yaxis": "y"
        },
        {
         "alignmentgroup": "True",
         "boxpoints": "all",
         "customdata": [
          [
           "van ZUNDERT Lindsay"
          ]
         ],
         "fillcolor": "rgba(255,255,255,0)",
         "hoveron": "points",
         "hovertemplate": "noc=%{x}<br>total_segment_score=%{y}<br>skater_name_1=%{customdata[0]}<extra></extra>",
         "legendgroup": "NED",
         "line": {
          "color": "rgba(255,255,255,0)"
         },
         "marker": {
          "color": "#636efa"
         },
         "name": "NED",
         "offsetgroup": "NED",
         "orientation": "v",
         "pointpos": 0,
         "showlegend": true,
         "type": "box",
         "x": [
          "NED"
         ],
         "x0": " ",
         "xaxis": "x",
         "y": {
          "bdata": "FK5H4XokXUA=",
          "dtype": "f8"
         },
         "y0": " ",
         "yaxis": "y"
        },
        {
         "alignmentgroup": "True",
         "boxpoints": "all",
         "customdata": [
          [
           "SCHIZAS Madeline"
          ]
         ],
         "fillcolor": "rgba(255,255,255,0)",
         "hoveron": "points",
         "hovertemplate": "noc=%{x}<br>total_segment_score=%{y}<br>skater_name_1=%{customdata[0]}<extra></extra>",
         "legendgroup": "CAN",
         "line": {
          "color": "rgba(255,255,255,0)"
         },
         "marker": {
          "color": "#EF553B"
         },
         "name": "CAN",
         "offsetgroup": "CAN",
         "orientation": "v",
         "pointpos": 0,
         "showlegend": true,
         "type": "box",
         "x": [
          "CAN"
         ],
         "x0": " ",
         "xaxis": "x",
         "y": {
          "bdata": "UrgehevBXEA=",
          "dtype": "f8"
         },
         "y0": " ",
         "yaxis": "y"
        },
        {
         "alignmentgroup": "True",
         "boxpoints": "all",
         "customdata": [
          [
           "SCHOTT Nicole"
          ]
         ],
         "fillcolor": "rgba(255,255,255,0)",
         "hoveron": "points",
         "hovertemplate": "noc=%{x}<br>total_segment_score=%{y}<br>skater_name_1=%{customdata[0]}<extra></extra>",
         "legendgroup": "GER",
         "line": {
          "color": "rgba(255,255,255,0)"
         },
         "marker": {
          "color": "#00cc96"
         },
         "name": "GER",
         "offsetgroup": "GER",
         "orientation": "v",
         "pointpos": 0,
         "showlegend": true,
         "type": "box",
         "x": [
          "GER"
         ],
         "x0": " ",
         "xaxis": "x",
         "y": {
          "bdata": "4XoUrkehXEA=",
          "dtype": "f8"
         },
         "y0": " ",
         "yaxis": "y"
        },
        {
         "alignmentgroup": "True",
         "boxpoints": "all",
         "customdata": [
          [
           "KIIBUS Eva-Lotta"
          ]
         ],
         "fillcolor": "rgba(255,255,255,0)",
         "hoveron": "points",
         "hovertemplate": "noc=%{x}<br>total_segment_score=%{y}<br>skater_name_1=%{customdata[0]}<extra></extra>",
         "legendgroup": "EST",
         "line": {
          "color": "rgba(255,255,255,0)"
         },
         "marker": {
          "color": "#ab63fa"
         },
         "name": "EST",
         "offsetgroup": "EST",
         "orientation": "v",
         "pointpos": 0,
         "showlegend": true,
         "type": "box",
         "x": [
          "EST"
         ],
         "x0": " ",
         "xaxis": "x",
         "y": {
          "bdata": "zczMzMwMXEA=",
          "dtype": "f8"
         },
         "y0": " ",
         "yaxis": "y"
        },
        {
         "alignmentgroup": "True",
         "boxpoints": "all",
         "customdata": [
          [
           "BREZINOVA Eliska"
          ]
         ],
         "fillcolor": "rgba(255,255,255,0)",
         "hoveron": "points",
         "hovertemplate": "noc=%{x}<br>total_segment_score=%{y}<br>skater_name_1=%{customdata[0]}<extra></extra>",
         "legendgroup": "CZE",
         "line": {
          "color": "rgba(255,255,255,0)"
         },
         "marker": {
          "color": "#FFA15A"
         },
         "name": "CZE",
         "offsetgroup": "CZE",
         "orientation": "v",
         "pointpos": 0,
         "showlegend": true,
         "type": "box",
         "x": [
          "CZE"
         ],
         "x0": " ",
         "xaxis": "x",
         "y": {
          "bdata": "ZmZmZmbGW0A=",
          "dtype": "f8"
         },
         "y0": " ",
         "yaxis": "y"
        },
        {
         "alignmentgroup": "True",
         "boxpoints": "all",
         "customdata": [
          [
           "PAGANINI Alexia"
          ]
         ],
         "fillcolor": "rgba(255,255,255,0)",
         "hoveron": "points",
         "hovertemplate": "noc=%{x}<br>total_segment_score=%{y}<br>skater_name_1=%{customdata[0]}<extra></extra>",
         "legendgroup": "SUI",
         "line": {
          "color": "rgba(255,255,255,0)"
         },
         "marker": {
          "color": "#19d3f3"
         },
         "name": "SUI",
         "offsetgroup": "SUI",
         "orientation": "v",
         "pointpos": 0,
         "showlegend": true,
         "type": "box",
         "x": [
          "SUI"
         ],
         "x0": " ",
         "xaxis": "x",
         "y": {
          "bdata": "ZmZmZmb2WkA=",
          "dtype": "f8"
         },
         "y0": " ",
         "yaxis": "y"
        },
        {
         "alignmentgroup": "True",
         "boxpoints": "all",
         "customdata": [
          [
           "FEIGIN Alexandra"
          ]
         ],
         "fillcolor": "rgba(255,255,255,0)",
         "hoveron": "points",
         "hovertemplate": "noc=%{x}<br>total_segment_score=%{y}<br>skater_name_1=%{customdata[0]}<extra></extra>",
         "legendgroup": "BUL",
         "line": {
          "color": "rgba(255,255,255,0)"
         },
         "marker": {
          "color": "#FF6692"
         },
         "name": "BUL",
         "offsetgroup": "BUL",
         "orientation": "v",
         "pointpos": 0,
         "showlegend": true,
         "type": "box",
         "x": [
          "BUL"
         ],
         "x0": " ",
         "xaxis": "x",
         "y": {
          "bdata": "mpmZmZkJWUA=",
          "dtype": "f8"
         },
         "y0": " ",
         "yaxis": "y"
        },
        {
         "alignmentgroup": "True",
         "boxpoints": "all",
         "customdata": [
          [
           "SAARINEN Jenni"
          ]
         ],
         "fillcolor": "rgba(255,255,255,0)",
         "hoveron": "points",
         "hovertemplate": "noc=%{x}<br>total_segment_score=%{y}<br>skater_name_1=%{customdata[0]}<extra></extra>",
         "legendgroup": "FIN",
         "line": {
          "color": "rgba(255,255,255,0)"
         },
         "marker": {
          "color": "#B6E880"
         },
         "name": "FIN",
         "offsetgroup": "FIN",
         "orientation": "v",
         "pointpos": 0,
         "showlegend": true,
         "type": "box",
         "x": [
          "FIN"
         ],
         "x0": " ",
         "xaxis": "x",
         "y": {
          "bdata": "FK5H4XoEWEA=",
          "dtype": "f8"
         },
         "y0": " ",
         "yaxis": "y"
        }
       ],
       "layout": {
        "boxmode": "overlay",
        "legend": {
         "title": {
          "text": "Country"
         },
         "tracegroupgap": 0
        },
        "template": {
         "data": {
          "bar": [
           {
            "error_x": {
             "color": "#2a3f5f"
            },
            "error_y": {
             "color": "#2a3f5f"
            },
            "marker": {
             "line": {
              "color": "#E5ECF6",
              "width": 0.5
             },
             "pattern": {
              "fillmode": "overlay",
              "size": 10,
              "solidity": 0.2
             }
            },
            "type": "bar"
           }
          ],
          "barpolar": [
           {
            "marker": {
             "line": {
              "color": "#E5ECF6",
              "width": 0.5
             },
             "pattern": {
              "fillmode": "overlay",
              "size": 10,
              "solidity": 0.2
             }
            },
            "type": "barpolar"
           }
          ],
          "carpet": [
           {
            "aaxis": {
             "endlinecolor": "#2a3f5f",
             "gridcolor": "white",
             "linecolor": "white",
             "minorgridcolor": "white",
             "startlinecolor": "#2a3f5f"
            },
            "baxis": {
             "endlinecolor": "#2a3f5f",
             "gridcolor": "white",
             "linecolor": "white",
             "minorgridcolor": "white",
             "startlinecolor": "#2a3f5f"
            },
            "type": "carpet"
           }
          ],
          "choropleth": [
           {
            "colorbar": {
             "outlinewidth": 0,
             "ticks": ""
            },
            "type": "choropleth"
           }
          ],
          "contour": [
           {
            "colorbar": {
             "outlinewidth": 0,
             "ticks": ""
            },
            "colorscale": [
             [
              0,
              "#0d0887"
             ],
             [
              0.1111111111111111,
              "#46039f"
             ],
             [
              0.2222222222222222,
              "#7201a8"
             ],
             [
              0.3333333333333333,
              "#9c179e"
             ],
             [
              0.4444444444444444,
              "#bd3786"
             ],
             [
              0.5555555555555556,
              "#d8576b"
             ],
             [
              0.6666666666666666,
              "#ed7953"
             ],
             [
              0.7777777777777778,
              "#fb9f3a"
             ],
             [
              0.8888888888888888,
              "#fdca26"
             ],
             [
              1,
              "#f0f921"
             ]
            ],
            "type": "contour"
           }
          ],
          "contourcarpet": [
           {
            "colorbar": {
             "outlinewidth": 0,
             "ticks": ""
            },
            "type": "contourcarpet"
           }
          ],
          "heatmap": [
           {
            "colorbar": {
             "outlinewidth": 0,
             "ticks": ""
            },
            "colorscale": [
             [
              0,
              "#0d0887"
             ],
             [
              0.1111111111111111,
              "#46039f"
             ],
             [
              0.2222222222222222,
              "#7201a8"
             ],
             [
              0.3333333333333333,
              "#9c179e"
             ],
             [
              0.4444444444444444,
              "#bd3786"
             ],
             [
              0.5555555555555556,
              "#d8576b"
             ],
             [
              0.6666666666666666,
              "#ed7953"
             ],
             [
              0.7777777777777778,
              "#fb9f3a"
             ],
             [
              0.8888888888888888,
              "#fdca26"
             ],
             [
              1,
              "#f0f921"
             ]
            ],
            "type": "heatmap"
           }
          ],
          "histogram": [
           {
            "marker": {
             "pattern": {
              "fillmode": "overlay",
              "size": 10,
              "solidity": 0.2
             }
            },
            "type": "histogram"
           }
          ],
          "histogram2d": [
           {
            "colorbar": {
             "outlinewidth": 0,
             "ticks": ""
            },
            "colorscale": [
             [
              0,
              "#0d0887"
             ],
             [
              0.1111111111111111,
              "#46039f"
             ],
             [
              0.2222222222222222,
              "#7201a8"
             ],
             [
              0.3333333333333333,
              "#9c179e"
             ],
             [
              0.4444444444444444,
              "#bd3786"
             ],
             [
              0.5555555555555556,
              "#d8576b"
             ],
             [
              0.6666666666666666,
              "#ed7953"
             ],
             [
              0.7777777777777778,
              "#fb9f3a"
             ],
             [
              0.8888888888888888,
              "#fdca26"
             ],
             [
              1,
              "#f0f921"
             ]
            ],
            "type": "histogram2d"
           }
          ],
          "histogram2dcontour": [
           {
            "colorbar": {
             "outlinewidth": 0,
             "ticks": ""
            },
            "colorscale": [
             [
              0,
              "#0d0887"
             ],
             [
              0.1111111111111111,
              "#46039f"
             ],
             [
              0.2222222222222222,
              "#7201a8"
             ],
             [
              0.3333333333333333,
              "#9c179e"
             ],
             [
              0.4444444444444444,
              "#bd3786"
             ],
             [
              0.5555555555555556,
              "#d8576b"
             ],
             [
              0.6666666666666666,
              "#ed7953"
             ],
             [
              0.7777777777777778,
              "#fb9f3a"
             ],
             [
              0.8888888888888888,
              "#fdca26"
             ],
             [
              1,
              "#f0f921"
             ]
            ],
            "type": "histogram2dcontour"
           }
          ],
          "mesh3d": [
           {
            "colorbar": {
             "outlinewidth": 0,
             "ticks": ""
            },
            "type": "mesh3d"
           }
          ],
          "parcoords": [
           {
            "line": {
             "colorbar": {
              "outlinewidth": 0,
              "ticks": ""
             }
            },
            "type": "parcoords"
           }
          ],
          "pie": [
           {
            "automargin": true,
            "type": "pie"
           }
          ],
          "scatter": [
           {
            "fillpattern": {
             "fillmode": "overlay",
             "size": 10,
             "solidity": 0.2
            },
            "type": "scatter"
           }
          ],
          "scatter3d": [
           {
            "line": {
             "colorbar": {
              "outlinewidth": 0,
              "ticks": ""
             }
            },
            "marker": {
             "colorbar": {
              "outlinewidth": 0,
              "ticks": ""
             }
            },
            "type": "scatter3d"
           }
          ],
          "scattercarpet": [
           {
            "marker": {
             "colorbar": {
              "outlinewidth": 0,
              "ticks": ""
             }
            },
            "type": "scattercarpet"
           }
          ],
          "scattergeo": [
           {
            "marker": {
             "colorbar": {
              "outlinewidth": 0,
              "ticks": ""
             }
            },
            "type": "scattergeo"
           }
          ],
          "scattergl": [
           {
            "marker": {
             "colorbar": {
              "outlinewidth": 0,
              "ticks": ""
             }
            },
            "type": "scattergl"
           }
          ],
          "scattermap": [
           {
            "marker": {
             "colorbar": {
              "outlinewidth": 0,
              "ticks": ""
             }
            },
            "type": "scattermap"
           }
          ],
          "scattermapbox": [
           {
            "marker": {
             "colorbar": {
              "outlinewidth": 0,
              "ticks": ""
             }
            },
            "type": "scattermapbox"
           }
          ],
          "scatterpolar": [
           {
            "marker": {
             "colorbar": {
              "outlinewidth": 0,
              "ticks": ""
             }
            },
            "type": "scatterpolar"
           }
          ],
          "scatterpolargl": [
           {
            "marker": {
             "colorbar": {
              "outlinewidth": 0,
              "ticks": ""
             }
            },
            "type": "scatterpolargl"
           }
          ],
          "scatterternary": [
           {
            "marker": {
             "colorbar": {
              "outlinewidth": 0,
              "ticks": ""
             }
            },
            "type": "scatterternary"
           }
          ],
          "surface": [
           {
            "colorbar": {
             "outlinewidth": 0,
             "ticks": ""
            },
            "colorscale": [
             [
              0,
              "#0d0887"
             ],
             [
              0.1111111111111111,
              "#46039f"
             ],
             [
              0.2222222222222222,
              "#7201a8"
             ],
             [
              0.3333333333333333,
              "#9c179e"
             ],
             [
              0.4444444444444444,
              "#bd3786"
             ],
             [
              0.5555555555555556,
              "#d8576b"
             ],
             [
              0.6666666666666666,
              "#ed7953"
             ],
             [
              0.7777777777777778,
              "#fb9f3a"
             ],
             [
              0.8888888888888888,
              "#fdca26"
             ],
             [
              1,
              "#f0f921"
             ]
            ],
            "type": "surface"
           }
          ],
          "table": [
           {
            "cells": {
             "fill": {
              "color": "#EBF0F8"
             },
             "line": {
              "color": "white"
             }
            },
            "header": {
             "fill": {
              "color": "#C8D4E3"
             },
             "line": {
              "color": "white"
             }
            },
            "type": "table"
           }
          ]
         },
         "layout": {
          "annotationdefaults": {
           "arrowcolor": "#2a3f5f",
           "arrowhead": 0,
           "arrowwidth": 1
          },
          "autotypenumbers": "strict",
          "coloraxis": {
           "colorbar": {
            "outlinewidth": 0,
            "ticks": ""
           }
          },
          "colorscale": {
           "diverging": [
            [
             0,
             "#8e0152"
            ],
            [
             0.1,
             "#c51b7d"
            ],
            [
             0.2,
             "#de77ae"
            ],
            [
             0.3,
             "#f1b6da"
            ],
            [
             0.4,
             "#fde0ef"
            ],
            [
             0.5,
             "#f7f7f7"
            ],
            [
             0.6,
             "#e6f5d0"
            ],
            [
             0.7,
             "#b8e186"
            ],
            [
             0.8,
             "#7fbc41"
            ],
            [
             0.9,
             "#4d9221"
            ],
            [
             1,
             "#276419"
            ]
           ],
           "sequential": [
            [
             0,
             "#0d0887"
            ],
            [
             0.1111111111111111,
             "#46039f"
            ],
            [
             0.2222222222222222,
             "#7201a8"
            ],
            [
             0.3333333333333333,
             "#9c179e"
            ],
            [
             0.4444444444444444,
             "#bd3786"
            ],
            [
             0.5555555555555556,
             "#d8576b"
            ],
            [
             0.6666666666666666,
             "#ed7953"
            ],
            [
             0.7777777777777778,
             "#fb9f3a"
            ],
            [
             0.8888888888888888,
             "#fdca26"
            ],
            [
             1,
             "#f0f921"
            ]
           ],
           "sequentialminus": [
            [
             0,
             "#0d0887"
            ],
            [
             0.1111111111111111,
             "#46039f"
            ],
            [
             0.2222222222222222,
             "#7201a8"
            ],
            [
             0.3333333333333333,
             "#9c179e"
            ],
            [
             0.4444444444444444,
             "#bd3786"
            ],
            [
             0.5555555555555556,
             "#d8576b"
            ],
            [
             0.6666666666666666,
             "#ed7953"
            ],
            [
             0.7777777777777778,
             "#fb9f3a"
            ],
            [
             0.8888888888888888,
             "#fdca26"
            ],
            [
             1,
             "#f0f921"
            ]
           ]
          },
          "colorway": [
           "#636efa",
           "#EF553B",
           "#00cc96",
           "#ab63fa",
           "#FFA15A",
           "#19d3f3",
           "#FF6692",
           "#B6E880",
           "#FF97FF",
           "#FECB52"
          ],
          "font": {
           "color": "#2a3f5f"
          },
          "geo": {
           "bgcolor": "white",
           "lakecolor": "white",
           "landcolor": "#E5ECF6",
           "showlakes": true,
           "showland": true,
           "subunitcolor": "white"
          },
          "hoverlabel": {
           "align": "left"
          },
          "hovermode": "closest",
          "mapbox": {
           "style": "light"
          },
          "paper_bgcolor": "white",
          "plot_bgcolor": "#E5ECF6",
          "polar": {
           "angularaxis": {
            "gridcolor": "white",
            "linecolor": "white",
            "ticks": ""
           },
           "bgcolor": "#E5ECF6",
           "radialaxis": {
            "gridcolor": "white",
            "linecolor": "white",
            "ticks": ""
           }
          },
          "scene": {
           "xaxis": {
            "backgroundcolor": "#E5ECF6",
            "gridcolor": "white",
            "gridwidth": 2,
            "linecolor": "white",
            "showbackground": true,
            "ticks": "",
            "zerolinecolor": "white"
           },
           "yaxis": {
            "backgroundcolor": "#E5ECF6",
            "gridcolor": "white",
            "gridwidth": 2,
            "linecolor": "white",
            "showbackground": true,
            "ticks": "",
            "zerolinecolor": "white"
           },
           "zaxis": {
            "backgroundcolor": "#E5ECF6",
            "gridcolor": "white",
            "gridwidth": 2,
            "linecolor": "white",
            "showbackground": true,
            "ticks": "",
            "zerolinecolor": "white"
           }
          },
          "shapedefaults": {
           "line": {
            "color": "#2a3f5f"
           }
          },
          "ternary": {
           "aaxis": {
            "gridcolor": "white",
            "linecolor": "white",
            "ticks": ""
           },
           "baxis": {
            "gridcolor": "white",
            "linecolor": "white",
            "ticks": ""
           },
           "bgcolor": "#E5ECF6",
           "caxis": {
            "gridcolor": "white",
            "linecolor": "white",
            "ticks": ""
           }
          },
          "title": {
           "x": 0.05
          },
          "xaxis": {
           "automargin": true,
           "gridcolor": "white",
           "linecolor": "white",
           "ticks": "",
           "title": {
            "standoff": 15
           },
           "zerolinecolor": "white",
           "zerolinewidth": 2
          },
          "yaxis": {
           "automargin": true,
           "gridcolor": "white",
           "linecolor": "white",
           "ticks": "",
           "title": {
            "standoff": 15
           },
           "zerolinecolor": "white",
           "zerolinewidth": 2
          }
         }
        },
        "title": {
         "text": "Score Distribution by Country (Women, Free Skating)"
        },
        "xaxis": {
         "anchor": "y",
         "categoryarray": [
          "ROC",
          "JPN",
          "KOR",
          "USA",
          "BEL",
          "GEO",
          "POL",
          "BLR",
          "AUT",
          "AZE",
          "NED",
          "CAN",
          "GER",
          "EST",
          "CZE",
          "SUI",
          "BUL",
          "FIN"
         ],
         "categoryorder": "array",
         "domain": [
          0,
          1
         ],
         "title": {
          "text": "Country"
         }
        },
        "yaxis": {
         "anchor": "x",
         "domain": [
          0,
          1
         ],
         "title": {
          "text": "Total Segment Score"
         }
        }
       }
      }
     },
     "metadata": {},
     "output_type": "display_data"
    }
   ],
   "source": [
    "women_free = df_skaters[(df_skaters['category'] == 'Women Single Skating') & (df_skaters['segment'] == 'Free Skating')]\n",
    "\n",
    "fig = px.box(\n",
    "    women_free,\n",
    "    x='noc',\n",
    "    y='total_segment_score',\n",
    "    color='noc',\n",
    "    title='Score Distribution by Country (Women, Free Skating)',\n",
    "    labels={'noc': 'Country', 'total_segment_score': 'Total Segment Score'},\n",
    "    hover_data=['skater_name_1']\n",
    ")\n",
    "\n",
    "strip_fig = px.strip(\n",
    "    women_free,\n",
    "    x='noc',\n",
    "    y='total_segment_score',\n",
    "    color='noc',\n",
    "    hover_data=['skater_name_1']\n",
    ")\n",
    "\n",
    "for trace in strip_fig.data:\n",
    "    fig.add_trace(trace)\n",
    "    \n",
    "fig.show()"
   ]
  },
  {
   "cell_type": "code",
   "execution_count": 257,
   "metadata": {},
   "outputs": [
    {
     "data": {
      "application/vnd.plotly.v1+json": {
       "config": {
        "plotlyServerURL": "https://plot.ly"
       },
       "data": [
        {
         "alignmentgroup": "True",
         "customdata": [
          [
           "VALIEVA Kamila"
          ],
          [
           "SHCHERBAKOVA Anna"
          ],
          [
           "TRUSOVA Alexandra"
          ]
         ],
         "hovertemplate": "Country=%{x}<br>Total Segment Score=%{y}<br>skater_name_1=%{customdata[0]}<extra></extra>",
         "legendgroup": "ROC",
         "marker": {
          "color": "#636efa"
         },
         "name": "ROC",
         "notched": false,
         "offsetgroup": "ROC",
         "orientation": "v",
         "showlegend": true,
         "type": "box",
         "x": [
          "ROC",
          "ROC",
          "ROC"
         ],
         "x0": " ",
         "xaxis": "x",
         "y": {
          "bdata": "CtejcD2KVEDNzMzMzAxUQGZmZmZmplJA",
          "dtype": "f8"
         },
         "y0": " ",
         "yaxis": "y"
        },
        {
         "alignmentgroup": "True",
         "customdata": [
          [
           "SAKAMOTO Kaori"
          ],
          [
           "HIGUCHI Wakaba"
          ],
          [
           "KAWABE Mana"
          ]
         ],
         "hovertemplate": "Country=%{x}<br>Total Segment Score=%{y}<br>skater_name_1=%{customdata[0]}<extra></extra>",
         "legendgroup": "JPN",
         "marker": {
          "color": "#EF553B"
         },
         "name": "JPN",
         "notched": false,
         "offsetgroup": "JPN",
         "orientation": "v",
         "showlegend": true,
         "type": "box",
         "x": [
          "JPN",
          "JPN",
          "JPN"
         ],
         "x0": " ",
         "xaxis": "x",
         "y": {
          "bdata": "9ihcj8L1U0BxPQrXo2BSQLgehetRWE9A",
          "dtype": "f8"
         },
         "y0": " ",
         "yaxis": "y"
        },
        {
         "alignmentgroup": "True",
         "customdata": [
          [
           "YOU Young"
          ],
          [
           "KIM Yelim"
          ]
         ],
         "hovertemplate": "Country=%{x}<br>Total Segment Score=%{y}<br>skater_name_1=%{customdata[0]}<extra></extra>",
         "legendgroup": "KOR",
         "marker": {
          "color": "#00cc96"
         },
         "name": "KOR",
         "notched": false,
         "offsetgroup": "KOR",
         "orientation": "v",
         "showlegend": true,
         "type": "box",
         "x": [
          "KOR",
          "KOR"
         ],
         "x0": " ",
         "xaxis": "x",
         "y": {
          "bdata": "9ihcj8KVUUBSuB6F6/FQQA==",
          "dtype": "f8"
         },
         "y0": " ",
         "yaxis": "y"
        },
        {
         "alignmentgroup": "True",
         "customdata": [
          [
           "HENDRICKX Loena"
          ]
         ],
         "hovertemplate": "Country=%{x}<br>Total Segment Score=%{y}<br>skater_name_1=%{customdata[0]}<extra></extra>",
         "legendgroup": "BEL",
         "marker": {
          "color": "#ab63fa"
         },
         "name": "BEL",
         "notched": false,
         "offsetgroup": "BEL",
         "orientation": "v",
         "showlegend": true,
         "type": "box",
         "x": [
          "BEL"
         ],
         "x0": " ",
         "xaxis": "x",
         "y": {
          "bdata": "9ihcj8KFUUA=",
          "dtype": "f8"
         },
         "y0": " ",
         "yaxis": "y"
        },
        {
         "alignmentgroup": "True",
         "customdata": [
          [
           "LIU Alysa"
          ],
          [
           "BELL Mariah"
          ],
          [
           "CHEN Karen"
          ]
         ],
         "hovertemplate": "Country=%{x}<br>Total Segment Score=%{y}<br>skater_name_1=%{customdata[0]}<extra></extra>",
         "legendgroup": "USA",
         "marker": {
          "color": "#FFA15A"
         },
         "name": "USA",
         "notched": false,
         "offsetgroup": "USA",
         "orientation": "v",
         "showlegend": true,
         "type": "box",
         "x": [
          "USA",
          "USA",
          "USA"
         ],
         "x0": " ",
         "xaxis": "x",
         "y": {
          "bdata": "AAAAAABgUUC4HoXrUVhQQNejcD0KB1BA",
          "dtype": "f8"
         },
         "y0": " ",
         "yaxis": "y"
        },
        {
         "alignmentgroup": "True",
         "customdata": [
          [
           "GUBANOVA Anastasiia"
          ]
         ],
         "hovertemplate": "Country=%{x}<br>Total Segment Score=%{y}<br>skater_name_1=%{customdata[0]}<extra></extra>",
         "legendgroup": "GEO",
         "marker": {
          "color": "#19d3f3"
         },
         "name": "GEO",
         "notched": false,
         "offsetgroup": "GEO",
         "orientation": "v",
         "showlegend": true,
         "type": "box",
         "x": [
          "GEO"
         ],
         "x0": " ",
         "xaxis": "x",
         "y": {
          "bdata": "mpmZmZlZUEA=",
          "dtype": "f8"
         },
         "y0": " ",
         "yaxis": "y"
        },
        {
         "alignmentgroup": "True",
         "customdata": [
          [
           "BREZINOVA Eliska"
          ]
         ],
         "hovertemplate": "Country=%{x}<br>Total Segment Score=%{y}<br>skater_name_1=%{customdata[0]}<extra></extra>",
         "legendgroup": "CZE",
         "marker": {
          "color": "#FF6692"
         },
         "name": "CZE",
         "notched": false,
         "offsetgroup": "CZE",
         "orientation": "v",
         "showlegend": true,
         "type": "box",
         "x": [
          "CZE"
         ],
         "x0": " ",
         "xaxis": "x",
         "y": {
          "bdata": "pHA9CtcTUEA=",
          "dtype": "f8"
         },
         "y0": " ",
         "yaxis": "y"
        },
        {
         "alignmentgroup": "True",
         "customdata": [
          [
           "SCHOTT Nicole"
          ]
         ],
         "hovertemplate": "Country=%{x}<br>Total Segment Score=%{y}<br>skater_name_1=%{customdata[0]}<extra></extra>",
         "legendgroup": "GER",
         "marker": {
          "color": "#B6E880"
         },
         "name": "GER",
         "notched": false,
         "offsetgroup": "GER",
         "orientation": "v",
         "showlegend": true,
         "type": "box",
         "x": [
          "GER"
         ],
         "x0": " ",
         "xaxis": "x",
         "y": {
          "bdata": "cT0K16OQT0A=",
          "dtype": "f8"
         },
         "y0": " ",
         "yaxis": "y"
        },
        {
         "alignmentgroup": "True",
         "customdata": [
          [
           "RYABOVA Ekaterina"
          ]
         ],
         "hovertemplate": "Country=%{x}<br>Total Segment Score=%{y}<br>skater_name_1=%{customdata[0]}<extra></extra>",
         "legendgroup": "AZE",
         "marker": {
          "color": "#FF97FF"
         },
         "name": "AZE",
         "notched": false,
         "offsetgroup": "AZE",
         "orientation": "v",
         "showlegend": true,
         "type": "box",
         "x": [
          "AZE"
         ],
         "x0": " ",
         "xaxis": "x",
         "y": {
          "bdata": "KVyPwvXoTkA=",
          "dtype": "f8"
         },
         "y0": " ",
         "yaxis": "y"
        },
        {
         "alignmentgroup": "True",
         "customdata": [
          [
           "SAFONOVA Viktoriia"
          ]
         ],
         "hovertemplate": "Country=%{x}<br>Total Segment Score=%{y}<br>skater_name_1=%{customdata[0]}<extra></extra>",
         "legendgroup": "BLR",
         "marker": {
          "color": "#FECB52"
         },
         "name": "BLR",
         "notched": false,
         "offsetgroup": "BLR",
         "orientation": "v",
         "showlegend": true,
         "type": "box",
         "x": [
          "BLR"
         ],
         "x0": " ",
         "xaxis": "x",
         "y": {
          "bdata": "exSuR+G6TkA=",
          "dtype": "f8"
         },
         "y0": " ",
         "yaxis": "y"
        },
        {
         "alignmentgroup": "True",
         "customdata": [
          [
           "MIKUTINA Olga"
          ]
         ],
         "hovertemplate": "Country=%{x}<br>Total Segment Score=%{y}<br>skater_name_1=%{customdata[0]}<extra></extra>",
         "legendgroup": "AUT",
         "marker": {
          "color": "#636efa"
         },
         "name": "AUT",
         "notched": false,
         "offsetgroup": "AUT",
         "orientation": "v",
         "showlegend": true,
         "type": "box",
         "x": [
          "AUT"
         ],
         "x0": " ",
         "xaxis": "x",
         "y": {
          "bdata": "UrgeheuRTkA=",
          "dtype": "f8"
         },
         "y0": " ",
         "yaxis": "y"
        },
        {
         "alignmentgroup": "True",
         "customdata": [
          [
           "PAGANINI Alexia"
          ]
         ],
         "hovertemplate": "Country=%{x}<br>Total Segment Score=%{y}<br>skater_name_1=%{customdata[0]}<extra></extra>",
         "legendgroup": "SUI",
         "marker": {
          "color": "#EF553B"
         },
         "name": "SUI",
         "notched": false,
         "offsetgroup": "SUI",
         "orientation": "v",
         "showlegend": true,
         "type": "box",
         "x": [
          "SUI"
         ],
         "x0": " ",
         "xaxis": "x",
         "y": {
          "bdata": "SOF6FK6HTkA=",
          "dtype": "f8"
         },
         "y0": " ",
         "yaxis": "y"
        },
        {
         "alignmentgroup": "True",
         "customdata": [
          [
           "SCHIZAS Madeline"
          ]
         ],
         "hovertemplate": "Country=%{x}<br>Total Segment Score=%{y}<br>skater_name_1=%{customdata[0]}<extra></extra>",
         "legendgroup": "CAN",
         "marker": {
          "color": "#00cc96"
         },
         "name": "CAN",
         "notched": false,
         "offsetgroup": "CAN",
         "orientation": "v",
         "showlegend": true,
         "type": "box",
         "x": [
          "CAN"
         ],
         "x0": " ",
         "xaxis": "x",
         "y": {
          "bdata": "pHA9CtdDTkA=",
          "dtype": "f8"
         },
         "y0": " ",
         "yaxis": "y"
        },
        {
         "alignmentgroup": "True",
         "customdata": [
          [
           "KIIBUS Eva-Lotta"
          ]
         ],
         "hovertemplate": "Country=%{x}<br>Total Segment Score=%{y}<br>skater_name_1=%{customdata[0]}<extra></extra>",
         "legendgroup": "EST",
         "marker": {
          "color": "#ab63fa"
         },
         "name": "EST",
         "notched": false,
         "offsetgroup": "EST",
         "orientation": "v",
         "showlegend": true,
         "type": "box",
         "x": [
          "EST"
         ],
         "x0": " ",
         "xaxis": "x",
         "y": {
          "bdata": "ZmZmZmbGTUA=",
          "dtype": "f8"
         },
         "y0": " ",
         "yaxis": "y"
        },
        {
         "alignmentgroup": "True",
         "customdata": [
          [
           "van ZUNDERT Lindsay"
          ]
         ],
         "hovertemplate": "Country=%{x}<br>Total Segment Score=%{y}<br>skater_name_1=%{customdata[0]}<extra></extra>",
         "legendgroup": "NED",
         "marker": {
          "color": "#FFA15A"
         },
         "name": "NED",
         "notched": false,
         "offsetgroup": "NED",
         "orientation": "v",
         "showlegend": true,
         "type": "box",
         "x": [
          "NED"
         ],
         "x0": " ",
         "xaxis": "x",
         "y": {
          "bdata": "H4XrUbieTUA=",
          "dtype": "f8"
         },
         "y0": " ",
         "yaxis": "y"
        },
        {
         "alignmentgroup": "True",
         "customdata": [
          [
           "FEIGIN Alexandra"
          ]
         ],
         "hovertemplate": "Country=%{x}<br>Total Segment Score=%{y}<br>skater_name_1=%{customdata[0]}<extra></extra>",
         "legendgroup": "BUL",
         "marker": {
          "color": "#19d3f3"
         },
         "name": "BUL",
         "notched": false,
         "offsetgroup": "BUL",
         "orientation": "v",
         "showlegend": true,
         "type": "box",
         "x": [
          "BUL"
         ],
         "x0": " ",
         "xaxis": "x",
         "y": {
          "bdata": "FK5H4XqUTUA=",
          "dtype": "f8"
         },
         "y0": " ",
         "yaxis": "y"
        },
        {
         "alignmentgroup": "True",
         "customdata": [
          [
           "KURAKOVA Ekaterina"
          ]
         ],
         "hovertemplate": "Country=%{x}<br>Total Segment Score=%{y}<br>skater_name_1=%{customdata[0]}<extra></extra>",
         "legendgroup": "POL",
         "marker": {
          "color": "#FF6692"
         },
         "name": "POL",
         "notched": false,
         "offsetgroup": "POL",
         "orientation": "v",
         "showlegend": true,
         "type": "box",
         "x": [
          "POL"
         ],
         "x0": " ",
         "xaxis": "x",
         "y": {
          "bdata": "CtejcD2KTUA=",
          "dtype": "f8"
         },
         "y0": " ",
         "yaxis": "y"
        },
        {
         "alignmentgroup": "True",
         "customdata": [
          [
           "SAARINEN Jenni"
          ]
         ],
         "hovertemplate": "Country=%{x}<br>Total Segment Score=%{y}<br>skater_name_1=%{customdata[0]}<extra></extra>",
         "legendgroup": "FIN",
         "marker": {
          "color": "#B6E880"
         },
         "name": "FIN",
         "notched": false,
         "offsetgroup": "FIN",
         "orientation": "v",
         "showlegend": true,
         "type": "box",
         "x": [
          "FIN"
         ],
         "x0": " ",
         "xaxis": "x",
         "y": {
          "bdata": "XI/C9Sh8TEA=",
          "dtype": "f8"
         },
         "y0": " ",
         "yaxis": "y"
        },
        {
         "alignmentgroup": "True",
         "customdata": [
          [
           "TALJEGARD Josefin"
          ]
         ],
         "hovertemplate": "Country=%{x}<br>Total Segment Score=%{y}<br>skater_name_1=%{customdata[0]}<extra></extra>",
         "legendgroup": "SWE",
         "marker": {
          "color": "#FF97FF"
         },
         "name": "SWE",
         "notched": false,
         "offsetgroup": "SWE",
         "orientation": "v",
         "showlegend": true,
         "type": "box",
         "x": [
          "SWE"
         ],
         "x0": " ",
         "xaxis": "x",
         "y": {
          "bdata": "4XoUrkdBS0A=",
          "dtype": "f8"
         },
         "y0": " ",
         "yaxis": "y"
        },
        {
         "alignmentgroup": "True",
         "customdata": [
          [
           "ZHU Yi"
          ]
         ],
         "hovertemplate": "Country=%{x}<br>Total Segment Score=%{y}<br>skater_name_1=%{customdata[0]}<extra></extra>",
         "legendgroup": "CHN",
         "marker": {
          "color": "#FECB52"
         },
         "name": "CHN",
         "notched": false,
         "offsetgroup": "CHN",
         "orientation": "v",
         "showlegend": true,
         "type": "box",
         "x": [
          "CHN"
         ],
         "x0": " ",
         "xaxis": "x",
         "y": {
          "bdata": "uB6F61G4SkA=",
          "dtype": "f8"
         },
         "y0": " ",
         "yaxis": "y"
        },
        {
         "alignmentgroup": "True",
         "customdata": [
          [
           "McKAY Natasha"
          ]
         ],
         "hovertemplate": "Country=%{x}<br>Total Segment Score=%{y}<br>skater_name_1=%{customdata[0]}<extra></extra>",
         "legendgroup": "GBR",
         "marker": {
          "color": "#636efa"
         },
         "name": "GBR",
         "notched": false,
         "offsetgroup": "GBR",
         "orientation": "v",
         "showlegend": true,
         "type": "box",
         "x": [
          "GBR"
         ],
         "x0": " ",
         "xaxis": "x",
         "y": {
          "bdata": "hetRuB5FSkA=",
          "dtype": "f8"
         },
         "y0": " ",
         "yaxis": "y"
        },
        {
         "alignmentgroup": "True",
         "customdata": [
          [
           "CRAINE Kailani"
          ]
         ],
         "hovertemplate": "Country=%{x}<br>Total Segment Score=%{y}<br>skater_name_1=%{customdata[0]}<extra></extra>",
         "legendgroup": "AUS",
         "marker": {
          "color": "#EF553B"
         },
         "name": "AUS",
         "notched": false,
         "offsetgroup": "AUS",
         "orientation": "v",
         "showlegend": true,
         "type": "box",
         "x": [
          "AUS"
         ],
         "x0": " ",
         "xaxis": "x",
         "y": {
          "bdata": "16NwPQr3SEA=",
          "dtype": "f8"
         },
         "y0": " ",
         "yaxis": "y"
        },
        {
         "alignmentgroup": "True",
         "customdata": [
          [
           "SHABOTOVA Anastasiia"
          ]
         ],
         "hovertemplate": "Country=%{x}<br>Total Segment Score=%{y}<br>skater_name_1=%{customdata[0]}<extra></extra>",
         "legendgroup": "UKR",
         "marker": {
          "color": "#00cc96"
         },
         "name": "UKR",
         "notched": false,
         "offsetgroup": "UKR",
         "orientation": "v",
         "showlegend": true,
         "type": "box",
         "x": [
          "UKR"
         ],
         "x0": " ",
         "xaxis": "x",
         "y": {
          "bdata": "16NwPQpXSEA=",
          "dtype": "f8"
         },
         "y0": " ",
         "yaxis": "y"
        },
        {
         "alignmentgroup": "True",
         "boxpoints": "all",
         "customdata": [
          [
           "VALIEVA Kamila"
          ],
          [
           "SHCHERBAKOVA Anna"
          ],
          [
           "TRUSOVA Alexandra"
          ]
         ],
         "fillcolor": "rgba(255,255,255,0)",
         "hoveron": "points",
         "hovertemplate": "noc=%{x}<br>total_segment_score=%{y}<br>skater_name_1=%{customdata[0]}<extra></extra>",
         "legendgroup": "ROC",
         "line": {
          "color": "rgba(255,255,255,0)"
         },
         "marker": {
          "color": "#636efa"
         },
         "name": "ROC",
         "offsetgroup": "ROC",
         "orientation": "v",
         "pointpos": 0,
         "showlegend": true,
         "type": "box",
         "x": [
          "ROC",
          "ROC",
          "ROC"
         ],
         "x0": " ",
         "xaxis": "x",
         "y": {
          "bdata": "CtejcD2KVEDNzMzMzAxUQGZmZmZmplJA",
          "dtype": "f8"
         },
         "y0": " ",
         "yaxis": "y"
        },
        {
         "alignmentgroup": "True",
         "boxpoints": "all",
         "customdata": [
          [
           "SAKAMOTO Kaori"
          ],
          [
           "HIGUCHI Wakaba"
          ],
          [
           "KAWABE Mana"
          ]
         ],
         "fillcolor": "rgba(255,255,255,0)",
         "hoveron": "points",
         "hovertemplate": "noc=%{x}<br>total_segment_score=%{y}<br>skater_name_1=%{customdata[0]}<extra></extra>",
         "legendgroup": "JPN",
         "line": {
          "color": "rgba(255,255,255,0)"
         },
         "marker": {
          "color": "#EF553B"
         },
         "name": "JPN",
         "offsetgroup": "JPN",
         "orientation": "v",
         "pointpos": 0,
         "showlegend": true,
         "type": "box",
         "x": [
          "JPN",
          "JPN",
          "JPN"
         ],
         "x0": " ",
         "xaxis": "x",
         "y": {
          "bdata": "9ihcj8L1U0BxPQrXo2BSQLgehetRWE9A",
          "dtype": "f8"
         },
         "y0": " ",
         "yaxis": "y"
        },
        {
         "alignmentgroup": "True",
         "boxpoints": "all",
         "customdata": [
          [
           "YOU Young"
          ],
          [
           "KIM Yelim"
          ]
         ],
         "fillcolor": "rgba(255,255,255,0)",
         "hoveron": "points",
         "hovertemplate": "noc=%{x}<br>total_segment_score=%{y}<br>skater_name_1=%{customdata[0]}<extra></extra>",
         "legendgroup": "KOR",
         "line": {
          "color": "rgba(255,255,255,0)"
         },
         "marker": {
          "color": "#00cc96"
         },
         "name": "KOR",
         "offsetgroup": "KOR",
         "orientation": "v",
         "pointpos": 0,
         "showlegend": true,
         "type": "box",
         "x": [
          "KOR",
          "KOR"
         ],
         "x0": " ",
         "xaxis": "x",
         "y": {
          "bdata": "9ihcj8KVUUBSuB6F6/FQQA==",
          "dtype": "f8"
         },
         "y0": " ",
         "yaxis": "y"
        },
        {
         "alignmentgroup": "True",
         "boxpoints": "all",
         "customdata": [
          [
           "HENDRICKX Loena"
          ]
         ],
         "fillcolor": "rgba(255,255,255,0)",
         "hoveron": "points",
         "hovertemplate": "noc=%{x}<br>total_segment_score=%{y}<br>skater_name_1=%{customdata[0]}<extra></extra>",
         "legendgroup": "BEL",
         "line": {
          "color": "rgba(255,255,255,0)"
         },
         "marker": {
          "color": "#ab63fa"
         },
         "name": "BEL",
         "offsetgroup": "BEL",
         "orientation": "v",
         "pointpos": 0,
         "showlegend": true,
         "type": "box",
         "x": [
          "BEL"
         ],
         "x0": " ",
         "xaxis": "x",
         "y": {
          "bdata": "9ihcj8KFUUA=",
          "dtype": "f8"
         },
         "y0": " ",
         "yaxis": "y"
        },
        {
         "alignmentgroup": "True",
         "boxpoints": "all",
         "customdata": [
          [
           "LIU Alysa"
          ],
          [
           "BELL Mariah"
          ],
          [
           "CHEN Karen"
          ]
         ],
         "fillcolor": "rgba(255,255,255,0)",
         "hoveron": "points",
         "hovertemplate": "noc=%{x}<br>total_segment_score=%{y}<br>skater_name_1=%{customdata[0]}<extra></extra>",
         "legendgroup": "USA",
         "line": {
          "color": "rgba(255,255,255,0)"
         },
         "marker": {
          "color": "#FFA15A"
         },
         "name": "USA",
         "offsetgroup": "USA",
         "orientation": "v",
         "pointpos": 0,
         "showlegend": true,
         "type": "box",
         "x": [
          "USA",
          "USA",
          "USA"
         ],
         "x0": " ",
         "xaxis": "x",
         "y": {
          "bdata": "AAAAAABgUUC4HoXrUVhQQNejcD0KB1BA",
          "dtype": "f8"
         },
         "y0": " ",
         "yaxis": "y"
        },
        {
         "alignmentgroup": "True",
         "boxpoints": "all",
         "customdata": [
          [
           "GUBANOVA Anastasiia"
          ]
         ],
         "fillcolor": "rgba(255,255,255,0)",
         "hoveron": "points",
         "hovertemplate": "noc=%{x}<br>total_segment_score=%{y}<br>skater_name_1=%{customdata[0]}<extra></extra>",
         "legendgroup": "GEO",
         "line": {
          "color": "rgba(255,255,255,0)"
         },
         "marker": {
          "color": "#19d3f3"
         },
         "name": "GEO",
         "offsetgroup": "GEO",
         "orientation": "v",
         "pointpos": 0,
         "showlegend": true,
         "type": "box",
         "x": [
          "GEO"
         ],
         "x0": " ",
         "xaxis": "x",
         "y": {
          "bdata": "mpmZmZlZUEA=",
          "dtype": "f8"
         },
         "y0": " ",
         "yaxis": "y"
        },
        {
         "alignmentgroup": "True",
         "boxpoints": "all",
         "customdata": [
          [
           "BREZINOVA Eliska"
          ]
         ],
         "fillcolor": "rgba(255,255,255,0)",
         "hoveron": "points",
         "hovertemplate": "noc=%{x}<br>total_segment_score=%{y}<br>skater_name_1=%{customdata[0]}<extra></extra>",
         "legendgroup": "CZE",
         "line": {
          "color": "rgba(255,255,255,0)"
         },
         "marker": {
          "color": "#FF6692"
         },
         "name": "CZE",
         "offsetgroup": "CZE",
         "orientation": "v",
         "pointpos": 0,
         "showlegend": true,
         "type": "box",
         "x": [
          "CZE"
         ],
         "x0": " ",
         "xaxis": "x",
         "y": {
          "bdata": "pHA9CtcTUEA=",
          "dtype": "f8"
         },
         "y0": " ",
         "yaxis": "y"
        },
        {
         "alignmentgroup": "True",
         "boxpoints": "all",
         "customdata": [
          [
           "SCHOTT Nicole"
          ]
         ],
         "fillcolor": "rgba(255,255,255,0)",
         "hoveron": "points",
         "hovertemplate": "noc=%{x}<br>total_segment_score=%{y}<br>skater_name_1=%{customdata[0]}<extra></extra>",
         "legendgroup": "GER",
         "line": {
          "color": "rgba(255,255,255,0)"
         },
         "marker": {
          "color": "#B6E880"
         },
         "name": "GER",
         "offsetgroup": "GER",
         "orientation": "v",
         "pointpos": 0,
         "showlegend": true,
         "type": "box",
         "x": [
          "GER"
         ],
         "x0": " ",
         "xaxis": "x",
         "y": {
          "bdata": "cT0K16OQT0A=",
          "dtype": "f8"
         },
         "y0": " ",
         "yaxis": "y"
        },
        {
         "alignmentgroup": "True",
         "boxpoints": "all",
         "customdata": [
          [
           "RYABOVA Ekaterina"
          ]
         ],
         "fillcolor": "rgba(255,255,255,0)",
         "hoveron": "points",
         "hovertemplate": "noc=%{x}<br>total_segment_score=%{y}<br>skater_name_1=%{customdata[0]}<extra></extra>",
         "legendgroup": "AZE",
         "line": {
          "color": "rgba(255,255,255,0)"
         },
         "marker": {
          "color": "#FF97FF"
         },
         "name": "AZE",
         "offsetgroup": "AZE",
         "orientation": "v",
         "pointpos": 0,
         "showlegend": true,
         "type": "box",
         "x": [
          "AZE"
         ],
         "x0": " ",
         "xaxis": "x",
         "y": {
          "bdata": "KVyPwvXoTkA=",
          "dtype": "f8"
         },
         "y0": " ",
         "yaxis": "y"
        },
        {
         "alignmentgroup": "True",
         "boxpoints": "all",
         "customdata": [
          [
           "SAFONOVA Viktoriia"
          ]
         ],
         "fillcolor": "rgba(255,255,255,0)",
         "hoveron": "points",
         "hovertemplate": "noc=%{x}<br>total_segment_score=%{y}<br>skater_name_1=%{customdata[0]}<extra></extra>",
         "legendgroup": "BLR",
         "line": {
          "color": "rgba(255,255,255,0)"
         },
         "marker": {
          "color": "#FECB52"
         },
         "name": "BLR",
         "offsetgroup": "BLR",
         "orientation": "v",
         "pointpos": 0,
         "showlegend": true,
         "type": "box",
         "x": [
          "BLR"
         ],
         "x0": " ",
         "xaxis": "x",
         "y": {
          "bdata": "exSuR+G6TkA=",
          "dtype": "f8"
         },
         "y0": " ",
         "yaxis": "y"
        },
        {
         "alignmentgroup": "True",
         "boxpoints": "all",
         "customdata": [
          [
           "MIKUTINA Olga"
          ]
         ],
         "fillcolor": "rgba(255,255,255,0)",
         "hoveron": "points",
         "hovertemplate": "noc=%{x}<br>total_segment_score=%{y}<br>skater_name_1=%{customdata[0]}<extra></extra>",
         "legendgroup": "AUT",
         "line": {
          "color": "rgba(255,255,255,0)"
         },
         "marker": {
          "color": "#636efa"
         },
         "name": "AUT",
         "offsetgroup": "AUT",
         "orientation": "v",
         "pointpos": 0,
         "showlegend": true,
         "type": "box",
         "x": [
          "AUT"
         ],
         "x0": " ",
         "xaxis": "x",
         "y": {
          "bdata": "UrgeheuRTkA=",
          "dtype": "f8"
         },
         "y0": " ",
         "yaxis": "y"
        },
        {
         "alignmentgroup": "True",
         "boxpoints": "all",
         "customdata": [
          [
           "PAGANINI Alexia"
          ]
         ],
         "fillcolor": "rgba(255,255,255,0)",
         "hoveron": "points",
         "hovertemplate": "noc=%{x}<br>total_segment_score=%{y}<br>skater_name_1=%{customdata[0]}<extra></extra>",
         "legendgroup": "SUI",
         "line": {
          "color": "rgba(255,255,255,0)"
         },
         "marker": {
          "color": "#EF553B"
         },
         "name": "SUI",
         "offsetgroup": "SUI",
         "orientation": "v",
         "pointpos": 0,
         "showlegend": true,
         "type": "box",
         "x": [
          "SUI"
         ],
         "x0": " ",
         "xaxis": "x",
         "y": {
          "bdata": "SOF6FK6HTkA=",
          "dtype": "f8"
         },
         "y0": " ",
         "yaxis": "y"
        },
        {
         "alignmentgroup": "True",
         "boxpoints": "all",
         "customdata": [
          [
           "SCHIZAS Madeline"
          ]
         ],
         "fillcolor": "rgba(255,255,255,0)",
         "hoveron": "points",
         "hovertemplate": "noc=%{x}<br>total_segment_score=%{y}<br>skater_name_1=%{customdata[0]}<extra></extra>",
         "legendgroup": "CAN",
         "line": {
          "color": "rgba(255,255,255,0)"
         },
         "marker": {
          "color": "#00cc96"
         },
         "name": "CAN",
         "offsetgroup": "CAN",
         "orientation": "v",
         "pointpos": 0,
         "showlegend": true,
         "type": "box",
         "x": [
          "CAN"
         ],
         "x0": " ",
         "xaxis": "x",
         "y": {
          "bdata": "pHA9CtdDTkA=",
          "dtype": "f8"
         },
         "y0": " ",
         "yaxis": "y"
        },
        {
         "alignmentgroup": "True",
         "boxpoints": "all",
         "customdata": [
          [
           "KIIBUS Eva-Lotta"
          ]
         ],
         "fillcolor": "rgba(255,255,255,0)",
         "hoveron": "points",
         "hovertemplate": "noc=%{x}<br>total_segment_score=%{y}<br>skater_name_1=%{customdata[0]}<extra></extra>",
         "legendgroup": "EST",
         "line": {
          "color": "rgba(255,255,255,0)"
         },
         "marker": {
          "color": "#ab63fa"
         },
         "name": "EST",
         "offsetgroup": "EST",
         "orientation": "v",
         "pointpos": 0,
         "showlegend": true,
         "type": "box",
         "x": [
          "EST"
         ],
         "x0": " ",
         "xaxis": "x",
         "y": {
          "bdata": "ZmZmZmbGTUA=",
          "dtype": "f8"
         },
         "y0": " ",
         "yaxis": "y"
        },
        {
         "alignmentgroup": "True",
         "boxpoints": "all",
         "customdata": [
          [
           "van ZUNDERT Lindsay"
          ]
         ],
         "fillcolor": "rgba(255,255,255,0)",
         "hoveron": "points",
         "hovertemplate": "noc=%{x}<br>total_segment_score=%{y}<br>skater_name_1=%{customdata[0]}<extra></extra>",
         "legendgroup": "NED",
         "line": {
          "color": "rgba(255,255,255,0)"
         },
         "marker": {
          "color": "#FFA15A"
         },
         "name": "NED",
         "offsetgroup": "NED",
         "orientation": "v",
         "pointpos": 0,
         "showlegend": true,
         "type": "box",
         "x": [
          "NED"
         ],
         "x0": " ",
         "xaxis": "x",
         "y": {
          "bdata": "H4XrUbieTUA=",
          "dtype": "f8"
         },
         "y0": " ",
         "yaxis": "y"
        },
        {
         "alignmentgroup": "True",
         "boxpoints": "all",
         "customdata": [
          [
           "FEIGIN Alexandra"
          ]
         ],
         "fillcolor": "rgba(255,255,255,0)",
         "hoveron": "points",
         "hovertemplate": "noc=%{x}<br>total_segment_score=%{y}<br>skater_name_1=%{customdata[0]}<extra></extra>",
         "legendgroup": "BUL",
         "line": {
          "color": "rgba(255,255,255,0)"
         },
         "marker": {
          "color": "#19d3f3"
         },
         "name": "BUL",
         "offsetgroup": "BUL",
         "orientation": "v",
         "pointpos": 0,
         "showlegend": true,
         "type": "box",
         "x": [
          "BUL"
         ],
         "x0": " ",
         "xaxis": "x",
         "y": {
          "bdata": "FK5H4XqUTUA=",
          "dtype": "f8"
         },
         "y0": " ",
         "yaxis": "y"
        },
        {
         "alignmentgroup": "True",
         "boxpoints": "all",
         "customdata": [
          [
           "KURAKOVA Ekaterina"
          ]
         ],
         "fillcolor": "rgba(255,255,255,0)",
         "hoveron": "points",
         "hovertemplate": "noc=%{x}<br>total_segment_score=%{y}<br>skater_name_1=%{customdata[0]}<extra></extra>",
         "legendgroup": "POL",
         "line": {
          "color": "rgba(255,255,255,0)"
         },
         "marker": {
          "color": "#FF6692"
         },
         "name": "POL",
         "offsetgroup": "POL",
         "orientation": "v",
         "pointpos": 0,
         "showlegend": true,
         "type": "box",
         "x": [
          "POL"
         ],
         "x0": " ",
         "xaxis": "x",
         "y": {
          "bdata": "CtejcD2KTUA=",
          "dtype": "f8"
         },
         "y0": " ",
         "yaxis": "y"
        },
        {
         "alignmentgroup": "True",
         "boxpoints": "all",
         "customdata": [
          [
           "SAARINEN Jenni"
          ]
         ],
         "fillcolor": "rgba(255,255,255,0)",
         "hoveron": "points",
         "hovertemplate": "noc=%{x}<br>total_segment_score=%{y}<br>skater_name_1=%{customdata[0]}<extra></extra>",
         "legendgroup": "FIN",
         "line": {
          "color": "rgba(255,255,255,0)"
         },
         "marker": {
          "color": "#B6E880"
         },
         "name": "FIN",
         "offsetgroup": "FIN",
         "orientation": "v",
         "pointpos": 0,
         "showlegend": true,
         "type": "box",
         "x": [
          "FIN"
         ],
         "x0": " ",
         "xaxis": "x",
         "y": {
          "bdata": "XI/C9Sh8TEA=",
          "dtype": "f8"
         },
         "y0": " ",
         "yaxis": "y"
        },
        {
         "alignmentgroup": "True",
         "boxpoints": "all",
         "customdata": [
          [
           "TALJEGARD Josefin"
          ]
         ],
         "fillcolor": "rgba(255,255,255,0)",
         "hoveron": "points",
         "hovertemplate": "noc=%{x}<br>total_segment_score=%{y}<br>skater_name_1=%{customdata[0]}<extra></extra>",
         "legendgroup": "SWE",
         "line": {
          "color": "rgba(255,255,255,0)"
         },
         "marker": {
          "color": "#FF97FF"
         },
         "name": "SWE",
         "offsetgroup": "SWE",
         "orientation": "v",
         "pointpos": 0,
         "showlegend": true,
         "type": "box",
         "x": [
          "SWE"
         ],
         "x0": " ",
         "xaxis": "x",
         "y": {
          "bdata": "4XoUrkdBS0A=",
          "dtype": "f8"
         },
         "y0": " ",
         "yaxis": "y"
        },
        {
         "alignmentgroup": "True",
         "boxpoints": "all",
         "customdata": [
          [
           "ZHU Yi"
          ]
         ],
         "fillcolor": "rgba(255,255,255,0)",
         "hoveron": "points",
         "hovertemplate": "noc=%{x}<br>total_segment_score=%{y}<br>skater_name_1=%{customdata[0]}<extra></extra>",
         "legendgroup": "CHN",
         "line": {
          "color": "rgba(255,255,255,0)"
         },
         "marker": {
          "color": "#FECB52"
         },
         "name": "CHN",
         "offsetgroup": "CHN",
         "orientation": "v",
         "pointpos": 0,
         "showlegend": true,
         "type": "box",
         "x": [
          "CHN"
         ],
         "x0": " ",
         "xaxis": "x",
         "y": {
          "bdata": "uB6F61G4SkA=",
          "dtype": "f8"
         },
         "y0": " ",
         "yaxis": "y"
        },
        {
         "alignmentgroup": "True",
         "boxpoints": "all",
         "customdata": [
          [
           "McKAY Natasha"
          ]
         ],
         "fillcolor": "rgba(255,255,255,0)",
         "hoveron": "points",
         "hovertemplate": "noc=%{x}<br>total_segment_score=%{y}<br>skater_name_1=%{customdata[0]}<extra></extra>",
         "legendgroup": "GBR",
         "line": {
          "color": "rgba(255,255,255,0)"
         },
         "marker": {
          "color": "#636efa"
         },
         "name": "GBR",
         "offsetgroup": "GBR",
         "orientation": "v",
         "pointpos": 0,
         "showlegend": true,
         "type": "box",
         "x": [
          "GBR"
         ],
         "x0": " ",
         "xaxis": "x",
         "y": {
          "bdata": "hetRuB5FSkA=",
          "dtype": "f8"
         },
         "y0": " ",
         "yaxis": "y"
        },
        {
         "alignmentgroup": "True",
         "boxpoints": "all",
         "customdata": [
          [
           "CRAINE Kailani"
          ]
         ],
         "fillcolor": "rgba(255,255,255,0)",
         "hoveron": "points",
         "hovertemplate": "noc=%{x}<br>total_segment_score=%{y}<br>skater_name_1=%{customdata[0]}<extra></extra>",
         "legendgroup": "AUS",
         "line": {
          "color": "rgba(255,255,255,0)"
         },
         "marker": {
          "color": "#EF553B"
         },
         "name": "AUS",
         "offsetgroup": "AUS",
         "orientation": "v",
         "pointpos": 0,
         "showlegend": true,
         "type": "box",
         "x": [
          "AUS"
         ],
         "x0": " ",
         "xaxis": "x",
         "y": {
          "bdata": "16NwPQr3SEA=",
          "dtype": "f8"
         },
         "y0": " ",
         "yaxis": "y"
        },
        {
         "alignmentgroup": "True",
         "boxpoints": "all",
         "customdata": [
          [
           "SHABOTOVA Anastasiia"
          ]
         ],
         "fillcolor": "rgba(255,255,255,0)",
         "hoveron": "points",
         "hovertemplate": "noc=%{x}<br>total_segment_score=%{y}<br>skater_name_1=%{customdata[0]}<extra></extra>",
         "legendgroup": "UKR",
         "line": {
          "color": "rgba(255,255,255,0)"
         },
         "marker": {
          "color": "#00cc96"
         },
         "name": "UKR",
         "offsetgroup": "UKR",
         "orientation": "v",
         "pointpos": 0,
         "showlegend": true,
         "type": "box",
         "x": [
          "UKR"
         ],
         "x0": " ",
         "xaxis": "x",
         "y": {
          "bdata": "16NwPQpXSEA=",
          "dtype": "f8"
         },
         "y0": " ",
         "yaxis": "y"
        }
       ],
       "layout": {
        "boxmode": "overlay",
        "legend": {
         "title": {
          "text": "Country"
         },
         "tracegroupgap": 0
        },
        "template": {
         "data": {
          "bar": [
           {
            "error_x": {
             "color": "#2a3f5f"
            },
            "error_y": {
             "color": "#2a3f5f"
            },
            "marker": {
             "line": {
              "color": "#E5ECF6",
              "width": 0.5
             },
             "pattern": {
              "fillmode": "overlay",
              "size": 10,
              "solidity": 0.2
             }
            },
            "type": "bar"
           }
          ],
          "barpolar": [
           {
            "marker": {
             "line": {
              "color": "#E5ECF6",
              "width": 0.5
             },
             "pattern": {
              "fillmode": "overlay",
              "size": 10,
              "solidity": 0.2
             }
            },
            "type": "barpolar"
           }
          ],
          "carpet": [
           {
            "aaxis": {
             "endlinecolor": "#2a3f5f",
             "gridcolor": "white",
             "linecolor": "white",
             "minorgridcolor": "white",
             "startlinecolor": "#2a3f5f"
            },
            "baxis": {
             "endlinecolor": "#2a3f5f",
             "gridcolor": "white",
             "linecolor": "white",
             "minorgridcolor": "white",
             "startlinecolor": "#2a3f5f"
            },
            "type": "carpet"
           }
          ],
          "choropleth": [
           {
            "colorbar": {
             "outlinewidth": 0,
             "ticks": ""
            },
            "type": "choropleth"
           }
          ],
          "contour": [
           {
            "colorbar": {
             "outlinewidth": 0,
             "ticks": ""
            },
            "colorscale": [
             [
              0,
              "#0d0887"
             ],
             [
              0.1111111111111111,
              "#46039f"
             ],
             [
              0.2222222222222222,
              "#7201a8"
             ],
             [
              0.3333333333333333,
              "#9c179e"
             ],
             [
              0.4444444444444444,
              "#bd3786"
             ],
             [
              0.5555555555555556,
              "#d8576b"
             ],
             [
              0.6666666666666666,
              "#ed7953"
             ],
             [
              0.7777777777777778,
              "#fb9f3a"
             ],
             [
              0.8888888888888888,
              "#fdca26"
             ],
             [
              1,
              "#f0f921"
             ]
            ],
            "type": "contour"
           }
          ],
          "contourcarpet": [
           {
            "colorbar": {
             "outlinewidth": 0,
             "ticks": ""
            },
            "type": "contourcarpet"
           }
          ],
          "heatmap": [
           {
            "colorbar": {
             "outlinewidth": 0,
             "ticks": ""
            },
            "colorscale": [
             [
              0,
              "#0d0887"
             ],
             [
              0.1111111111111111,
              "#46039f"
             ],
             [
              0.2222222222222222,
              "#7201a8"
             ],
             [
              0.3333333333333333,
              "#9c179e"
             ],
             [
              0.4444444444444444,
              "#bd3786"
             ],
             [
              0.5555555555555556,
              "#d8576b"
             ],
             [
              0.6666666666666666,
              "#ed7953"
             ],
             [
              0.7777777777777778,
              "#fb9f3a"
             ],
             [
              0.8888888888888888,
              "#fdca26"
             ],
             [
              1,
              "#f0f921"
             ]
            ],
            "type": "heatmap"
           }
          ],
          "histogram": [
           {
            "marker": {
             "pattern": {
              "fillmode": "overlay",
              "size": 10,
              "solidity": 0.2
             }
            },
            "type": "histogram"
           }
          ],
          "histogram2d": [
           {
            "colorbar": {
             "outlinewidth": 0,
             "ticks": ""
            },
            "colorscale": [
             [
              0,
              "#0d0887"
             ],
             [
              0.1111111111111111,
              "#46039f"
             ],
             [
              0.2222222222222222,
              "#7201a8"
             ],
             [
              0.3333333333333333,
              "#9c179e"
             ],
             [
              0.4444444444444444,
              "#bd3786"
             ],
             [
              0.5555555555555556,
              "#d8576b"
             ],
             [
              0.6666666666666666,
              "#ed7953"
             ],
             [
              0.7777777777777778,
              "#fb9f3a"
             ],
             [
              0.8888888888888888,
              "#fdca26"
             ],
             [
              1,
              "#f0f921"
             ]
            ],
            "type": "histogram2d"
           }
          ],
          "histogram2dcontour": [
           {
            "colorbar": {
             "outlinewidth": 0,
             "ticks": ""
            },
            "colorscale": [
             [
              0,
              "#0d0887"
             ],
             [
              0.1111111111111111,
              "#46039f"
             ],
             [
              0.2222222222222222,
              "#7201a8"
             ],
             [
              0.3333333333333333,
              "#9c179e"
             ],
             [
              0.4444444444444444,
              "#bd3786"
             ],
             [
              0.5555555555555556,
              "#d8576b"
             ],
             [
              0.6666666666666666,
              "#ed7953"
             ],
             [
              0.7777777777777778,
              "#fb9f3a"
             ],
             [
              0.8888888888888888,
              "#fdca26"
             ],
             [
              1,
              "#f0f921"
             ]
            ],
            "type": "histogram2dcontour"
           }
          ],
          "mesh3d": [
           {
            "colorbar": {
             "outlinewidth": 0,
             "ticks": ""
            },
            "type": "mesh3d"
           }
          ],
          "parcoords": [
           {
            "line": {
             "colorbar": {
              "outlinewidth": 0,
              "ticks": ""
             }
            },
            "type": "parcoords"
           }
          ],
          "pie": [
           {
            "automargin": true,
            "type": "pie"
           }
          ],
          "scatter": [
           {
            "fillpattern": {
             "fillmode": "overlay",
             "size": 10,
             "solidity": 0.2
            },
            "type": "scatter"
           }
          ],
          "scatter3d": [
           {
            "line": {
             "colorbar": {
              "outlinewidth": 0,
              "ticks": ""
             }
            },
            "marker": {
             "colorbar": {
              "outlinewidth": 0,
              "ticks": ""
             }
            },
            "type": "scatter3d"
           }
          ],
          "scattercarpet": [
           {
            "marker": {
             "colorbar": {
              "outlinewidth": 0,
              "ticks": ""
             }
            },
            "type": "scattercarpet"
           }
          ],
          "scattergeo": [
           {
            "marker": {
             "colorbar": {
              "outlinewidth": 0,
              "ticks": ""
             }
            },
            "type": "scattergeo"
           }
          ],
          "scattergl": [
           {
            "marker": {
             "colorbar": {
              "outlinewidth": 0,
              "ticks": ""
             }
            },
            "type": "scattergl"
           }
          ],
          "scattermap": [
           {
            "marker": {
             "colorbar": {
              "outlinewidth": 0,
              "ticks": ""
             }
            },
            "type": "scattermap"
           }
          ],
          "scattermapbox": [
           {
            "marker": {
             "colorbar": {
              "outlinewidth": 0,
              "ticks": ""
             }
            },
            "type": "scattermapbox"
           }
          ],
          "scatterpolar": [
           {
            "marker": {
             "colorbar": {
              "outlinewidth": 0,
              "ticks": ""
             }
            },
            "type": "scatterpolar"
           }
          ],
          "scatterpolargl": [
           {
            "marker": {
             "colorbar": {
              "outlinewidth": 0,
              "ticks": ""
             }
            },
            "type": "scatterpolargl"
           }
          ],
          "scatterternary": [
           {
            "marker": {
             "colorbar": {
              "outlinewidth": 0,
              "ticks": ""
             }
            },
            "type": "scatterternary"
           }
          ],
          "surface": [
           {
            "colorbar": {
             "outlinewidth": 0,
             "ticks": ""
            },
            "colorscale": [
             [
              0,
              "#0d0887"
             ],
             [
              0.1111111111111111,
              "#46039f"
             ],
             [
              0.2222222222222222,
              "#7201a8"
             ],
             [
              0.3333333333333333,
              "#9c179e"
             ],
             [
              0.4444444444444444,
              "#bd3786"
             ],
             [
              0.5555555555555556,
              "#d8576b"
             ],
             [
              0.6666666666666666,
              "#ed7953"
             ],
             [
              0.7777777777777778,
              "#fb9f3a"
             ],
             [
              0.8888888888888888,
              "#fdca26"
             ],
             [
              1,
              "#f0f921"
             ]
            ],
            "type": "surface"
           }
          ],
          "table": [
           {
            "cells": {
             "fill": {
              "color": "#EBF0F8"
             },
             "line": {
              "color": "white"
             }
            },
            "header": {
             "fill": {
              "color": "#C8D4E3"
             },
             "line": {
              "color": "white"
             }
            },
            "type": "table"
           }
          ]
         },
         "layout": {
          "annotationdefaults": {
           "arrowcolor": "#2a3f5f",
           "arrowhead": 0,
           "arrowwidth": 1
          },
          "autotypenumbers": "strict",
          "coloraxis": {
           "colorbar": {
            "outlinewidth": 0,
            "ticks": ""
           }
          },
          "colorscale": {
           "diverging": [
            [
             0,
             "#8e0152"
            ],
            [
             0.1,
             "#c51b7d"
            ],
            [
             0.2,
             "#de77ae"
            ],
            [
             0.3,
             "#f1b6da"
            ],
            [
             0.4,
             "#fde0ef"
            ],
            [
             0.5,
             "#f7f7f7"
            ],
            [
             0.6,
             "#e6f5d0"
            ],
            [
             0.7,
             "#b8e186"
            ],
            [
             0.8,
             "#7fbc41"
            ],
            [
             0.9,
             "#4d9221"
            ],
            [
             1,
             "#276419"
            ]
           ],
           "sequential": [
            [
             0,
             "#0d0887"
            ],
            [
             0.1111111111111111,
             "#46039f"
            ],
            [
             0.2222222222222222,
             "#7201a8"
            ],
            [
             0.3333333333333333,
             "#9c179e"
            ],
            [
             0.4444444444444444,
             "#bd3786"
            ],
            [
             0.5555555555555556,
             "#d8576b"
            ],
            [
             0.6666666666666666,
             "#ed7953"
            ],
            [
             0.7777777777777778,
             "#fb9f3a"
            ],
            [
             0.8888888888888888,
             "#fdca26"
            ],
            [
             1,
             "#f0f921"
            ]
           ],
           "sequentialminus": [
            [
             0,
             "#0d0887"
            ],
            [
             0.1111111111111111,
             "#46039f"
            ],
            [
             0.2222222222222222,
             "#7201a8"
            ],
            [
             0.3333333333333333,
             "#9c179e"
            ],
            [
             0.4444444444444444,
             "#bd3786"
            ],
            [
             0.5555555555555556,
             "#d8576b"
            ],
            [
             0.6666666666666666,
             "#ed7953"
            ],
            [
             0.7777777777777778,
             "#fb9f3a"
            ],
            [
             0.8888888888888888,
             "#fdca26"
            ],
            [
             1,
             "#f0f921"
            ]
           ]
          },
          "colorway": [
           "#636efa",
           "#EF553B",
           "#00cc96",
           "#ab63fa",
           "#FFA15A",
           "#19d3f3",
           "#FF6692",
           "#B6E880",
           "#FF97FF",
           "#FECB52"
          ],
          "font": {
           "color": "#2a3f5f"
          },
          "geo": {
           "bgcolor": "white",
           "lakecolor": "white",
           "landcolor": "#E5ECF6",
           "showlakes": true,
           "showland": true,
           "subunitcolor": "white"
          },
          "hoverlabel": {
           "align": "left"
          },
          "hovermode": "closest",
          "mapbox": {
           "style": "light"
          },
          "paper_bgcolor": "white",
          "plot_bgcolor": "#E5ECF6",
          "polar": {
           "angularaxis": {
            "gridcolor": "white",
            "linecolor": "white",
            "ticks": ""
           },
           "bgcolor": "#E5ECF6",
           "radialaxis": {
            "gridcolor": "white",
            "linecolor": "white",
            "ticks": ""
           }
          },
          "scene": {
           "xaxis": {
            "backgroundcolor": "#E5ECF6",
            "gridcolor": "white",
            "gridwidth": 2,
            "linecolor": "white",
            "showbackground": true,
            "ticks": "",
            "zerolinecolor": "white"
           },
           "yaxis": {
            "backgroundcolor": "#E5ECF6",
            "gridcolor": "white",
            "gridwidth": 2,
            "linecolor": "white",
            "showbackground": true,
            "ticks": "",
            "zerolinecolor": "white"
           },
           "zaxis": {
            "backgroundcolor": "#E5ECF6",
            "gridcolor": "white",
            "gridwidth": 2,
            "linecolor": "white",
            "showbackground": true,
            "ticks": "",
            "zerolinecolor": "white"
           }
          },
          "shapedefaults": {
           "line": {
            "color": "#2a3f5f"
           }
          },
          "ternary": {
           "aaxis": {
            "gridcolor": "white",
            "linecolor": "white",
            "ticks": ""
           },
           "baxis": {
            "gridcolor": "white",
            "linecolor": "white",
            "ticks": ""
           },
           "bgcolor": "#E5ECF6",
           "caxis": {
            "gridcolor": "white",
            "linecolor": "white",
            "ticks": ""
           }
          },
          "title": {
           "x": 0.05
          },
          "xaxis": {
           "automargin": true,
           "gridcolor": "white",
           "linecolor": "white",
           "ticks": "",
           "title": {
            "standoff": 15
           },
           "zerolinecolor": "white",
           "zerolinewidth": 2
          },
          "yaxis": {
           "automargin": true,
           "gridcolor": "white",
           "linecolor": "white",
           "ticks": "",
           "title": {
            "standoff": 15
           },
           "zerolinecolor": "white",
           "zerolinewidth": 2
          }
         }
        },
        "title": {
         "text": "Score Distribution by Country (Women, Short Program)"
        },
        "xaxis": {
         "anchor": "y",
         "categoryarray": [
          "ROC",
          "JPN",
          "KOR",
          "BEL",
          "USA",
          "GEO",
          "CZE",
          "GER",
          "AZE",
          "BLR",
          "AUT",
          "SUI",
          "CAN",
          "EST",
          "NED",
          "BUL",
          "POL",
          "FIN",
          "SWE",
          "CHN",
          "GBR",
          "AUS",
          "UKR"
         ],
         "categoryorder": "array",
         "domain": [
          0,
          1
         ],
         "title": {
          "text": "Country"
         }
        },
        "yaxis": {
         "anchor": "x",
         "domain": [
          0,
          1
         ],
         "title": {
          "text": "Total Segment Score"
         }
        }
       }
      }
     },
     "metadata": {},
     "output_type": "display_data"
    }
   ],
   "source": [
    "women_short = df_skaters[(df_skaters['category'] == 'Women Single Skating') & (df_skaters['segment'] == 'Short Program')]\n",
    "\n",
    "fig = px.box(\n",
    "    women_short,\n",
    "    x='noc',\n",
    "    y='total_segment_score',\n",
    "    color='noc',\n",
    "    title='Score Distribution by Country (Women, Short Program)',\n",
    "    labels={'noc': 'Country', 'total_segment_score': 'Total Segment Score'},\n",
    "    hover_data=['skater_name_1']\n",
    ")\n",
    "\n",
    "strip_fig = px.strip(\n",
    "    women_short,\n",
    "    x='noc',\n",
    "    y='total_segment_score',\n",
    "    color='noc',\n",
    "    hover_data=['skater_name_1']\n",
    ")\n",
    "\n",
    "for trace in strip_fig.data:\n",
    "    fig.add_trace(trace)\n",
    "\n",
    "fig.show()"
   ]
  },
  {
   "cell_type": "code",
   "execution_count": 258,
   "metadata": {},
   "outputs": [
    {
     "data": {
      "application/vnd.plotly.v1+json": {
       "config": {
        "plotlyServerURL": "https://plot.ly"
       },
       "data": [
        {
         "alignmentgroup": "True",
         "customdata": [
          [
           "CHEN Nathan"
          ],
          [
           "KAGIYAMA Yuma"
          ],
          [
           "HANYU Yuzuru"
          ],
          [
           "GRASSL Daniel"
          ],
          [
           "UNO Shoma"
          ],
          [
           "BROWN Jason"
          ],
          [
           "CHA Junhwan"
          ],
          [
           "JIN Boyang"
          ],
          [
           "SEMENENKO Evgeni"
          ],
          [
           "MESSING Keegan"
          ],
          [
           "KVITELASHVILI Morisi"
          ],
          [
           "VASILJEVS Deniss"
          ],
          [
           "SIAO HIM FA Adam"
          ],
          [
           "KONDRATIUK Mark"
          ],
          [
           "AYMOZ Kevin"
          ],
          [
           "KERRY Brendan"
          ],
          [
           "RIZZO Matteo"
          ],
          [
           "MOZALEV Andrei"
          ],
          [
           "LITVINTSEV Vladimir"
          ],
          [
           "MILYUKOV Konstantin"
          ],
          [
           "MAJOROV Nikolaj"
          ],
          [
           "CARRILLO Donovan"
          ],
          [
           "BRITSCHGI Lukas"
          ],
          [
           "SHMURATKO Ivan"
          ]
         ],
         "hovertemplate": "Gender=Men<br>Country=%{x}<br>Total Segment Score=%{y}<br>skater_name_1=%{customdata[0]}<extra></extra>",
         "legendgroup": "Men",
         "marker": {
          "color": "#636efa"
         },
         "name": "Men",
         "notched": false,
         "offsetgroup": "Men",
         "orientation": "v",
         "showlegend": true,
         "type": "box",
         "x": [
          "USA",
          "JPN",
          "JPN",
          "ITA",
          "JPN",
          "USA",
          "KOR",
          "CHN",
          "ROC",
          "CAN",
          "GEO",
          "LAT",
          "FRA",
          "ROC",
          "FRA",
          "AUS",
          "ITA",
          "ROC",
          "AZE",
          "BLR",
          "SWE",
          "MEX",
          "SUI",
          "UKR"
         ],
         "x0": " ",
         "xaxis": "x",
         "y": {
          "bdata": "XI/C9ShUa0D2KFyPwj1pQFK4HoXrgWdA9ihcj8JtZ0AzMzMzM2NnQAAAAAAAAGdApHA9CtfbZkBmZmZmZm5mQKRwPQrXS2ZApHA9CteLZUAUrkfhelRlQIXrUbge7WRAhetRuB5tZEAfhetRuFZkQJqZmZmZOWRAuB6F61EAZEDNzMzMzNxjQClcj8L1iGNA4XoUrkdhY0CPwvUoXPdhQEjhehSux2FArkfhehROYUA9CtejcA1hQJqZmZmZ6V9A",
          "dtype": "f8"
         },
         "y0": " ",
         "yaxis": "y"
        },
        {
         "alignmentgroup": "True",
         "customdata": [
          [
           "TRUSOVA Alexandra"
          ],
          [
           "SHCHERBAKOVA Anna"
          ],
          [
           "SAKAMOTO Kaori"
          ],
          [
           "YOU Young"
          ],
          [
           "VALIEVA Kamila"
          ],
          [
           "HIGUCHI Wakaba"
          ],
          [
           "LIU Alysa"
          ],
          [
           "BELL Mariah"
          ],
          [
           "HENDRICKX Loena"
          ],
          [
           "GUBANOVA Anastasiia"
          ],
          [
           "KIM Yelim"
          ],
          [
           "KURAKOVA Ekaterina"
          ],
          [
           "SAFONOVA Viktoriia"
          ],
          [
           "MIKUTINA Olga"
          ],
          [
           "RYABOVA Ekaterina"
          ],
          [
           "van ZUNDERT Lindsay"
          ],
          [
           "CHEN Karen"
          ],
          [
           "SCHIZAS Madeline"
          ],
          [
           "SCHOTT Nicole"
          ],
          [
           "KIIBUS Eva-Lotta"
          ],
          [
           "BREZINOVA Eliska"
          ],
          [
           "PAGANINI Alexia"
          ],
          [
           "KAWABE Mana"
          ],
          [
           "FEIGIN Alexandra"
          ],
          [
           "SAARINEN Jenni"
          ]
         ],
         "hovertemplate": "Gender=Women<br>Country=%{x}<br>Total Segment Score=%{y}<br>skater_name_1=%{customdata[0]}<extra></extra>",
         "legendgroup": "Women",
         "marker": {
          "color": "#EF553B"
         },
         "name": "Women",
         "notched": false,
         "offsetgroup": "Women",
         "orientation": "v",
         "showlegend": true,
         "type": "box",
         "x": [
          "ROC",
          "ROC",
          "JPN",
          "KOR",
          "ROC",
          "JPN",
          "USA",
          "USA",
          "BEL",
          "GEO",
          "KOR",
          "POL",
          "BLR",
          "AUT",
          "AZE",
          "NED",
          "USA",
          "CAN",
          "GER",
          "EST",
          "CZE",
          "SUI",
          "JPN",
          "BUL",
          "FIN"
         ],
         "x0": " ",
         "xaxis": "x",
         "y": {
          "bdata": "XI/C9SgkZkAAAAAAAPhlQOF6FK5HKWNAAAAAAADYYUD2KFyPwr1hQPYoXI/CnWFAZmZmZmZuYUA9CtejcB1hQGZmZmZmFmFAw/UoXI/yYEAzMzMzM9tgQHE9CtejsF9ASOF6FK7XXkCkcD0K10NeQJqZmZmZiV1AFK5H4XokXUAUrkfhevRcQFK4HoXrwVxA4XoUrkehXEDNzMzMzAxcQGZmZmZmxltAZmZmZmb2WkDD9ShcjwJaQJqZmZmZCVlAFK5H4XoEWEA=",
          "dtype": "f8"
         },
         "y0": " ",
         "yaxis": "y"
        },
        {
         "alignmentgroup": "True",
         "boxpoints": "all",
         "customdata": [
          [
           "CHEN Nathan"
          ],
          [
           "KAGIYAMA Yuma"
          ],
          [
           "HANYU Yuzuru"
          ],
          [
           "GRASSL Daniel"
          ],
          [
           "UNO Shoma"
          ],
          [
           "BROWN Jason"
          ],
          [
           "CHA Junhwan"
          ],
          [
           "JIN Boyang"
          ],
          [
           "SEMENENKO Evgeni"
          ],
          [
           "MESSING Keegan"
          ],
          [
           "KVITELASHVILI Morisi"
          ],
          [
           "VASILJEVS Deniss"
          ],
          [
           "SIAO HIM FA Adam"
          ],
          [
           "KONDRATIUK Mark"
          ],
          [
           "AYMOZ Kevin"
          ],
          [
           "KERRY Brendan"
          ],
          [
           "RIZZO Matteo"
          ],
          [
           "MOZALEV Andrei"
          ],
          [
           "LITVINTSEV Vladimir"
          ],
          [
           "MILYUKOV Konstantin"
          ],
          [
           "MAJOROV Nikolaj"
          ],
          [
           "CARRILLO Donovan"
          ],
          [
           "BRITSCHGI Lukas"
          ],
          [
           "SHMURATKO Ivan"
          ]
         ],
         "fillcolor": "rgba(255,255,255,0)",
         "hoveron": "points",
         "hovertemplate": "gender=Men<br>noc=%{x}<br>total_segment_score=%{y}<br>skater_name_1=%{customdata[0]}<extra></extra>",
         "legendgroup": "Men",
         "line": {
          "color": "rgba(255,255,255,0)"
         },
         "marker": {
          "color": "#636efa"
         },
         "name": "Men",
         "offsetgroup": "Men",
         "orientation": "v",
         "pointpos": 0,
         "showlegend": true,
         "type": "box",
         "x": [
          "USA",
          "JPN",
          "JPN",
          "ITA",
          "JPN",
          "USA",
          "KOR",
          "CHN",
          "ROC",
          "CAN",
          "GEO",
          "LAT",
          "FRA",
          "ROC",
          "FRA",
          "AUS",
          "ITA",
          "ROC",
          "AZE",
          "BLR",
          "SWE",
          "MEX",
          "SUI",
          "UKR"
         ],
         "x0": " ",
         "xaxis": "x",
         "y": {
          "bdata": "XI/C9ShUa0D2KFyPwj1pQFK4HoXrgWdA9ihcj8JtZ0AzMzMzM2NnQAAAAAAAAGdApHA9CtfbZkBmZmZmZm5mQKRwPQrXS2ZApHA9CteLZUAUrkfhelRlQIXrUbge7WRAhetRuB5tZEAfhetRuFZkQJqZmZmZOWRAuB6F61EAZEDNzMzMzNxjQClcj8L1iGNA4XoUrkdhY0CPwvUoXPdhQEjhehSux2FArkfhehROYUA9CtejcA1hQJqZmZmZ6V9A",
          "dtype": "f8"
         },
         "y0": " ",
         "yaxis": "y"
        },
        {
         "alignmentgroup": "True",
         "boxpoints": "all",
         "customdata": [
          [
           "TRUSOVA Alexandra"
          ],
          [
           "SHCHERBAKOVA Anna"
          ],
          [
           "SAKAMOTO Kaori"
          ],
          [
           "YOU Young"
          ],
          [
           "VALIEVA Kamila"
          ],
          [
           "HIGUCHI Wakaba"
          ],
          [
           "LIU Alysa"
          ],
          [
           "BELL Mariah"
          ],
          [
           "HENDRICKX Loena"
          ],
          [
           "GUBANOVA Anastasiia"
          ],
          [
           "KIM Yelim"
          ],
          [
           "KURAKOVA Ekaterina"
          ],
          [
           "SAFONOVA Viktoriia"
          ],
          [
           "MIKUTINA Olga"
          ],
          [
           "RYABOVA Ekaterina"
          ],
          [
           "van ZUNDERT Lindsay"
          ],
          [
           "CHEN Karen"
          ],
          [
           "SCHIZAS Madeline"
          ],
          [
           "SCHOTT Nicole"
          ],
          [
           "KIIBUS Eva-Lotta"
          ],
          [
           "BREZINOVA Eliska"
          ],
          [
           "PAGANINI Alexia"
          ],
          [
           "KAWABE Mana"
          ],
          [
           "FEIGIN Alexandra"
          ],
          [
           "SAARINEN Jenni"
          ]
         ],
         "fillcolor": "rgba(255,255,255,0)",
         "hoveron": "points",
         "hovertemplate": "gender=Women<br>noc=%{x}<br>total_segment_score=%{y}<br>skater_name_1=%{customdata[0]}<extra></extra>",
         "legendgroup": "Women",
         "line": {
          "color": "rgba(255,255,255,0)"
         },
         "marker": {
          "color": "#EF553B"
         },
         "name": "Women",
         "offsetgroup": "Women",
         "orientation": "v",
         "pointpos": 0,
         "showlegend": true,
         "type": "box",
         "x": [
          "ROC",
          "ROC",
          "JPN",
          "KOR",
          "ROC",
          "JPN",
          "USA",
          "USA",
          "BEL",
          "GEO",
          "KOR",
          "POL",
          "BLR",
          "AUT",
          "AZE",
          "NED",
          "USA",
          "CAN",
          "GER",
          "EST",
          "CZE",
          "SUI",
          "JPN",
          "BUL",
          "FIN"
         ],
         "x0": " ",
         "xaxis": "x",
         "y": {
          "bdata": "XI/C9SgkZkAAAAAAAPhlQOF6FK5HKWNAAAAAAADYYUD2KFyPwr1hQPYoXI/CnWFAZmZmZmZuYUA9CtejcB1hQGZmZmZmFmFAw/UoXI/yYEAzMzMzM9tgQHE9CtejsF9ASOF6FK7XXkCkcD0K10NeQJqZmZmZiV1AFK5H4XokXUAUrkfhevRcQFK4HoXrwVxA4XoUrkehXEDNzMzMzAxcQGZmZmZmxltAZmZmZmb2WkDD9ShcjwJaQJqZmZmZCVlAFK5H4XoEWEA=",
          "dtype": "f8"
         },
         "y0": " ",
         "yaxis": "y"
        }
       ],
       "layout": {
        "boxmode": "group",
        "legend": {
         "title": {
          "text": "Gender"
         },
         "tracegroupgap": 0
        },
        "template": {
         "data": {
          "bar": [
           {
            "error_x": {
             "color": "#2a3f5f"
            },
            "error_y": {
             "color": "#2a3f5f"
            },
            "marker": {
             "line": {
              "color": "#E5ECF6",
              "width": 0.5
             },
             "pattern": {
              "fillmode": "overlay",
              "size": 10,
              "solidity": 0.2
             }
            },
            "type": "bar"
           }
          ],
          "barpolar": [
           {
            "marker": {
             "line": {
              "color": "#E5ECF6",
              "width": 0.5
             },
             "pattern": {
              "fillmode": "overlay",
              "size": 10,
              "solidity": 0.2
             }
            },
            "type": "barpolar"
           }
          ],
          "carpet": [
           {
            "aaxis": {
             "endlinecolor": "#2a3f5f",
             "gridcolor": "white",
             "linecolor": "white",
             "minorgridcolor": "white",
             "startlinecolor": "#2a3f5f"
            },
            "baxis": {
             "endlinecolor": "#2a3f5f",
             "gridcolor": "white",
             "linecolor": "white",
             "minorgridcolor": "white",
             "startlinecolor": "#2a3f5f"
            },
            "type": "carpet"
           }
          ],
          "choropleth": [
           {
            "colorbar": {
             "outlinewidth": 0,
             "ticks": ""
            },
            "type": "choropleth"
           }
          ],
          "contour": [
           {
            "colorbar": {
             "outlinewidth": 0,
             "ticks": ""
            },
            "colorscale": [
             [
              0,
              "#0d0887"
             ],
             [
              0.1111111111111111,
              "#46039f"
             ],
             [
              0.2222222222222222,
              "#7201a8"
             ],
             [
              0.3333333333333333,
              "#9c179e"
             ],
             [
              0.4444444444444444,
              "#bd3786"
             ],
             [
              0.5555555555555556,
              "#d8576b"
             ],
             [
              0.6666666666666666,
              "#ed7953"
             ],
             [
              0.7777777777777778,
              "#fb9f3a"
             ],
             [
              0.8888888888888888,
              "#fdca26"
             ],
             [
              1,
              "#f0f921"
             ]
            ],
            "type": "contour"
           }
          ],
          "contourcarpet": [
           {
            "colorbar": {
             "outlinewidth": 0,
             "ticks": ""
            },
            "type": "contourcarpet"
           }
          ],
          "heatmap": [
           {
            "colorbar": {
             "outlinewidth": 0,
             "ticks": ""
            },
            "colorscale": [
             [
              0,
              "#0d0887"
             ],
             [
              0.1111111111111111,
              "#46039f"
             ],
             [
              0.2222222222222222,
              "#7201a8"
             ],
             [
              0.3333333333333333,
              "#9c179e"
             ],
             [
              0.4444444444444444,
              "#bd3786"
             ],
             [
              0.5555555555555556,
              "#d8576b"
             ],
             [
              0.6666666666666666,
              "#ed7953"
             ],
             [
              0.7777777777777778,
              "#fb9f3a"
             ],
             [
              0.8888888888888888,
              "#fdca26"
             ],
             [
              1,
              "#f0f921"
             ]
            ],
            "type": "heatmap"
           }
          ],
          "histogram": [
           {
            "marker": {
             "pattern": {
              "fillmode": "overlay",
              "size": 10,
              "solidity": 0.2
             }
            },
            "type": "histogram"
           }
          ],
          "histogram2d": [
           {
            "colorbar": {
             "outlinewidth": 0,
             "ticks": ""
            },
            "colorscale": [
             [
              0,
              "#0d0887"
             ],
             [
              0.1111111111111111,
              "#46039f"
             ],
             [
              0.2222222222222222,
              "#7201a8"
             ],
             [
              0.3333333333333333,
              "#9c179e"
             ],
             [
              0.4444444444444444,
              "#bd3786"
             ],
             [
              0.5555555555555556,
              "#d8576b"
             ],
             [
              0.6666666666666666,
              "#ed7953"
             ],
             [
              0.7777777777777778,
              "#fb9f3a"
             ],
             [
              0.8888888888888888,
              "#fdca26"
             ],
             [
              1,
              "#f0f921"
             ]
            ],
            "type": "histogram2d"
           }
          ],
          "histogram2dcontour": [
           {
            "colorbar": {
             "outlinewidth": 0,
             "ticks": ""
            },
            "colorscale": [
             [
              0,
              "#0d0887"
             ],
             [
              0.1111111111111111,
              "#46039f"
             ],
             [
              0.2222222222222222,
              "#7201a8"
             ],
             [
              0.3333333333333333,
              "#9c179e"
             ],
             [
              0.4444444444444444,
              "#bd3786"
             ],
             [
              0.5555555555555556,
              "#d8576b"
             ],
             [
              0.6666666666666666,
              "#ed7953"
             ],
             [
              0.7777777777777778,
              "#fb9f3a"
             ],
             [
              0.8888888888888888,
              "#fdca26"
             ],
             [
              1,
              "#f0f921"
             ]
            ],
            "type": "histogram2dcontour"
           }
          ],
          "mesh3d": [
           {
            "colorbar": {
             "outlinewidth": 0,
             "ticks": ""
            },
            "type": "mesh3d"
           }
          ],
          "parcoords": [
           {
            "line": {
             "colorbar": {
              "outlinewidth": 0,
              "ticks": ""
             }
            },
            "type": "parcoords"
           }
          ],
          "pie": [
           {
            "automargin": true,
            "type": "pie"
           }
          ],
          "scatter": [
           {
            "fillpattern": {
             "fillmode": "overlay",
             "size": 10,
             "solidity": 0.2
            },
            "type": "scatter"
           }
          ],
          "scatter3d": [
           {
            "line": {
             "colorbar": {
              "outlinewidth": 0,
              "ticks": ""
             }
            },
            "marker": {
             "colorbar": {
              "outlinewidth": 0,
              "ticks": ""
             }
            },
            "type": "scatter3d"
           }
          ],
          "scattercarpet": [
           {
            "marker": {
             "colorbar": {
              "outlinewidth": 0,
              "ticks": ""
             }
            },
            "type": "scattercarpet"
           }
          ],
          "scattergeo": [
           {
            "marker": {
             "colorbar": {
              "outlinewidth": 0,
              "ticks": ""
             }
            },
            "type": "scattergeo"
           }
          ],
          "scattergl": [
           {
            "marker": {
             "colorbar": {
              "outlinewidth": 0,
              "ticks": ""
             }
            },
            "type": "scattergl"
           }
          ],
          "scattermap": [
           {
            "marker": {
             "colorbar": {
              "outlinewidth": 0,
              "ticks": ""
             }
            },
            "type": "scattermap"
           }
          ],
          "scattermapbox": [
           {
            "marker": {
             "colorbar": {
              "outlinewidth": 0,
              "ticks": ""
             }
            },
            "type": "scattermapbox"
           }
          ],
          "scatterpolar": [
           {
            "marker": {
             "colorbar": {
              "outlinewidth": 0,
              "ticks": ""
             }
            },
            "type": "scatterpolar"
           }
          ],
          "scatterpolargl": [
           {
            "marker": {
             "colorbar": {
              "outlinewidth": 0,
              "ticks": ""
             }
            },
            "type": "scatterpolargl"
           }
          ],
          "scatterternary": [
           {
            "marker": {
             "colorbar": {
              "outlinewidth": 0,
              "ticks": ""
             }
            },
            "type": "scatterternary"
           }
          ],
          "surface": [
           {
            "colorbar": {
             "outlinewidth": 0,
             "ticks": ""
            },
            "colorscale": [
             [
              0,
              "#0d0887"
             ],
             [
              0.1111111111111111,
              "#46039f"
             ],
             [
              0.2222222222222222,
              "#7201a8"
             ],
             [
              0.3333333333333333,
              "#9c179e"
             ],
             [
              0.4444444444444444,
              "#bd3786"
             ],
             [
              0.5555555555555556,
              "#d8576b"
             ],
             [
              0.6666666666666666,
              "#ed7953"
             ],
             [
              0.7777777777777778,
              "#fb9f3a"
             ],
             [
              0.8888888888888888,
              "#fdca26"
             ],
             [
              1,
              "#f0f921"
             ]
            ],
            "type": "surface"
           }
          ],
          "table": [
           {
            "cells": {
             "fill": {
              "color": "#EBF0F8"
             },
             "line": {
              "color": "white"
             }
            },
            "header": {
             "fill": {
              "color": "#C8D4E3"
             },
             "line": {
              "color": "white"
             }
            },
            "type": "table"
           }
          ]
         },
         "layout": {
          "annotationdefaults": {
           "arrowcolor": "#2a3f5f",
           "arrowhead": 0,
           "arrowwidth": 1
          },
          "autotypenumbers": "strict",
          "coloraxis": {
           "colorbar": {
            "outlinewidth": 0,
            "ticks": ""
           }
          },
          "colorscale": {
           "diverging": [
            [
             0,
             "#8e0152"
            ],
            [
             0.1,
             "#c51b7d"
            ],
            [
             0.2,
             "#de77ae"
            ],
            [
             0.3,
             "#f1b6da"
            ],
            [
             0.4,
             "#fde0ef"
            ],
            [
             0.5,
             "#f7f7f7"
            ],
            [
             0.6,
             "#e6f5d0"
            ],
            [
             0.7,
             "#b8e186"
            ],
            [
             0.8,
             "#7fbc41"
            ],
            [
             0.9,
             "#4d9221"
            ],
            [
             1,
             "#276419"
            ]
           ],
           "sequential": [
            [
             0,
             "#0d0887"
            ],
            [
             0.1111111111111111,
             "#46039f"
            ],
            [
             0.2222222222222222,
             "#7201a8"
            ],
            [
             0.3333333333333333,
             "#9c179e"
            ],
            [
             0.4444444444444444,
             "#bd3786"
            ],
            [
             0.5555555555555556,
             "#d8576b"
            ],
            [
             0.6666666666666666,
             "#ed7953"
            ],
            [
             0.7777777777777778,
             "#fb9f3a"
            ],
            [
             0.8888888888888888,
             "#fdca26"
            ],
            [
             1,
             "#f0f921"
            ]
           ],
           "sequentialminus": [
            [
             0,
             "#0d0887"
            ],
            [
             0.1111111111111111,
             "#46039f"
            ],
            [
             0.2222222222222222,
             "#7201a8"
            ],
            [
             0.3333333333333333,
             "#9c179e"
            ],
            [
             0.4444444444444444,
             "#bd3786"
            ],
            [
             0.5555555555555556,
             "#d8576b"
            ],
            [
             0.6666666666666666,
             "#ed7953"
            ],
            [
             0.7777777777777778,
             "#fb9f3a"
            ],
            [
             0.8888888888888888,
             "#fdca26"
            ],
            [
             1,
             "#f0f921"
            ]
           ]
          },
          "colorway": [
           "#636efa",
           "#EF553B",
           "#00cc96",
           "#ab63fa",
           "#FFA15A",
           "#19d3f3",
           "#FF6692",
           "#B6E880",
           "#FF97FF",
           "#FECB52"
          ],
          "font": {
           "color": "#2a3f5f"
          },
          "geo": {
           "bgcolor": "white",
           "lakecolor": "white",
           "landcolor": "#E5ECF6",
           "showlakes": true,
           "showland": true,
           "subunitcolor": "white"
          },
          "hoverlabel": {
           "align": "left"
          },
          "hovermode": "closest",
          "mapbox": {
           "style": "light"
          },
          "paper_bgcolor": "white",
          "plot_bgcolor": "#E5ECF6",
          "polar": {
           "angularaxis": {
            "gridcolor": "white",
            "linecolor": "white",
            "ticks": ""
           },
           "bgcolor": "#E5ECF6",
           "radialaxis": {
            "gridcolor": "white",
            "linecolor": "white",
            "ticks": ""
           }
          },
          "scene": {
           "xaxis": {
            "backgroundcolor": "#E5ECF6",
            "gridcolor": "white",
            "gridwidth": 2,
            "linecolor": "white",
            "showbackground": true,
            "ticks": "",
            "zerolinecolor": "white"
           },
           "yaxis": {
            "backgroundcolor": "#E5ECF6",
            "gridcolor": "white",
            "gridwidth": 2,
            "linecolor": "white",
            "showbackground": true,
            "ticks": "",
            "zerolinecolor": "white"
           },
           "zaxis": {
            "backgroundcolor": "#E5ECF6",
            "gridcolor": "white",
            "gridwidth": 2,
            "linecolor": "white",
            "showbackground": true,
            "ticks": "",
            "zerolinecolor": "white"
           }
          },
          "shapedefaults": {
           "line": {
            "color": "#2a3f5f"
           }
          },
          "ternary": {
           "aaxis": {
            "gridcolor": "white",
            "linecolor": "white",
            "ticks": ""
           },
           "baxis": {
            "gridcolor": "white",
            "linecolor": "white",
            "ticks": ""
           },
           "bgcolor": "#E5ECF6",
           "caxis": {
            "gridcolor": "white",
            "linecolor": "white",
            "ticks": ""
           }
          },
          "title": {
           "x": 0.05
          },
          "xaxis": {
           "automargin": true,
           "gridcolor": "white",
           "linecolor": "white",
           "ticks": "",
           "title": {
            "standoff": 15
           },
           "zerolinecolor": "white",
           "zerolinewidth": 2
          },
          "yaxis": {
           "automargin": true,
           "gridcolor": "white",
           "linecolor": "white",
           "ticks": "",
           "title": {
            "standoff": 15
           },
           "zerolinecolor": "white",
           "zerolinewidth": 2
          }
         }
        },
        "title": {
         "text": "Score Distribution by Country (Men vs Women, Free Skating)"
        },
        "xaxis": {
         "anchor": "y",
         "domain": [
          0,
          1
         ],
         "title": {
          "text": "Country"
         }
        },
        "yaxis": {
         "anchor": "x",
         "domain": [
          0,
          1
         ],
         "title": {
          "text": "Total Segment Score"
         }
        }
       }
      }
     },
     "metadata": {},
     "output_type": "display_data"
    }
   ],
   "source": [
    "short_programs = df_skaters.loc[\n",
    "    (df_skaters['segment'] == 'Free Skating') & \n",
    "    (df_skaters['category'].isin(['Men Single Skating', 'Women Single Skating']))\n",
    "].copy()\n",
    "\n",
    "short_programs.loc[:, 'gender'] = short_programs['category'].apply(\n",
    "    lambda x: 'Men' if 'Men' in x else 'Women'\n",
    ")\n",
    "\n",
    "fig = px.box(\n",
    "    short_programs,\n",
    "    x='noc',\n",
    "    y='total_segment_score',\n",
    "    color='gender',\n",
    "    title='Score Distribution by Country (Men vs Women, Free Skating)',\n",
    "    labels={\n",
    "        'noc': 'Country',\n",
    "        'total_segment_score': 'Total Segment Score',\n",
    "        'gender': 'Gender'\n",
    "    },\n",
    "    hover_data=['skater_name_1']\n",
    ")\n",
    "\n",
    "for trace in px.strip(\n",
    "    short_programs,\n",
    "    x='noc',\n",
    "    y='total_segment_score',\n",
    "    color='gender',\n",
    "    hover_data=['skater_name_1']\n",
    ").data:\n",
    "    fig.add_trace(trace)\n",
    "\n",
    "fig.show()"
   ]
  },
  {
   "cell_type": "code",
   "execution_count": 259,
   "metadata": {},
   "outputs": [
    {
     "data": {
      "application/vnd.plotly.v1+json": {
       "config": {
        "plotlyServerURL": "https://plot.ly"
       },
       "data": [
        {
         "alignmentgroup": "True",
         "customdata": [
          [
           "CHEN Nathan"
          ],
          [
           "KAGIYAMA Yuma"
          ],
          [
           "UNO Shoma"
          ],
          [
           "CHA Junhwan"
          ],
          [
           "KVITELASHVILI Morisi"
          ],
          [
           "BROWN Jason"
          ],
          [
           "SEMENENKO Evgeni"
          ],
          [
           "HANYU Yuzuru"
          ],
          [
           "MESSING Keegan"
          ],
          [
           "AYMOZ Kevin"
          ],
          [
           "JIN Boyang"
          ],
          [
           "GRASSL Daniel"
          ],
          [
           "RIZZO Matteo"
          ],
          [
           "SIAO HIM FA Adam"
          ],
          [
           "KONDRATIUK Mark"
          ],
          [
           "VASILJEVS Deniss"
          ],
          [
           "KERRY Brendan"
          ],
          [
           "LITVINTSEV Vladimir"
          ],
          [
           "CARRILLO Donovan"
          ],
          [
           "MAJOROV Nikolaj"
          ],
          [
           "MILYUKOV Konstantin"
          ],
          [
           "SHMURATKO Ivan"
          ],
          [
           "MOZALEV Andrei"
          ],
          [
           "BRITSCHGI Lukas"
          ],
          [
           "BREZINA Michal"
          ],
          [
           "BYCHENKO Alexei"
          ],
          [
           "LEE Sihyeong"
          ],
          [
           "SELEVKO Aleksandr"
          ],
          [
           "SADOVSKY Roman"
          ]
         ],
         "hovertemplate": "Gender=Men<br>Country=%{x}<br>Total Score=%{y}<br>skater_name_1=%{customdata[0]}<extra></extra>",
         "legendgroup": "Men",
         "marker": {
          "color": "#636efa"
         },
         "name": "Men",
         "notched": false,
         "offsetgroup": "Men",
         "orientation": "v",
         "showlegend": true,
         "type": "box",
         "x": [
          "USA",
          "JPN",
          "JPN",
          "KOR",
          "GEO",
          "USA",
          "ROC",
          "JPN",
          "CAN",
          "FRA",
          "CHN",
          "ITA",
          "ITA",
          "FRA",
          "ROC",
          "LAT",
          "AUS",
          "AZE",
          "MEX",
          "SWE",
          "BLR",
          "UKR",
          "ROC",
          "SUI",
          "CZE",
          "ISR",
          "KOR",
          "EST",
          "CAN"
         ],
         "x0": " ",
         "xaxis": "x",
         "y": {
          "bdata": "rkfhehR+XEBI4XoUrgdbQJqZmZmZeVpAcT0K16PgWEAfhetRuH5YQI/C9ShcT1hAcT0K16PwV0CamZmZmclXQI/C9ShcT1dAAAAAAABAV0AfhetRuL5WQClcj8L1qFZAuB6F61EoVkCPwvUoXK9VQNejcD0Kh1VAMzMzMzNTVUDD9ShcjzJVQJqZmZmZCVVAXI/C9SjsU0DD9Shcj6JTQI/C9Shcn1NA16NwPQqHU0AzMzMzM0NTQArXo3A9ClNAXI/C9SjMUkBxPQrXowBRQFyPwvUobFBAw/UoXI9SUEDD9Shcj2JPQA==",
          "dtype": "f8"
         },
         "y0": " ",
         "yaxis": "y"
        },
        {
         "alignmentgroup": "True",
         "customdata": [
          [
           "VALIEVA Kamila"
          ],
          [
           "SHCHERBAKOVA Anna"
          ],
          [
           "SAKAMOTO Kaori"
          ],
          [
           "TRUSOVA Alexandra"
          ],
          [
           "HIGUCHI Wakaba"
          ],
          [
           "YOU Young"
          ],
          [
           "HENDRICKX Loena"
          ],
          [
           "LIU Alysa"
          ],
          [
           "KIM Yelim"
          ],
          [
           "GUBANOVA Anastasiia"
          ],
          [
           "BELL Mariah"
          ],
          [
           "BREZINOVA Eliska"
          ],
          [
           "CHEN Karen"
          ],
          [
           "SCHOTT Nicole"
          ],
          [
           "KAWABE Mana"
          ],
          [
           "RYABOVA Ekaterina"
          ],
          [
           "SAFONOVA Viktoriia"
          ],
          [
           "MIKUTINA Olga"
          ],
          [
           "PAGANINI Alexia"
          ],
          [
           "SCHIZAS Madeline"
          ],
          [
           "KIIBUS Eva-Lotta"
          ],
          [
           "van ZUNDERT Lindsay"
          ],
          [
           "FEIGIN Alexandra"
          ],
          [
           "KURAKOVA Ekaterina"
          ],
          [
           "SAARINEN Jenni"
          ],
          [
           "TALJEGARD Josefin"
          ],
          [
           "ZHU Yi"
          ],
          [
           "McKAY Natasha"
          ],
          [
           "CRAINE Kailani"
          ],
          [
           "SHABOTOVA Anastasiia"
          ]
         ],
         "hovertemplate": "Gender=Women<br>Country=%{x}<br>Total Score=%{y}<br>skater_name_1=%{customdata[0]}<extra></extra>",
         "legendgroup": "Women",
         "marker": {
          "color": "#EF553B"
         },
         "name": "Women",
         "notched": false,
         "offsetgroup": "Women",
         "orientation": "v",
         "showlegend": true,
         "type": "box",
         "x": [
          "ROC",
          "ROC",
          "JPN",
          "ROC",
          "JPN",
          "KOR",
          "BEL",
          "USA",
          "KOR",
          "GEO",
          "USA",
          "CZE",
          "USA",
          "GER",
          "JPN",
          "AZE",
          "BLR",
          "AUT",
          "SUI",
          "CAN",
          "EST",
          "NED",
          "BUL",
          "POL",
          "FIN",
          "SWE",
          "CHN",
          "GBR",
          "AUS",
          "UKR"
         ],
         "x0": " ",
         "xaxis": "x",
         "y": {
          "bdata": "CtejcD2KVEDNzMzMzAxUQPYoXI/C9VNAZmZmZmamUkBxPQrXo2BSQPYoXI/ClVFA9ihcj8KFUUAAAAAAAGBRQFK4HoXr8VBAmpmZmZlZUEC4HoXrUVhQQKRwPQrXE1BA16NwPQoHUEBxPQrXo5BPQLgehetRWE9AKVyPwvXoTkB7FK5H4bpOQFK4HoXrkU5ASOF6FK6HTkCkcD0K10NOQGZmZmZmxk1AH4XrUbieTUAUrkfhepRNQArXo3A9ik1AXI/C9Sh8TEDhehSuR0FLQLgehetRuEpAhetRuB5FSkDXo3A9CvdIQNejcD0KV0hA",
          "dtype": "f8"
         },
         "y0": " ",
         "yaxis": "y"
        },
        {
         "alignmentgroup": "True",
         "boxpoints": "all",
         "customdata": [
          [
           "CHEN Nathan"
          ],
          [
           "KAGIYAMA Yuma"
          ],
          [
           "UNO Shoma"
          ],
          [
           "CHA Junhwan"
          ],
          [
           "KVITELASHVILI Morisi"
          ],
          [
           "BROWN Jason"
          ],
          [
           "SEMENENKO Evgeni"
          ],
          [
           "HANYU Yuzuru"
          ],
          [
           "MESSING Keegan"
          ],
          [
           "AYMOZ Kevin"
          ],
          [
           "JIN Boyang"
          ],
          [
           "GRASSL Daniel"
          ],
          [
           "RIZZO Matteo"
          ],
          [
           "SIAO HIM FA Adam"
          ],
          [
           "KONDRATIUK Mark"
          ],
          [
           "VASILJEVS Deniss"
          ],
          [
           "KERRY Brendan"
          ],
          [
           "LITVINTSEV Vladimir"
          ],
          [
           "CARRILLO Donovan"
          ],
          [
           "MAJOROV Nikolaj"
          ],
          [
           "MILYUKOV Konstantin"
          ],
          [
           "SHMURATKO Ivan"
          ],
          [
           "MOZALEV Andrei"
          ],
          [
           "BRITSCHGI Lukas"
          ],
          [
           "BREZINA Michal"
          ],
          [
           "BYCHENKO Alexei"
          ],
          [
           "LEE Sihyeong"
          ],
          [
           "SELEVKO Aleksandr"
          ],
          [
           "SADOVSKY Roman"
          ]
         ],
         "fillcolor": "rgba(255,255,255,0)",
         "hoveron": "points",
         "hovertemplate": "gender=Men<br>noc=%{x}<br>total_segment_score=%{y}<br>skater_name_1=%{customdata[0]}<extra></extra>",
         "legendgroup": "Men",
         "line": {
          "color": "rgba(255,255,255,0)"
         },
         "marker": {
          "color": "#636efa"
         },
         "name": "Men",
         "offsetgroup": "Men",
         "orientation": "v",
         "pointpos": 0,
         "showlegend": true,
         "type": "box",
         "x": [
          "USA",
          "JPN",
          "JPN",
          "KOR",
          "GEO",
          "USA",
          "ROC",
          "JPN",
          "CAN",
          "FRA",
          "CHN",
          "ITA",
          "ITA",
          "FRA",
          "ROC",
          "LAT",
          "AUS",
          "AZE",
          "MEX",
          "SWE",
          "BLR",
          "UKR",
          "ROC",
          "SUI",
          "CZE",
          "ISR",
          "KOR",
          "EST",
          "CAN"
         ],
         "x0": " ",
         "xaxis": "x",
         "y": {
          "bdata": "rkfhehR+XEBI4XoUrgdbQJqZmZmZeVpAcT0K16PgWEAfhetRuH5YQI/C9ShcT1hAcT0K16PwV0CamZmZmclXQI/C9ShcT1dAAAAAAABAV0AfhetRuL5WQClcj8L1qFZAuB6F61EoVkCPwvUoXK9VQNejcD0Kh1VAMzMzMzNTVUDD9ShcjzJVQJqZmZmZCVVAXI/C9SjsU0DD9Shcj6JTQI/C9Shcn1NA16NwPQqHU0AzMzMzM0NTQArXo3A9ClNAXI/C9SjMUkBxPQrXowBRQFyPwvUobFBAw/UoXI9SUEDD9Shcj2JPQA==",
          "dtype": "f8"
         },
         "y0": " ",
         "yaxis": "y"
        },
        {
         "alignmentgroup": "True",
         "boxpoints": "all",
         "customdata": [
          [
           "VALIEVA Kamila"
          ],
          [
           "SHCHERBAKOVA Anna"
          ],
          [
           "SAKAMOTO Kaori"
          ],
          [
           "TRUSOVA Alexandra"
          ],
          [
           "HIGUCHI Wakaba"
          ],
          [
           "YOU Young"
          ],
          [
           "HENDRICKX Loena"
          ],
          [
           "LIU Alysa"
          ],
          [
           "KIM Yelim"
          ],
          [
           "GUBANOVA Anastasiia"
          ],
          [
           "BELL Mariah"
          ],
          [
           "BREZINOVA Eliska"
          ],
          [
           "CHEN Karen"
          ],
          [
           "SCHOTT Nicole"
          ],
          [
           "KAWABE Mana"
          ],
          [
           "RYABOVA Ekaterina"
          ],
          [
           "SAFONOVA Viktoriia"
          ],
          [
           "MIKUTINA Olga"
          ],
          [
           "PAGANINI Alexia"
          ],
          [
           "SCHIZAS Madeline"
          ],
          [
           "KIIBUS Eva-Lotta"
          ],
          [
           "van ZUNDERT Lindsay"
          ],
          [
           "FEIGIN Alexandra"
          ],
          [
           "KURAKOVA Ekaterina"
          ],
          [
           "SAARINEN Jenni"
          ],
          [
           "TALJEGARD Josefin"
          ],
          [
           "ZHU Yi"
          ],
          [
           "McKAY Natasha"
          ],
          [
           "CRAINE Kailani"
          ],
          [
           "SHABOTOVA Anastasiia"
          ]
         ],
         "fillcolor": "rgba(255,255,255,0)",
         "hoveron": "points",
         "hovertemplate": "gender=Women<br>noc=%{x}<br>total_segment_score=%{y}<br>skater_name_1=%{customdata[0]}<extra></extra>",
         "legendgroup": "Women",
         "line": {
          "color": "rgba(255,255,255,0)"
         },
         "marker": {
          "color": "#EF553B"
         },
         "name": "Women",
         "offsetgroup": "Women",
         "orientation": "v",
         "pointpos": 0,
         "showlegend": true,
         "type": "box",
         "x": [
          "ROC",
          "ROC",
          "JPN",
          "ROC",
          "JPN",
          "KOR",
          "BEL",
          "USA",
          "KOR",
          "GEO",
          "USA",
          "CZE",
          "USA",
          "GER",
          "JPN",
          "AZE",
          "BLR",
          "AUT",
          "SUI",
          "CAN",
          "EST",
          "NED",
          "BUL",
          "POL",
          "FIN",
          "SWE",
          "CHN",
          "GBR",
          "AUS",
          "UKR"
         ],
         "x0": " ",
         "xaxis": "x",
         "y": {
          "bdata": "CtejcD2KVEDNzMzMzAxUQPYoXI/C9VNAZmZmZmamUkBxPQrXo2BSQPYoXI/ClVFA9ihcj8KFUUAAAAAAAGBRQFK4HoXr8VBAmpmZmZlZUEC4HoXrUVhQQKRwPQrXE1BA16NwPQoHUEBxPQrXo5BPQLgehetRWE9AKVyPwvXoTkB7FK5H4bpOQFK4HoXrkU5ASOF6FK6HTkCkcD0K10NOQGZmZmZmxk1AH4XrUbieTUAUrkfhepRNQArXo3A9ik1AXI/C9Sh8TEDhehSuR0FLQLgehetRuEpAhetRuB5FSkDXo3A9CvdIQNejcD0KV0hA",
          "dtype": "f8"
         },
         "y0": " ",
         "yaxis": "y"
        }
       ],
       "layout": {
        "boxmode": "group",
        "legend": {
         "title": {
          "text": "Gender"
         },
         "tracegroupgap": 0
        },
        "template": {
         "data": {
          "bar": [
           {
            "error_x": {
             "color": "#2a3f5f"
            },
            "error_y": {
             "color": "#2a3f5f"
            },
            "marker": {
             "line": {
              "color": "#E5ECF6",
              "width": 0.5
             },
             "pattern": {
              "fillmode": "overlay",
              "size": 10,
              "solidity": 0.2
             }
            },
            "type": "bar"
           }
          ],
          "barpolar": [
           {
            "marker": {
             "line": {
              "color": "#E5ECF6",
              "width": 0.5
             },
             "pattern": {
              "fillmode": "overlay",
              "size": 10,
              "solidity": 0.2
             }
            },
            "type": "barpolar"
           }
          ],
          "carpet": [
           {
            "aaxis": {
             "endlinecolor": "#2a3f5f",
             "gridcolor": "white",
             "linecolor": "white",
             "minorgridcolor": "white",
             "startlinecolor": "#2a3f5f"
            },
            "baxis": {
             "endlinecolor": "#2a3f5f",
             "gridcolor": "white",
             "linecolor": "white",
             "minorgridcolor": "white",
             "startlinecolor": "#2a3f5f"
            },
            "type": "carpet"
           }
          ],
          "choropleth": [
           {
            "colorbar": {
             "outlinewidth": 0,
             "ticks": ""
            },
            "type": "choropleth"
           }
          ],
          "contour": [
           {
            "colorbar": {
             "outlinewidth": 0,
             "ticks": ""
            },
            "colorscale": [
             [
              0,
              "#0d0887"
             ],
             [
              0.1111111111111111,
              "#46039f"
             ],
             [
              0.2222222222222222,
              "#7201a8"
             ],
             [
              0.3333333333333333,
              "#9c179e"
             ],
             [
              0.4444444444444444,
              "#bd3786"
             ],
             [
              0.5555555555555556,
              "#d8576b"
             ],
             [
              0.6666666666666666,
              "#ed7953"
             ],
             [
              0.7777777777777778,
              "#fb9f3a"
             ],
             [
              0.8888888888888888,
              "#fdca26"
             ],
             [
              1,
              "#f0f921"
             ]
            ],
            "type": "contour"
           }
          ],
          "contourcarpet": [
           {
            "colorbar": {
             "outlinewidth": 0,
             "ticks": ""
            },
            "type": "contourcarpet"
           }
          ],
          "heatmap": [
           {
            "colorbar": {
             "outlinewidth": 0,
             "ticks": ""
            },
            "colorscale": [
             [
              0,
              "#0d0887"
             ],
             [
              0.1111111111111111,
              "#46039f"
             ],
             [
              0.2222222222222222,
              "#7201a8"
             ],
             [
              0.3333333333333333,
              "#9c179e"
             ],
             [
              0.4444444444444444,
              "#bd3786"
             ],
             [
              0.5555555555555556,
              "#d8576b"
             ],
             [
              0.6666666666666666,
              "#ed7953"
             ],
             [
              0.7777777777777778,
              "#fb9f3a"
             ],
             [
              0.8888888888888888,
              "#fdca26"
             ],
             [
              1,
              "#f0f921"
             ]
            ],
            "type": "heatmap"
           }
          ],
          "histogram": [
           {
            "marker": {
             "pattern": {
              "fillmode": "overlay",
              "size": 10,
              "solidity": 0.2
             }
            },
            "type": "histogram"
           }
          ],
          "histogram2d": [
           {
            "colorbar": {
             "outlinewidth": 0,
             "ticks": ""
            },
            "colorscale": [
             [
              0,
              "#0d0887"
             ],
             [
              0.1111111111111111,
              "#46039f"
             ],
             [
              0.2222222222222222,
              "#7201a8"
             ],
             [
              0.3333333333333333,
              "#9c179e"
             ],
             [
              0.4444444444444444,
              "#bd3786"
             ],
             [
              0.5555555555555556,
              "#d8576b"
             ],
             [
              0.6666666666666666,
              "#ed7953"
             ],
             [
              0.7777777777777778,
              "#fb9f3a"
             ],
             [
              0.8888888888888888,
              "#fdca26"
             ],
             [
              1,
              "#f0f921"
             ]
            ],
            "type": "histogram2d"
           }
          ],
          "histogram2dcontour": [
           {
            "colorbar": {
             "outlinewidth": 0,
             "ticks": ""
            },
            "colorscale": [
             [
              0,
              "#0d0887"
             ],
             [
              0.1111111111111111,
              "#46039f"
             ],
             [
              0.2222222222222222,
              "#7201a8"
             ],
             [
              0.3333333333333333,
              "#9c179e"
             ],
             [
              0.4444444444444444,
              "#bd3786"
             ],
             [
              0.5555555555555556,
              "#d8576b"
             ],
             [
              0.6666666666666666,
              "#ed7953"
             ],
             [
              0.7777777777777778,
              "#fb9f3a"
             ],
             [
              0.8888888888888888,
              "#fdca26"
             ],
             [
              1,
              "#f0f921"
             ]
            ],
            "type": "histogram2dcontour"
           }
          ],
          "mesh3d": [
           {
            "colorbar": {
             "outlinewidth": 0,
             "ticks": ""
            },
            "type": "mesh3d"
           }
          ],
          "parcoords": [
           {
            "line": {
             "colorbar": {
              "outlinewidth": 0,
              "ticks": ""
             }
            },
            "type": "parcoords"
           }
          ],
          "pie": [
           {
            "automargin": true,
            "type": "pie"
           }
          ],
          "scatter": [
           {
            "fillpattern": {
             "fillmode": "overlay",
             "size": 10,
             "solidity": 0.2
            },
            "type": "scatter"
           }
          ],
          "scatter3d": [
           {
            "line": {
             "colorbar": {
              "outlinewidth": 0,
              "ticks": ""
             }
            },
            "marker": {
             "colorbar": {
              "outlinewidth": 0,
              "ticks": ""
             }
            },
            "type": "scatter3d"
           }
          ],
          "scattercarpet": [
           {
            "marker": {
             "colorbar": {
              "outlinewidth": 0,
              "ticks": ""
             }
            },
            "type": "scattercarpet"
           }
          ],
          "scattergeo": [
           {
            "marker": {
             "colorbar": {
              "outlinewidth": 0,
              "ticks": ""
             }
            },
            "type": "scattergeo"
           }
          ],
          "scattergl": [
           {
            "marker": {
             "colorbar": {
              "outlinewidth": 0,
              "ticks": ""
             }
            },
            "type": "scattergl"
           }
          ],
          "scattermap": [
           {
            "marker": {
             "colorbar": {
              "outlinewidth": 0,
              "ticks": ""
             }
            },
            "type": "scattermap"
           }
          ],
          "scattermapbox": [
           {
            "marker": {
             "colorbar": {
              "outlinewidth": 0,
              "ticks": ""
             }
            },
            "type": "scattermapbox"
           }
          ],
          "scatterpolar": [
           {
            "marker": {
             "colorbar": {
              "outlinewidth": 0,
              "ticks": ""
             }
            },
            "type": "scatterpolar"
           }
          ],
          "scatterpolargl": [
           {
            "marker": {
             "colorbar": {
              "outlinewidth": 0,
              "ticks": ""
             }
            },
            "type": "scatterpolargl"
           }
          ],
          "scatterternary": [
           {
            "marker": {
             "colorbar": {
              "outlinewidth": 0,
              "ticks": ""
             }
            },
            "type": "scatterternary"
           }
          ],
          "surface": [
           {
            "colorbar": {
             "outlinewidth": 0,
             "ticks": ""
            },
            "colorscale": [
             [
              0,
              "#0d0887"
             ],
             [
              0.1111111111111111,
              "#46039f"
             ],
             [
              0.2222222222222222,
              "#7201a8"
             ],
             [
              0.3333333333333333,
              "#9c179e"
             ],
             [
              0.4444444444444444,
              "#bd3786"
             ],
             [
              0.5555555555555556,
              "#d8576b"
             ],
             [
              0.6666666666666666,
              "#ed7953"
             ],
             [
              0.7777777777777778,
              "#fb9f3a"
             ],
             [
              0.8888888888888888,
              "#fdca26"
             ],
             [
              1,
              "#f0f921"
             ]
            ],
            "type": "surface"
           }
          ],
          "table": [
           {
            "cells": {
             "fill": {
              "color": "#EBF0F8"
             },
             "line": {
              "color": "white"
             }
            },
            "header": {
             "fill": {
              "color": "#C8D4E3"
             },
             "line": {
              "color": "white"
             }
            },
            "type": "table"
           }
          ]
         },
         "layout": {
          "annotationdefaults": {
           "arrowcolor": "#2a3f5f",
           "arrowhead": 0,
           "arrowwidth": 1
          },
          "autotypenumbers": "strict",
          "coloraxis": {
           "colorbar": {
            "outlinewidth": 0,
            "ticks": ""
           }
          },
          "colorscale": {
           "diverging": [
            [
             0,
             "#8e0152"
            ],
            [
             0.1,
             "#c51b7d"
            ],
            [
             0.2,
             "#de77ae"
            ],
            [
             0.3,
             "#f1b6da"
            ],
            [
             0.4,
             "#fde0ef"
            ],
            [
             0.5,
             "#f7f7f7"
            ],
            [
             0.6,
             "#e6f5d0"
            ],
            [
             0.7,
             "#b8e186"
            ],
            [
             0.8,
             "#7fbc41"
            ],
            [
             0.9,
             "#4d9221"
            ],
            [
             1,
             "#276419"
            ]
           ],
           "sequential": [
            [
             0,
             "#0d0887"
            ],
            [
             0.1111111111111111,
             "#46039f"
            ],
            [
             0.2222222222222222,
             "#7201a8"
            ],
            [
             0.3333333333333333,
             "#9c179e"
            ],
            [
             0.4444444444444444,
             "#bd3786"
            ],
            [
             0.5555555555555556,
             "#d8576b"
            ],
            [
             0.6666666666666666,
             "#ed7953"
            ],
            [
             0.7777777777777778,
             "#fb9f3a"
            ],
            [
             0.8888888888888888,
             "#fdca26"
            ],
            [
             1,
             "#f0f921"
            ]
           ],
           "sequentialminus": [
            [
             0,
             "#0d0887"
            ],
            [
             0.1111111111111111,
             "#46039f"
            ],
            [
             0.2222222222222222,
             "#7201a8"
            ],
            [
             0.3333333333333333,
             "#9c179e"
            ],
            [
             0.4444444444444444,
             "#bd3786"
            ],
            [
             0.5555555555555556,
             "#d8576b"
            ],
            [
             0.6666666666666666,
             "#ed7953"
            ],
            [
             0.7777777777777778,
             "#fb9f3a"
            ],
            [
             0.8888888888888888,
             "#fdca26"
            ],
            [
             1,
             "#f0f921"
            ]
           ]
          },
          "colorway": [
           "#636efa",
           "#EF553B",
           "#00cc96",
           "#ab63fa",
           "#FFA15A",
           "#19d3f3",
           "#FF6692",
           "#B6E880",
           "#FF97FF",
           "#FECB52"
          ],
          "font": {
           "color": "#2a3f5f"
          },
          "geo": {
           "bgcolor": "white",
           "lakecolor": "white",
           "landcolor": "#E5ECF6",
           "showlakes": true,
           "showland": true,
           "subunitcolor": "white"
          },
          "hoverlabel": {
           "align": "left"
          },
          "hovermode": "closest",
          "mapbox": {
           "style": "light"
          },
          "paper_bgcolor": "white",
          "plot_bgcolor": "#E5ECF6",
          "polar": {
           "angularaxis": {
            "gridcolor": "white",
            "linecolor": "white",
            "ticks": ""
           },
           "bgcolor": "#E5ECF6",
           "radialaxis": {
            "gridcolor": "white",
            "linecolor": "white",
            "ticks": ""
           }
          },
          "scene": {
           "xaxis": {
            "backgroundcolor": "#E5ECF6",
            "gridcolor": "white",
            "gridwidth": 2,
            "linecolor": "white",
            "showbackground": true,
            "ticks": "",
            "zerolinecolor": "white"
           },
           "yaxis": {
            "backgroundcolor": "#E5ECF6",
            "gridcolor": "white",
            "gridwidth": 2,
            "linecolor": "white",
            "showbackground": true,
            "ticks": "",
            "zerolinecolor": "white"
           },
           "zaxis": {
            "backgroundcolor": "#E5ECF6",
            "gridcolor": "white",
            "gridwidth": 2,
            "linecolor": "white",
            "showbackground": true,
            "ticks": "",
            "zerolinecolor": "white"
           }
          },
          "shapedefaults": {
           "line": {
            "color": "#2a3f5f"
           }
          },
          "ternary": {
           "aaxis": {
            "gridcolor": "white",
            "linecolor": "white",
            "ticks": ""
           },
           "baxis": {
            "gridcolor": "white",
            "linecolor": "white",
            "ticks": ""
           },
           "bgcolor": "#E5ECF6",
           "caxis": {
            "gridcolor": "white",
            "linecolor": "white",
            "ticks": ""
           }
          },
          "title": {
           "x": 0.05
          },
          "xaxis": {
           "automargin": true,
           "gridcolor": "white",
           "linecolor": "white",
           "ticks": "",
           "title": {
            "standoff": 15
           },
           "zerolinecolor": "white",
           "zerolinewidth": 2
          },
          "yaxis": {
           "automargin": true,
           "gridcolor": "white",
           "linecolor": "white",
           "ticks": "",
           "title": {
            "standoff": 15
           },
           "zerolinecolor": "white",
           "zerolinewidth": 2
          }
         }
        },
        "title": {
         "text": "Score Distribution by Country (Men vs Women, Short Program)"
        },
        "xaxis": {
         "anchor": "y",
         "domain": [
          0,
          1
         ],
         "title": {
          "text": "Country"
         }
        },
        "yaxis": {
         "anchor": "x",
         "domain": [
          0,
          1
         ],
         "title": {
          "text": "Total Score"
         }
        }
       }
      }
     },
     "metadata": {},
     "output_type": "display_data"
    }
   ],
   "source": [
    "short_programs = df_skaters.loc[\n",
    "    (df_skaters['segment'] == 'Short Program') & \n",
    "    (df_skaters['category'].isin(['Men Single Skating', 'Women Single Skating']))\n",
    "].copy()\n",
    "\n",
    "short_programs.loc[:, 'gender'] = short_programs['category'].apply(\n",
    "    lambda x: 'Men' if 'Men' in x else 'Women'\n",
    ")\n",
    "\n",
    "fig = px.box(\n",
    "    short_programs,\n",
    "    x='noc',\n",
    "    y='total_segment_score',\n",
    "    color='gender',\n",
    "    title='Score Distribution by Country (Men vs Women, Short Program)',\n",
    "    labels={\n",
    "        'noc': 'Country',\n",
    "        'total_segment_score': 'Total Score',\n",
    "        'gender': 'Gender'\n",
    "    },\n",
    "    category_orders={'gender': ['Men', 'Women']},\n",
    "    hover_data=['skater_name_1']\n",
    ")\n",
    "\n",
    "strip_fig = px.strip(\n",
    "    short_programs,\n",
    "    x='noc',\n",
    "    y='total_segment_score',\n",
    "    color='gender',\n",
    "    hover_data=['skater_name_1']\n",
    ")\n",
    "\n",
    "for trace in strip_fig.data:\n",
    "    fig.add_trace(trace)\n",
    "\n",
    "fig.update_layout(\n",
    "    xaxis_title='Country',\n",
    "    yaxis_title='Total Score',\n",
    "    boxmode='group',\n",
    "    legend_title='Gender'\n",
    ")\n",
    "\n",
    "fig.show()"
   ]
  },
  {
   "cell_type": "code",
   "execution_count": 260,
   "metadata": {},
   "outputs": [
    {
     "data": {
      "application/vnd.plotly.v1+json": {
       "config": {
        "plotlyServerURL": "https://plot.ly"
       },
       "data": [
        {
         "customdata": [
          [
           "VALIEVA Kamila"
          ],
          [
           "SHCHERBAKOVA Anna"
          ],
          [
           "SAKAMOTO Kaori"
          ],
          [
           "TRUSOVA Alexandra"
          ],
          [
           "HIGUCHI Wakaba"
          ],
          [
           "YOU Young"
          ],
          [
           "HENDRICKX Loena"
          ],
          [
           "LIU Alysa"
          ],
          [
           "KIM Yelim"
          ],
          [
           "GUBANOVA Anastasiia"
          ],
          [
           "BELL Mariah"
          ],
          [
           "BREZINOVA Eliska"
          ],
          [
           "CHEN Karen"
          ],
          [
           "SCHOTT Nicole"
          ],
          [
           "KAWABE Mana"
          ],
          [
           "RYABOVA Ekaterina"
          ],
          [
           "SAFONOVA Viktoriia"
          ],
          [
           "MIKUTINA Olga"
          ],
          [
           "PAGANINI Alexia"
          ],
          [
           "SCHIZAS Madeline"
          ],
          [
           "KIIBUS Eva-Lotta"
          ],
          [
           "van ZUNDERT Lindsay"
          ],
          [
           "FEIGIN Alexandra"
          ],
          [
           "KURAKOVA Ekaterina"
          ],
          [
           "SAARINEN Jenni"
          ],
          [
           "TALJEGARD Josefin"
          ],
          [
           "ZHU Yi"
          ],
          [
           "McKAY Natasha"
          ],
          [
           "CRAINE Kailani"
          ],
          [
           "SHABOTOVA Anastasiia"
          ]
         ],
         "hovertemplate": "Program Type=Short Program<br>Starting Number=%{x}<br>Total Score=%{y}<br>skater_name_1=%{customdata[0]}<extra></extra>",
         "legendgroup": "Short Program",
         "marker": {
          "color": "#636efa",
          "symbol": "circle"
         },
         "mode": "markers",
         "name": "Short Program",
         "orientation": "v",
         "showlegend": true,
         "type": "scatter",
         "x": {
          "bdata": "Gh0eHBQbFxYTCQoNGREEGBADEgsOBQ8VAgYMCAcB",
          "dtype": "i1"
         },
         "xaxis": "x",
         "y": {
          "bdata": "CtejcD2KVEDNzMzMzAxUQPYoXI/C9VNAZmZmZmamUkBxPQrXo2BSQPYoXI/ClVFA9ihcj8KFUUAAAAAAAGBRQFK4HoXr8VBAmpmZmZlZUEC4HoXrUVhQQKRwPQrXE1BA16NwPQoHUEBxPQrXo5BPQLgehetRWE9AKVyPwvXoTkB7FK5H4bpOQFK4HoXrkU5ASOF6FK6HTkCkcD0K10NOQGZmZmZmxk1AH4XrUbieTUAUrkfhepRNQArXo3A9ik1AXI/C9Sh8TEDhehSuR0FLQLgehetRuEpAhetRuB5FSkDXo3A9CvdIQNejcD0KV0hA",
          "dtype": "f8"
         },
         "yaxis": "y"
        },
        {
         "customdata": [
          [
           "TRUSOVA Alexandra"
          ],
          [
           "SHCHERBAKOVA Anna"
          ],
          [
           "SAKAMOTO Kaori"
          ],
          [
           "YOU Young"
          ],
          [
           "VALIEVA Kamila"
          ],
          [
           "HIGUCHI Wakaba"
          ],
          [
           "LIU Alysa"
          ],
          [
           "BELL Mariah"
          ],
          [
           "HENDRICKX Loena"
          ],
          [
           "GUBANOVA Anastasiia"
          ],
          [
           "KIM Yelim"
          ],
          [
           "KURAKOVA Ekaterina"
          ],
          [
           "SAFONOVA Viktoriia"
          ],
          [
           "MIKUTINA Olga"
          ],
          [
           "RYABOVA Ekaterina"
          ],
          [
           "van ZUNDERT Lindsay"
          ],
          [
           "CHEN Karen"
          ],
          [
           "SCHIZAS Madeline"
          ],
          [
           "SCHOTT Nicole"
          ],
          [
           "KIIBUS Eva-Lotta"
          ],
          [
           "BREZINOVA Eliska"
          ],
          [
           "PAGANINI Alexia"
          ],
          [
           "KAWABE Mana"
          ],
          [
           "FEIGIN Alexandra"
          ],
          [
           "SAARINEN Jenni"
          ]
         ],
         "hovertemplate": "Program Type=Free Skating<br>Starting Number=%{x}<br>Total Score=%{y}<br>skater_name_1=%{customdata[0]}<extra></extra>",
         "legendgroup": "Free Skating",
         "marker": {
          "color": "#EF553B",
          "symbol": "circle"
         },
         "mode": "markers",
         "name": "Free Skating",
         "orientation": "v",
         "showlegend": true,
         "type": "scatter",
         "x": {
          "bdata": "FhgXFBkVEg8TEBECCQgKBA0GDAUOBwsDAQ==",
          "dtype": "i1"
         },
         "xaxis": "x",
         "y": {
          "bdata": "XI/C9SgkZkAAAAAAAPhlQOF6FK5HKWNAAAAAAADYYUD2KFyPwr1hQPYoXI/CnWFAZmZmZmZuYUA9CtejcB1hQGZmZmZmFmFAw/UoXI/yYEAzMzMzM9tgQHE9CtejsF9ASOF6FK7XXkCkcD0K10NeQJqZmZmZiV1AFK5H4XokXUAUrkfhevRcQFK4HoXrwVxA4XoUrkehXEDNzMzMzAxcQGZmZmZmxltAZmZmZmb2WkDD9ShcjwJaQJqZmZmZCVlAFK5H4XoEWEA=",
          "dtype": "f8"
         },
         "yaxis": "y"
        }
       ],
       "layout": {
        "legend": {
         "title": {
          "text": "Program Type"
         },
         "tracegroupgap": 0
        },
        "template": {
         "data": {
          "bar": [
           {
            "error_x": {
             "color": "#2a3f5f"
            },
            "error_y": {
             "color": "#2a3f5f"
            },
            "marker": {
             "line": {
              "color": "#E5ECF6",
              "width": 0.5
             },
             "pattern": {
              "fillmode": "overlay",
              "size": 10,
              "solidity": 0.2
             }
            },
            "type": "bar"
           }
          ],
          "barpolar": [
           {
            "marker": {
             "line": {
              "color": "#E5ECF6",
              "width": 0.5
             },
             "pattern": {
              "fillmode": "overlay",
              "size": 10,
              "solidity": 0.2
             }
            },
            "type": "barpolar"
           }
          ],
          "carpet": [
           {
            "aaxis": {
             "endlinecolor": "#2a3f5f",
             "gridcolor": "white",
             "linecolor": "white",
             "minorgridcolor": "white",
             "startlinecolor": "#2a3f5f"
            },
            "baxis": {
             "endlinecolor": "#2a3f5f",
             "gridcolor": "white",
             "linecolor": "white",
             "minorgridcolor": "white",
             "startlinecolor": "#2a3f5f"
            },
            "type": "carpet"
           }
          ],
          "choropleth": [
           {
            "colorbar": {
             "outlinewidth": 0,
             "ticks": ""
            },
            "type": "choropleth"
           }
          ],
          "contour": [
           {
            "colorbar": {
             "outlinewidth": 0,
             "ticks": ""
            },
            "colorscale": [
             [
              0,
              "#0d0887"
             ],
             [
              0.1111111111111111,
              "#46039f"
             ],
             [
              0.2222222222222222,
              "#7201a8"
             ],
             [
              0.3333333333333333,
              "#9c179e"
             ],
             [
              0.4444444444444444,
              "#bd3786"
             ],
             [
              0.5555555555555556,
              "#d8576b"
             ],
             [
              0.6666666666666666,
              "#ed7953"
             ],
             [
              0.7777777777777778,
              "#fb9f3a"
             ],
             [
              0.8888888888888888,
              "#fdca26"
             ],
             [
              1,
              "#f0f921"
             ]
            ],
            "type": "contour"
           }
          ],
          "contourcarpet": [
           {
            "colorbar": {
             "outlinewidth": 0,
             "ticks": ""
            },
            "type": "contourcarpet"
           }
          ],
          "heatmap": [
           {
            "colorbar": {
             "outlinewidth": 0,
             "ticks": ""
            },
            "colorscale": [
             [
              0,
              "#0d0887"
             ],
             [
              0.1111111111111111,
              "#46039f"
             ],
             [
              0.2222222222222222,
              "#7201a8"
             ],
             [
              0.3333333333333333,
              "#9c179e"
             ],
             [
              0.4444444444444444,
              "#bd3786"
             ],
             [
              0.5555555555555556,
              "#d8576b"
             ],
             [
              0.6666666666666666,
              "#ed7953"
             ],
             [
              0.7777777777777778,
              "#fb9f3a"
             ],
             [
              0.8888888888888888,
              "#fdca26"
             ],
             [
              1,
              "#f0f921"
             ]
            ],
            "type": "heatmap"
           }
          ],
          "histogram": [
           {
            "marker": {
             "pattern": {
              "fillmode": "overlay",
              "size": 10,
              "solidity": 0.2
             }
            },
            "type": "histogram"
           }
          ],
          "histogram2d": [
           {
            "colorbar": {
             "outlinewidth": 0,
             "ticks": ""
            },
            "colorscale": [
             [
              0,
              "#0d0887"
             ],
             [
              0.1111111111111111,
              "#46039f"
             ],
             [
              0.2222222222222222,
              "#7201a8"
             ],
             [
              0.3333333333333333,
              "#9c179e"
             ],
             [
              0.4444444444444444,
              "#bd3786"
             ],
             [
              0.5555555555555556,
              "#d8576b"
             ],
             [
              0.6666666666666666,
              "#ed7953"
             ],
             [
              0.7777777777777778,
              "#fb9f3a"
             ],
             [
              0.8888888888888888,
              "#fdca26"
             ],
             [
              1,
              "#f0f921"
             ]
            ],
            "type": "histogram2d"
           }
          ],
          "histogram2dcontour": [
           {
            "colorbar": {
             "outlinewidth": 0,
             "ticks": ""
            },
            "colorscale": [
             [
              0,
              "#0d0887"
             ],
             [
              0.1111111111111111,
              "#46039f"
             ],
             [
              0.2222222222222222,
              "#7201a8"
             ],
             [
              0.3333333333333333,
              "#9c179e"
             ],
             [
              0.4444444444444444,
              "#bd3786"
             ],
             [
              0.5555555555555556,
              "#d8576b"
             ],
             [
              0.6666666666666666,
              "#ed7953"
             ],
             [
              0.7777777777777778,
              "#fb9f3a"
             ],
             [
              0.8888888888888888,
              "#fdca26"
             ],
             [
              1,
              "#f0f921"
             ]
            ],
            "type": "histogram2dcontour"
           }
          ],
          "mesh3d": [
           {
            "colorbar": {
             "outlinewidth": 0,
             "ticks": ""
            },
            "type": "mesh3d"
           }
          ],
          "parcoords": [
           {
            "line": {
             "colorbar": {
              "outlinewidth": 0,
              "ticks": ""
             }
            },
            "type": "parcoords"
           }
          ],
          "pie": [
           {
            "automargin": true,
            "type": "pie"
           }
          ],
          "scatter": [
           {
            "fillpattern": {
             "fillmode": "overlay",
             "size": 10,
             "solidity": 0.2
            },
            "type": "scatter"
           }
          ],
          "scatter3d": [
           {
            "line": {
             "colorbar": {
              "outlinewidth": 0,
              "ticks": ""
             }
            },
            "marker": {
             "colorbar": {
              "outlinewidth": 0,
              "ticks": ""
             }
            },
            "type": "scatter3d"
           }
          ],
          "scattercarpet": [
           {
            "marker": {
             "colorbar": {
              "outlinewidth": 0,
              "ticks": ""
             }
            },
            "type": "scattercarpet"
           }
          ],
          "scattergeo": [
           {
            "marker": {
             "colorbar": {
              "outlinewidth": 0,
              "ticks": ""
             }
            },
            "type": "scattergeo"
           }
          ],
          "scattergl": [
           {
            "marker": {
             "colorbar": {
              "outlinewidth": 0,
              "ticks": ""
             }
            },
            "type": "scattergl"
           }
          ],
          "scattermap": [
           {
            "marker": {
             "colorbar": {
              "outlinewidth": 0,
              "ticks": ""
             }
            },
            "type": "scattermap"
           }
          ],
          "scattermapbox": [
           {
            "marker": {
             "colorbar": {
              "outlinewidth": 0,
              "ticks": ""
             }
            },
            "type": "scattermapbox"
           }
          ],
          "scatterpolar": [
           {
            "marker": {
             "colorbar": {
              "outlinewidth": 0,
              "ticks": ""
             }
            },
            "type": "scatterpolar"
           }
          ],
          "scatterpolargl": [
           {
            "marker": {
             "colorbar": {
              "outlinewidth": 0,
              "ticks": ""
             }
            },
            "type": "scatterpolargl"
           }
          ],
          "scatterternary": [
           {
            "marker": {
             "colorbar": {
              "outlinewidth": 0,
              "ticks": ""
             }
            },
            "type": "scatterternary"
           }
          ],
          "surface": [
           {
            "colorbar": {
             "outlinewidth": 0,
             "ticks": ""
            },
            "colorscale": [
             [
              0,
              "#0d0887"
             ],
             [
              0.1111111111111111,
              "#46039f"
             ],
             [
              0.2222222222222222,
              "#7201a8"
             ],
             [
              0.3333333333333333,
              "#9c179e"
             ],
             [
              0.4444444444444444,
              "#bd3786"
             ],
             [
              0.5555555555555556,
              "#d8576b"
             ],
             [
              0.6666666666666666,
              "#ed7953"
             ],
             [
              0.7777777777777778,
              "#fb9f3a"
             ],
             [
              0.8888888888888888,
              "#fdca26"
             ],
             [
              1,
              "#f0f921"
             ]
            ],
            "type": "surface"
           }
          ],
          "table": [
           {
            "cells": {
             "fill": {
              "color": "#EBF0F8"
             },
             "line": {
              "color": "white"
             }
            },
            "header": {
             "fill": {
              "color": "#C8D4E3"
             },
             "line": {
              "color": "white"
             }
            },
            "type": "table"
           }
          ]
         },
         "layout": {
          "annotationdefaults": {
           "arrowcolor": "#2a3f5f",
           "arrowhead": 0,
           "arrowwidth": 1
          },
          "autotypenumbers": "strict",
          "coloraxis": {
           "colorbar": {
            "outlinewidth": 0,
            "ticks": ""
           }
          },
          "colorscale": {
           "diverging": [
            [
             0,
             "#8e0152"
            ],
            [
             0.1,
             "#c51b7d"
            ],
            [
             0.2,
             "#de77ae"
            ],
            [
             0.3,
             "#f1b6da"
            ],
            [
             0.4,
             "#fde0ef"
            ],
            [
             0.5,
             "#f7f7f7"
            ],
            [
             0.6,
             "#e6f5d0"
            ],
            [
             0.7,
             "#b8e186"
            ],
            [
             0.8,
             "#7fbc41"
            ],
            [
             0.9,
             "#4d9221"
            ],
            [
             1,
             "#276419"
            ]
           ],
           "sequential": [
            [
             0,
             "#0d0887"
            ],
            [
             0.1111111111111111,
             "#46039f"
            ],
            [
             0.2222222222222222,
             "#7201a8"
            ],
            [
             0.3333333333333333,
             "#9c179e"
            ],
            [
             0.4444444444444444,
             "#bd3786"
            ],
            [
             0.5555555555555556,
             "#d8576b"
            ],
            [
             0.6666666666666666,
             "#ed7953"
            ],
            [
             0.7777777777777778,
             "#fb9f3a"
            ],
            [
             0.8888888888888888,
             "#fdca26"
            ],
            [
             1,
             "#f0f921"
            ]
           ],
           "sequentialminus": [
            [
             0,
             "#0d0887"
            ],
            [
             0.1111111111111111,
             "#46039f"
            ],
            [
             0.2222222222222222,
             "#7201a8"
            ],
            [
             0.3333333333333333,
             "#9c179e"
            ],
            [
             0.4444444444444444,
             "#bd3786"
            ],
            [
             0.5555555555555556,
             "#d8576b"
            ],
            [
             0.6666666666666666,
             "#ed7953"
            ],
            [
             0.7777777777777778,
             "#fb9f3a"
            ],
            [
             0.8888888888888888,
             "#fdca26"
            ],
            [
             1,
             "#f0f921"
            ]
           ]
          },
          "colorway": [
           "#636efa",
           "#EF553B",
           "#00cc96",
           "#ab63fa",
           "#FFA15A",
           "#19d3f3",
           "#FF6692",
           "#B6E880",
           "#FF97FF",
           "#FECB52"
          ],
          "font": {
           "color": "#2a3f5f"
          },
          "geo": {
           "bgcolor": "white",
           "lakecolor": "white",
           "landcolor": "#E5ECF6",
           "showlakes": true,
           "showland": true,
           "subunitcolor": "white"
          },
          "hoverlabel": {
           "align": "left"
          },
          "hovermode": "closest",
          "mapbox": {
           "style": "light"
          },
          "paper_bgcolor": "white",
          "plot_bgcolor": "#E5ECF6",
          "polar": {
           "angularaxis": {
            "gridcolor": "white",
            "linecolor": "white",
            "ticks": ""
           },
           "bgcolor": "#E5ECF6",
           "radialaxis": {
            "gridcolor": "white",
            "linecolor": "white",
            "ticks": ""
           }
          },
          "scene": {
           "xaxis": {
            "backgroundcolor": "#E5ECF6",
            "gridcolor": "white",
            "gridwidth": 2,
            "linecolor": "white",
            "showbackground": true,
            "ticks": "",
            "zerolinecolor": "white"
           },
           "yaxis": {
            "backgroundcolor": "#E5ECF6",
            "gridcolor": "white",
            "gridwidth": 2,
            "linecolor": "white",
            "showbackground": true,
            "ticks": "",
            "zerolinecolor": "white"
           },
           "zaxis": {
            "backgroundcolor": "#E5ECF6",
            "gridcolor": "white",
            "gridwidth": 2,
            "linecolor": "white",
            "showbackground": true,
            "ticks": "",
            "zerolinecolor": "white"
           }
          },
          "shapedefaults": {
           "line": {
            "color": "#2a3f5f"
           }
          },
          "ternary": {
           "aaxis": {
            "gridcolor": "white",
            "linecolor": "white",
            "ticks": ""
           },
           "baxis": {
            "gridcolor": "white",
            "linecolor": "white",
            "ticks": ""
           },
           "bgcolor": "#E5ECF6",
           "caxis": {
            "gridcolor": "white",
            "linecolor": "white",
            "ticks": ""
           }
          },
          "title": {
           "x": 0.05
          },
          "xaxis": {
           "automargin": true,
           "gridcolor": "white",
           "linecolor": "white",
           "ticks": "",
           "title": {
            "standoff": 15
           },
           "zerolinecolor": "white",
           "zerolinewidth": 2
          },
          "yaxis": {
           "automargin": true,
           "gridcolor": "white",
           "linecolor": "white",
           "ticks": "",
           "title": {
            "standoff": 15
           },
           "zerolinecolor": "white",
           "zerolinewidth": 2
          }
         }
        },
        "title": {
         "text": "Score vs Starting Number (Women, Short and Free Programs)"
        },
        "xaxis": {
         "anchor": "y",
         "domain": [
          0,
          1
         ],
         "title": {
          "text": "Starting Number"
         }
        },
        "yaxis": {
         "anchor": "x",
         "domain": [
          0,
          1
         ],
         "title": {
          "text": "Total Score"
         }
        }
       }
      }
     },
     "metadata": {},
     "output_type": "display_data"
    }
   ],
   "source": [
    "women = df_skaters[(df_skaters['category'] == 'Women Single Skating')]\n",
    "\n",
    "fig = px.scatter(\n",
    "    women,\n",
    "    x=\"starting_number\",\n",
    "    y=\"total_segment_score\",\n",
    "    color=\"segment\",\n",
    "    title=\"Score vs Starting Number (Women, Short and Free Programs)\",\n",
    "    labels={\n",
    "        \"starting_number\": \"Starting Number\",\n",
    "        \"total_segment_score\": \"Total Score\",\n",
    "        \"segment\": \"Program Type\"\n",
    "    },\n",
    "    category_orders={\n",
    "        \"segment\": [\"Short Program\", \"Free Skating\"]\n",
    "    },\n",
    "    hover_data=['skater_name_1']\n",
    ")\n",
    "\n",
    "fig.update_layout(\n",
    "    xaxis_title=\"Starting Number\",\n",
    "    yaxis_title=\"Total Score\",\n",
    "    legend_title=\"Program Type\"\n",
    ")\n",
    "\n",
    "fig.show()"
   ]
  },
  {
   "cell_type": "code",
   "execution_count": 261,
   "metadata": {},
   "outputs": [
    {
     "data": {
      "application/vnd.plotly.v1+json": {
       "config": {
        "plotlyServerURL": "https://plot.ly"
       },
       "data": [
        {
         "customdata": [
          [
           "CHEN Nathan"
          ],
          [
           "KAGIYAMA Yuma"
          ],
          [
           "HANYU Yuzuru"
          ],
          [
           "GRASSL Daniel"
          ],
          [
           "UNO Shoma"
          ],
          [
           "BROWN Jason"
          ],
          [
           "CHA Junhwan"
          ],
          [
           "JIN Boyang"
          ],
          [
           "SEMENENKO Evgeni"
          ],
          [
           "MESSING Keegan"
          ],
          [
           "KVITELASHVILI Morisi"
          ],
          [
           "VASILJEVS Deniss"
          ],
          [
           "SIAO HIM FA Adam"
          ],
          [
           "KONDRATIUK Mark"
          ],
          [
           "AYMOZ Kevin"
          ],
          [
           "KERRY Brendan"
          ],
          [
           "RIZZO Matteo"
          ],
          [
           "MOZALEV Andrei"
          ],
          [
           "LITVINTSEV Vladimir"
          ],
          [
           "MILYUKOV Konstantin"
          ],
          [
           "MAJOROV Nikolaj"
          ],
          [
           "CARRILLO Donovan"
          ],
          [
           "BRITSCHGI Lukas"
          ],
          [
           "SHMURATKO Ivan"
          ]
         ],
         "hovertemplate": "segment=Free Skating<br>starting_number=%{x}<br>total_segment_score=%{y}<br>skater_name_1=%{customdata[0]}<extra></extra>",
         "legendgroup": "Free Skating",
         "marker": {
          "color": "#636efa",
          "symbol": "circle"
         },
         "mode": "markers",
         "name": "Free Skating",
         "orientation": "v",
         "showlegend": true,
         "type": "scatter",
         "x": {
          "bdata": "GBcRDRYTFQ4SEBQJCwoPCAwCBwQFBgED",
          "dtype": "i1"
         },
         "xaxis": "x",
         "y": {
          "bdata": "XI/C9ShUa0D2KFyPwj1pQFK4HoXrgWdA9ihcj8JtZ0AzMzMzM2NnQAAAAAAAAGdApHA9CtfbZkBmZmZmZm5mQKRwPQrXS2ZApHA9CteLZUAUrkfhelRlQIXrUbge7WRAhetRuB5tZEAfhetRuFZkQJqZmZmZOWRAuB6F61EAZEDNzMzMzNxjQClcj8L1iGNA4XoUrkdhY0CPwvUoXPdhQEjhehSux2FArkfhehROYUA9CtejcA1hQJqZmZmZ6V9A",
          "dtype": "f8"
         },
         "yaxis": "y"
        },
        {
         "customdata": [
          [
           "CHEN Nathan"
          ],
          [
           "KAGIYAMA Yuma"
          ],
          [
           "UNO Shoma"
          ],
          [
           "CHA Junhwan"
          ],
          [
           "KVITELASHVILI Morisi"
          ],
          [
           "BROWN Jason"
          ],
          [
           "SEMENENKO Evgeni"
          ],
          [
           "HANYU Yuzuru"
          ],
          [
           "MESSING Keegan"
          ],
          [
           "AYMOZ Kevin"
          ],
          [
           "JIN Boyang"
          ],
          [
           "GRASSL Daniel"
          ],
          [
           "RIZZO Matteo"
          ],
          [
           "SIAO HIM FA Adam"
          ],
          [
           "KONDRATIUK Mark"
          ],
          [
           "VASILJEVS Deniss"
          ],
          [
           "KERRY Brendan"
          ],
          [
           "LITVINTSEV Vladimir"
          ],
          [
           "CARRILLO Donovan"
          ],
          [
           "MAJOROV Nikolaj"
          ],
          [
           "MILYUKOV Konstantin"
          ],
          [
           "SHMURATKO Ivan"
          ],
          [
           "MOZALEV Andrei"
          ],
          [
           "BRITSCHGI Lukas"
          ],
          [
           "BREZINA Michal"
          ],
          [
           "BYCHENKO Alexei"
          ],
          [
           "LEE Sihyeong"
          ],
          [
           "SELEVKO Aleksandr"
          ],
          [
           "SADOVSKY Roman"
          ]
         ],
         "hovertemplate": "segment=Short Program<br>starting_number=%{x}<br>total_segment_score=%{y}<br>skater_name_1=%{customdata[0]}<extra></extra>",
         "legendgroup": "Short Program",
         "marker": {
          "color": "#EF553B",
          "symbol": "circle"
         },
         "mode": "markers",
         "name": "Short Program",
         "orientation": "v",
         "showlegend": true,
         "type": "scatter",
         "x": {
          "bdata": "HBsWFx0eERUaEgUZGA8QEw4GCAINCRQDCwoHBAE=",
          "dtype": "i1"
         },
         "xaxis": "x",
         "y": {
          "bdata": "rkfhehR+XEBI4XoUrgdbQJqZmZmZeVpAcT0K16PgWEAfhetRuH5YQI/C9ShcT1hAcT0K16PwV0CamZmZmclXQI/C9ShcT1dAAAAAAABAV0AfhetRuL5WQClcj8L1qFZAuB6F61EoVkCPwvUoXK9VQNejcD0Kh1VAMzMzMzNTVUDD9ShcjzJVQJqZmZmZCVVAXI/C9SjsU0DD9Shcj6JTQI/C9Shcn1NA16NwPQqHU0AzMzMzM0NTQArXo3A9ClNAXI/C9SjMUkBxPQrXowBRQFyPwvUobFBAw/UoXI9SUEDD9Shcj2JPQA==",
          "dtype": "f8"
         },
         "yaxis": "y"
        }
       ],
       "layout": {
        "legend": {
         "title": {
          "text": "segment"
         },
         "tracegroupgap": 0
        },
        "template": {
         "data": {
          "bar": [
           {
            "error_x": {
             "color": "#2a3f5f"
            },
            "error_y": {
             "color": "#2a3f5f"
            },
            "marker": {
             "line": {
              "color": "#E5ECF6",
              "width": 0.5
             },
             "pattern": {
              "fillmode": "overlay",
              "size": 10,
              "solidity": 0.2
             }
            },
            "type": "bar"
           }
          ],
          "barpolar": [
           {
            "marker": {
             "line": {
              "color": "#E5ECF6",
              "width": 0.5
             },
             "pattern": {
              "fillmode": "overlay",
              "size": 10,
              "solidity": 0.2
             }
            },
            "type": "barpolar"
           }
          ],
          "carpet": [
           {
            "aaxis": {
             "endlinecolor": "#2a3f5f",
             "gridcolor": "white",
             "linecolor": "white",
             "minorgridcolor": "white",
             "startlinecolor": "#2a3f5f"
            },
            "baxis": {
             "endlinecolor": "#2a3f5f",
             "gridcolor": "white",
             "linecolor": "white",
             "minorgridcolor": "white",
             "startlinecolor": "#2a3f5f"
            },
            "type": "carpet"
           }
          ],
          "choropleth": [
           {
            "colorbar": {
             "outlinewidth": 0,
             "ticks": ""
            },
            "type": "choropleth"
           }
          ],
          "contour": [
           {
            "colorbar": {
             "outlinewidth": 0,
             "ticks": ""
            },
            "colorscale": [
             [
              0,
              "#0d0887"
             ],
             [
              0.1111111111111111,
              "#46039f"
             ],
             [
              0.2222222222222222,
              "#7201a8"
             ],
             [
              0.3333333333333333,
              "#9c179e"
             ],
             [
              0.4444444444444444,
              "#bd3786"
             ],
             [
              0.5555555555555556,
              "#d8576b"
             ],
             [
              0.6666666666666666,
              "#ed7953"
             ],
             [
              0.7777777777777778,
              "#fb9f3a"
             ],
             [
              0.8888888888888888,
              "#fdca26"
             ],
             [
              1,
              "#f0f921"
             ]
            ],
            "type": "contour"
           }
          ],
          "contourcarpet": [
           {
            "colorbar": {
             "outlinewidth": 0,
             "ticks": ""
            },
            "type": "contourcarpet"
           }
          ],
          "heatmap": [
           {
            "colorbar": {
             "outlinewidth": 0,
             "ticks": ""
            },
            "colorscale": [
             [
              0,
              "#0d0887"
             ],
             [
              0.1111111111111111,
              "#46039f"
             ],
             [
              0.2222222222222222,
              "#7201a8"
             ],
             [
              0.3333333333333333,
              "#9c179e"
             ],
             [
              0.4444444444444444,
              "#bd3786"
             ],
             [
              0.5555555555555556,
              "#d8576b"
             ],
             [
              0.6666666666666666,
              "#ed7953"
             ],
             [
              0.7777777777777778,
              "#fb9f3a"
             ],
             [
              0.8888888888888888,
              "#fdca26"
             ],
             [
              1,
              "#f0f921"
             ]
            ],
            "type": "heatmap"
           }
          ],
          "histogram": [
           {
            "marker": {
             "pattern": {
              "fillmode": "overlay",
              "size": 10,
              "solidity": 0.2
             }
            },
            "type": "histogram"
           }
          ],
          "histogram2d": [
           {
            "colorbar": {
             "outlinewidth": 0,
             "ticks": ""
            },
            "colorscale": [
             [
              0,
              "#0d0887"
             ],
             [
              0.1111111111111111,
              "#46039f"
             ],
             [
              0.2222222222222222,
              "#7201a8"
             ],
             [
              0.3333333333333333,
              "#9c179e"
             ],
             [
              0.4444444444444444,
              "#bd3786"
             ],
             [
              0.5555555555555556,
              "#d8576b"
             ],
             [
              0.6666666666666666,
              "#ed7953"
             ],
             [
              0.7777777777777778,
              "#fb9f3a"
             ],
             [
              0.8888888888888888,
              "#fdca26"
             ],
             [
              1,
              "#f0f921"
             ]
            ],
            "type": "histogram2d"
           }
          ],
          "histogram2dcontour": [
           {
            "colorbar": {
             "outlinewidth": 0,
             "ticks": ""
            },
            "colorscale": [
             [
              0,
              "#0d0887"
             ],
             [
              0.1111111111111111,
              "#46039f"
             ],
             [
              0.2222222222222222,
              "#7201a8"
             ],
             [
              0.3333333333333333,
              "#9c179e"
             ],
             [
              0.4444444444444444,
              "#bd3786"
             ],
             [
              0.5555555555555556,
              "#d8576b"
             ],
             [
              0.6666666666666666,
              "#ed7953"
             ],
             [
              0.7777777777777778,
              "#fb9f3a"
             ],
             [
              0.8888888888888888,
              "#fdca26"
             ],
             [
              1,
              "#f0f921"
             ]
            ],
            "type": "histogram2dcontour"
           }
          ],
          "mesh3d": [
           {
            "colorbar": {
             "outlinewidth": 0,
             "ticks": ""
            },
            "type": "mesh3d"
           }
          ],
          "parcoords": [
           {
            "line": {
             "colorbar": {
              "outlinewidth": 0,
              "ticks": ""
             }
            },
            "type": "parcoords"
           }
          ],
          "pie": [
           {
            "automargin": true,
            "type": "pie"
           }
          ],
          "scatter": [
           {
            "fillpattern": {
             "fillmode": "overlay",
             "size": 10,
             "solidity": 0.2
            },
            "type": "scatter"
           }
          ],
          "scatter3d": [
           {
            "line": {
             "colorbar": {
              "outlinewidth": 0,
              "ticks": ""
             }
            },
            "marker": {
             "colorbar": {
              "outlinewidth": 0,
              "ticks": ""
             }
            },
            "type": "scatter3d"
           }
          ],
          "scattercarpet": [
           {
            "marker": {
             "colorbar": {
              "outlinewidth": 0,
              "ticks": ""
             }
            },
            "type": "scattercarpet"
           }
          ],
          "scattergeo": [
           {
            "marker": {
             "colorbar": {
              "outlinewidth": 0,
              "ticks": ""
             }
            },
            "type": "scattergeo"
           }
          ],
          "scattergl": [
           {
            "marker": {
             "colorbar": {
              "outlinewidth": 0,
              "ticks": ""
             }
            },
            "type": "scattergl"
           }
          ],
          "scattermap": [
           {
            "marker": {
             "colorbar": {
              "outlinewidth": 0,
              "ticks": ""
             }
            },
            "type": "scattermap"
           }
          ],
          "scattermapbox": [
           {
            "marker": {
             "colorbar": {
              "outlinewidth": 0,
              "ticks": ""
             }
            },
            "type": "scattermapbox"
           }
          ],
          "scatterpolar": [
           {
            "marker": {
             "colorbar": {
              "outlinewidth": 0,
              "ticks": ""
             }
            },
            "type": "scatterpolar"
           }
          ],
          "scatterpolargl": [
           {
            "marker": {
             "colorbar": {
              "outlinewidth": 0,
              "ticks": ""
             }
            },
            "type": "scatterpolargl"
           }
          ],
          "scatterternary": [
           {
            "marker": {
             "colorbar": {
              "outlinewidth": 0,
              "ticks": ""
             }
            },
            "type": "scatterternary"
           }
          ],
          "surface": [
           {
            "colorbar": {
             "outlinewidth": 0,
             "ticks": ""
            },
            "colorscale": [
             [
              0,
              "#0d0887"
             ],
             [
              0.1111111111111111,
              "#46039f"
             ],
             [
              0.2222222222222222,
              "#7201a8"
             ],
             [
              0.3333333333333333,
              "#9c179e"
             ],
             [
              0.4444444444444444,
              "#bd3786"
             ],
             [
              0.5555555555555556,
              "#d8576b"
             ],
             [
              0.6666666666666666,
              "#ed7953"
             ],
             [
              0.7777777777777778,
              "#fb9f3a"
             ],
             [
              0.8888888888888888,
              "#fdca26"
             ],
             [
              1,
              "#f0f921"
             ]
            ],
            "type": "surface"
           }
          ],
          "table": [
           {
            "cells": {
             "fill": {
              "color": "#EBF0F8"
             },
             "line": {
              "color": "white"
             }
            },
            "header": {
             "fill": {
              "color": "#C8D4E3"
             },
             "line": {
              "color": "white"
             }
            },
            "type": "table"
           }
          ]
         },
         "layout": {
          "annotationdefaults": {
           "arrowcolor": "#2a3f5f",
           "arrowhead": 0,
           "arrowwidth": 1
          },
          "autotypenumbers": "strict",
          "coloraxis": {
           "colorbar": {
            "outlinewidth": 0,
            "ticks": ""
           }
          },
          "colorscale": {
           "diverging": [
            [
             0,
             "#8e0152"
            ],
            [
             0.1,
             "#c51b7d"
            ],
            [
             0.2,
             "#de77ae"
            ],
            [
             0.3,
             "#f1b6da"
            ],
            [
             0.4,
             "#fde0ef"
            ],
            [
             0.5,
             "#f7f7f7"
            ],
            [
             0.6,
             "#e6f5d0"
            ],
            [
             0.7,
             "#b8e186"
            ],
            [
             0.8,
             "#7fbc41"
            ],
            [
             0.9,
             "#4d9221"
            ],
            [
             1,
             "#276419"
            ]
           ],
           "sequential": [
            [
             0,
             "#0d0887"
            ],
            [
             0.1111111111111111,
             "#46039f"
            ],
            [
             0.2222222222222222,
             "#7201a8"
            ],
            [
             0.3333333333333333,
             "#9c179e"
            ],
            [
             0.4444444444444444,
             "#bd3786"
            ],
            [
             0.5555555555555556,
             "#d8576b"
            ],
            [
             0.6666666666666666,
             "#ed7953"
            ],
            [
             0.7777777777777778,
             "#fb9f3a"
            ],
            [
             0.8888888888888888,
             "#fdca26"
            ],
            [
             1,
             "#f0f921"
            ]
           ],
           "sequentialminus": [
            [
             0,
             "#0d0887"
            ],
            [
             0.1111111111111111,
             "#46039f"
            ],
            [
             0.2222222222222222,
             "#7201a8"
            ],
            [
             0.3333333333333333,
             "#9c179e"
            ],
            [
             0.4444444444444444,
             "#bd3786"
            ],
            [
             0.5555555555555556,
             "#d8576b"
            ],
            [
             0.6666666666666666,
             "#ed7953"
            ],
            [
             0.7777777777777778,
             "#fb9f3a"
            ],
            [
             0.8888888888888888,
             "#fdca26"
            ],
            [
             1,
             "#f0f921"
            ]
           ]
          },
          "colorway": [
           "#636efa",
           "#EF553B",
           "#00cc96",
           "#ab63fa",
           "#FFA15A",
           "#19d3f3",
           "#FF6692",
           "#B6E880",
           "#FF97FF",
           "#FECB52"
          ],
          "font": {
           "color": "#2a3f5f"
          },
          "geo": {
           "bgcolor": "white",
           "lakecolor": "white",
           "landcolor": "#E5ECF6",
           "showlakes": true,
           "showland": true,
           "subunitcolor": "white"
          },
          "hoverlabel": {
           "align": "left"
          },
          "hovermode": "closest",
          "mapbox": {
           "style": "light"
          },
          "paper_bgcolor": "white",
          "plot_bgcolor": "#E5ECF6",
          "polar": {
           "angularaxis": {
            "gridcolor": "white",
            "linecolor": "white",
            "ticks": ""
           },
           "bgcolor": "#E5ECF6",
           "radialaxis": {
            "gridcolor": "white",
            "linecolor": "white",
            "ticks": ""
           }
          },
          "scene": {
           "xaxis": {
            "backgroundcolor": "#E5ECF6",
            "gridcolor": "white",
            "gridwidth": 2,
            "linecolor": "white",
            "showbackground": true,
            "ticks": "",
            "zerolinecolor": "white"
           },
           "yaxis": {
            "backgroundcolor": "#E5ECF6",
            "gridcolor": "white",
            "gridwidth": 2,
            "linecolor": "white",
            "showbackground": true,
            "ticks": "",
            "zerolinecolor": "white"
           },
           "zaxis": {
            "backgroundcolor": "#E5ECF6",
            "gridcolor": "white",
            "gridwidth": 2,
            "linecolor": "white",
            "showbackground": true,
            "ticks": "",
            "zerolinecolor": "white"
           }
          },
          "shapedefaults": {
           "line": {
            "color": "#2a3f5f"
           }
          },
          "ternary": {
           "aaxis": {
            "gridcolor": "white",
            "linecolor": "white",
            "ticks": ""
           },
           "baxis": {
            "gridcolor": "white",
            "linecolor": "white",
            "ticks": ""
           },
           "bgcolor": "#E5ECF6",
           "caxis": {
            "gridcolor": "white",
            "linecolor": "white",
            "ticks": ""
           }
          },
          "title": {
           "x": 0.05
          },
          "xaxis": {
           "automargin": true,
           "gridcolor": "white",
           "linecolor": "white",
           "ticks": "",
           "title": {
            "standoff": 15
           },
           "zerolinecolor": "white",
           "zerolinewidth": 2
          },
          "yaxis": {
           "automargin": true,
           "gridcolor": "white",
           "linecolor": "white",
           "ticks": "",
           "title": {
            "standoff": 15
           },
           "zerolinecolor": "white",
           "zerolinewidth": 2
          }
         }
        },
        "title": {
         "text": "Score vs Starting Number (Men, Short and Free Programs)"
        },
        "xaxis": {
         "anchor": "y",
         "domain": [
          0,
          1
         ],
         "title": {
          "text": "starting_number"
         }
        },
        "yaxis": {
         "anchor": "x",
         "domain": [
          0,
          1
         ],
         "title": {
          "text": "total_segment_score"
         }
        }
       }
      }
     },
     "metadata": {},
     "output_type": "display_data"
    }
   ],
   "source": [
    "men_free = df_skaters[(df_skaters['category'] == 'Men Single Skating')]\n",
    "fig = px.scatter(men_free, x = \"starting_number\", y = \"total_segment_score\", title = \"Score vs Starting Number (Men, Short and Free Programs)\", color = \"segment\", hover_data=['skater_name_1'])\n",
    "fig.show()"
   ]
  },
  {
   "cell_type": "code",
   "execution_count": 262,
   "metadata": {},
   "outputs": [
    {
     "data": {
      "application/vnd.plotly.v1+json": {
       "config": {
        "plotlyServerURL": "https://plot.ly"
       },
       "data": [
        {
         "coloraxis": "coloraxis",
         "hovertemplate": "Discipline=Men Single Skating<br>Total Deductions (points)=%{x}<br>Final Score=%{y}<br>count=%{z}<extra></extra>",
         "name": "",
         "nbinsx": 15,
         "nbinsy": 15,
         "type": "histogram2d",
         "x": {
          "bdata": "AAAAAAAAAAAAAAAAAAAAAAAAAAAAAADAAAAAAAAAAAAAAAAAAADwvwAAAAAAAAAAAAAAAAAA8L8AAAAAAAAAAAAAAAAAAAAAAAAAAAAAAAAAAAAAAAAAAAAAAAAAAPC/AAAAAAAA8L8AAAAAAADwvwAAAAAAAPC/AAAAAAAAAAAAAAAAAADwvwAAAAAAAADAAAAAAAAAAAAAAAAAAAAAAAAAAAAAAAAAAAAAAAAA8L8AAAAAAAAAAAAAAAAAAPC/",
          "dtype": "f8"
         },
         "xaxis": "x",
         "xbingroup": "x",
         "y": {
          "bdata": "XI/C9ShUa0D2KFyPwj1pQFK4HoXrgWdA9ihcj8JtZ0AzMzMzM2NnQAAAAAAAAGdApHA9CtfbZkBmZmZmZm5mQKRwPQrXS2ZApHA9CteLZUAUrkfhelRlQIXrUbge7WRAhetRuB5tZEAfhetRuFZkQJqZmZmZOWRAuB6F61EAZEDNzMzMzNxjQClcj8L1iGNA4XoUrkdhY0CPwvUoXPdhQEjhehSux2FArkfhehROYUA9CtejcA1hQJqZmZmZ6V9A",
          "dtype": "f8"
         },
         "yaxis": "y",
         "ybingroup": "y"
        },
        {
         "coloraxis": "coloraxis",
         "hovertemplate": "Discipline=Women Single Skating<br>Total Deductions (points)=%{x}<br>Final Score=%{y}<br>count=%{z}<extra></extra>",
         "name": "",
         "nbinsx": 15,
         "nbinsy": 15,
         "type": "histogram2d",
         "x": {
          "bdata": "AAAAAAAAAAAAAAAAAAAAAAAAAAAAAAAAAAAAAAAAAAAAAAAAAAAAwAAAAAAAAPC/AAAAAAAAAAAAAAAAAAAAAAAAAAAAAAAAAAAAAAAAAAAAAAAAAAAAAAAAAAAAAAAAAAAAAAAAAAAAAAAAAAAAAAAAAAAAAAAAAAAAAAAAAAAAAAAAAADwvwAAAAAAAPC/AAAAAAAAAMAAAAAAAADwvwAAAAAAAADAAAAAAAAAAAAAAAAAAAAQwAAAAAAAAPC/AAAAAAAAEMA=",
          "dtype": "f8"
         },
         "xaxis": "x2",
         "xbingroup": "x",
         "y": {
          "bdata": "XI/C9SgkZkAAAAAAAPhlQOF6FK5HKWNAAAAAAADYYUD2KFyPwr1hQPYoXI/CnWFAZmZmZmZuYUA9CtejcB1hQGZmZmZmFmFAw/UoXI/yYEAzMzMzM9tgQHE9CtejsF9ASOF6FK7XXkCkcD0K10NeQJqZmZmZiV1AFK5H4XokXUAUrkfhevRcQFK4HoXrwVxA4XoUrkehXEDNzMzMzAxcQGZmZmZmxltAZmZmZmb2WkDD9ShcjwJaQJqZmZmZCVlAFK5H4XoEWEA=",
          "dtype": "f8"
         },
         "yaxis": "y2",
         "ybingroup": "y"
        },
        {
         "coloraxis": "coloraxis",
         "hovertemplate": "Discipline=Ice Dance<br>Total Deductions (points)=%{x}<br>Final Score=%{y}<br>count=%{z}<extra></extra>",
         "name": "",
         "nbinsx": 15,
         "nbinsy": 15,
         "type": "histogram2d",
         "x": {
          "bdata": "AAAAAAAAAAAAAAAAAAAAAAAAAAAAAPC/AAAAAAAAAAAAAAAAAAAAAAAAAAAAAAAAAAAAAAAAAAAAAAAAAAAAAAAAAAAAAAAAAAAAAAAAAAAAAAAAAAAAAAAAAAAAAPC/AAAAAAAAAAAAAAAAAAAAAAAAAAAAAAAAAAAAAAAAAAAAAAAAAAAAAAAAAAAAAAAAAAAAAAAAAAAAAAAAAAAAwA==",
          "dtype": "f8"
         },
         "xaxis": "x3",
         "xbingroup": "x",
         "y": {
          "bdata": "zczMzMwEYUCF61G4HnVgQBSuR+F6XGBAXI/C9ShUYEBI4XoUrhdfQArXo3A9Wl5AcT0K16NQXkAfhetRuD5eQFyPwvUozFxACtejcD3KXECkcD0K13NcQHE9CtejwFtA7FG4HoUbW0AK16NwPQpbQJqZmZmZaVpACtejcD1KWUBmZmZmZkZZQPYoXI/CVVhAAAAAAABQWECPwvUoXD9YQA==",
          "dtype": "f8"
         },
         "yaxis": "y3",
         "ybingroup": "y"
        },
        {
         "coloraxis": "coloraxis",
         "hovertemplate": "Discipline=Pair Skating<br>Total Deductions (points)=%{x}<br>Final Score=%{y}<br>count=%{z}<extra></extra>",
         "name": "",
         "nbinsx": 15,
         "nbinsy": 15,
         "type": "histogram2d",
         "x": {
          "bdata": "AAAAAAAAAAAAAAAAAAAAAAAAAAAAAAAAAAAAAAAAAAAAAAAAAAAAAAAAAAAAAAAAAAAAAAAAAAAAAAAAAAAAAAAAAAAAAADAAAAAAAAAAAAAAAAAAAAAAAAAAAAAAPC/AAAAAAAAAAAAAAAAAAAAAAAAAAAAAAAAAAAAAAAA8L8=",
          "dtype": "f8"
         },
         "xaxis": "x4",
         "xbingroup": "x",
         "y": {
          "bdata": "16NwPQpvY0AAAAAAAGBjQGZmZmZmXmNAhetRuB69YUDhehSuR6FhQEjhehSuV2FAZmZmZmZOYUCF61G4HpVfQHsUrkfh+l5A16NwPQq3XUDhehSuR4FdQD0K16NwfV1Aw/UoXI8SXUBmZmZmZmZbQIXrUbgedVhAFK5H4XrUVUA=",
          "dtype": "f8"
         },
         "yaxis": "y4",
         "ybingroup": "y"
        }
       ],
       "layout": {
        "annotations": [
         {
          "font": {},
          "showarrow": false,
          "text": "Discipline=Men Single Skating",
          "x": 0.1175,
          "xanchor": "center",
          "xref": "paper",
          "y": 1,
          "yanchor": "bottom",
          "yref": "paper"
         },
         {
          "font": {},
          "showarrow": false,
          "text": "Discipline=Women Single Skating",
          "x": 0.3725,
          "xanchor": "center",
          "xref": "paper",
          "y": 1,
          "yanchor": "bottom",
          "yref": "paper"
         },
         {
          "font": {},
          "showarrow": false,
          "text": "Discipline=Ice Dance",
          "x": 0.6275,
          "xanchor": "center",
          "xref": "paper",
          "y": 1,
          "yanchor": "bottom",
          "yref": "paper"
         },
         {
          "font": {},
          "showarrow": false,
          "text": "Discipline=Pair Skating",
          "x": 0.8824999999999998,
          "xanchor": "center",
          "xref": "paper",
          "y": 1,
          "yanchor": "bottom",
          "yref": "paper"
         }
        ],
        "coloraxis": {
         "colorbar": {
          "title": {
           "text": "Density"
          }
         },
         "colorscale": [
          [
           0,
           "#0d0887"
          ],
          [
           0.1111111111111111,
           "#46039f"
          ],
          [
           0.2222222222222222,
           "#7201a8"
          ],
          [
           0.3333333333333333,
           "#9c179e"
          ],
          [
           0.4444444444444444,
           "#bd3786"
          ],
          [
           0.5555555555555556,
           "#d8576b"
          ],
          [
           0.6666666666666666,
           "#ed7953"
          ],
          [
           0.7777777777777778,
           "#fb9f3a"
          ],
          [
           0.8888888888888888,
           "#fdca26"
          ],
          [
           1,
           "#f0f921"
          ]
         ]
        },
        "legend": {
         "tracegroupgap": 0
        },
        "template": {
         "data": {
          "bar": [
           {
            "error_x": {
             "color": "#2a3f5f"
            },
            "error_y": {
             "color": "#2a3f5f"
            },
            "marker": {
             "line": {
              "color": "#E5ECF6",
              "width": 0.5
             },
             "pattern": {
              "fillmode": "overlay",
              "size": 10,
              "solidity": 0.2
             }
            },
            "type": "bar"
           }
          ],
          "barpolar": [
           {
            "marker": {
             "line": {
              "color": "#E5ECF6",
              "width": 0.5
             },
             "pattern": {
              "fillmode": "overlay",
              "size": 10,
              "solidity": 0.2
             }
            },
            "type": "barpolar"
           }
          ],
          "carpet": [
           {
            "aaxis": {
             "endlinecolor": "#2a3f5f",
             "gridcolor": "white",
             "linecolor": "white",
             "minorgridcolor": "white",
             "startlinecolor": "#2a3f5f"
            },
            "baxis": {
             "endlinecolor": "#2a3f5f",
             "gridcolor": "white",
             "linecolor": "white",
             "minorgridcolor": "white",
             "startlinecolor": "#2a3f5f"
            },
            "type": "carpet"
           }
          ],
          "choropleth": [
           {
            "colorbar": {
             "outlinewidth": 0,
             "ticks": ""
            },
            "type": "choropleth"
           }
          ],
          "contour": [
           {
            "colorbar": {
             "outlinewidth": 0,
             "ticks": ""
            },
            "colorscale": [
             [
              0,
              "#0d0887"
             ],
             [
              0.1111111111111111,
              "#46039f"
             ],
             [
              0.2222222222222222,
              "#7201a8"
             ],
             [
              0.3333333333333333,
              "#9c179e"
             ],
             [
              0.4444444444444444,
              "#bd3786"
             ],
             [
              0.5555555555555556,
              "#d8576b"
             ],
             [
              0.6666666666666666,
              "#ed7953"
             ],
             [
              0.7777777777777778,
              "#fb9f3a"
             ],
             [
              0.8888888888888888,
              "#fdca26"
             ],
             [
              1,
              "#f0f921"
             ]
            ],
            "type": "contour"
           }
          ],
          "contourcarpet": [
           {
            "colorbar": {
             "outlinewidth": 0,
             "ticks": ""
            },
            "type": "contourcarpet"
           }
          ],
          "heatmap": [
           {
            "colorbar": {
             "outlinewidth": 0,
             "ticks": ""
            },
            "colorscale": [
             [
              0,
              "#0d0887"
             ],
             [
              0.1111111111111111,
              "#46039f"
             ],
             [
              0.2222222222222222,
              "#7201a8"
             ],
             [
              0.3333333333333333,
              "#9c179e"
             ],
             [
              0.4444444444444444,
              "#bd3786"
             ],
             [
              0.5555555555555556,
              "#d8576b"
             ],
             [
              0.6666666666666666,
              "#ed7953"
             ],
             [
              0.7777777777777778,
              "#fb9f3a"
             ],
             [
              0.8888888888888888,
              "#fdca26"
             ],
             [
              1,
              "#f0f921"
             ]
            ],
            "type": "heatmap"
           }
          ],
          "histogram": [
           {
            "marker": {
             "pattern": {
              "fillmode": "overlay",
              "size": 10,
              "solidity": 0.2
             }
            },
            "type": "histogram"
           }
          ],
          "histogram2d": [
           {
            "colorbar": {
             "outlinewidth": 0,
             "ticks": ""
            },
            "colorscale": [
             [
              0,
              "#0d0887"
             ],
             [
              0.1111111111111111,
              "#46039f"
             ],
             [
              0.2222222222222222,
              "#7201a8"
             ],
             [
              0.3333333333333333,
              "#9c179e"
             ],
             [
              0.4444444444444444,
              "#bd3786"
             ],
             [
              0.5555555555555556,
              "#d8576b"
             ],
             [
              0.6666666666666666,
              "#ed7953"
             ],
             [
              0.7777777777777778,
              "#fb9f3a"
             ],
             [
              0.8888888888888888,
              "#fdca26"
             ],
             [
              1,
              "#f0f921"
             ]
            ],
            "type": "histogram2d"
           }
          ],
          "histogram2dcontour": [
           {
            "colorbar": {
             "outlinewidth": 0,
             "ticks": ""
            },
            "colorscale": [
             [
              0,
              "#0d0887"
             ],
             [
              0.1111111111111111,
              "#46039f"
             ],
             [
              0.2222222222222222,
              "#7201a8"
             ],
             [
              0.3333333333333333,
              "#9c179e"
             ],
             [
              0.4444444444444444,
              "#bd3786"
             ],
             [
              0.5555555555555556,
              "#d8576b"
             ],
             [
              0.6666666666666666,
              "#ed7953"
             ],
             [
              0.7777777777777778,
              "#fb9f3a"
             ],
             [
              0.8888888888888888,
              "#fdca26"
             ],
             [
              1,
              "#f0f921"
             ]
            ],
            "type": "histogram2dcontour"
           }
          ],
          "mesh3d": [
           {
            "colorbar": {
             "outlinewidth": 0,
             "ticks": ""
            },
            "type": "mesh3d"
           }
          ],
          "parcoords": [
           {
            "line": {
             "colorbar": {
              "outlinewidth": 0,
              "ticks": ""
             }
            },
            "type": "parcoords"
           }
          ],
          "pie": [
           {
            "automargin": true,
            "type": "pie"
           }
          ],
          "scatter": [
           {
            "fillpattern": {
             "fillmode": "overlay",
             "size": 10,
             "solidity": 0.2
            },
            "type": "scatter"
           }
          ],
          "scatter3d": [
           {
            "line": {
             "colorbar": {
              "outlinewidth": 0,
              "ticks": ""
             }
            },
            "marker": {
             "colorbar": {
              "outlinewidth": 0,
              "ticks": ""
             }
            },
            "type": "scatter3d"
           }
          ],
          "scattercarpet": [
           {
            "marker": {
             "colorbar": {
              "outlinewidth": 0,
              "ticks": ""
             }
            },
            "type": "scattercarpet"
           }
          ],
          "scattergeo": [
           {
            "marker": {
             "colorbar": {
              "outlinewidth": 0,
              "ticks": ""
             }
            },
            "type": "scattergeo"
           }
          ],
          "scattergl": [
           {
            "marker": {
             "colorbar": {
              "outlinewidth": 0,
              "ticks": ""
             }
            },
            "type": "scattergl"
           }
          ],
          "scattermap": [
           {
            "marker": {
             "colorbar": {
              "outlinewidth": 0,
              "ticks": ""
             }
            },
            "type": "scattermap"
           }
          ],
          "scattermapbox": [
           {
            "marker": {
             "colorbar": {
              "outlinewidth": 0,
              "ticks": ""
             }
            },
            "type": "scattermapbox"
           }
          ],
          "scatterpolar": [
           {
            "marker": {
             "colorbar": {
              "outlinewidth": 0,
              "ticks": ""
             }
            },
            "type": "scatterpolar"
           }
          ],
          "scatterpolargl": [
           {
            "marker": {
             "colorbar": {
              "outlinewidth": 0,
              "ticks": ""
             }
            },
            "type": "scatterpolargl"
           }
          ],
          "scatterternary": [
           {
            "marker": {
             "colorbar": {
              "outlinewidth": 0,
              "ticks": ""
             }
            },
            "type": "scatterternary"
           }
          ],
          "surface": [
           {
            "colorbar": {
             "outlinewidth": 0,
             "ticks": ""
            },
            "colorscale": [
             [
              0,
              "#0d0887"
             ],
             [
              0.1111111111111111,
              "#46039f"
             ],
             [
              0.2222222222222222,
              "#7201a8"
             ],
             [
              0.3333333333333333,
              "#9c179e"
             ],
             [
              0.4444444444444444,
              "#bd3786"
             ],
             [
              0.5555555555555556,
              "#d8576b"
             ],
             [
              0.6666666666666666,
              "#ed7953"
             ],
             [
              0.7777777777777778,
              "#fb9f3a"
             ],
             [
              0.8888888888888888,
              "#fdca26"
             ],
             [
              1,
              "#f0f921"
             ]
            ],
            "type": "surface"
           }
          ],
          "table": [
           {
            "cells": {
             "fill": {
              "color": "#EBF0F8"
             },
             "line": {
              "color": "white"
             }
            },
            "header": {
             "fill": {
              "color": "#C8D4E3"
             },
             "line": {
              "color": "white"
             }
            },
            "type": "table"
           }
          ]
         },
         "layout": {
          "annotationdefaults": {
           "arrowcolor": "#2a3f5f",
           "arrowhead": 0,
           "arrowwidth": 1
          },
          "autotypenumbers": "strict",
          "coloraxis": {
           "colorbar": {
            "outlinewidth": 0,
            "ticks": ""
           }
          },
          "colorscale": {
           "diverging": [
            [
             0,
             "#8e0152"
            ],
            [
             0.1,
             "#c51b7d"
            ],
            [
             0.2,
             "#de77ae"
            ],
            [
             0.3,
             "#f1b6da"
            ],
            [
             0.4,
             "#fde0ef"
            ],
            [
             0.5,
             "#f7f7f7"
            ],
            [
             0.6,
             "#e6f5d0"
            ],
            [
             0.7,
             "#b8e186"
            ],
            [
             0.8,
             "#7fbc41"
            ],
            [
             0.9,
             "#4d9221"
            ],
            [
             1,
             "#276419"
            ]
           ],
           "sequential": [
            [
             0,
             "#0d0887"
            ],
            [
             0.1111111111111111,
             "#46039f"
            ],
            [
             0.2222222222222222,
             "#7201a8"
            ],
            [
             0.3333333333333333,
             "#9c179e"
            ],
            [
             0.4444444444444444,
             "#bd3786"
            ],
            [
             0.5555555555555556,
             "#d8576b"
            ],
            [
             0.6666666666666666,
             "#ed7953"
            ],
            [
             0.7777777777777778,
             "#fb9f3a"
            ],
            [
             0.8888888888888888,
             "#fdca26"
            ],
            [
             1,
             "#f0f921"
            ]
           ],
           "sequentialminus": [
            [
             0,
             "#0d0887"
            ],
            [
             0.1111111111111111,
             "#46039f"
            ],
            [
             0.2222222222222222,
             "#7201a8"
            ],
            [
             0.3333333333333333,
             "#9c179e"
            ],
            [
             0.4444444444444444,
             "#bd3786"
            ],
            [
             0.5555555555555556,
             "#d8576b"
            ],
            [
             0.6666666666666666,
             "#ed7953"
            ],
            [
             0.7777777777777778,
             "#fb9f3a"
            ],
            [
             0.8888888888888888,
             "#fdca26"
            ],
            [
             1,
             "#f0f921"
            ]
           ]
          },
          "colorway": [
           "#636efa",
           "#EF553B",
           "#00cc96",
           "#ab63fa",
           "#FFA15A",
           "#19d3f3",
           "#FF6692",
           "#B6E880",
           "#FF97FF",
           "#FECB52"
          ],
          "font": {
           "color": "#2a3f5f"
          },
          "geo": {
           "bgcolor": "white",
           "lakecolor": "white",
           "landcolor": "#E5ECF6",
           "showlakes": true,
           "showland": true,
           "subunitcolor": "white"
          },
          "hoverlabel": {
           "align": "left"
          },
          "hovermode": "closest",
          "mapbox": {
           "style": "light"
          },
          "paper_bgcolor": "white",
          "plot_bgcolor": "#E5ECF6",
          "polar": {
           "angularaxis": {
            "gridcolor": "white",
            "linecolor": "white",
            "ticks": ""
           },
           "bgcolor": "#E5ECF6",
           "radialaxis": {
            "gridcolor": "white",
            "linecolor": "white",
            "ticks": ""
           }
          },
          "scene": {
           "xaxis": {
            "backgroundcolor": "#E5ECF6",
            "gridcolor": "white",
            "gridwidth": 2,
            "linecolor": "white",
            "showbackground": true,
            "ticks": "",
            "zerolinecolor": "white"
           },
           "yaxis": {
            "backgroundcolor": "#E5ECF6",
            "gridcolor": "white",
            "gridwidth": 2,
            "linecolor": "white",
            "showbackground": true,
            "ticks": "",
            "zerolinecolor": "white"
           },
           "zaxis": {
            "backgroundcolor": "#E5ECF6",
            "gridcolor": "white",
            "gridwidth": 2,
            "linecolor": "white",
            "showbackground": true,
            "ticks": "",
            "zerolinecolor": "white"
           }
          },
          "shapedefaults": {
           "line": {
            "color": "#2a3f5f"
           }
          },
          "ternary": {
           "aaxis": {
            "gridcolor": "white",
            "linecolor": "white",
            "ticks": ""
           },
           "baxis": {
            "gridcolor": "white",
            "linecolor": "white",
            "ticks": ""
           },
           "bgcolor": "#E5ECF6",
           "caxis": {
            "gridcolor": "white",
            "linecolor": "white",
            "ticks": ""
           }
          },
          "title": {
           "x": 0.05
          },
          "xaxis": {
           "automargin": true,
           "gridcolor": "white",
           "linecolor": "white",
           "ticks": "",
           "title": {
            "standoff": 15
           },
           "zerolinecolor": "white",
           "zerolinewidth": 2
          },
          "yaxis": {
           "automargin": true,
           "gridcolor": "white",
           "linecolor": "white",
           "ticks": "",
           "title": {
            "standoff": 15
           },
           "zerolinecolor": "white",
           "zerolinewidth": 2
          }
         }
        },
        "title": {
         "text": "Density Distribution: Deductions vs Final Score (Free Programs)"
        },
        "xaxis": {
         "anchor": "y",
         "domain": [
          0,
          0.235
         ],
         "title": {
          "text": "Total Deductions"
         }
        },
        "xaxis2": {
         "anchor": "y2",
         "domain": [
          0.255,
          0.49
         ],
         "matches": "x",
         "title": {
          "text": "Total Deductions (points)"
         }
        },
        "xaxis3": {
         "anchor": "y3",
         "domain": [
          0.51,
          0.745
         ],
         "matches": "x",
         "title": {
          "text": "Total Deductions (points)"
         }
        },
        "xaxis4": {
         "anchor": "y4",
         "domain": [
          0.7649999999999999,
          0.9999999999999999
         ],
         "matches": "x",
         "title": {
          "text": "Total Deductions (points)"
         }
        },
        "yaxis": {
         "anchor": "x",
         "domain": [
          0,
          1
         ],
         "title": {
          "text": "Final Score"
         }
        },
        "yaxis2": {
         "anchor": "x2",
         "domain": [
          0,
          1
         ],
         "matches": "y",
         "showticklabels": false
        },
        "yaxis3": {
         "anchor": "x3",
         "domain": [
          0,
          1
         ],
         "matches": "y",
         "showticklabels": false
        },
        "yaxis4": {
         "anchor": "x4",
         "domain": [
          0,
          1
         ],
         "matches": "y",
         "showticklabels": false
        }
       }
      }
     },
     "metadata": {},
     "output_type": "display_data"
    }
   ],
   "source": [
    "deductions = df_skaters[\n",
    "    (df_skaters[\"segment\"] == \"Free Skating\") | \n",
    "    (df_skaters[\"segment\"] == \"Free Dance\") & \n",
    "    (df_skaters[\"category\"].isin([\"Men Single Skating\", \"Women Single Skating\", \"Ice Dance\", \"Pair Skating\"]))\n",
    "]\n",
    "deductions = deductions[~deductions[\"category\"].isin([\n",
    "    \"Team Event - Men Single Skating\", \n",
    "    \"Team Event - Women Single Skating\", \n",
    "    \"Team Event - Pair Skating\"\n",
    "])]\n",
    "\n",
    "fig = px.density_heatmap(\n",
    "    deductions,\n",
    "    x='total_deductions',\n",
    "    y='total_segment_score',\n",
    "    nbinsx=15,\n",
    "    nbinsy=15,\n",
    "    facet_col='category',\n",
    "    title=\"Density Distribution: Deductions vs Final Score (Free Programs)\",\n",
    "    labels={\n",
    "        'total_deductions': 'Total Deductions (points)',\n",
    "        'total_segment_score': 'Final Score',\n",
    "        'category': 'Discipline'\n",
    "    }\n",
    ")\n",
    "\n",
    "fig.update_layout(\n",
    "    xaxis_title=\"Total Deductions\",\n",
    "    yaxis_title=\"Final Score\",\n",
    "    coloraxis_colorbar_title=\"Density\"\n",
    ")\n",
    "\n",
    "fig.show()"
   ]
  },
  {
   "cell_type": "code",
   "execution_count": 263,
   "metadata": {},
   "outputs": [
    {
     "data": {
      "application/vnd.plotly.v1+json": {
       "config": {
        "plotlyServerURL": "https://plot.ly"
       },
       "data": [
        {
         "coloraxis": "coloraxis",
         "hovertemplate": "Discipline=Men Single Skating<br>Total Deductions=%{x}<br>Segment Score=%{y}<br>count=%{z}<extra></extra>",
         "name": "",
         "nbinsx": 15,
         "nbinsy": 15,
         "type": "histogram2d",
         "x": {
          "bdata": "AAAAAAAAAAAAAAAAAAAAAAAAAAAAAAAAAAAAAAAAAAAAAAAAAAAAAAAAAAAAAAAAAAAAAAAAAAAAAAAAAAAAAAAAAAAAAAAAAAAAAAAAAAAAAAAAAAAAAAAAAAAAAAAAAAAAAAAAAAAAAAAAAADwvwAAAAAAAAAAAAAAAAAAAAAAAAAAAAAAAAAAAAAAAAAAAAAAAAAAAAAAAAAAAAAAAAAAAAAAAAAAAAAAAAAAAAAAAAAAAADwvwAAAAAAAAAAAAAAAAAA8L8AAAAAAADwvwAAAAAAAPC/AAAAAAAAAAAAAAAAAAAAAA==",
          "dtype": "f8"
         },
         "xaxis": "x",
         "xbingroup": "x",
         "y": {
          "bdata": "rkfhehR+XEBI4XoUrgdbQJqZmZmZeVpAcT0K16PgWEAfhetRuH5YQI/C9ShcT1hAcT0K16PwV0CamZmZmclXQI/C9ShcT1dAAAAAAABAV0AfhetRuL5WQClcj8L1qFZAuB6F61EoVkCPwvUoXK9VQNejcD0Kh1VAMzMzMzNTVUDD9ShcjzJVQJqZmZmZCVVAXI/C9SjsU0DD9Shcj6JTQI/C9Shcn1NA16NwPQqHU0AzMzMzM0NTQArXo3A9ClNAXI/C9SjMUkBxPQrXowBRQFyPwvUobFBAw/UoXI9SUEDD9Shcj2JPQA==",
          "dtype": "f8"
         },
         "yaxis": "y",
         "ybingroup": "y"
        },
        {
         "coloraxis": "coloraxis",
         "hovertemplate": "Discipline=Women Single Skating<br>Total Deductions=%{x}<br>Segment Score=%{y}<br>count=%{z}<extra></extra>",
         "name": "",
         "nbinsx": 15,
         "nbinsy": 15,
         "type": "histogram2d",
         "x": {
          "bdata": "AAAAAAAAAAAAAAAAAAAAAAAAAAAAAAAAAAAAAAAA8L8AAAAAAAAAAAAAAAAAAAAAAAAAAAAAAAAAAAAAAAAAAAAAAAAAAAAAAAAAAAAAAAAAAAAAAADwvwAAAAAAAAAAAAAAAAAA8L8AAAAAAAAAAAAAAAAAAPC/AAAAAAAAAAAAAAAAAAAAAAAAAAAAAAAAAAAAAAAAAAAAAAAAAAAAAAAAAAAAAPC/AAAAAAAAAAAAAAAAAAAAAAAAAAAAAAAAAAAAAAAAAAAAAAAAAAAAAAAAAAAAAAAAAAAAAAAA8L8AAAAAAAAAAAAAAAAAAPC/",
          "dtype": "f8"
         },
         "xaxis": "x2",
         "xbingroup": "x",
         "y": {
          "bdata": "CtejcD2KVEDNzMzMzAxUQPYoXI/C9VNAZmZmZmamUkBxPQrXo2BSQPYoXI/ClVFA9ihcj8KFUUAAAAAAAGBRQFK4HoXr8VBAmpmZmZlZUEC4HoXrUVhQQKRwPQrXE1BA16NwPQoHUEBxPQrXo5BPQLgehetRWE9AKVyPwvXoTkB7FK5H4bpOQFK4HoXrkU5ASOF6FK6HTkCkcD0K10NOQGZmZmZmxk1AH4XrUbieTUAUrkfhepRNQArXo3A9ik1AXI/C9Sh8TEDhehSuR0FLQLgehetRuEpAhetRuB5FSkDXo3A9CvdIQNejcD0KV0hA",
          "dtype": "f8"
         },
         "yaxis": "y2",
         "ybingroup": "y"
        },
        {
         "coloraxis": "coloraxis",
         "hovertemplate": "Discipline=Ice Dance<br>Total Deductions=%{x}<br>Segment Score=%{y}<br>count=%{z}<extra></extra>",
         "name": "",
         "nbinsx": 15,
         "nbinsy": 15,
         "type": "histogram2d",
         "x": {
          "bdata": "AAAAAAAAAAAAAAAAAAAAAAAAAAAAAPC/AAAAAAAAAAAAAAAAAAAAAAAAAAAAAAAAAAAAAAAAAAAAAAAAAAAAAAAAAAAAAAAAAAAAAAAAAAAAAAAAAAAAAAAAAAAAAPC/AAAAAAAAAAAAAAAAAAAAAAAAAAAAAAAAAAAAAAAAAAAAAAAAAAAAAAAAAAAAAAAAAAAAAAAAAAAAAAAAAAAAwA==",
          "dtype": "f8"
         },
         "xaxis": "x3",
         "xbingroup": "x",
         "y": {
          "bdata": "zczMzMwEYUCF61G4HnVgQBSuR+F6XGBAXI/C9ShUYEBI4XoUrhdfQArXo3A9Wl5AcT0K16NQXkAfhetRuD5eQFyPwvUozFxACtejcD3KXECkcD0K13NcQHE9CtejwFtA7FG4HoUbW0AK16NwPQpbQJqZmZmZaVpACtejcD1KWUBmZmZmZkZZQPYoXI/CVVhAAAAAAABQWECPwvUoXD9YQA==",
          "dtype": "f8"
         },
         "yaxis": "y3",
         "ybingroup": "y"
        },
        {
         "coloraxis": "coloraxis",
         "hovertemplate": "Discipline=Pair Skating<br>Total Deductions=%{x}<br>Segment Score=%{y}<br>count=%{z}<extra></extra>",
         "name": "",
         "nbinsx": 15,
         "nbinsy": 15,
         "type": "histogram2d",
         "x": {
          "bdata": "AAAAAAAAAAAAAAAAAAAAAAAAAAAAAAAAAAAAAAAAAAAAAAAAAAAAAAAAAAAAAAAAAAAAAAAAAAAAAAAAAAAAAAAAAAAAAAAAAAAAAAAA8L8AAAAAAAAAAAAAAAAAAAAAAAAAAAAAAMAAAAAAAADwvwAAAAAAAAAAAAAAAAAAAMAAAAAAAAAAwAAAAAAAAAAA",
          "dtype": "f8"
         },
         "xaxis": "x4",
         "xbingroup": "x",
         "y": {
          "bdata": "CtejcD0aVUAAAAAAABBVQHE9CtejsFRA9ihcj8KlU0BmZmZmZgZTQB+F61G4jlJAuB6F61GIUkBmZmZmZrZRQNejcD0Kh1BACtejcD3KT0DsUbgehatPQKRwPQrXg09A4XoUrkdBT0CPwvUoXC9PQB+F61G4/ktACtejcD3qS0BSuB6F61FLQHsUrkfh+klA",
          "dtype": "f8"
         },
         "yaxis": "y4",
         "ybingroup": "y"
        }
       ],
       "layout": {
        "annotations": [
         {
          "font": {},
          "showarrow": false,
          "text": "Men Single Skating",
          "x": 0.1175,
          "xanchor": "center",
          "xref": "paper",
          "y": 1,
          "yanchor": "bottom",
          "yref": "paper"
         },
         {
          "font": {},
          "showarrow": false,
          "text": "Women Single Skating",
          "x": 0.3725,
          "xanchor": "center",
          "xref": "paper",
          "y": 1,
          "yanchor": "bottom",
          "yref": "paper"
         },
         {
          "font": {},
          "showarrow": false,
          "text": "Ice Dance",
          "x": 0.6275,
          "xanchor": "center",
          "xref": "paper",
          "y": 1,
          "yanchor": "bottom",
          "yref": "paper"
         },
         {
          "font": {},
          "showarrow": false,
          "text": "Pair Skating",
          "x": 0.8824999999999998,
          "xanchor": "center",
          "xref": "paper",
          "y": 1,
          "yanchor": "bottom",
          "yref": "paper"
         }
        ],
        "coloraxis": {
         "colorbar": {
          "title": {
           "text": "Density"
          }
         },
         "colorscale": [
          [
           0,
           "#0d0887"
          ],
          [
           0.1111111111111111,
           "#46039f"
          ],
          [
           0.2222222222222222,
           "#7201a8"
          ],
          [
           0.3333333333333333,
           "#9c179e"
          ],
          [
           0.4444444444444444,
           "#bd3786"
          ],
          [
           0.5555555555555556,
           "#d8576b"
          ],
          [
           0.6666666666666666,
           "#ed7953"
          ],
          [
           0.7777777777777778,
           "#fb9f3a"
          ],
          [
           0.8888888888888888,
           "#fdca26"
          ],
          [
           1,
           "#f0f921"
          ]
         ]
        },
        "font": {
         "size": 12
        },
        "legend": {
         "tracegroupgap": 0
        },
        "template": {
         "data": {
          "bar": [
           {
            "error_x": {
             "color": "#2a3f5f"
            },
            "error_y": {
             "color": "#2a3f5f"
            },
            "marker": {
             "line": {
              "color": "#E5ECF6",
              "width": 0.5
             },
             "pattern": {
              "fillmode": "overlay",
              "size": 10,
              "solidity": 0.2
             }
            },
            "type": "bar"
           }
          ],
          "barpolar": [
           {
            "marker": {
             "line": {
              "color": "#E5ECF6",
              "width": 0.5
             },
             "pattern": {
              "fillmode": "overlay",
              "size": 10,
              "solidity": 0.2
             }
            },
            "type": "barpolar"
           }
          ],
          "carpet": [
           {
            "aaxis": {
             "endlinecolor": "#2a3f5f",
             "gridcolor": "white",
             "linecolor": "white",
             "minorgridcolor": "white",
             "startlinecolor": "#2a3f5f"
            },
            "baxis": {
             "endlinecolor": "#2a3f5f",
             "gridcolor": "white",
             "linecolor": "white",
             "minorgridcolor": "white",
             "startlinecolor": "#2a3f5f"
            },
            "type": "carpet"
           }
          ],
          "choropleth": [
           {
            "colorbar": {
             "outlinewidth": 0,
             "ticks": ""
            },
            "type": "choropleth"
           }
          ],
          "contour": [
           {
            "colorbar": {
             "outlinewidth": 0,
             "ticks": ""
            },
            "colorscale": [
             [
              0,
              "#0d0887"
             ],
             [
              0.1111111111111111,
              "#46039f"
             ],
             [
              0.2222222222222222,
              "#7201a8"
             ],
             [
              0.3333333333333333,
              "#9c179e"
             ],
             [
              0.4444444444444444,
              "#bd3786"
             ],
             [
              0.5555555555555556,
              "#d8576b"
             ],
             [
              0.6666666666666666,
              "#ed7953"
             ],
             [
              0.7777777777777778,
              "#fb9f3a"
             ],
             [
              0.8888888888888888,
              "#fdca26"
             ],
             [
              1,
              "#f0f921"
             ]
            ],
            "type": "contour"
           }
          ],
          "contourcarpet": [
           {
            "colorbar": {
             "outlinewidth": 0,
             "ticks": ""
            },
            "type": "contourcarpet"
           }
          ],
          "heatmap": [
           {
            "colorbar": {
             "outlinewidth": 0,
             "ticks": ""
            },
            "colorscale": [
             [
              0,
              "#0d0887"
             ],
             [
              0.1111111111111111,
              "#46039f"
             ],
             [
              0.2222222222222222,
              "#7201a8"
             ],
             [
              0.3333333333333333,
              "#9c179e"
             ],
             [
              0.4444444444444444,
              "#bd3786"
             ],
             [
              0.5555555555555556,
              "#d8576b"
             ],
             [
              0.6666666666666666,
              "#ed7953"
             ],
             [
              0.7777777777777778,
              "#fb9f3a"
             ],
             [
              0.8888888888888888,
              "#fdca26"
             ],
             [
              1,
              "#f0f921"
             ]
            ],
            "type": "heatmap"
           }
          ],
          "histogram": [
           {
            "marker": {
             "pattern": {
              "fillmode": "overlay",
              "size": 10,
              "solidity": 0.2
             }
            },
            "type": "histogram"
           }
          ],
          "histogram2d": [
           {
            "colorbar": {
             "outlinewidth": 0,
             "ticks": ""
            },
            "colorscale": [
             [
              0,
              "#0d0887"
             ],
             [
              0.1111111111111111,
              "#46039f"
             ],
             [
              0.2222222222222222,
              "#7201a8"
             ],
             [
              0.3333333333333333,
              "#9c179e"
             ],
             [
              0.4444444444444444,
              "#bd3786"
             ],
             [
              0.5555555555555556,
              "#d8576b"
             ],
             [
              0.6666666666666666,
              "#ed7953"
             ],
             [
              0.7777777777777778,
              "#fb9f3a"
             ],
             [
              0.8888888888888888,
              "#fdca26"
             ],
             [
              1,
              "#f0f921"
             ]
            ],
            "type": "histogram2d"
           }
          ],
          "histogram2dcontour": [
           {
            "colorbar": {
             "outlinewidth": 0,
             "ticks": ""
            },
            "colorscale": [
             [
              0,
              "#0d0887"
             ],
             [
              0.1111111111111111,
              "#46039f"
             ],
             [
              0.2222222222222222,
              "#7201a8"
             ],
             [
              0.3333333333333333,
              "#9c179e"
             ],
             [
              0.4444444444444444,
              "#bd3786"
             ],
             [
              0.5555555555555556,
              "#d8576b"
             ],
             [
              0.6666666666666666,
              "#ed7953"
             ],
             [
              0.7777777777777778,
              "#fb9f3a"
             ],
             [
              0.8888888888888888,
              "#fdca26"
             ],
             [
              1,
              "#f0f921"
             ]
            ],
            "type": "histogram2dcontour"
           }
          ],
          "mesh3d": [
           {
            "colorbar": {
             "outlinewidth": 0,
             "ticks": ""
            },
            "type": "mesh3d"
           }
          ],
          "parcoords": [
           {
            "line": {
             "colorbar": {
              "outlinewidth": 0,
              "ticks": ""
             }
            },
            "type": "parcoords"
           }
          ],
          "pie": [
           {
            "automargin": true,
            "type": "pie"
           }
          ],
          "scatter": [
           {
            "fillpattern": {
             "fillmode": "overlay",
             "size": 10,
             "solidity": 0.2
            },
            "type": "scatter"
           }
          ],
          "scatter3d": [
           {
            "line": {
             "colorbar": {
              "outlinewidth": 0,
              "ticks": ""
             }
            },
            "marker": {
             "colorbar": {
              "outlinewidth": 0,
              "ticks": ""
             }
            },
            "type": "scatter3d"
           }
          ],
          "scattercarpet": [
           {
            "marker": {
             "colorbar": {
              "outlinewidth": 0,
              "ticks": ""
             }
            },
            "type": "scattercarpet"
           }
          ],
          "scattergeo": [
           {
            "marker": {
             "colorbar": {
              "outlinewidth": 0,
              "ticks": ""
             }
            },
            "type": "scattergeo"
           }
          ],
          "scattergl": [
           {
            "marker": {
             "colorbar": {
              "outlinewidth": 0,
              "ticks": ""
             }
            },
            "type": "scattergl"
           }
          ],
          "scattermap": [
           {
            "marker": {
             "colorbar": {
              "outlinewidth": 0,
              "ticks": ""
             }
            },
            "type": "scattermap"
           }
          ],
          "scattermapbox": [
           {
            "marker": {
             "colorbar": {
              "outlinewidth": 0,
              "ticks": ""
             }
            },
            "type": "scattermapbox"
           }
          ],
          "scatterpolar": [
           {
            "marker": {
             "colorbar": {
              "outlinewidth": 0,
              "ticks": ""
             }
            },
            "type": "scatterpolar"
           }
          ],
          "scatterpolargl": [
           {
            "marker": {
             "colorbar": {
              "outlinewidth": 0,
              "ticks": ""
             }
            },
            "type": "scatterpolargl"
           }
          ],
          "scatterternary": [
           {
            "marker": {
             "colorbar": {
              "outlinewidth": 0,
              "ticks": ""
             }
            },
            "type": "scatterternary"
           }
          ],
          "surface": [
           {
            "colorbar": {
             "outlinewidth": 0,
             "ticks": ""
            },
            "colorscale": [
             [
              0,
              "#0d0887"
             ],
             [
              0.1111111111111111,
              "#46039f"
             ],
             [
              0.2222222222222222,
              "#7201a8"
             ],
             [
              0.3333333333333333,
              "#9c179e"
             ],
             [
              0.4444444444444444,
              "#bd3786"
             ],
             [
              0.5555555555555556,
              "#d8576b"
             ],
             [
              0.6666666666666666,
              "#ed7953"
             ],
             [
              0.7777777777777778,
              "#fb9f3a"
             ],
             [
              0.8888888888888888,
              "#fdca26"
             ],
             [
              1,
              "#f0f921"
             ]
            ],
            "type": "surface"
           }
          ],
          "table": [
           {
            "cells": {
             "fill": {
              "color": "#EBF0F8"
             },
             "line": {
              "color": "white"
             }
            },
            "header": {
             "fill": {
              "color": "#C8D4E3"
             },
             "line": {
              "color": "white"
             }
            },
            "type": "table"
           }
          ]
         },
         "layout": {
          "annotationdefaults": {
           "arrowcolor": "#2a3f5f",
           "arrowhead": 0,
           "arrowwidth": 1
          },
          "autotypenumbers": "strict",
          "coloraxis": {
           "colorbar": {
            "outlinewidth": 0,
            "ticks": ""
           }
          },
          "colorscale": {
           "diverging": [
            [
             0,
             "#8e0152"
            ],
            [
             0.1,
             "#c51b7d"
            ],
            [
             0.2,
             "#de77ae"
            ],
            [
             0.3,
             "#f1b6da"
            ],
            [
             0.4,
             "#fde0ef"
            ],
            [
             0.5,
             "#f7f7f7"
            ],
            [
             0.6,
             "#e6f5d0"
            ],
            [
             0.7,
             "#b8e186"
            ],
            [
             0.8,
             "#7fbc41"
            ],
            [
             0.9,
             "#4d9221"
            ],
            [
             1,
             "#276419"
            ]
           ],
           "sequential": [
            [
             0,
             "#0d0887"
            ],
            [
             0.1111111111111111,
             "#46039f"
            ],
            [
             0.2222222222222222,
             "#7201a8"
            ],
            [
             0.3333333333333333,
             "#9c179e"
            ],
            [
             0.4444444444444444,
             "#bd3786"
            ],
            [
             0.5555555555555556,
             "#d8576b"
            ],
            [
             0.6666666666666666,
             "#ed7953"
            ],
            [
             0.7777777777777778,
             "#fb9f3a"
            ],
            [
             0.8888888888888888,
             "#fdca26"
            ],
            [
             1,
             "#f0f921"
            ]
           ],
           "sequentialminus": [
            [
             0,
             "#0d0887"
            ],
            [
             0.1111111111111111,
             "#46039f"
            ],
            [
             0.2222222222222222,
             "#7201a8"
            ],
            [
             0.3333333333333333,
             "#9c179e"
            ],
            [
             0.4444444444444444,
             "#bd3786"
            ],
            [
             0.5555555555555556,
             "#d8576b"
            ],
            [
             0.6666666666666666,
             "#ed7953"
            ],
            [
             0.7777777777777778,
             "#fb9f3a"
            ],
            [
             0.8888888888888888,
             "#fdca26"
            ],
            [
             1,
             "#f0f921"
            ]
           ]
          },
          "colorway": [
           "#636efa",
           "#EF553B",
           "#00cc96",
           "#ab63fa",
           "#FFA15A",
           "#19d3f3",
           "#FF6692",
           "#B6E880",
           "#FF97FF",
           "#FECB52"
          ],
          "font": {
           "color": "#2a3f5f"
          },
          "geo": {
           "bgcolor": "white",
           "lakecolor": "white",
           "landcolor": "#E5ECF6",
           "showlakes": true,
           "showland": true,
           "subunitcolor": "white"
          },
          "hoverlabel": {
           "align": "left"
          },
          "hovermode": "closest",
          "mapbox": {
           "style": "light"
          },
          "paper_bgcolor": "white",
          "plot_bgcolor": "#E5ECF6",
          "polar": {
           "angularaxis": {
            "gridcolor": "white",
            "linecolor": "white",
            "ticks": ""
           },
           "bgcolor": "#E5ECF6",
           "radialaxis": {
            "gridcolor": "white",
            "linecolor": "white",
            "ticks": ""
           }
          },
          "scene": {
           "xaxis": {
            "backgroundcolor": "#E5ECF6",
            "gridcolor": "white",
            "gridwidth": 2,
            "linecolor": "white",
            "showbackground": true,
            "ticks": "",
            "zerolinecolor": "white"
           },
           "yaxis": {
            "backgroundcolor": "#E5ECF6",
            "gridcolor": "white",
            "gridwidth": 2,
            "linecolor": "white",
            "showbackground": true,
            "ticks": "",
            "zerolinecolor": "white"
           },
           "zaxis": {
            "backgroundcolor": "#E5ECF6",
            "gridcolor": "white",
            "gridwidth": 2,
            "linecolor": "white",
            "showbackground": true,
            "ticks": "",
            "zerolinecolor": "white"
           }
          },
          "shapedefaults": {
           "line": {
            "color": "#2a3f5f"
           }
          },
          "ternary": {
           "aaxis": {
            "gridcolor": "white",
            "linecolor": "white",
            "ticks": ""
           },
           "baxis": {
            "gridcolor": "white",
            "linecolor": "white",
            "ticks": ""
           },
           "bgcolor": "#E5ECF6",
           "caxis": {
            "gridcolor": "white",
            "linecolor": "white",
            "ticks": ""
           }
          },
          "title": {
           "x": 0.05
          },
          "xaxis": {
           "automargin": true,
           "gridcolor": "white",
           "linecolor": "white",
           "ticks": "",
           "title": {
            "standoff": 15
           },
           "zerolinecolor": "white",
           "zerolinewidth": 2
          },
          "yaxis": {
           "automargin": true,
           "gridcolor": "white",
           "linecolor": "white",
           "ticks": "",
           "title": {
            "standoff": 15
           },
           "zerolinecolor": "white",
           "zerolinewidth": 2
          }
         }
        },
        "title": {
         "text": "Density Distribution: Deductions vs Final Score (Short Program)"
        },
        "xaxis": {
         "anchor": "y",
         "domain": [
          0,
          0.235
         ],
         "title": {
          "text": "Total Deductions (points)"
         }
        },
        "xaxis2": {
         "anchor": "y2",
         "domain": [
          0.255,
          0.49
         ],
         "matches": "x",
         "title": {
          "text": "Total Deductions"
         }
        },
        "xaxis3": {
         "anchor": "y3",
         "domain": [
          0.51,
          0.745
         ],
         "matches": "x",
         "title": {
          "text": "Total Deductions"
         }
        },
        "xaxis4": {
         "anchor": "y4",
         "domain": [
          0.7649999999999999,
          0.9999999999999999
         ],
         "matches": "x",
         "title": {
          "text": "Total Deductions"
         }
        },
        "yaxis": {
         "anchor": "x",
         "domain": [
          0,
          1
         ],
         "title": {
          "text": "Segment Score"
         }
        },
        "yaxis2": {
         "anchor": "x2",
         "domain": [
          0,
          1
         ],
         "matches": "y",
         "showticklabels": false
        },
        "yaxis3": {
         "anchor": "x3",
         "domain": [
          0,
          1
         ],
         "matches": "y",
         "showticklabels": false
        },
        "yaxis4": {
         "anchor": "x4",
         "domain": [
          0,
          1
         ],
         "matches": "y",
         "showticklabels": false
        }
       }
      }
     },
     "metadata": {},
     "output_type": "display_data"
    }
   ],
   "source": [
    "deductions = df_skaters[\n",
    "    ((df_skaters[\"segment\"] == \"Short Program\") | (df_skaters[\"segment\"] == \"Free Dance\")) & \n",
    "    (df_skaters[\"category\"].isin([\"Men Single Skating\", \"Women Single Skating\", \"Ice Dance\", \"Pair Skating\"]))\n",
    "]\n",
    "\n",
    "deductions = deductions[~deductions[\"category\"].isin([\n",
    "    \"Team Event - Men Single Skating\", \n",
    "    \"Team Event - Women Single Skating\", \n",
    "    \"Team Event - Pair Skating\"\n",
    "])]\n",
    "\n",
    "fig = px.density_heatmap(\n",
    "    deductions,\n",
    "    x='total_deductions',\n",
    "    y='total_segment_score',\n",
    "    nbinsx=15,\n",
    "    nbinsy=15,\n",
    "    facet_col='category',\n",
    "    title=\"Density Distribution: Deductions vs Final Score (Short Program)\",\n",
    "    labels={\n",
    "        'total_deductions': 'Total Deductions',\n",
    "        'total_segment_score': 'Segment Score',\n",
    "        'category': 'Discipline'\n",
    "    }\n",
    ")\n",
    "\n",
    "fig.update_layout(\n",
    "    xaxis_title=\"Total Deductions (points)\",\n",
    "    yaxis_title=\"Segment Score\",\n",
    "    coloraxis_colorbar_title=\"Density\",\n",
    "    font=dict(size=12)\n",
    ")\n",
    "\n",
    "fig.for_each_annotation(lambda a: a.update(text=a.text.split(\"=\")[-1]))\n",
    "\n",
    "fig.show()"
   ]
  },
  {
   "cell_type": "code",
   "execution_count": 264,
   "metadata": {},
   "outputs": [
    {
     "data": {
      "application/vnd.plotly.v1+json": {
       "config": {
        "plotlyServerURL": "https://plot.ly"
       },
       "data": [
        {
         "hovertemplate": "Program=Free Dance<br>Discipline=%{x}<br>Average Score=%{y}<extra></extra>",
         "legendgroup": "Free Dance",
         "marker": {
          "color": "#636efa",
          "pattern": {
           "shape": ""
          }
         },
         "name": "Free Dance",
         "orientation": "v",
         "showlegend": true,
         "textposition": "auto",
         "type": "bar",
         "x": [
          "Ice Dance",
          "Team Event - Ice Dance"
         ],
         "xaxis": "x",
         "y": {
          "bdata": "61G4HoWbXEBWDi2ynV9dQA==",
          "dtype": "f8"
         },
         "yaxis": "y"
        },
        {
         "hovertemplate": "Program=Rhythm Dance<br>Discipline=%{x}<br>Average Score=%{y}<extra></extra>",
         "legendgroup": "Rhythm Dance",
         "marker": {
          "color": "#EF553B",
          "pattern": {
           "shape": ""
          }
         },
         "name": "Rhythm Dance",
         "orientation": "v",
         "showlegend": true,
         "textposition": "auto",
         "type": "bar",
         "x": [
          "Ice Dance",
          "Team Event - Ice Dance"
         ],
         "xaxis": "x",
         "y": {
          "bdata": "KNpq8ByxUkCoxks3iYFSQA==",
          "dtype": "f8"
         },
         "yaxis": "y"
        },
        {
         "hovertemplate": "Program=Free Skating<br>Discipline=%{x}<br>Average Score=%{y}<extra></extra>",
         "legendgroup": "Free Skating",
         "marker": {
          "color": "#00cc96",
          "pattern": {
           "shape": ""
          }
         },
         "name": "Free Skating",
         "orientation": "v",
         "showlegend": true,
         "textposition": "auto",
         "type": "bar",
         "x": [
          "Men Single Skating",
          "Pair Skating",
          "Team Event - Men Single Skating",
          "Team Event - Pair Skating",
          "Team Event - Women Single Skating",
          "Women Single Skating"
         ],
         "xaxis": "x",
         "y": {
          "bdata": "61G4HoX2ZED2KFyPwuZfQNnO91Pj/WRAsp3vp8bjYEC4HoXrURBhQCXkg57N+l9A",
          "dtype": "f8"
         },
         "yaxis": "y"
        },
        {
         "hovertemplate": "Program=Short Program<br>Discipline=%{x}<br>Average Score=%{y}<extra></extra>",
         "legendgroup": "Short Program",
         "marker": {
          "color": "#ab63fa",
          "pattern": {
           "shape": ""
          }
         },
         "name": "Short Program",
         "orientation": "v",
         "showlegend": true,
         "textposition": "auto",
         "type": "bar",
         "x": [
          "Men Single Skating",
          "Pair Skating",
          "Team Event - Men Single Skating",
          "Team Event - Pair Skating",
          "Team Event - Women Single Skating",
          "Women Single Skating"
         ],
         "xaxis": "x",
         "y": {
          "bdata": "iyGdtxiSVUCNBHzzagJRQMA3ryaeBVZAiYiIiIgoUUB9PzVeunlQQE8b6LSB3k9A",
          "dtype": "f8"
         },
         "yaxis": "y"
        }
       ],
       "layout": {
        "barmode": "relative",
        "legend": {
         "title": {
          "text": "Program"
         },
         "tracegroupgap": 0
        },
        "template": {
         "data": {
          "bar": [
           {
            "error_x": {
             "color": "#2a3f5f"
            },
            "error_y": {
             "color": "#2a3f5f"
            },
            "marker": {
             "line": {
              "color": "#E5ECF6",
              "width": 0.5
             },
             "pattern": {
              "fillmode": "overlay",
              "size": 10,
              "solidity": 0.2
             }
            },
            "type": "bar"
           }
          ],
          "barpolar": [
           {
            "marker": {
             "line": {
              "color": "#E5ECF6",
              "width": 0.5
             },
             "pattern": {
              "fillmode": "overlay",
              "size": 10,
              "solidity": 0.2
             }
            },
            "type": "barpolar"
           }
          ],
          "carpet": [
           {
            "aaxis": {
             "endlinecolor": "#2a3f5f",
             "gridcolor": "white",
             "linecolor": "white",
             "minorgridcolor": "white",
             "startlinecolor": "#2a3f5f"
            },
            "baxis": {
             "endlinecolor": "#2a3f5f",
             "gridcolor": "white",
             "linecolor": "white",
             "minorgridcolor": "white",
             "startlinecolor": "#2a3f5f"
            },
            "type": "carpet"
           }
          ],
          "choropleth": [
           {
            "colorbar": {
             "outlinewidth": 0,
             "ticks": ""
            },
            "type": "choropleth"
           }
          ],
          "contour": [
           {
            "colorbar": {
             "outlinewidth": 0,
             "ticks": ""
            },
            "colorscale": [
             [
              0,
              "#0d0887"
             ],
             [
              0.1111111111111111,
              "#46039f"
             ],
             [
              0.2222222222222222,
              "#7201a8"
             ],
             [
              0.3333333333333333,
              "#9c179e"
             ],
             [
              0.4444444444444444,
              "#bd3786"
             ],
             [
              0.5555555555555556,
              "#d8576b"
             ],
             [
              0.6666666666666666,
              "#ed7953"
             ],
             [
              0.7777777777777778,
              "#fb9f3a"
             ],
             [
              0.8888888888888888,
              "#fdca26"
             ],
             [
              1,
              "#f0f921"
             ]
            ],
            "type": "contour"
           }
          ],
          "contourcarpet": [
           {
            "colorbar": {
             "outlinewidth": 0,
             "ticks": ""
            },
            "type": "contourcarpet"
           }
          ],
          "heatmap": [
           {
            "colorbar": {
             "outlinewidth": 0,
             "ticks": ""
            },
            "colorscale": [
             [
              0,
              "#0d0887"
             ],
             [
              0.1111111111111111,
              "#46039f"
             ],
             [
              0.2222222222222222,
              "#7201a8"
             ],
             [
              0.3333333333333333,
              "#9c179e"
             ],
             [
              0.4444444444444444,
              "#bd3786"
             ],
             [
              0.5555555555555556,
              "#d8576b"
             ],
             [
              0.6666666666666666,
              "#ed7953"
             ],
             [
              0.7777777777777778,
              "#fb9f3a"
             ],
             [
              0.8888888888888888,
              "#fdca26"
             ],
             [
              1,
              "#f0f921"
             ]
            ],
            "type": "heatmap"
           }
          ],
          "histogram": [
           {
            "marker": {
             "pattern": {
              "fillmode": "overlay",
              "size": 10,
              "solidity": 0.2
             }
            },
            "type": "histogram"
           }
          ],
          "histogram2d": [
           {
            "colorbar": {
             "outlinewidth": 0,
             "ticks": ""
            },
            "colorscale": [
             [
              0,
              "#0d0887"
             ],
             [
              0.1111111111111111,
              "#46039f"
             ],
             [
              0.2222222222222222,
              "#7201a8"
             ],
             [
              0.3333333333333333,
              "#9c179e"
             ],
             [
              0.4444444444444444,
              "#bd3786"
             ],
             [
              0.5555555555555556,
              "#d8576b"
             ],
             [
              0.6666666666666666,
              "#ed7953"
             ],
             [
              0.7777777777777778,
              "#fb9f3a"
             ],
             [
              0.8888888888888888,
              "#fdca26"
             ],
             [
              1,
              "#f0f921"
             ]
            ],
            "type": "histogram2d"
           }
          ],
          "histogram2dcontour": [
           {
            "colorbar": {
             "outlinewidth": 0,
             "ticks": ""
            },
            "colorscale": [
             [
              0,
              "#0d0887"
             ],
             [
              0.1111111111111111,
              "#46039f"
             ],
             [
              0.2222222222222222,
              "#7201a8"
             ],
             [
              0.3333333333333333,
              "#9c179e"
             ],
             [
              0.4444444444444444,
              "#bd3786"
             ],
             [
              0.5555555555555556,
              "#d8576b"
             ],
             [
              0.6666666666666666,
              "#ed7953"
             ],
             [
              0.7777777777777778,
              "#fb9f3a"
             ],
             [
              0.8888888888888888,
              "#fdca26"
             ],
             [
              1,
              "#f0f921"
             ]
            ],
            "type": "histogram2dcontour"
           }
          ],
          "mesh3d": [
           {
            "colorbar": {
             "outlinewidth": 0,
             "ticks": ""
            },
            "type": "mesh3d"
           }
          ],
          "parcoords": [
           {
            "line": {
             "colorbar": {
              "outlinewidth": 0,
              "ticks": ""
             }
            },
            "type": "parcoords"
           }
          ],
          "pie": [
           {
            "automargin": true,
            "type": "pie"
           }
          ],
          "scatter": [
           {
            "fillpattern": {
             "fillmode": "overlay",
             "size": 10,
             "solidity": 0.2
            },
            "type": "scatter"
           }
          ],
          "scatter3d": [
           {
            "line": {
             "colorbar": {
              "outlinewidth": 0,
              "ticks": ""
             }
            },
            "marker": {
             "colorbar": {
              "outlinewidth": 0,
              "ticks": ""
             }
            },
            "type": "scatter3d"
           }
          ],
          "scattercarpet": [
           {
            "marker": {
             "colorbar": {
              "outlinewidth": 0,
              "ticks": ""
             }
            },
            "type": "scattercarpet"
           }
          ],
          "scattergeo": [
           {
            "marker": {
             "colorbar": {
              "outlinewidth": 0,
              "ticks": ""
             }
            },
            "type": "scattergeo"
           }
          ],
          "scattergl": [
           {
            "marker": {
             "colorbar": {
              "outlinewidth": 0,
              "ticks": ""
             }
            },
            "type": "scattergl"
           }
          ],
          "scattermap": [
           {
            "marker": {
             "colorbar": {
              "outlinewidth": 0,
              "ticks": ""
             }
            },
            "type": "scattermap"
           }
          ],
          "scattermapbox": [
           {
            "marker": {
             "colorbar": {
              "outlinewidth": 0,
              "ticks": ""
             }
            },
            "type": "scattermapbox"
           }
          ],
          "scatterpolar": [
           {
            "marker": {
             "colorbar": {
              "outlinewidth": 0,
              "ticks": ""
             }
            },
            "type": "scatterpolar"
           }
          ],
          "scatterpolargl": [
           {
            "marker": {
             "colorbar": {
              "outlinewidth": 0,
              "ticks": ""
             }
            },
            "type": "scatterpolargl"
           }
          ],
          "scatterternary": [
           {
            "marker": {
             "colorbar": {
              "outlinewidth": 0,
              "ticks": ""
             }
            },
            "type": "scatterternary"
           }
          ],
          "surface": [
           {
            "colorbar": {
             "outlinewidth": 0,
             "ticks": ""
            },
            "colorscale": [
             [
              0,
              "#0d0887"
             ],
             [
              0.1111111111111111,
              "#46039f"
             ],
             [
              0.2222222222222222,
              "#7201a8"
             ],
             [
              0.3333333333333333,
              "#9c179e"
             ],
             [
              0.4444444444444444,
              "#bd3786"
             ],
             [
              0.5555555555555556,
              "#d8576b"
             ],
             [
              0.6666666666666666,
              "#ed7953"
             ],
             [
              0.7777777777777778,
              "#fb9f3a"
             ],
             [
              0.8888888888888888,
              "#fdca26"
             ],
             [
              1,
              "#f0f921"
             ]
            ],
            "type": "surface"
           }
          ],
          "table": [
           {
            "cells": {
             "fill": {
              "color": "#EBF0F8"
             },
             "line": {
              "color": "white"
             }
            },
            "header": {
             "fill": {
              "color": "#C8D4E3"
             },
             "line": {
              "color": "white"
             }
            },
            "type": "table"
           }
          ]
         },
         "layout": {
          "annotationdefaults": {
           "arrowcolor": "#2a3f5f",
           "arrowhead": 0,
           "arrowwidth": 1
          },
          "autotypenumbers": "strict",
          "coloraxis": {
           "colorbar": {
            "outlinewidth": 0,
            "ticks": ""
           }
          },
          "colorscale": {
           "diverging": [
            [
             0,
             "#8e0152"
            ],
            [
             0.1,
             "#c51b7d"
            ],
            [
             0.2,
             "#de77ae"
            ],
            [
             0.3,
             "#f1b6da"
            ],
            [
             0.4,
             "#fde0ef"
            ],
            [
             0.5,
             "#f7f7f7"
            ],
            [
             0.6,
             "#e6f5d0"
            ],
            [
             0.7,
             "#b8e186"
            ],
            [
             0.8,
             "#7fbc41"
            ],
            [
             0.9,
             "#4d9221"
            ],
            [
             1,
             "#276419"
            ]
           ],
           "sequential": [
            [
             0,
             "#0d0887"
            ],
            [
             0.1111111111111111,
             "#46039f"
            ],
            [
             0.2222222222222222,
             "#7201a8"
            ],
            [
             0.3333333333333333,
             "#9c179e"
            ],
            [
             0.4444444444444444,
             "#bd3786"
            ],
            [
             0.5555555555555556,
             "#d8576b"
            ],
            [
             0.6666666666666666,
             "#ed7953"
            ],
            [
             0.7777777777777778,
             "#fb9f3a"
            ],
            [
             0.8888888888888888,
             "#fdca26"
            ],
            [
             1,
             "#f0f921"
            ]
           ],
           "sequentialminus": [
            [
             0,
             "#0d0887"
            ],
            [
             0.1111111111111111,
             "#46039f"
            ],
            [
             0.2222222222222222,
             "#7201a8"
            ],
            [
             0.3333333333333333,
             "#9c179e"
            ],
            [
             0.4444444444444444,
             "#bd3786"
            ],
            [
             0.5555555555555556,
             "#d8576b"
            ],
            [
             0.6666666666666666,
             "#ed7953"
            ],
            [
             0.7777777777777778,
             "#fb9f3a"
            ],
            [
             0.8888888888888888,
             "#fdca26"
            ],
            [
             1,
             "#f0f921"
            ]
           ]
          },
          "colorway": [
           "#636efa",
           "#EF553B",
           "#00cc96",
           "#ab63fa",
           "#FFA15A",
           "#19d3f3",
           "#FF6692",
           "#B6E880",
           "#FF97FF",
           "#FECB52"
          ],
          "font": {
           "color": "#2a3f5f"
          },
          "geo": {
           "bgcolor": "white",
           "lakecolor": "white",
           "landcolor": "#E5ECF6",
           "showlakes": true,
           "showland": true,
           "subunitcolor": "white"
          },
          "hoverlabel": {
           "align": "left"
          },
          "hovermode": "closest",
          "mapbox": {
           "style": "light"
          },
          "paper_bgcolor": "white",
          "plot_bgcolor": "#E5ECF6",
          "polar": {
           "angularaxis": {
            "gridcolor": "white",
            "linecolor": "white",
            "ticks": ""
           },
           "bgcolor": "#E5ECF6",
           "radialaxis": {
            "gridcolor": "white",
            "linecolor": "white",
            "ticks": ""
           }
          },
          "scene": {
           "xaxis": {
            "backgroundcolor": "#E5ECF6",
            "gridcolor": "white",
            "gridwidth": 2,
            "linecolor": "white",
            "showbackground": true,
            "ticks": "",
            "zerolinecolor": "white"
           },
           "yaxis": {
            "backgroundcolor": "#E5ECF6",
            "gridcolor": "white",
            "gridwidth": 2,
            "linecolor": "white",
            "showbackground": true,
            "ticks": "",
            "zerolinecolor": "white"
           },
           "zaxis": {
            "backgroundcolor": "#E5ECF6",
            "gridcolor": "white",
            "gridwidth": 2,
            "linecolor": "white",
            "showbackground": true,
            "ticks": "",
            "zerolinecolor": "white"
           }
          },
          "shapedefaults": {
           "line": {
            "color": "#2a3f5f"
           }
          },
          "ternary": {
           "aaxis": {
            "gridcolor": "white",
            "linecolor": "white",
            "ticks": ""
           },
           "baxis": {
            "gridcolor": "white",
            "linecolor": "white",
            "ticks": ""
           },
           "bgcolor": "#E5ECF6",
           "caxis": {
            "gridcolor": "white",
            "linecolor": "white",
            "ticks": ""
           }
          },
          "title": {
           "x": 0.05
          },
          "xaxis": {
           "automargin": true,
           "gridcolor": "white",
           "linecolor": "white",
           "ticks": "",
           "title": {
            "standoff": 15
           },
           "zerolinecolor": "white",
           "zerolinewidth": 2
          },
          "yaxis": {
           "automargin": true,
           "gridcolor": "white",
           "linecolor": "white",
           "ticks": "",
           "title": {
            "standoff": 15
           },
           "zerolinecolor": "white",
           "zerolinewidth": 2
          }
         }
        },
        "title": {
         "text": "Average Score by Discipline and Program"
        },
        "xaxis": {
         "anchor": "y",
         "domain": [
          0,
          1
         ],
         "title": {
          "text": "Discipline"
         }
        },
        "yaxis": {
         "anchor": "x",
         "domain": [
          0,
          1
         ],
         "title": {
          "text": "Average Score"
         }
        }
       }
      }
     },
     "metadata": {},
     "output_type": "display_data"
    }
   ],
   "source": [
    "df_grouped = df_skaters.groupby(['category', 'segment']).agg({'total_segment_score': 'mean'}).reset_index()\n",
    "\n",
    "px.bar(df_grouped, \n",
    "       x='category', \n",
    "       y='total_segment_score', \n",
    "       color='segment',\n",
    "       title='Average Score by Discipline and Program',\n",
    "       labels={\n",
    "           'total_segment_score': 'Average Score', \n",
    "           'category': 'Discipline',\n",
    "           'segment': 'Program'\n",
    "       })"
   ]
  },
  {
   "cell_type": "code",
   "execution_count": 265,
   "metadata": {},
   "outputs": [
    {
     "data": {
      "application/vnd.plotly.v1+json": {
       "config": {
        "plotlyServerURL": "https://plot.ly"
       },
       "data": [
        {
         "customdata": [
          [
           "4F+3T"
          ],
          [
           "4F"
          ],
          [
           "4S"
          ],
          [
           "CCSp4"
          ],
          [
           "4Lz"
          ],
          [
           "StSq4"
          ],
          [
           "4T+1Eu+1F"
          ],
          [
           "3A"
          ],
          [
           "3Lz+3T"
          ],
          [
           "CCoSp2V"
          ],
          [
           "ChSq1"
          ],
          [
           "FCCoSp4"
          ],
          [
           "4S"
          ],
          [
           "4Loq"
          ],
          [
           "4T"
          ],
          [
           "3A+2T"
          ],
          [
           "CSSp4"
          ],
          [
           "StSq4"
          ],
          [
           "4T+1Eu+2S"
          ],
          [
           "3F+3Lo"
          ],
          [
           "3A"
          ],
          [
           "ChSq1"
          ],
          [
           "CCoSp4"
          ],
          [
           "FCCoSp4"
          ],
          [
           "4A<"
          ],
          [
           "4Sq"
          ],
          [
           "3A+2T"
          ],
          [
           "3F"
          ],
          [
           "FCCoSp4"
          ],
          [
           "StSq4"
          ],
          [
           "4T+3T"
          ],
          [
           "4T+1Eu+3S"
          ],
          [
           "3A"
          ],
          [
           "ChSq1"
          ],
          [
           "FCSSp4"
          ],
          [
           "CCoSp4V"
          ],
          [
           "4Lz!"
          ],
          [
           "4F"
          ],
          [
           "4Lo+1Eu+3S"
          ],
          [
           "3A"
          ],
          [
           "CSSp4"
          ],
          [
           "3Lz+3T"
          ],
          [
           "3F+3T<"
          ],
          [
           "3Lz"
          ],
          [
           "FCCoSp4"
          ],
          [
           "StSq4"
          ],
          [
           "ChSq1"
          ],
          [
           "CCoSp4"
          ],
          [
           "4Lo"
          ],
          [
           "4Sq"
          ],
          [
           "4F"
          ],
          [
           "3A"
          ],
          [
           "FCSp4"
          ],
          [
           "ChSq1"
          ],
          [
           "4T"
          ],
          [
           "4T+2T"
          ],
          [
           "3A+1Eu+1F"
          ],
          [
           "FCCoSp4"
          ],
          [
           "CCoSp4"
          ],
          [
           "StSq4"
          ],
          [
           "3F"
          ],
          [
           "3A+2T"
          ],
          [
           "3A"
          ],
          [
           "CCoSp4"
          ],
          [
           "3Lo"
          ],
          [
           "3F+3T"
          ],
          [
           "3Lz+1Eu+2S"
          ],
          [
           "ChSq1"
          ],
          [
           "2A"
          ],
          [
           "FCCoSp4"
          ],
          [
           "StSq4"
          ],
          [
           "CCSp4"
          ],
          [
           "4T<"
          ],
          [
           "4S"
          ],
          [
           "3Lz+3Lo"
          ],
          [
           "FCSp4"
          ],
          [
           "StSq4"
          ],
          [
           "3A+2T"
          ],
          [
           "3A"
          ],
          [
           "3Lz+1Eu+3S"
          ],
          [
           "3F"
          ],
          [
           "ChSq1"
          ],
          [
           "CSSp4"
          ],
          [
           "CCoSp3"
          ],
          [
           "4Lz"
          ],
          [
           "4T+2T"
          ],
          [
           "3A+1Eu+3S"
          ],
          [
           "FCSp4"
          ],
          [
           "4T"
          ],
          [
           "3Lz+2T"
          ],
          [
           "3A"
          ],
          [
           "3F"
          ],
          [
           "CSSp4"
          ],
          [
           "StSq4"
          ],
          [
           "ChSq1"
          ],
          [
           "CCoSp4"
          ],
          [
           "4T"
          ],
          [
           "4S"
          ],
          [
           "4T+3T"
          ],
          [
           "3F+2T"
          ],
          [
           "CCoSp4"
          ],
          [
           "3A+1Eu+3S"
          ],
          [
           "3A"
          ],
          [
           "StSq4"
          ],
          [
           "ChSq1"
          ],
          [
           "3Lo"
          ],
          [
           "CSSp4"
          ],
          [
           "FCSp4"
          ],
          [
           "4T+2T"
          ],
          [
           "3T"
          ],
          [
           "3A+1Eu+2S"
          ],
          [
           "3Lo"
          ],
          [
           "FSSp2"
          ],
          [
           "StSq2"
          ],
          [
           "3A"
          ],
          [
           "3Lz+3T"
          ],
          [
           "FCCoSp4"
          ],
          [
           "3F"
          ],
          [
           "ChSq1"
          ],
          [
           "CCoSp4"
          ],
          [
           "4S+2T"
          ],
          [
           "3A"
          ],
          [
           "4T"
          ],
          [
           "3Lo"
          ],
          [
           "FCSp4"
          ],
          [
           "StSq4"
          ],
          [
           "4T+3T"
          ],
          [
           "2F+1Eu+3S"
          ],
          [
           "3F"
          ],
          [
           "FCCoSp4"
          ],
          [
           "ChSq1"
          ],
          [
           "CCoSp4"
          ],
          [
           "4S<"
          ],
          [
           "3A+2T"
          ],
          [
           "3A"
          ],
          [
           "3Lo"
          ],
          [
           "StSq4"
          ],
          [
           "FSSp4"
          ],
          [
           "3F!+3T"
          ],
          [
           "3Lz+1Eu+3S"
          ],
          [
           "3Lz"
          ],
          [
           "ChSq1"
          ],
          [
           "CCoSp4"
          ],
          [
           "FCCoSp4"
          ],
          [
           "4T"
          ],
          [
           "3A"
          ],
          [
           "4S"
          ],
          [
           "4T+REP"
          ],
          [
           "CSSp3"
          ],
          [
           "3Lz+1Eu+3S"
          ],
          [
           "3Lz+3T"
          ],
          [
           "3F"
          ],
          [
           "FCCoSp3"
          ],
          [
           "StSq4"
          ],
          [
           "ChSq1"
          ],
          [
           "CCoSp4"
          ],
          [
           "4T"
          ],
          [
           "3A"
          ],
          [
           "1A"
          ],
          [
           "3Lo"
          ],
          [
           "FCSp4"
          ],
          [
           "4S+2T"
          ],
          [
           "4S+1Eu+3Sq"
          ],
          [
           "3Lz+2T"
          ],
          [
           "CSSp4"
          ],
          [
           "StSq4"
          ],
          [
           "CCoSp4"
          ],
          [
           "ChSq1"
          ],
          [
           "4T<"
          ],
          [
           "3T"
          ],
          [
           "3A+2T"
          ],
          [
           "3Lo"
          ],
          [
           "CCSp4"
          ],
          [
           "3A"
          ],
          [
           "3Lz"
          ],
          [
           "3F!+1Eu+3S"
          ],
          [
           "ChSq1"
          ],
          [
           "FSSp4"
          ],
          [
           "CCoSp4"
          ],
          [
           "StSq4"
          ],
          [
           "4T"
          ],
          [
           "3S"
          ],
          [
           "3A+2T"
          ],
          [
           "3F"
          ],
          [
           "CCSp4"
          ],
          [
           "StSq4"
          ],
          [
           "3Lz+3T"
          ],
          [
           "3A"
          ],
          [
           "3Lz+2T"
          ],
          [
           "CCoSp4"
          ],
          [
           "ChSq1"
          ],
          [
           "FSSp4"
          ],
          [
           "3T+2T"
          ],
          [
           "3F"
          ],
          [
           "3Lo"
          ],
          [
           "3Lz+3T"
          ],
          [
           "CCoSp4"
          ],
          [
           "ChSq1"
          ],
          [
           "3A+1Eu+3S"
          ],
          [
           "2A"
          ],
          [
           "3A"
          ],
          [
           "CCSp3"
          ],
          [
           "StSq4"
          ],
          [
           "FSSp4"
          ],
          [
           "4Sq"
          ],
          [
           "4T+3T"
          ],
          [
           "3Lo"
          ],
          [
           "3A+2T"
          ],
          [
           "FCSp4"
          ],
          [
           "ChSq1"
          ],
          [
           "4T<"
          ],
          [
           "3Aq"
          ],
          [
           "3Lz+1Eu+3S"
          ],
          [
           "StSq3"
          ],
          [
           "CSSp4"
          ],
          [
           "CCoSp3V"
          ],
          [
           "4T+3T"
          ],
          [
           "4T"
          ],
          [
           "3A+2T"
          ],
          [
           "3Lo"
          ],
          [
           "FCSp4"
          ],
          [
           "ChSq1"
          ],
          [
           "3A"
          ],
          [
           "3Fq"
          ],
          [
           "CSSp3"
          ],
          [
           "StSq3"
          ],
          [
           "3Lz!+1Eu+3S"
          ],
          [
           "CCoSp2V"
          ],
          [
           "4S"
          ],
          [
           "3Lz+2T"
          ],
          [
           "3A"
          ],
          [
           "3F"
          ],
          [
           "CSSp3"
          ],
          [
           "StSq3"
          ],
          [
           "3A+2T"
          ],
          [
           "2Lz+1Eu+3S"
          ],
          [
           "3Lo"
          ],
          [
           "FCCoSp3"
          ],
          [
           "ChSq1"
          ],
          [
           "CCoSp3"
          ],
          [
           "3A+2T"
          ],
          [
           "3Lz"
          ],
          [
           "3A"
          ],
          [
           "3Lo"
          ],
          [
           "FCCoSp4"
          ],
          [
           "ChSq1"
          ],
          [
           "2A+1Eu+3S"
          ],
          [
           "3F"
          ],
          [
           "3Lz+REP"
          ],
          [
           "StSq3"
          ],
          [
           "CSSp3"
          ],
          [
           "CCoSp3"
          ],
          [
           "4T"
          ],
          [
           "3A"
          ],
          [
           "3Lo"
          ],
          [
           "3F+1Eu+3S"
          ],
          [
           "FCCoSp4"
          ],
          [
           "ChSq1"
          ],
          [
           "3Lz+3T<"
          ],
          [
           "3F"
          ],
          [
           "3Lz"
          ],
          [
           "StSq4"
          ],
          [
           "CCoSp4"
          ],
          [
           "CSSp4"
          ],
          [
           "4T+2T"
          ],
          [
           "2T"
          ],
          [
           "3A+2T*"
          ],
          [
           "3Lo"
          ],
          [
           "FCCoSp4"
          ],
          [
           "StSq4"
          ],
          [
           "3A"
          ],
          [
           "2F+1Eu+3S"
          ],
          [
           "3Lz"
          ],
          [
           "ChSq1"
          ],
          [
           "CSSp4"
          ],
          [
           "CCoSp4"
          ],
          [
           "3A"
          ],
          [
           "3A+SEQ+1T*"
          ],
          [
           "3Lz!+3T"
          ],
          [
           "3Lo"
          ],
          [
           "CCoSp2"
          ],
          [
           "ChSq1"
          ],
          [
           "3F"
          ],
          [
           "3Lze+1Eu+3S"
          ],
          [
           "2A"
          ],
          [
           "FSSp4"
          ],
          [
           "StSq2"
          ],
          [
           "FCCoSp3"
          ],
          [
           "4F"
          ],
          [
           "3A"
          ],
          [
           "CCSp4"
          ],
          [
           "4Lz+3T"
          ],
          [
           "StSq4"
          ],
          [
           "FSSp4"
          ],
          [
           "CCoSp4"
          ],
          [
           "4S"
          ],
          [
           "4T+3T"
          ],
          [
           "CCSp4"
          ],
          [
           "3A"
          ],
          [
           "FSSp4"
          ],
          [
           "StSq3"
          ],
          [
           "CCoSp4"
          ],
          [
           "4F"
          ],
          [
           "4T+3T"
          ],
          [
           "FCSp4"
          ],
          [
           "3A"
          ],
          [
           "CSSp4"
          ],
          [
           "StSq4"
          ],
          [
           "CCoSp4"
          ],
          [
           "4S"
          ],
          [
           "3Lz+3Lo"
          ],
          [
           "FCSp4"
          ],
          [
           "3A"
          ],
          [
           "CSSp4"
          ],
          [
           "StSq4"
          ],
          [
           "CCoSp4"
          ],
          [
           "4S+3T"
          ],
          [
           "3A"
          ],
          [
           "FCSp4"
          ],
          [
           "4T"
          ],
          [
           "StSq3"
          ],
          [
           "CSSp4"
          ],
          [
           "CCoSp4"
          ],
          [
           "3F"
          ],
          [
           "3A"
          ],
          [
           "FSSp4"
          ],
          [
           "3Lz+3T"
          ],
          [
           "StSq4"
          ],
          [
           "CCoSp4"
          ],
          [
           "CCSp4"
          ],
          [
           "4T+3T"
          ],
          [
           "4S"
          ],
          [
           "CCoSp4"
          ],
          [
           "3A"
          ],
          [
           "CSSp4"
          ],
          [
           "StSq4"
          ],
          [
           "FCSp4"
          ],
          [
           "1S*"
          ],
          [
           "4T+3T"
          ],
          [
           "FCSp4"
          ],
          [
           "3A"
          ],
          [
           "CSSp4"
          ],
          [
           "StSq4"
          ],
          [
           "CCoSp4"
          ],
          [
           "4T+3T"
          ],
          [
           "3A"
          ],
          [
           "FCSp3"
          ],
          [
           "3Lz"
          ],
          [
           "CSSp2"
          ],
          [
           "StSq2"
          ],
          [
           "CCoSp3"
          ],
          [
           "4T+3T"
          ],
          [
           "3S"
          ],
          [
           "CCSp3"
          ],
          [
           "3A"
          ],
          [
           "FSSp4"
          ],
          [
           "CCoSp4"
          ],
          [
           "StSq4"
          ],
          [
           "4Lz+3T"
          ],
          [
           "4T"
          ],
          [
           "FCSp4"
          ],
          [
           "3Aq"
          ],
          [
           "CSSp4"
          ],
          [
           "StSq4"
          ],
          [
           "CCoSp4"
          ],
          [
           "4Lz!q"
          ],
          [
           "3Lz!+3T"
          ],
          [
           "FSSp4"
          ],
          [
           "3A"
          ],
          [
           "StSq4"
          ],
          [
           "CCSp4"
          ],
          [
           "CCoSp4"
          ],
          [
           "4T+2T"
          ],
          [
           "3Lz"
          ],
          [
           "CCSp4"
          ],
          [
           "StSq4"
          ],
          [
           "3A"
          ],
          [
           "FSSp4"
          ],
          [
           "CCoSp4"
          ],
          [
           "4T+3T"
          ],
          [
           "3A"
          ],
          [
           "CCoSp4"
          ],
          [
           "4Sq"
          ],
          [
           "FCSp4"
          ],
          [
           "StSq3"
          ],
          [
           "CSSp4"
          ],
          [
           "4T"
          ],
          [
           "3A"
          ],
          [
           "CSSp4"
          ],
          [
           "4S+2T"
          ],
          [
           "StSq4"
          ],
          [
           "FCSp4"
          ],
          [
           "CCoSp4"
          ],
          [
           "3F"
          ],
          [
           "3A"
          ],
          [
           "CCSp4"
          ],
          [
           "FSSp4"
          ],
          [
           "3Lz+2T"
          ],
          [
           "CCoSp4"
          ],
          [
           "StSq4"
          ],
          [
           "4T"
          ],
          [
           "3Lz+3T"
          ],
          [
           "CCSp4"
          ],
          [
           "3A"
          ],
          [
           "CCoSp4"
          ],
          [
           "StSq4"
          ],
          [
           "FSSp4"
          ],
          [
           "4T"
          ],
          [
           "3A"
          ],
          [
           "FCSp4"
          ],
          [
           "3F+3T"
          ],
          [
           "CSSp4"
          ],
          [
           "StSq3"
          ],
          [
           "CCoSp4"
          ],
          [
           "4T"
          ],
          [
           "3A"
          ],
          [
           "CCoSp4"
          ],
          [
           "3Lz+3T<"
          ],
          [
           "FCSp4"
          ],
          [
           "StSq4"
          ],
          [
           "CSSp3"
          ],
          [
           "3Lz+3T"
          ],
          [
           "3A"
          ],
          [
           "FCSp4"
          ],
          [
           "3F"
          ],
          [
           "StSq4"
          ],
          [
           "CSSp4"
          ],
          [
           "CCoSp4"
          ],
          [
           "4Sq"
          ],
          [
           "3A"
          ],
          [
           "CCoSp4"
          ],
          [
           "3Lz+3T"
          ],
          [
           "CSSp4"
          ],
          [
           "FCSp2"
          ],
          [
           "StSq2"
          ],
          [
           "3A"
          ],
          [
           "3Lz!+3T"
          ],
          [
           "CSSp4"
          ],
          [
           "3F"
          ],
          [
           "StSq2"
          ],
          [
           "FCSp4"
          ],
          [
           "CCoSp4"
          ],
          [
           "4T+3T"
          ],
          [
           "4Sq"
          ],
          [
           "FCSp3"
          ],
          [
           "1A*"
          ],
          [
           "CSSp4"
          ],
          [
           "StSq4"
          ],
          [
           "CCoSp3"
          ],
          [
           "4T+2T"
          ],
          [
           "3A"
          ],
          [
           "CSSp4"
          ],
          [
           "3Lz"
          ],
          [
           "StSq4"
          ],
          [
           "FCSp4"
          ],
          [
           "CCoSp4"
          ],
          [
           "3S"
          ],
          [
           "3F+3T"
          ],
          [
           "3A"
          ],
          [
           "FSSp4"
          ],
          [
           "StSq4"
          ],
          [
           "CCSp4"
          ],
          [
           "CCoSp4"
          ],
          [
           "4T"
          ],
          [
           "3A"
          ],
          [
           "CCoSp4V"
          ],
          [
           "3Lz!+3T"
          ],
          [
           "FCSp3"
          ],
          [
           "StSq2"
          ],
          [
           "CSSp2"
          ],
          [
           "4S"
          ],
          [
           "3Aq"
          ],
          [
           "FSSp4"
          ],
          [
           "3Lz<+COMBO"
          ],
          [
           "StSq2"
          ],
          [
           "CCSp4"
          ],
          [
           "CCoSp4"
          ],
          [
           "2A"
          ],
          [
           "3F"
          ],
          [
           "FSSp4"
          ],
          [
           "3Lz+COMBO+2T*"
          ],
          [
           "CCSp3"
          ],
          [
           "StSq4"
          ],
          [
           "CCoSp4"
          ],
          [
           "4S"
          ],
          [
           "1A*"
          ],
          [
           "1F*+3T"
          ],
          [
           "FCSp4"
          ],
          [
           "CSSp4"
          ],
          [
           "StSq3"
          ],
          [
           "CCoSp4"
          ],
          [
           "4F!"
          ],
          [
           "4S"
          ],
          [
           "4T"
          ],
          [
           "2A+3T"
          ],
          [
           "CCoSp3"
          ],
          [
           "ChSq1"
          ],
          [
           "4Lz+3T"
          ],
          [
           "4Lzq"
          ],
          [
           "3Lz+1Eu+3S"
          ],
          [
           "FCSp4"
          ],
          [
           "StSq3"
          ],
          [
           "FCCoSp4"
          ],
          [
           "4F+3T"
          ],
          [
           "4F"
          ],
          [
           "2A"
          ],
          [
           "ChSq1"
          ],
          [
           "2A"
          ],
          [
           "FCSp4"
          ],
          [
           "3Lz+3Lo"
          ],
          [
           "3F+1Eu+3S"
          ],
          [
           "3Lz"
          ],
          [
           "StSq4"
          ],
          [
           "FCCoSp4"
          ],
          [
           "CCoSp4"
          ],
          [
           "2A"
          ],
          [
           "3Lz!"
          ],
          [
           "3F+2T"
          ],
          [
           "3S"
          ],
          [
           "FSSp4"
          ],
          [
           "3F+3T"
          ],
          [
           "2A+3T+2T"
          ],
          [
           "StSq4"
          ],
          [
           "CCoSp3"
          ],
          [
           "ChSq1"
          ],
          [
           "3Lo"
          ],
          [
           "FCCoSp4"
          ],
          [
           "3A<"
          ],
          [
           "3Lz+3Tq"
          ],
          [
           "3Lo"
          ],
          [
           "2A"
          ],
          [
           "StSq4"
          ],
          [
           "3Lz+1Eu+3S"
          ],
          [
           "LSp4"
          ],
          [
           "2A+3T<"
          ],
          [
           "3F!"
          ],
          [
           "FCCoSp4"
          ],
          [
           "ChSq1"
          ],
          [
           "CCoSp4"
          ],
          [
           "4Sq"
          ],
          [
           "3A<"
          ],
          [
           "4T+SEQ+3S<<*"
          ],
          [
           "3Lo"
          ],
          [
           "FCSp4"
          ],
          [
           "ChSq1"
          ],
          [
           "4T"
          ],
          [
           "3F+3T"
          ],
          [
           "3Lz+3T"
          ],
          [
           "StSq4"
          ],
          [
           "FCCoSp4"
          ],
          [
           "CCoSp4"
          ],
          [
           "3A"
          ],
          [
           "3Lz+3T<"
          ],
          [
           "3S"
          ],
          [
           "CCoSp4"
          ],
          [
           "2A"
          ],
          [
           "3Lz+3Tq"
          ],
          [
           "3Lo+2T+2Lo"
          ],
          [
           "3Fe"
          ],
          [
           "FCSp3"
          ],
          [
           "StSq4"
          ],
          [
           "ChSq1"
          ],
          [
           "FCCoSp4"
          ],
          [
           "3A<<"
          ],
          [
           "3Lo"
          ],
          [
           "3F"
          ],
          [
           "2A"
          ],
          [
           "FCCoSp4"
          ],
          [
           "3Lz+3T"
          ],
          [
           "3Lz+1Eu+3S"
          ],
          [
           "3F!+2T"
          ],
          [
           "StSq4"
          ],
          [
           "ChSq1"
          ],
          [
           "CCoSp4"
          ],
          [
           "LSp4"
          ],
          [
           "3F+2A+SEQ"
          ],
          [
           "3Lo"
          ],
          [
           "CCoSp4"
          ],
          [
           "3S"
          ],
          [
           "2A"
          ],
          [
           "StSq4"
          ],
          [
           "3Fq+2T"
          ],
          [
           "3Lz+2T+2Lo"
          ],
          [
           "FCCoSp4"
          ],
          [
           "3Lz"
          ],
          [
           "ChSq1"
          ],
          [
           "LSp4"
          ],
          [
           "3Lz!q+3T"
          ],
          [
           "2A"
          ],
          [
           "3F"
          ],
          [
           "2A"
          ],
          [
           "CCoSp4"
          ],
          [
           "StSq4"
          ],
          [
           "3Lz!+2T"
          ],
          [
           "3F+2T+2Lo"
          ],
          [
           "1S"
          ],
          [
           "LSp4"
          ],
          [
           "ChSq1"
          ],
          [
           "FCCoSp4"
          ],
          [
           "3Lz+3T"
          ],
          [
           "2A"
          ],
          [
           "3S"
          ],
          [
           "3Lo"
          ],
          [
           "ChSq1"
          ],
          [
           "FCSp4"
          ],
          [
           "3Fq+3T"
          ],
          [
           "3F+2T+2T"
          ],
          [
           "2A"
          ],
          [
           "CCoSp4"
          ],
          [
           "StSq4"
          ],
          [
           "LSp3"
          ],
          [
           "3Lz!+3T"
          ],
          [
           "2A+3Tq"
          ],
          [
           "3Lo"
          ],
          [
           "3F"
          ],
          [
           "FCSp4"
          ],
          [
           "3Lze"
          ],
          [
           "3S+2T+2Lo"
          ],
          [
           "CCoSp4"
          ],
          [
           "ChSq1"
          ],
          [
           "2A"
          ],
          [
           "StSq4"
          ],
          [
           "SSp4"
          ],
          [
           "3Lzq+1Eu+3F!q"
          ],
          [
           "3Lz"
          ],
          [
           "3T"
          ],
          [
           "2A"
          ],
          [
           "FCCoSp4"
          ],
          [
           "3Lo+2A+SEQ"
          ],
          [
           "3S+2T"
          ],
          [
           "ChSq1"
          ],
          [
           "3Lo"
          ],
          [
           "CCoSp4"
          ],
          [
           "StSq4"
          ],
          [
           "LSp4"
          ],
          [
           "3Lz!"
          ],
          [
           "2A+3T"
          ],
          [
           "2A"
          ],
          [
           "3F"
          ],
          [
           "FCCoSp3"
          ],
          [
           "ChSq1"
          ],
          [
           "3Lz!+1Eu+3Sq"
          ],
          [
           "3Lo"
          ],
          [
           "3Lo+2T"
          ],
          [
           "CCoSp4"
          ],
          [
           "StSq3"
          ],
          [
           "LSp4"
          ],
          [
           "3Lz+3Tq"
          ],
          [
           "3F"
          ],
          [
           "2Aq+1Eu+3S<"
          ],
          [
           "3Lo"
          ],
          [
           "StSq4"
          ],
          [
           "3Lz+2T"
          ],
          [
           "2A"
          ],
          [
           "FCSp4"
          ],
          [
           "3S<"
          ],
          [
           "FCCoSp3V"
          ],
          [
           "CCoSp4"
          ],
          [
           "ChSq1"
          ],
          [
           "3Lz!+3T"
          ],
          [
           "3Lo"
          ],
          [
           "FCCoSp4"
          ],
          [
           "3F"
          ],
          [
           "3S"
          ],
          [
           "StSq3"
          ],
          [
           "2Aq"
          ],
          [
           "2A+2T"
          ],
          [
           "3Lz!q+2T+2Lo<"
          ],
          [
           "ChSq1"
          ],
          [
           "LSp4"
          ],
          [
           "CCoSp4"
          ],
          [
           "3Lz+2T"
          ],
          [
           "3Fq"
          ],
          [
           "3Lo"
          ],
          [
           "2A"
          ],
          [
           "FCCoSp4"
          ],
          [
           "3Lz"
          ],
          [
           "3Lo+2A+SEQ"
          ],
          [
           "3S+2T+2Lo"
          ],
          [
           "CCoSp4"
          ],
          [
           "StSq4"
          ],
          [
           "ChSq1"
          ],
          [
           "LSp4"
          ],
          [
           "2A+3T"
          ],
          [
           "3Fe<"
          ],
          [
           "3Sq"
          ],
          [
           "3Loq"
          ],
          [
           "StSq4"
          ],
          [
           "FCCoSp4"
          ],
          [
           "3Lz+2T+2Lo"
          ],
          [
           "1Lz"
          ],
          [
           "CCoSp4"
          ],
          [
           "ChSq1"
          ],
          [
           "3Lo<<+REP"
          ],
          [
           "LSp4"
          ],
          [
           "3Lz+3T"
          ],
          [
           "3F<"
          ],
          [
           "2S"
          ],
          [
           "2A"
          ],
          [
           "FCSp3"
          ],
          [
           "StSq4"
          ],
          [
           "2A+3T<"
          ],
          [
           "3Lo+2T+2Lo<<"
          ],
          [
           "3Lo<"
          ],
          [
           "FCCoSp4"
          ],
          [
           "ChSq1"
          ],
          [
           "CCoSp2V"
          ],
          [
           "3F+3T"
          ],
          [
           "3Fq"
          ],
          [
           "3Lo+2T"
          ],
          [
           "2A"
          ],
          [
           "CCoSp4"
          ],
          [
           "ChSq1"
          ],
          [
           "2A"
          ],
          [
           "3Sq"
          ],
          [
           "3S+2T"
          ],
          [
           "StSq3"
          ],
          [
           "FCSp4"
          ],
          [
           "LSp4"
          ],
          [
           "3T+3T"
          ],
          [
           "3Lz"
          ],
          [
           "1Lo"
          ],
          [
           "2A"
          ],
          [
           "FCCoSp4"
          ],
          [
           "ChSq1"
          ],
          [
           "3F"
          ],
          [
           "3Lz+2T"
          ],
          [
           "2A"
          ],
          [
           "LSp4"
          ],
          [
           "StSq4"
          ],
          [
           "CCoSp4"
          ],
          [
           "3F!"
          ],
          [
           "2A+3T"
          ],
          [
           "3Lz"
          ],
          [
           "3Lo"
          ],
          [
           "FCSSp4"
          ],
          [
           "3Lz+2T"
          ],
          [
           "3S<"
          ],
          [
           "FCCoSp4"
          ],
          [
           "StSq3"
          ],
          [
           "ChSq1"
          ],
          [
           "2A+2T"
          ],
          [
           "CCoSp4"
          ],
          [
           "2Lz"
          ],
          [
           "3Lz<"
          ],
          [
           "3Loq"
          ],
          [
           "2A"
          ],
          [
           "FCSp4"
          ],
          [
           "ChSq1"
          ],
          [
           "3Loq+1Eu+3S<"
          ],
          [
           "3T+2T"
          ],
          [
           "2Aq+2T"
          ],
          [
           "CCoSp4V"
          ],
          [
           "LSp4"
          ],
          [
           "StSq3"
          ],
          [
           "3A<<"
          ],
          [
           "3Lz!"
          ],
          [
           "LSp4"
          ],
          [
           "3Lo"
          ],
          [
           "3Lz!q+REP"
          ],
          [
           "StSq4"
          ],
          [
           "2A+3Tq+2T"
          ],
          [
           "FSSp2"
          ],
          [
           "3F"
          ],
          [
           "3S"
          ],
          [
           "ChSq1"
          ],
          [
           "CCoSp4"
          ],
          [
           "3Lz+2T"
          ],
          [
           "3T+3Tq"
          ],
          [
           "3Lo<"
          ],
          [
           "3Fq"
          ],
          [
           "CCoSp4"
          ],
          [
           "3Lo<+REP"
          ],
          [
           "3S+2T+2Loq"
          ],
          [
           "2A<"
          ],
          [
           "ChSq1"
          ],
          [
           "FCCoSp4"
          ],
          [
           "StSq3"
          ],
          [
           "SSp4"
          ],
          [
           "3F"
          ],
          [
           "3Fq+REP"
          ],
          [
           "3Lzq"
          ],
          [
           "2A+3T"
          ],
          [
           "3T"
          ],
          [
           "3S"
          ],
          [
           "2A+2T"
          ],
          [
           "LSp4"
          ],
          [
           "FSSp3"
          ],
          [
           "ChSq1"
          ],
          [
           "StSq3"
          ],
          [
           "CCoSp4"
          ],
          [
           "3A"
          ],
          [
           "3F"
          ],
          [
           "CCoSp4"
          ],
          [
           "3Lz+3T"
          ],
          [
           "StSq4"
          ],
          [
           "FCSp4"
          ],
          [
           "LSp4"
          ],
          [
           "2A"
          ],
          [
           "3F"
          ],
          [
           "FCSp4"
          ],
          [
           "3Lz+3T"
          ],
          [
           "CCoSp4"
          ],
          [
           "StSq4"
          ],
          [
           "LSp4"
          ],
          [
           "2A"
          ],
          [
           "3Lz"
          ],
          [
           "CCoSp4"
          ],
          [
           "3F+3T"
          ],
          [
           "FCSp4"
          ],
          [
           "StSq4"
          ],
          [
           "LSp4"
          ],
          [
           "3A<"
          ],
          [
           "3F!"
          ],
          [
           "CCoSp4"
          ],
          [
           "3Lz+3T"
          ],
          [
           "FCSp4"
          ],
          [
           "StSq4"
          ],
          [
           "LSp4"
          ],
          [
           "3A"
          ],
          [
           "3Lz+3T<"
          ],
          [
           "FCSp3"
          ],
          [
           "3F!q"
          ],
          [
           "CCoSp4"
          ],
          [
           "StSq4"
          ],
          [
           "LSp4"
          ],
          [
           "3A<<"
          ],
          [
           "3Lz+3T"
          ],
          [
           "FCSp4"
          ],
          [
           "LSp4"
          ],
          [
           "3F!"
          ],
          [
           "StSq4"
          ],
          [
           "CCoSp4"
          ],
          [
           "3Lz+3T"
          ],
          [
           "2A"
          ],
          [
           "CCoSp4"
          ],
          [
           "3F!"
          ],
          [
           "FCSp4"
          ],
          [
           "StSq3"
          ],
          [
           "LSp3"
          ],
          [
           "2A"
          ],
          [
           "3F!"
          ],
          [
           "FCSp3"
          ],
          [
           "3Lz+3Tq"
          ],
          [
           "CCoSp4"
          ],
          [
           "StSq4"
          ],
          [
           "LSp4"
          ],
          [
           "3Lz!+3T"
          ],
          [
           "2A"
          ],
          [
           "FCSp4"
          ],
          [
           "3Fq"
          ],
          [
           "StSq4"
          ],
          [
           "CCoSp4"
          ],
          [
           "SSp2"
          ],
          [
           "3Fq+3T"
          ],
          [
           "2A"
          ],
          [
           "FCSp4"
          ],
          [
           "3Lzq"
          ],
          [
           "CCoSp4"
          ],
          [
           "StSq3"
          ],
          [
           "LSp4"
          ],
          [
           "3F+3T<"
          ],
          [
           "2A"
          ],
          [
           "FSSp4"
          ],
          [
           "3Lz!"
          ],
          [
           "StSq3"
          ],
          [
           "CCoSp4"
          ],
          [
           "LSp4"
          ],
          [
           "3Lz+3T"
          ],
          [
           "3F"
          ],
          [
           "FCSp4"
          ],
          [
           "2A"
          ],
          [
           "CCoSp4"
          ],
          [
           "StSq3"
          ],
          [
           "LSp4"
          ],
          [
           "3Lz+3Tq"
          ],
          [
           "2A"
          ],
          [
           "CCoSp3"
          ],
          [
           "FCSp4"
          ],
          [
           "3Lo<<"
          ],
          [
           "StSq3"
          ],
          [
           "LSp4"
          ],
          [
           "3F+3T<"
          ],
          [
           "3Lo"
          ],
          [
           "FCSp4"
          ],
          [
           "2A"
          ],
          [
           "CCoSp3"
          ],
          [
           "StSq4"
          ],
          [
           "LSp4"
          ],
          [
           "3A<"
          ],
          [
           "3Lz+3T"
          ],
          [
           "FSSp2"
          ],
          [
           "3F!"
          ],
          [
           "StSq2"
          ],
          [
           "LSp4"
          ],
          [
           "CCoSp4"
          ],
          [
           "3Lz!+3Tq"
          ],
          [
           "2A"
          ],
          [
           "CCoSp4"
          ],
          [
           "3F!"
          ],
          [
           "StSq3"
          ],
          [
           "FCSp4"
          ],
          [
           "LSp3"
          ],
          [
           "3Lz!+3Tq"
          ],
          [
           "FSSp4"
          ],
          [
           "2A"
          ],
          [
           "3Fq"
          ],
          [
           "CCoSp4"
          ],
          [
           "StSq3"
          ],
          [
           "LSp4"
          ],
          [
           "3F+3Tq"
          ],
          [
           "2A"
          ],
          [
           "LSp4"
          ],
          [
           "3Lz<"
          ],
          [
           "FCSp4"
          ],
          [
           "StSq3"
          ],
          [
           "CCoSp4"
          ],
          [
           "3Lzq+3Tq"
          ],
          [
           "3Lo"
          ],
          [
           "FCSp4"
          ],
          [
           "2A"
          ],
          [
           "CCoSp4"
          ],
          [
           "LSp3"
          ],
          [
           "StSq3"
          ],
          [
           "3Lz"
          ],
          [
           "3Lo+2T"
          ],
          [
           "FCSp4"
          ],
          [
           "2A"
          ],
          [
           "StSq2"
          ],
          [
           "CCoSp4"
          ],
          [
           "LSp4"
          ],
          [
           "3T+3T"
          ],
          [
           "2A"
          ],
          [
           "LSp4"
          ],
          [
           "3Lz"
          ],
          [
           "FCSp2"
          ],
          [
           "StSq3"
          ],
          [
           "CCoSp4"
          ],
          [
           "3Lz+2T"
          ],
          [
           "2A"
          ],
          [
           "FSSp4"
          ],
          [
           "3Lo"
          ],
          [
           "LSp4"
          ],
          [
           "StSq3"
          ],
          [
           "CCoSp4"
          ],
          [
           "2A"
          ],
          [
           "3T+3T"
          ],
          [
           "CCoSp4"
          ],
          [
           "3Lo"
          ],
          [
           "FCSp4"
          ],
          [
           "StSq3"
          ],
          [
           "LSp4"
          ],
          [
           "3Fe<"
          ],
          [
           "2A"
          ],
          [
           "FCSp3"
          ],
          [
           "3Lo+2T"
          ],
          [
           "StSq4"
          ],
          [
           "CCoSp4"
          ],
          [
           "LSp4"
          ],
          [
           "3T+3T"
          ],
          [
           "2S*"
          ],
          [
           "FSSp4"
          ],
          [
           "2A"
          ],
          [
           "StSq4"
          ],
          [
           "LSp3"
          ],
          [
           "CCoSp4"
          ],
          [
           "3Lzq+2Tq"
          ],
          [
           "3F<"
          ],
          [
           "FCSp3"
          ],
          [
           "2A"
          ],
          [
           "CCoSp4"
          ],
          [
           "StSq3"
          ],
          [
           "SSp3"
          ],
          [
           "3F<<"
          ],
          [
           "2A"
          ],
          [
           "FSSp4"
          ],
          [
           "3Lo+2T"
          ],
          [
           "LSp4"
          ],
          [
           "StSq3"
          ],
          [
           "CCoSp4"
          ],
          [
           "3Loq"
          ],
          [
           "3S+2T"
          ],
          [
           "2A"
          ],
          [
           "CSp4"
          ],
          [
           "StSq3"
          ],
          [
           "FSSp4"
          ],
          [
           "CCoSp4"
          ],
          [
           "2Lz!*"
          ],
          [
           "3Loq+3Lo<"
          ],
          [
           "FSSp2"
          ],
          [
           "2A"
          ],
          [
           "CCoSp4"
          ],
          [
           "StSq2"
          ],
          [
           "LSp3"
          ],
          [
           "3A<"
          ],
          [
           "3F!q"
          ],
          [
           "FCSp3"
          ],
          [
           "3Lz+2T"
          ],
          [
           "StSq2"
          ],
          [
           "CCoSp4"
          ],
          [
           "SSp3"
          ],
          [
           "OFStW3+OFStM3"
          ],
          [
           "SlLi4"
          ],
          [
           "SyTwW4+SyTwM4"
          ],
          [
           "DiSt3"
          ],
          [
           "CoSp4"
          ],
          [
           "ChSt1"
          ],
          [
           "CuLi4"
          ],
          [
           "ChTw1"
          ],
          [
           "RoLi3"
          ],
          [
           "ChLi1"
          ],
          [
           "CuLi4"
          ],
          [
           "SyTwW4+SyTwM4"
          ],
          [
           "MiSt3"
          ],
          [
           "OFStW3+OFStM3"
          ],
          [
           "StaLi4"
          ],
          [
           "ChSp1"
          ],
          [
           "ChSl1"
          ],
          [
           "CoSp4"
          ],
          [
           "ChSt1"
          ],
          [
           "RoLi4"
          ],
          [
           "CoSp4"
          ],
          [
           "SlLi4+RoLi4"
          ],
          [
           "OFStW3+OFStM3"
          ],
          [
           "CiSt3"
          ],
          [
           "ChSt1"
          ],
          [
           "CuLi4"
          ],
          [
           "SyTwW4+SyTwM4"
          ],
          [
           "ChTw1"
          ],
          [
           "ChLi1"
          ],
          [
           "SlLi4+RoLi4"
          ],
          [
           "SyTwW4+SyTwM4"
          ],
          [
           "ChSt1"
          ],
          [
           "ChSl1"
          ],
          [
           "CoSp4"
          ],
          [
           "OFStW3+OFStM3"
          ],
          [
           "StaLi4"
          ],
          [
           "DiSt3"
          ],
          [
           "ChLi1"
          ],
          [
           "CoSp4"
          ],
          [
           "SyTwW4+SyTwM4"
          ],
          [
           "CiSt3"
          ],
          [
           "StaLi4+RoLi4"
          ],
          [
           "ChSt1"
          ],
          [
           "OFStW3+OFStM3"
          ],
          [
           "ChSl1"
          ],
          [
           "CuLi4"
          ],
          [
           "ChSp1"
          ],
          [
           "StaLi4+RoLi4"
          ],
          [
           "SyTwW4+SyTwM4"
          ],
          [
           "CiSt2"
          ],
          [
           "ChSl1"
          ],
          [
           "OFStW3+OFStM2"
          ],
          [
           "CoSp4"
          ],
          [
           "CuLi4"
          ],
          [
           "ChLi1"
          ],
          [
           "ChSt1"
          ],
          [
           "CoSp4"
          ],
          [
           "DiSt3"
          ],
          [
           "OFStW3+OFStM3"
          ],
          [
           "SyTwW4+SyTwM4"
          ],
          [
           "CuLi4+CuLi4"
          ],
          [
           "ChSp1"
          ],
          [
           "RoLi4"
          ],
          [
           "ChSl1"
          ],
          [
           "ChLi1"
          ],
          [
           "CoSp4"
          ],
          [
           "SyTwW4+SyTwM4"
          ],
          [
           "DiSt3"
          ],
          [
           "RoLi4"
          ],
          [
           "CuLi4"
          ],
          [
           "OFStW3+OFStM3"
          ],
          [
           "ChTw1"
          ],
          [
           "SlLi4"
          ],
          [
           "ChSl1"
          ],
          [
           "ChSt1"
          ],
          [
           "CuLi4"
          ],
          [
           "CiSt2"
          ],
          [
           "OFStW3+OFStM2"
          ],
          [
           "CoSp4"
          ],
          [
           "SyTwW4+SyTwM4"
          ],
          [
           "StaLi4+RoLi4"
          ],
          [
           "ChSt1"
          ],
          [
           "ChSl1"
          ],
          [
           "ChLi1"
          ],
          [
           "OFStW3+OFStM3"
          ],
          [
           "SyTwW4+SyTwM4"
          ],
          [
           "CoSp4"
          ],
          [
           "CuLi4+CuLi4"
          ],
          [
           "DiSt2"
          ],
          [
           "ChSl1"
          ],
          [
           "StaLi3"
          ],
          [
           "ChSt1"
          ],
          [
           "ChLi1"
          ],
          [
           "SlLi4+RoLi4"
          ],
          [
           "OFStW2+OFStM2"
          ],
          [
           "SyTwW4+SyTwM2"
          ],
          [
           "ChSt1"
          ],
          [
           "StaLi4"
          ],
          [
           "CoSp3"
          ],
          [
           "ChSp1"
          ],
          [
           "DiSt2"
          ],
          [
           "ChLi1"
          ],
          [
           "CoSp4"
          ],
          [
           "OFStW2+OFStM2"
          ],
          [
           "DiSt2"
          ],
          [
           "SyTwW4+SyTwM4"
          ],
          [
           "CuLi4"
          ],
          [
           "ChSt1"
          ],
          [
           "SlLi4+RoLi4"
          ],
          [
           "ChSp1"
          ],
          [
           "ChSl1"
          ],
          [
           "StaLi4"
          ],
          [
           "RoLi4"
          ],
          [
           "DiSt2"
          ],
          [
           "OFStW2+OFStM2"
          ],
          [
           "SyTwW3+SyTwM4"
          ],
          [
           "ChSp1"
          ],
          [
           "CuLi4"
          ],
          [
           "CoSp4"
          ],
          [
           "ChSt1"
          ],
          [
           "ChTw1"
          ],
          [
           "StaLi4+RoLi4"
          ],
          [
           "SyTwW4+SyTwM4"
          ],
          [
           "ChSt1"
          ],
          [
           "OFStW2+OFStM3"
          ],
          [
           "CiSt2"
          ],
          [
           "CoSp4"
          ],
          [
           "CuLi4"
          ],
          [
           "ChLi1"
          ],
          [
           "ChSp1"
          ],
          [
           "StaLi4+RoLi4"
          ],
          [
           "SyTwW4+SyTwM3"
          ],
          [
           "OFStW1+OFStM2"
          ],
          [
           "SlLi4"
          ],
          [
           "MiSt1"
          ],
          [
           "CoSp4"
          ],
          [
           "ChLi1"
          ],
          [
           "ChSt1"
          ],
          [
           "ChSl1"
          ],
          [
           "CoSp4"
          ],
          [
           "OFStW2+OFStM1"
          ],
          [
           "SyTwW4+SyTwM4"
          ],
          [
           "CiSt2"
          ],
          [
           "StaLi4"
          ],
          [
           "ChSp1"
          ],
          [
           "SlLi4+RoLi4"
          ],
          [
           "ChSt1"
          ],
          [
           "ChSl1"
          ],
          [
           "ChSp1"
          ],
          [
           "CuLi4+CuLi4"
          ],
          [
           "OFStW1+OFStM2"
          ],
          [
           "CiSt2"
          ],
          [
           "SyTwW4+SyTwM4"
          ],
          [
           "StaLi4"
          ],
          [
           "ChSl1"
          ],
          [
           "CoSp4"
          ],
          [
           "ChSt1"
          ],
          [
           "SyTwW4+SyTwM4"
          ],
          [
           "ChSl1"
          ],
          [
           "SlLi4"
          ],
          [
           "SeSt1"
          ],
          [
           "CuLi4"
          ],
          [
           "OFStW1+OFStM1"
          ],
          [
           "RoLi4"
          ],
          [
           "CoSp4"
          ],
          [
           "ChSt1"
          ],
          [
           "ChLi1"
          ],
          [
           "StaLi4"
          ],
          [
           "SyTwW4+SyTwM4"
          ],
          [
           "SlLi4+RoLi4"
          ],
          [
           "SeSt1"
          ],
          [
           "ChLi1"
          ],
          [
           "OFStW2+OFStM1"
          ],
          [
           "ChSp1"
          ],
          [
           "ChSt1"
          ],
          [
           "CoSp4"
          ],
          [
           "SlLi4"
          ],
          [
           "OFStW2+OFStM3"
          ],
          [
           "ChSt1"
          ],
          [
           "SyTwW4+SyTwM4"
          ],
          [
           "CoSp4"
          ],
          [
           "ChTw1"
          ],
          [
           "RoLi4"
          ],
          [
           "MiSt2"
          ],
          [
           "StaLi4"
          ],
          [
           "ChSp1"
          ],
          [
           "SqTwW4+SqTwM4"
          ],
          [
           "1MB4+kpYYYY"
          ],
          [
           "PStW3+PStM3"
          ],
          [
           "MiSt3"
          ],
          [
           "StaLi4"
          ],
          [
           "SqTwW4+SqTwM4"
          ],
          [
           "1MB4+kpYYYY"
          ],
          [
           "PStW3+PStM3"
          ],
          [
           "MiSt3"
          ],
          [
           "RoLi4"
          ],
          [
           "MiSt3"
          ],
          [
           "StaLi4"
          ],
          [
           "1MB3+kpNYYY"
          ],
          [
           "PStW3+PStM3"
          ],
          [
           "SqTwW3+SqTwM4"
          ],
          [
           "1MB3+kpYYYN"
          ],
          [
           "PStW3+PStM3"
          ],
          [
           "CuLi4"
          ],
          [
           "SqTwW4+SqTwM4"
          ],
          [
           "MiSt2"
          ],
          [
           "SlLi4"
          ],
          [
           "SqTwW4+SqTwM4"
          ],
          [
           "1MB4+kpYYYY"
          ],
          [
           "PStW3+PStM3"
          ],
          [
           "MiSt3"
          ],
          [
           "SqTwW4+SqTwM4"
          ],
          [
           "1MB3+kpYYYN"
          ],
          [
           "PStW2+PStM3"
          ],
          [
           "RoLi4"
          ],
          [
           "MiSt2"
          ],
          [
           "SqTwW4+SqTwM4"
          ],
          [
           "1MB2+kpNYNY"
          ],
          [
           "PStW3+PStM3"
          ],
          [
           "SlLi4"
          ],
          [
           "MiSt3"
          ],
          [
           "StaLi4"
          ],
          [
           "1MB3+kpYYNY"
          ],
          [
           "PStW3+PStM3"
          ],
          [
           "MiSt2"
          ],
          [
           "SqTwW4+SqTwM4"
          ],
          [
           "SlLi4"
          ],
          [
           "1MB3+kpYYNY"
          ],
          [
           "PStW2+PStM2"
          ],
          [
           "SqTwW4+SqTwM4"
          ],
          [
           "MiSt2"
          ],
          [
           "SqTwW4+SqTwM3"
          ],
          [
           "MiSt2"
          ],
          [
           "1MB1+kpNYNN"
          ],
          [
           "PStW2+PStM3"
          ],
          [
           "RoLi4"
          ],
          [
           "SqTwW3+SqTwM4"
          ],
          [
           "CuLi4"
          ],
          [
           "1MB2+kpNYNY"
          ],
          [
           "PStW2+PStM2"
          ],
          [
           "MiSt2"
          ],
          [
           "1MB1+kpNYNN"
          ],
          [
           "PStW2+PStM3"
          ],
          [
           "SqTwW4+SqTwM4"
          ],
          [
           "MiSt2"
          ],
          [
           "RoLi4"
          ],
          [
           "MiSt2"
          ],
          [
           "RoLi4"
          ],
          [
           "1MB1+kpNYNN"
          ],
          [
           "PStW2+PStM2"
          ],
          [
           "SqTwW4+SqTwM4"
          ],
          [
           "MiSt2"
          ],
          [
           "SqTwW4+SqTwM4"
          ],
          [
           "1MB1+kpNYNN"
          ],
          [
           "PStW3+PStM3"
          ],
          [
           "RoLi4"
          ],
          [
           "RoLi4"
          ],
          [
           "1MB3+kpYYNY"
          ],
          [
           "PStW2+PStM3"
          ],
          [
           "MiSt3"
          ],
          [
           "SqTwW4+SqTwM4"
          ],
          [
           "SqTwW4+SqTwM4"
          ],
          [
           "1MB1+kpNYNN"
          ],
          [
           "PStW2+PStM2"
          ],
          [
           "StaLi4"
          ],
          [
           "MiSt2"
          ],
          [
           "MiSt2"
          ],
          [
           "1MB2+kpYYNN"
          ],
          [
           "PStW2+PStM1"
          ],
          [
           "CuLi4"
          ],
          [
           "SqTwW4+SqTwM4"
          ],
          [
           "SqTwW3+SqTwM4"
          ],
          [
           "1MB2+kpYYNN"
          ],
          [
           "PStW3+PStM2"
          ],
          [
           "MiSt3"
          ],
          [
           "StaLi4"
          ],
          [
           "MiSt1"
          ],
          [
           "SqTwW4+SqTwM4"
          ],
          [
           "1MB1+kpNYNN"
          ],
          [
           "PStW1+PStM2"
          ],
          [
           "RoLi4"
          ],
          [
           "SqTwW4+SqTwM4"
          ],
          [
           "1MB1+kpNYNN"
          ],
          [
           "PStW1+PStM2"
          ],
          [
           "CuLi4"
          ],
          [
           "MiSt1"
          ],
          [
           "SqTwW4+SqTwM4"
          ],
          [
           "CuLi3"
          ],
          [
           "1MB2+kpYYNN"
          ],
          [
           "PStW2+PStM2"
          ],
          [
           "DiSt2"
          ],
          [
           "SqTwW3+SqTwM4"
          ],
          [
           "DiSt2"
          ],
          [
           "1MB1+kpNYNN"
          ],
          [
           "PStW2+PStM2"
          ],
          [
           "RoLi4"
          ],
          [
           "SlLi4"
          ],
          [
           "1MB1+kpNYNN"
          ],
          [
           "PStW1+PStM1"
          ],
          [
           "SqTwW4+SqTwM4"
          ],
          [
           "MiSt1"
          ],
          [
           "4Tw3"
          ],
          [
           "3T+2T+2T"
          ],
          [
           "FoDs4"
          ],
          [
           "PCoSp4"
          ],
          [
           "3S<<"
          ],
          [
           "5ALi4"
          ],
          [
           "3FTh"
          ],
          [
           "ChSq1"
          ],
          [
           "3STh"
          ],
          [
           "5RLi4"
          ],
          [
           "3Li4"
          ],
          [
           "3S"
          ],
          [
           "3Tw4"
          ],
          [
           "3T+2T+2T"
          ],
          [
           "3FTh"
          ],
          [
           "FiDs4"
          ],
          [
           "3LoTh"
          ],
          [
           "PCoSp4"
          ],
          [
           "5ALi4"
          ],
          [
           "5RLi4"
          ],
          [
           "ChSq1"
          ],
          [
           "3Li4"
          ],
          [
           "3S+1Eu+3S"
          ],
          [
           "3Tw4"
          ],
          [
           "3FTh"
          ],
          [
           "5ALi4"
          ],
          [
           "3T"
          ],
          [
           "FiDs3"
          ],
          [
           "PCoSp4"
          ],
          [
           "ChSq1"
          ],
          [
           "5RLi4"
          ],
          [
           "3LoTh"
          ],
          [
           "3Li4"
          ],
          [
           "3S"
          ],
          [
           "3Tq+2T+2T"
          ],
          [
           "3Tw4"
          ],
          [
           "4Li4"
          ],
          [
           "3FTh"
          ],
          [
           "FiDs4"
          ],
          [
           "3LoTh"
          ],
          [
           "5RLi4"
          ],
          [
           "ChSq1"
          ],
          [
           "5ALi4"
          ],
          [
           "PCoSp4"
          ],
          [
           "3Tw2"
          ],
          [
           "3T<+2T+2T"
          ],
          [
           "5ALi4"
          ],
          [
           "3LzTh"
          ],
          [
           "PCoSp4"
          ],
          [
           "3S<"
          ],
          [
           "5RLi4"
          ],
          [
           "3LoTh"
          ],
          [
           "FiDs3"
          ],
          [
           "4Li4"
          ],
          [
           "ChSq1"
          ],
          [
           "2S"
          ],
          [
           "3T+2T"
          ],
          [
           "3Tw4"
          ],
          [
           "3LoTh"
          ],
          [
           "FoDs4"
          ],
          [
           "5RLi4"
          ],
          [
           "3STh"
          ],
          [
           "ChSq1"
          ],
          [
           "5ALi4"
          ],
          [
           "PCoSp4"
          ],
          [
           "4Li4"
          ],
          [
           "3Tw4"
          ],
          [
           "3T+2T"
          ],
          [
           "3LoTh"
          ],
          [
           "2S"
          ],
          [
           "5RLi4"
          ],
          [
           "FiDs4"
          ],
          [
           "PCoSp4"
          ],
          [
           "5ALi4"
          ],
          [
           "3FTh"
          ],
          [
           "ChSq1"
          ],
          [
           "4Li4"
          ],
          [
           "3Tw3"
          ],
          [
           "3T+2T+2Tq"
          ],
          [
           "3S"
          ],
          [
           "3LoTh"
          ],
          [
           "FiDs3"
          ],
          [
           "ChSq1"
          ],
          [
           "5ALi4"
          ],
          [
           "3STh"
          ],
          [
           "5RLi4"
          ],
          [
           "4Li3"
          ],
          [
           "PCoSp3V"
          ],
          [
           "3Tw3"
          ],
          [
           "3Lo"
          ],
          [
           "3LzTh"
          ],
          [
           "5ALi3"
          ],
          [
           "3S+2T<<+2Loq"
          ],
          [
           "5RLi4"
          ],
          [
           "3STh"
          ],
          [
           "3Li4"
          ],
          [
           "PCoSp4"
          ],
          [
           "ChSq1"
          ],
          [
           "FiDs4"
          ],
          [
           "3Tw1"
          ],
          [
           "3S+COMBO"
          ],
          [
           "3LoTh"
          ],
          [
           "5RLi2"
          ],
          [
           "PCoSp4"
          ],
          [
           "ChSq1"
          ],
          [
           "2T"
          ],
          [
           "3STh"
          ],
          [
           "FiDs3"
          ],
          [
           "4Li4"
          ],
          [
           "5ALi3"
          ],
          [
           "3Tw3"
          ],
          [
           "3Sq+2T<<"
          ],
          [
           "3FTh"
          ],
          [
           "5RLi3"
          ],
          [
           "2T"
          ],
          [
           "ChSq1"
          ],
          [
           "5ALi3"
          ],
          [
           "3LoTh"
          ],
          [
           "3Li3"
          ],
          [
           "FiDs3"
          ],
          [
           "PCoSp4"
          ],
          [
           "3Tw2"
          ],
          [
           "3T+2T+2T"
          ],
          [
           "3S"
          ],
          [
           "4Li4"
          ],
          [
           "3STh"
          ],
          [
           "FiDs2"
          ],
          [
           "PCoSp2V"
          ],
          [
           "5ALi4"
          ],
          [
           "3FTh"
          ],
          [
           "ChSq1"
          ],
          [
           "3Li1"
          ],
          [
           "2S"
          ],
          [
           "3Tw3"
          ],
          [
           "3LoTh"
          ],
          [
           "FiDs4"
          ],
          [
           "3T<+COMBO"
          ],
          [
           "5RLi4"
          ],
          [
           "ChSq1"
          ],
          [
           "3STh"
          ],
          [
           "5ALi2"
          ],
          [
           "4Li4"
          ],
          [
           "PCoSp3"
          ],
          [
           "3Tw1"
          ],
          [
           "3S<"
          ],
          [
           "2A+2T"
          ],
          [
           "5RLi3"
          ],
          [
           "FiDs2"
          ],
          [
           "ChSq1"
          ],
          [
           "3LoTh"
          ],
          [
           "3LzTh"
          ],
          [
           "5ALi4"
          ],
          [
           "3Li4"
          ],
          [
           "PCoSp4"
          ],
          [
           "3Tw3"
          ],
          [
           "2S+1Eu+2S"
          ],
          [
           "1T"
          ],
          [
           "3LzTh"
          ],
          [
           "FiDs1"
          ],
          [
           "PCoSp4"
          ],
          [
           "3STh"
          ],
          [
           "5RLi3"
          ],
          [
           "ChSq1"
          ],
          [
           "5ALi4"
          ],
          [
           "3Li4"
          ],
          [
           "3Tw2"
          ],
          [
           "3T+COMBO"
          ],
          [
           "2S"
          ],
          [
           "5RLi3"
          ],
          [
           "3LoTh"
          ],
          [
           "5ALi"
          ],
          [
           "FiDs3"
          ],
          [
           "4Li"
          ],
          [
           "3STh"
          ],
          [
           "ChSq1"
          ],
          [
           "PCoSp3"
          ],
          [
           "3T"
          ],
          [
           "3FTh"
          ],
          [
           "3Tw4"
          ],
          [
           "FCCoSp4"
          ],
          [
           "4Li4"
          ],
          [
           "StSq4"
          ],
          [
           "BoDs4"
          ],
          [
           "3T"
          ],
          [
           "3Tw4"
          ],
          [
           "4Li4"
          ],
          [
           "3LoTh"
          ],
          [
           "BoDs4"
          ],
          [
           "CCoSp4"
          ],
          [
           "StSq4"
          ],
          [
           "3Tw4"
          ],
          [
           "3FTh"
          ],
          [
           "3S"
          ],
          [
           "BoDs4"
          ],
          [
           "FCCoSp4"
          ],
          [
           "StSq4"
          ],
          [
           "4Li4"
          ],
          [
           "3S"
          ],
          [
           "3Tw4"
          ],
          [
           "3FTh"
          ],
          [
           "4Li3"
          ],
          [
           "BoDs3"
          ],
          [
           "StSq4"
          ],
          [
           "FCCoSp4"
          ],
          [
           "3Tw4"
          ],
          [
           "3T"
          ],
          [
           "3LoTh"
          ],
          [
           "BoDs2"
          ],
          [
           "CCoSp4"
          ],
          [
           "StSq4"
          ],
          [
           "4Li4"
          ],
          [
           "3Tw4"
          ],
          [
           "3T"
          ],
          [
           "3FTh"
          ],
          [
           "BoDs4"
          ],
          [
           "CCoSp4"
          ],
          [
           "StSq4"
          ],
          [
           "4Li4"
          ],
          [
           "3Tw4"
          ],
          [
           "3Lo"
          ],
          [
           "3LzTh"
          ],
          [
           "4Li4"
          ],
          [
           "BoDs4"
          ],
          [
           "StSq4"
          ],
          [
           "CCoSp4"
          ],
          [
           "3Tw3"
          ],
          [
           "2T"
          ],
          [
           "4Li3"
          ],
          [
           "3LzTh"
          ],
          [
           "CCoSp4"
          ],
          [
           "StSq4"
          ],
          [
           "BoDs3"
          ],
          [
           "3Tw3"
          ],
          [
           "3T"
          ],
          [
           "3LoTh"
          ],
          [
           "BoDs1"
          ],
          [
           "StSq3"
          ],
          [
           "4Li4"
          ],
          [
           "FCCoSp4"
          ],
          [
           "3T"
          ],
          [
           "3Tw3"
          ],
          [
           "3LoTh"
          ],
          [
           "4Li3"
          ],
          [
           "StSq4"
          ],
          [
           "BoDs1"
          ],
          [
           "FCCoSp4"
          ],
          [
           "3Tw3"
          ],
          [
           "3S"
          ],
          [
           "3FTh"
          ],
          [
           "4Li4"
          ],
          [
           "BoDsB"
          ],
          [
           "StSq3"
          ],
          [
           "CCoSp4"
          ],
          [
           "3Tw2"
          ],
          [
           "3STh"
          ],
          [
           "2T"
          ],
          [
           "FCCoSp2"
          ],
          [
           "4Li4"
          ],
          [
           "BoDs2"
          ],
          [
           "StSq3"
          ],
          [
           "3Tw1"
          ],
          [
           "3T"
          ],
          [
           "3LoTh"
          ],
          [
           "4Li4"
          ],
          [
           "CCoSp4"
          ],
          [
           "StSq3"
          ],
          [
           "BoDs3"
          ],
          [
           "3Tw2"
          ],
          [
           "3T"
          ],
          [
           "BoDs3"
          ],
          [
           "3STh"
          ],
          [
           "4Li3"
          ],
          [
           "StSq3"
          ],
          [
           "CCoSp4"
          ],
          [
           "3Tw3"
          ],
          [
           "3S"
          ],
          [
           "3LzTh"
          ],
          [
           "BoDs1"
          ],
          [
           "4Li4"
          ],
          [
           "StSq2"
          ],
          [
           "CCoSp4"
          ],
          [
           "3Tw2"
          ],
          [
           "3S<"
          ],
          [
           "4Li3"
          ],
          [
           "3LzTh"
          ],
          [
           "BoDs1"
          ],
          [
           "CCoSp4"
          ],
          [
           "StSq2"
          ],
          [
           "3Tw2"
          ],
          [
           "3T"
          ],
          [
           "3LzTh"
          ],
          [
           "4Li3"
          ],
          [
           "BoDs3"
          ],
          [
           "StSq4"
          ],
          [
           "CCoSp4"
          ],
          [
           "3Tw1"
          ],
          [
           "3T"
          ],
          [
           "BoDsB"
          ],
          [
           "FCCoSp4"
          ],
          [
           "3FTh"
          ],
          [
           "StSq1"
          ],
          [
           "4Li2"
          ],
          [
           "4S"
          ],
          [
           "4Lo"
          ],
          [
           "4T"
          ],
          [
           "3A+3T"
          ],
          [
           "CSSp4"
          ],
          [
           "StSq3"
          ],
          [
           "4T+1Eu+3S"
          ],
          [
           "3F+3Lo"
          ],
          [
           "3A"
          ],
          [
           "ChSq1"
          ],
          [
           "CCoSp4"
          ],
          [
           "FCCoSp4"
          ],
          [
           "4T"
          ],
          [
           "3A"
          ],
          [
           "3A+2T"
          ],
          [
           "3Lo"
          ],
          [
           "FCSp4"
          ],
          [
           "4S+3T"
          ],
          [
           "4S"
          ],
          [
           "3Lz+1Eu+2S"
          ],
          [
           "CSSp3"
          ],
          [
           "StSq4"
          ],
          [
           "CCoSp4"
          ],
          [
           "ChSq1"
          ],
          [
           "4Lzq"
          ],
          [
           "1F"
          ],
          [
           "4S<"
          ],
          [
           "4T<"
          ],
          [
           "ChSq1"
          ],
          [
           "4S+3T"
          ],
          [
           "3A+1Eu+3S"
          ],
          [
           "FCSp4"
          ],
          [
           "CSSp4"
          ],
          [
           "3A+2T"
          ],
          [
           "StSq3"
          ],
          [
           "CCoSp4"
          ],
          [
           "4Lz"
          ],
          [
           "4T"
          ],
          [
           "3A+1Eu+3S"
          ],
          [
           "FCSp4"
          ],
          [
           "4T+2T"
          ],
          [
           "3Lz+2T"
          ],
          [
           "3Aq"
          ],
          [
           "2F"
          ],
          [
           "CSSp4"
          ],
          [
           "StSq3"
          ],
          [
           "ChSq1"
          ],
          [
           "CCoSp4"
          ],
          [
           "4S<"
          ],
          [
           "3Lz+3T"
          ],
          [
           "1A"
          ],
          [
           "3Lo"
          ],
          [
           "StSq3"
          ],
          [
           "2S+1Eu+3S"
          ],
          [
           "1Lz"
          ],
          [
           "3F"
          ],
          [
           "FCCoSp2V"
          ],
          [
           "CCSp4"
          ],
          [
           "ChSq1"
          ],
          [
           "CCoSp4"
          ],
          [
           "4S"
          ],
          [
           "3A"
          ],
          [
           "4T+3T"
          ],
          [
           "3Lo"
          ],
          [
           "FCSp4"
          ],
          [
           "ChSq1"
          ],
          [
           "4T"
          ],
          [
           "3F+1Eu+3S"
          ],
          [
           "3Lz+3T"
          ],
          [
           "StSq4"
          ],
          [
           "FCCoSp4"
          ],
          [
           "CCoSp4"
          ],
          [
           "2A"
          ],
          [
           "3Lz!"
          ],
          [
           "3F+2T"
          ],
          [
           "3S"
          ],
          [
           "FSSp4"
          ],
          [
           "3F+3T"
          ],
          [
           "2A+3T+2T"
          ],
          [
           "StSq3"
          ],
          [
           "CCoSp4"
          ],
          [
           "ChSq1"
          ],
          [
           "3Lo"
          ],
          [
           "FCCoSp4"
          ],
          [
           "2Lz+3T"
          ],
          [
           "3F"
          ],
          [
           "3S"
          ],
          [
           "2A"
          ],
          [
           "FCSp4"
          ],
          [
           "StSq3"
          ],
          [
           "2A+3T"
          ],
          [
           "3Lo+2T+2Lo"
          ],
          [
           "3Lo"
          ],
          [
           "FCCoSp4"
          ],
          [
           "ChSq1"
          ],
          [
           "CCoSp4"
          ],
          [
           "2A+3T"
          ],
          [
           "3F!q"
          ],
          [
           "3Sq"
          ],
          [
           "3Lo<"
          ],
          [
           "StSq4"
          ],
          [
           "FCCoSp4"
          ],
          [
           "3Lz+2T+2Lo"
          ],
          [
           "3Lz"
          ],
          [
           "CCoSp4"
          ],
          [
           "ChSq1"
          ],
          [
           "3Loq+2T"
          ],
          [
           "LSp4"
          ],
          [
           "2A+3T"
          ],
          [
           "3F"
          ],
          [
           "3Loq"
          ],
          [
           "FSSp4"
          ],
          [
           "3Lzeq"
          ],
          [
           "3T+2T"
          ],
          [
           "ChSq1"
          ],
          [
           "3Lo<+REP"
          ],
          [
           "2A"
          ],
          [
           "CCoSp4"
          ],
          [
           "StSq2"
          ],
          [
           "FCCoSp4"
          ],
          [
           "3S+1Eu+3S"
          ],
          [
           "3Tw4"
          ],
          [
           "3FTh"
          ],
          [
           "5ALi4"
          ],
          [
           "3T"
          ],
          [
           "FiDs4"
          ],
          [
           "PCoSp4"
          ],
          [
           "ChSq1"
          ],
          [
           "5RLi4"
          ],
          [
           "3LoTh"
          ],
          [
           "3Li3"
          ],
          [
           "3Tw3"
          ],
          [
           "3T<+2T+2Tq"
          ],
          [
           "5ALi3"
          ],
          [
           "3LzTh"
          ],
          [
           "PCoSp4"
          ],
          [
           "3S"
          ],
          [
           "5RLi4"
          ],
          [
           "3LoTh"
          ],
          [
           "FiDs4"
          ],
          [
           "4Li4"
          ],
          [
           "ChSq1"
          ],
          [
           "3S<"
          ],
          [
           "3T+1T"
          ],
          [
           "3Tw4"
          ],
          [
           "3LoTh"
          ],
          [
           "FoDs4"
          ],
          [
           "5RLi4"
          ],
          [
           "3STh"
          ],
          [
           "ChSq1"
          ],
          [
           "5ALi2"
          ],
          [
           "PCoSp4"
          ],
          [
           "4Li4"
          ],
          [
           "3Tw3"
          ],
          [
           "3T+2T+2T"
          ],
          [
           "3Sq"
          ],
          [
           "5RLi4"
          ],
          [
           "3STh"
          ],
          [
           "FiDs2"
          ],
          [
           "PCoSp3"
          ],
          [
           "5ALi4"
          ],
          [
           "3FTh"
          ],
          [
           "ChSq1"
          ],
          [
           "3Li4"
          ],
          [
           "3Tw4"
          ],
          [
           "3T+1T"
          ],
          [
           "3LoTh"
          ],
          [
           "3S<"
          ],
          [
           "5RLi4"
          ],
          [
           "FiDs4"
          ],
          [
           "PCoSp4"
          ],
          [
           "5ALi4"
          ],
          [
           "3FTh"
          ],
          [
           "ChSq1"
          ],
          [
           "4Li4"
          ],
          [
           "SlLi4+RoLi4"
          ],
          [
           "SyTwW4+SyTwM4"
          ],
          [
           "ChSt1"
          ],
          [
           "ChSl1"
          ],
          [
           "CoSp4"
          ],
          [
           "OFStW3+OFStM3"
          ],
          [
           "StaLi3"
          ],
          [
           "DiSt2"
          ],
          [
           "ChLi1"
          ],
          [
           "CuLi4"
          ],
          [
           "SyTwW4+SyTwM4"
          ],
          [
           "MiSt2"
          ],
          [
           "OFStW3+OFStM3"
          ],
          [
           "StaLi4"
          ],
          [
           "ChSp1"
          ],
          [
           "ChSl1"
          ],
          [
           "CoSp4"
          ],
          [
           "ChSt1"
          ],
          [
           "RoLi4"
          ],
          [
           "CoSp4"
          ],
          [
           "DiSt3"
          ],
          [
           "OFStW2+OFStM3"
          ],
          [
           "SyTwW4+SyTwM3"
          ],
          [
           "CuLi4+CuLi4"
          ],
          [
           "ChSp1"
          ],
          [
           "RoLi4"
          ],
          [
           "ChSl1"
          ],
          [
           "ChLi1"
          ],
          [
           "CoSp4"
          ],
          [
           "OFStW1+OFStM2"
          ],
          [
           "DiSt2"
          ],
          [
           "SyTwW4+SyTwM4"
          ],
          [
           "CuLi4"
          ],
          [
           "ChSt1"
          ],
          [
           "SlLi3+RoLi2"
          ],
          [
           "ChSp1"
          ],
          [
           "ChSl1"
          ],
          [
           "CoSp4"
          ],
          [
           "CuLi4"
          ],
          [
           "SyTwW4+SyTwM4"
          ],
          [
           "OFStW2+OFStM2"
          ],
          [
           "SlLi4"
          ],
          [
           "ChSp1"
          ],
          [
           "CiSt2"
          ],
          [
           "RoLi4"
          ],
          [
           "ChTw1"
          ],
          [
           "ChSl1"
          ],
          [
           "4F"
          ],
          [
           "3A"
          ],
          [
           "CCSp4"
          ],
          [
           "4Lz+3T"
          ],
          [
           "StSq4"
          ],
          [
           "FSSp4"
          ],
          [
           "CCoSp4"
          ],
          [
           "4F"
          ],
          [
           "4T+3T"
          ],
          [
           "FCSp4"
          ],
          [
           "3A"
          ],
          [
           "CSSp3"
          ],
          [
           "StSq3"
          ],
          [
           "CCoSp4"
          ],
          [
           "4T"
          ],
          [
           "3A"
          ],
          [
           "CSSp4"
          ],
          [
           "4S+3T"
          ],
          [
           "StSq4"
          ],
          [
           "FCSp3"
          ],
          [
           "CCoSp4"
          ],
          [
           "4S+3T"
          ],
          [
           "3A"
          ],
          [
           "FCSp4"
          ],
          [
           "4T"
          ],
          [
           "StSq3"
          ],
          [
           "CSSp4"
          ],
          [
           "CCoSp3"
          ],
          [
           "4Lz!q"
          ],
          [
           "3Lz+3T"
          ],
          [
           "FSSp4"
          ],
          [
           "3A"
          ],
          [
           "StSq3"
          ],
          [
           "CCSp3"
          ],
          [
           "CCoSp4"
          ],
          [
           "4Lz+2T"
          ],
          [
           "4T"
          ],
          [
           "FCSp4"
          ],
          [
           "3A"
          ],
          [
           "CSSp4"
          ],
          [
           "StSq4"
          ],
          [
           "CCoSp4"
          ],
          [
           "2S*"
          ],
          [
           "3F+3T"
          ],
          [
           "3A"
          ],
          [
           "FSSp3"
          ],
          [
           "StSq4"
          ],
          [
           "CCSp3"
          ],
          [
           "CCoSp4"
          ],
          [
           "3S"
          ],
          [
           "3A"
          ],
          [
           "3Lz+2T"
          ],
          [
           "FCSp4"
          ],
          [
           "CSSp3"
          ],
          [
           "StSq3"
          ],
          [
           "CCoSp3"
          ],
          [
           "3T"
          ],
          [
           "3A"
          ],
          [
           "CSSp4"
          ],
          [
           "3Lz+2T"
          ],
          [
           "FCSp4"
          ],
          [
           "CCoSp4"
          ],
          [
           "StSq3"
          ],
          [
           "3A"
          ],
          [
           "3F"
          ],
          [
           "CCoSp4"
          ],
          [
           "3Lz+3T"
          ],
          [
           "StSq4"
          ],
          [
           "FCSp4"
          ],
          [
           "LSp4"
          ],
          [
           "2A"
          ],
          [
           "3Lz+3T"
          ],
          [
           "FCSp4"
          ],
          [
           "3F"
          ],
          [
           "CCoSp4"
          ],
          [
           "StSq4"
          ],
          [
           "LSp4"
          ],
          [
           "3Lz+3T"
          ],
          [
           "3Lo"
          ],
          [
           "FCSp4"
          ],
          [
           "2A"
          ],
          [
           "StSq3"
          ],
          [
           "CCoSp3"
          ],
          [
           "LSp4"
          ],
          [
           "3F+3T"
          ],
          [
           "2A"
          ],
          [
           "FCSp4"
          ],
          [
           "3Lz"
          ],
          [
           "CCoSp4"
          ],
          [
           "StSq2"
          ],
          [
           "LSp4"
          ],
          [
           "3Lz+3T<"
          ],
          [
           "2A"
          ],
          [
           "CCoSp4"
          ],
          [
           "FCSp4"
          ],
          [
           "3Loq"
          ],
          [
           "StSq4"
          ],
          [
           "LSp3"
          ],
          [
           "3F+3T"
          ],
          [
           "3Loq"
          ],
          [
           "FCSp4"
          ],
          [
           "2A"
          ],
          [
           "CCoSp4"
          ],
          [
           "StSq3"
          ],
          [
           "LSp2"
          ],
          [
           "2A"
          ],
          [
           "3F!"
          ],
          [
           "FCSp4"
          ],
          [
           "3Lz+3T"
          ],
          [
           "StSq3"
          ],
          [
           "CCoSp4"
          ],
          [
           "SSp3"
          ],
          [
           "3Lz+3T"
          ],
          [
           "3F"
          ],
          [
           "FCSp4"
          ],
          [
           "2A"
          ],
          [
           "CCoSp4"
          ],
          [
           "StSq3"
          ],
          [
           "LSp4"
          ],
          [
           "3Lz+2T"
          ],
          [
           "3Fq"
          ],
          [
           "SSp4"
          ],
          [
           "StSq4"
          ],
          [
           "2A"
          ],
          [
           "FCSp4"
          ],
          [
           "CCoSp4"
          ],
          [
           "3F+3T<<"
          ],
          [
           "2A"
          ],
          [
           "FSSp4"
          ],
          [
           "1Lo*"
          ],
          [
           "LSp4"
          ],
          [
           "StSq3"
          ],
          [
           "CCoSp4"
          ],
          [
           "3T"
          ],
          [
           "3FTh"
          ],
          [
           "3Tw4"
          ],
          [
           "FCCoSp4"
          ],
          [
           "4Li4"
          ],
          [
           "StSq4"
          ],
          [
           "BoDs4"
          ],
          [
           "3Tw4"
          ],
          [
           "3FTh"
          ],
          [
           "3S"
          ],
          [
           "BoDs4"
          ],
          [
           "FCCoSp4"
          ],
          [
           "StSq4"
          ],
          [
           "4Li4"
          ],
          [
           "3Tw4"
          ],
          [
           "3T"
          ],
          [
           "3FTh"
          ],
          [
           "BoDs4"
          ],
          [
           "CCoSp4"
          ],
          [
           "StSq4"
          ],
          [
           "4Li4"
          ],
          [
           "3Tw2"
          ],
          [
           "3T"
          ],
          [
           "4Li4"
          ],
          [
           "3LzTh"
          ],
          [
           "CCoSp3"
          ],
          [
           "StSq4"
          ],
          [
           "BoDs3"
          ],
          [
           "3Tw2"
          ],
          [
           "3T"
          ],
          [
           "3LoTh"
          ],
          [
           "4Li4"
          ],
          [
           "CCoSp4"
          ],
          [
           "StSq3"
          ],
          [
           "BoDs2"
          ],
          [
           "3Tw2"
          ],
          [
           "3T"
          ],
          [
           "3LoTh"
          ],
          [
           "BoDs2"
          ],
          [
           "StSq3"
          ],
          [
           "4Li4"
          ],
          [
           "FCCoSp4"
          ],
          [
           "2S"
          ],
          [
           "3Tw4"
          ],
          [
           "3STh"
          ],
          [
           "4Li4"
          ],
          [
           "StSq4"
          ],
          [
           "BoDs3"
          ],
          [
           "FCCoSp4"
          ],
          [
           "3Tw2"
          ],
          [
           "3Tq"
          ],
          [
           "3LzTh"
          ],
          [
           "4Li3"
          ],
          [
           "BoDs3"
          ],
          [
           "StSq4"
          ],
          [
           "CCoSp4"
          ],
          [
           "3Tw1"
          ],
          [
           "3S"
          ],
          [
           "3LoTh"
          ],
          [
           "4Li3"
          ],
          [
           "BoDs1"
          ],
          [
           "StSq1"
          ],
          [
           "CCoSp3"
          ],
          [
           "MiSt3"
          ],
          [
           "StaLi4"
          ],
          [
           "1MB3+kpYYNY"
          ],
          [
           "PStW3+PStM3"
          ],
          [
           "SqTwW4+SqTwM4"
          ],
          [
           "SqTwW4+SqTwM3"
          ],
          [
           "1MB4+kpYYYY"
          ],
          [
           "PStW3+PStM3"
          ],
          [
           "MiSt3"
          ],
          [
           "RoLi4"
          ],
          [
           "SqTwW4+SqTwM4"
          ],
          [
           "1MB4+kpYYYY"
          ],
          [
           "PStW3+PStM4"
          ],
          [
           "SlLi4"
          ],
          [
           "MiSt3"
          ],
          [
           "SqTwW3+SqTwM3"
          ],
          [
           "1MB3+kpYYNY"
          ],
          [
           "PStW2+PStM3"
          ],
          [
           "RoLi4"
          ],
          [
           "MiSt2"
          ],
          [
           "1MB3+kpNYYY"
          ],
          [
           "PStW2+PStM3"
          ],
          [
           "SqTwW4+SqTwM4"
          ],
          [
           "MiSt2"
          ],
          [
           "RoLi4"
          ],
          [
           "MiSt2"
          ],
          [
           "1MB2+kpNYNY"
          ],
          [
           "PStW2+PStM3"
          ],
          [
           "CuLi4"
          ],
          [
           "SqTwW4+SqTwM4"
          ],
          [
           "SqTwW4+SqTwM4"
          ],
          [
           "DiSt2"
          ],
          [
           "1MB2+kpNYNY"
          ],
          [
           "PStW2+PStM3"
          ],
          [
           "RoLi4"
          ],
          [
           "SqTwW3+SqTwM4"
          ],
          [
           "1MB1+kpNYNN"
          ],
          [
           "PStW3+PStM2"
          ],
          [
           "MiSt2"
          ],
          [
           "StaLi4"
          ],
          [
           "SqTwW4+SqTwM4"
          ],
          [
           "1MBB+kpNNNT"
          ],
          [
           "PStW2+PStM3"
          ],
          [
           "CuLi4"
          ],
          [
           "MiSt1"
          ],
          [
           "SqTwW3+SqTwM4"
          ],
          [
           "CuLi3"
          ],
          [
           "1MB2+kpNYNY"
          ],
          [
           "PStW3+PStM3"
          ],
          [
           "DiSt1"
          ]
         ],
         "hovertemplate": "Base Value=%{x}<br>GOE=%{y}<br>element_name=%{customdata[0]}<extra></extra>",
         "legendgroup": "",
         "marker": {
          "color": "#636efa",
          "symbol": "circle"
         },
         "mode": "markers",
         "name": "",
         "showlegend": false,
         "type": "scattergl",
         "x": {
          "bdata": "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",
          "dtype": "f8"
         },
         "xaxis": "x",
         "y": {
          "bdata": "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",
          "dtype": "f8"
         },
         "yaxis": "y"
        },
        {
         "hovertemplate": "<b>OLS trendline</b><br>goe = 0.0314731 * base_value + 0.721118<br>R<sup>2</sup>=0.004378<br><br>Base Value=%{x}<br>GOE=%{y} <b>(trend)</b><extra></extra>",
         "legendgroup": "",
         "marker": {
          "color": "#636efa",
          "symbol": "circle"
         },
         "mode": "lines",
         "name": "",
         "showlegend": false,
         "type": "scattergl",
         "x": {
          "bdata": "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",
          "dtype": "f8"
         },
         "xaxis": "x",
         "y": {
          "bdata": "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",
          "dtype": "f8"
         },
         "yaxis": "y"
        }
       ],
       "layout": {
        "height": 900,
        "legend": {
         "font": {
          "size": 14
         },
         "title": {
          "font": {
           "size": 16
          }
         },
         "tracegroupgap": 0
        },
        "template": {
         "data": {
          "bar": [
           {
            "error_x": {
             "color": "#2a3f5f"
            },
            "error_y": {
             "color": "#2a3f5f"
            },
            "marker": {
             "line": {
              "color": "#E5ECF6",
              "width": 0.5
             },
             "pattern": {
              "fillmode": "overlay",
              "size": 10,
              "solidity": 0.2
             }
            },
            "type": "bar"
           }
          ],
          "barpolar": [
           {
            "marker": {
             "line": {
              "color": "#E5ECF6",
              "width": 0.5
             },
             "pattern": {
              "fillmode": "overlay",
              "size": 10,
              "solidity": 0.2
             }
            },
            "type": "barpolar"
           }
          ],
          "carpet": [
           {
            "aaxis": {
             "endlinecolor": "#2a3f5f",
             "gridcolor": "white",
             "linecolor": "white",
             "minorgridcolor": "white",
             "startlinecolor": "#2a3f5f"
            },
            "baxis": {
             "endlinecolor": "#2a3f5f",
             "gridcolor": "white",
             "linecolor": "white",
             "minorgridcolor": "white",
             "startlinecolor": "#2a3f5f"
            },
            "type": "carpet"
           }
          ],
          "choropleth": [
           {
            "colorbar": {
             "outlinewidth": 0,
             "ticks": ""
            },
            "type": "choropleth"
           }
          ],
          "contour": [
           {
            "colorbar": {
             "outlinewidth": 0,
             "ticks": ""
            },
            "colorscale": [
             [
              0,
              "#0d0887"
             ],
             [
              0.1111111111111111,
              "#46039f"
             ],
             [
              0.2222222222222222,
              "#7201a8"
             ],
             [
              0.3333333333333333,
              "#9c179e"
             ],
             [
              0.4444444444444444,
              "#bd3786"
             ],
             [
              0.5555555555555556,
              "#d8576b"
             ],
             [
              0.6666666666666666,
              "#ed7953"
             ],
             [
              0.7777777777777778,
              "#fb9f3a"
             ],
             [
              0.8888888888888888,
              "#fdca26"
             ],
             [
              1,
              "#f0f921"
             ]
            ],
            "type": "contour"
           }
          ],
          "contourcarpet": [
           {
            "colorbar": {
             "outlinewidth": 0,
             "ticks": ""
            },
            "type": "contourcarpet"
           }
          ],
          "heatmap": [
           {
            "colorbar": {
             "outlinewidth": 0,
             "ticks": ""
            },
            "colorscale": [
             [
              0,
              "#0d0887"
             ],
             [
              0.1111111111111111,
              "#46039f"
             ],
             [
              0.2222222222222222,
              "#7201a8"
             ],
             [
              0.3333333333333333,
              "#9c179e"
             ],
             [
              0.4444444444444444,
              "#bd3786"
             ],
             [
              0.5555555555555556,
              "#d8576b"
             ],
             [
              0.6666666666666666,
              "#ed7953"
             ],
             [
              0.7777777777777778,
              "#fb9f3a"
             ],
             [
              0.8888888888888888,
              "#fdca26"
             ],
             [
              1,
              "#f0f921"
             ]
            ],
            "type": "heatmap"
           }
          ],
          "histogram": [
           {
            "marker": {
             "pattern": {
              "fillmode": "overlay",
              "size": 10,
              "solidity": 0.2
             }
            },
            "type": "histogram"
           }
          ],
          "histogram2d": [
           {
            "colorbar": {
             "outlinewidth": 0,
             "ticks": ""
            },
            "colorscale": [
             [
              0,
              "#0d0887"
             ],
             [
              0.1111111111111111,
              "#46039f"
             ],
             [
              0.2222222222222222,
              "#7201a8"
             ],
             [
              0.3333333333333333,
              "#9c179e"
             ],
             [
              0.4444444444444444,
              "#bd3786"
             ],
             [
              0.5555555555555556,
              "#d8576b"
             ],
             [
              0.6666666666666666,
              "#ed7953"
             ],
             [
              0.7777777777777778,
              "#fb9f3a"
             ],
             [
              0.8888888888888888,
              "#fdca26"
             ],
             [
              1,
              "#f0f921"
             ]
            ],
            "type": "histogram2d"
           }
          ],
          "histogram2dcontour": [
           {
            "colorbar": {
             "outlinewidth": 0,
             "ticks": ""
            },
            "colorscale": [
             [
              0,
              "#0d0887"
             ],
             [
              0.1111111111111111,
              "#46039f"
             ],
             [
              0.2222222222222222,
              "#7201a8"
             ],
             [
              0.3333333333333333,
              "#9c179e"
             ],
             [
              0.4444444444444444,
              "#bd3786"
             ],
             [
              0.5555555555555556,
              "#d8576b"
             ],
             [
              0.6666666666666666,
              "#ed7953"
             ],
             [
              0.7777777777777778,
              "#fb9f3a"
             ],
             [
              0.8888888888888888,
              "#fdca26"
             ],
             [
              1,
              "#f0f921"
             ]
            ],
            "type": "histogram2dcontour"
           }
          ],
          "mesh3d": [
           {
            "colorbar": {
             "outlinewidth": 0,
             "ticks": ""
            },
            "type": "mesh3d"
           }
          ],
          "parcoords": [
           {
            "line": {
             "colorbar": {
              "outlinewidth": 0,
              "ticks": ""
             }
            },
            "type": "parcoords"
           }
          ],
          "pie": [
           {
            "automargin": true,
            "type": "pie"
           }
          ],
          "scatter": [
           {
            "fillpattern": {
             "fillmode": "overlay",
             "size": 10,
             "solidity": 0.2
            },
            "type": "scatter"
           }
          ],
          "scatter3d": [
           {
            "line": {
             "colorbar": {
              "outlinewidth": 0,
              "ticks": ""
             }
            },
            "marker": {
             "colorbar": {
              "outlinewidth": 0,
              "ticks": ""
             }
            },
            "type": "scatter3d"
           }
          ],
          "scattercarpet": [
           {
            "marker": {
             "colorbar": {
              "outlinewidth": 0,
              "ticks": ""
             }
            },
            "type": "scattercarpet"
           }
          ],
          "scattergeo": [
           {
            "marker": {
             "colorbar": {
              "outlinewidth": 0,
              "ticks": ""
             }
            },
            "type": "scattergeo"
           }
          ],
          "scattergl": [
           {
            "marker": {
             "colorbar": {
              "outlinewidth": 0,
              "ticks": ""
             }
            },
            "type": "scattergl"
           }
          ],
          "scattermap": [
           {
            "marker": {
             "colorbar": {
              "outlinewidth": 0,
              "ticks": ""
             }
            },
            "type": "scattermap"
           }
          ],
          "scattermapbox": [
           {
            "marker": {
             "colorbar": {
              "outlinewidth": 0,
              "ticks": ""
             }
            },
            "type": "scattermapbox"
           }
          ],
          "scatterpolar": [
           {
            "marker": {
             "colorbar": {
              "outlinewidth": 0,
              "ticks": ""
             }
            },
            "type": "scatterpolar"
           }
          ],
          "scatterpolargl": [
           {
            "marker": {
             "colorbar": {
              "outlinewidth": 0,
              "ticks": ""
             }
            },
            "type": "scatterpolargl"
           }
          ],
          "scatterternary": [
           {
            "marker": {
             "colorbar": {
              "outlinewidth": 0,
              "ticks": ""
             }
            },
            "type": "scatterternary"
           }
          ],
          "surface": [
           {
            "colorbar": {
             "outlinewidth": 0,
             "ticks": ""
            },
            "colorscale": [
             [
              0,
              "#0d0887"
             ],
             [
              0.1111111111111111,
              "#46039f"
             ],
             [
              0.2222222222222222,
              "#7201a8"
             ],
             [
              0.3333333333333333,
              "#9c179e"
             ],
             [
              0.4444444444444444,
              "#bd3786"
             ],
             [
              0.5555555555555556,
              "#d8576b"
             ],
             [
              0.6666666666666666,
              "#ed7953"
             ],
             [
              0.7777777777777778,
              "#fb9f3a"
             ],
             [
              0.8888888888888888,
              "#fdca26"
             ],
             [
              1,
              "#f0f921"
             ]
            ],
            "type": "surface"
           }
          ],
          "table": [
           {
            "cells": {
             "fill": {
              "color": "#EBF0F8"
             },
             "line": {
              "color": "white"
             }
            },
            "header": {
             "fill": {
              "color": "#C8D4E3"
             },
             "line": {
              "color": "white"
             }
            },
            "type": "table"
           }
          ]
         },
         "layout": {
          "annotationdefaults": {
           "arrowcolor": "#2a3f5f",
           "arrowhead": 0,
           "arrowwidth": 1
          },
          "autotypenumbers": "strict",
          "coloraxis": {
           "colorbar": {
            "outlinewidth": 0,
            "ticks": ""
           }
          },
          "colorscale": {
           "diverging": [
            [
             0,
             "#8e0152"
            ],
            [
             0.1,
             "#c51b7d"
            ],
            [
             0.2,
             "#de77ae"
            ],
            [
             0.3,
             "#f1b6da"
            ],
            [
             0.4,
             "#fde0ef"
            ],
            [
             0.5,
             "#f7f7f7"
            ],
            [
             0.6,
             "#e6f5d0"
            ],
            [
             0.7,
             "#b8e186"
            ],
            [
             0.8,
             "#7fbc41"
            ],
            [
             0.9,
             "#4d9221"
            ],
            [
             1,
             "#276419"
            ]
           ],
           "sequential": [
            [
             0,
             "#0d0887"
            ],
            [
             0.1111111111111111,
             "#46039f"
            ],
            [
             0.2222222222222222,
             "#7201a8"
            ],
            [
             0.3333333333333333,
             "#9c179e"
            ],
            [
             0.4444444444444444,
             "#bd3786"
            ],
            [
             0.5555555555555556,
             "#d8576b"
            ],
            [
             0.6666666666666666,
             "#ed7953"
            ],
            [
             0.7777777777777778,
             "#fb9f3a"
            ],
            [
             0.8888888888888888,
             "#fdca26"
            ],
            [
             1,
             "#f0f921"
            ]
           ],
           "sequentialminus": [
            [
             0,
             "#0d0887"
            ],
            [
             0.1111111111111111,
             "#46039f"
            ],
            [
             0.2222222222222222,
             "#7201a8"
            ],
            [
             0.3333333333333333,
             "#9c179e"
            ],
            [
             0.4444444444444444,
             "#bd3786"
            ],
            [
             0.5555555555555556,
             "#d8576b"
            ],
            [
             0.6666666666666666,
             "#ed7953"
            ],
            [
             0.7777777777777778,
             "#fb9f3a"
            ],
            [
             0.8888888888888888,
             "#fdca26"
            ],
            [
             1,
             "#f0f921"
            ]
           ]
          },
          "colorway": [
           "#636efa",
           "#EF553B",
           "#00cc96",
           "#ab63fa",
           "#FFA15A",
           "#19d3f3",
           "#FF6692",
           "#B6E880",
           "#FF97FF",
           "#FECB52"
          ],
          "font": {
           "color": "#2a3f5f"
          },
          "geo": {
           "bgcolor": "white",
           "lakecolor": "white",
           "landcolor": "#E5ECF6",
           "showlakes": true,
           "showland": true,
           "subunitcolor": "white"
          },
          "hoverlabel": {
           "align": "left"
          },
          "hovermode": "closest",
          "mapbox": {
           "style": "light"
          },
          "paper_bgcolor": "white",
          "plot_bgcolor": "#E5ECF6",
          "polar": {
           "angularaxis": {
            "gridcolor": "white",
            "linecolor": "white",
            "ticks": ""
           },
           "bgcolor": "#E5ECF6",
           "radialaxis": {
            "gridcolor": "white",
            "linecolor": "white",
            "ticks": ""
           }
          },
          "scene": {
           "xaxis": {
            "backgroundcolor": "#E5ECF6",
            "gridcolor": "white",
            "gridwidth": 2,
            "linecolor": "white",
            "showbackground": true,
            "ticks": "",
            "zerolinecolor": "white"
           },
           "yaxis": {
            "backgroundcolor": "#E5ECF6",
            "gridcolor": "white",
            "gridwidth": 2,
            "linecolor": "white",
            "showbackground": true,
            "ticks": "",
            "zerolinecolor": "white"
           },
           "zaxis": {
            "backgroundcolor": "#E5ECF6",
            "gridcolor": "white",
            "gridwidth": 2,
            "linecolor": "white",
            "showbackground": true,
            "ticks": "",
            "zerolinecolor": "white"
           }
          },
          "shapedefaults": {
           "line": {
            "color": "#2a3f5f"
           }
          },
          "ternary": {
           "aaxis": {
            "gridcolor": "white",
            "linecolor": "white",
            "ticks": ""
           },
           "baxis": {
            "gridcolor": "white",
            "linecolor": "white",
            "ticks": ""
           },
           "bgcolor": "#E5ECF6",
           "caxis": {
            "gridcolor": "white",
            "linecolor": "white",
            "ticks": ""
           }
          },
          "title": {
           "x": 0.05
          },
          "xaxis": {
           "automargin": true,
           "gridcolor": "white",
           "linecolor": "white",
           "ticks": "",
           "title": {
            "standoff": 15
           },
           "zerolinecolor": "white",
           "zerolinewidth": 2
          },
          "yaxis": {
           "automargin": true,
           "gridcolor": "white",
           "linecolor": "white",
           "ticks": "",
           "title": {
            "standoff": 15
           },
           "zerolinecolor": "white",
           "zerolinewidth": 2
          }
         }
        },
        "title": {
         "font": {
          "size": 22
         },
         "text": "GOE vs. Element Base Value (GOE - Grade of Execution, element performance score)"
        },
        "width": 2000,
        "xaxis": {
         "anchor": "y",
         "domain": [
          0,
          1
         ],
         "title": {
          "font": {
           "size": 18
          },
          "text": "Base Value"
         }
        },
        "yaxis": {
         "anchor": "x",
         "domain": [
          0,
          1
         ],
         "title": {
          "font": {
           "size": 18
          },
          "text": "GOE"
         }
        }
       }
      }
     },
     "metadata": {},
     "output_type": "display_data"
    }
   ],
   "source": [
    "fig = px.scatter(\n",
    "    df_elements,\n",
    "    x='base_value',\n",
    "    y='goe',\n",
    "    hover_data=['element_name'], \n",
    "    title='GOE vs. Element Base Value (GOE - Grade of Execution, element performance score)',\n",
    "    labels={\n",
    "        'base_value': 'Base Value', \n",
    "        'goe': 'GOE'\n",
    "    },\n",
    "    trendline='ols'\n",
    ")\n",
    "fig.update_layout(\n",
    "    width=2000,\n",
    "    height=900,\n",
    "    title_font=dict(size=22),\n",
    "    xaxis_title_font=dict(size=18),\n",
    "    yaxis_title_font=dict(size=18),\n",
    "    legend_title_font=dict(size=16),\n",
    "    legend_font=dict(size=14),\n",
    ")\n",
    "fig.show()"
   ]
  },
  {
   "cell_type": "code",
   "execution_count": 266,
   "metadata": {},
   "outputs": [
    {
     "data": {
      "application/vnd.plotly.v1+json": {
       "config": {
        "plotlyServerURL": "https://plot.ly"
       },
       "data": [
        {
         "alignmentgroup": "True",
         "hovertemplate": "Discipline=Ice Dance<br>Country=%{x}<br>Average Score=%{y}<extra></extra>",
         "legendgroup": "Ice Dance",
         "marker": {
          "color": "#636efa",
          "pattern": {
           "shape": ""
          }
         },
         "name": "Ice Dance",
         "offsetgroup": "Ice Dance",
         "orientation": "v",
         "showlegend": true,
         "textposition": "auto",
         "type": "bar",
         "x": [
          "ARM",
          "CAN",
          "CHN",
          "CZE",
          "ESP",
          "FIN",
          "FRA",
          "GBR",
          "GEO",
          "GER",
          "ITA",
          "JPN",
          "LTU",
          "POL",
          "ROC",
          "UKR",
          "USA"
         ],
         "xaxis": "x",
         "y": {
          "bdata": "KVyPwvXgVEDv7u7u7hZYQD4K16NwDVdACtejcD0KVUDsUbgeheNYQFyPwvUovFVAkML1KFxfXEAUrkfhevRXQML1KFyPilRArkfhehReUECamZmZmeFZQArXo3A9WlBAzczMzMwsTUBSuB6F6+lUQJmZmZmZOVlApHA9CtdbVEC4HoXrUfBZQA==",
          "dtype": "f8"
         },
         "yaxis": "y"
        },
        {
         "alignmentgroup": "True",
         "hovertemplate": "Discipline=Men Single Skating<br>Country=%{x}<br>Average Score=%{y}<extra></extra>",
         "legendgroup": "Men Single Skating",
         "marker": {
          "color": "#EF553B",
          "pattern": {
           "shape": ""
          }
         },
         "name": "Men Single Skating",
         "offsetgroup": "Men Single Skating",
         "orientation": "v",
         "showlegend": true,
         "textposition": "auto",
         "type": "bar",
         "x": [
          "AUS",
          "AZE",
          "BLR",
          "CAN",
          "CHN",
          "CZE",
          "EST",
          "FRA",
          "GEO",
          "ISR",
          "ITA",
          "JPN",
          "KOR",
          "LAT",
          "MEX",
          "ROC",
          "SUI",
          "SWE",
          "UKR",
          "USA"
         ],
         "xaxis": "x",
         "y": {
          "bdata": "mpmZmZmZXkCuR+F6FOZdQNajcD0Kx1tAPQrXo3BdW0B7FK5H4eZgQFyPwvUozFJAw/UoXI9SUEAzMzMzM49fQFK4HoXryWBAcT0K16MAUUDNzMzMzGxgQB+F61G4dmJAseQXS34BXUAehetRuJZfQFyPwvUoRFtAY8kvlvyCX0DC9Shcj5JaQCpcj8L1mFtAuB6F61G4WUAfhetRuC5jQA==",
          "dtype": "f8"
         },
         "yaxis": "y"
        },
        {
         "alignmentgroup": "True",
         "hovertemplate": "Discipline=Women Single Skating<br>Country=%{x}<br>Average Score=%{y}<extra></extra>",
         "legendgroup": "Women Single Skating",
         "marker": {
          "color": "#00cc96",
          "pattern": {
           "shape": ""
          }
         },
         "name": "Women Single Skating",
         "offsetgroup": "Women Single Skating",
         "orientation": "v",
         "showlegend": true,
         "textposition": "auto",
         "type": "bar",
         "x": [
          "AUS",
          "AUT",
          "AZE",
          "BEL",
          "BLR",
          "BUL",
          "CAN",
          "CHN",
          "CZE",
          "EST",
          "FIN",
          "GBR",
          "GEO",
          "GER",
          "JPN",
          "KOR",
          "NED",
          "POL",
          "ROC",
          "SUI",
          "SWE",
          "UKR",
          "USA"
         ],
         "xaxis": "x",
         "y": {
          "bdata": "16NwPQr3SEBmZmZmZsZWQNejcD0Kf1ZA4XoUrkfZWUDD9ShcjxpXQFK4HoXr6VNAUrgehevxVUC4HoXrUbhKQIXrUbge7VVAAAAAAAB4VUDhehSuRyFTQIXrUbgeRUpAkML1KFwfWUDNzMzMzDRWQIiIiIiImFlA7FG4HoX7WUBSuB6F6/lVQHsUrkfhOldAJb9Y8ot9XkCF61G4Hh1VQOF6FK5HQUtA16NwPQpXSEBRuB6F66FYQA==",
          "dtype": "f8"
         },
         "yaxis": "y"
        },
        {
         "alignmentgroup": "True",
         "hovertemplate": "Discipline=Pair Skating<br>Country=%{x}<br>Average Score=%{y}<extra></extra>",
         "legendgroup": "Pair Skating",
         "marker": {
          "color": "#ab63fa",
          "pattern": {
           "shape": ""
          }
         },
         "name": "Pair Skating",
         "offsetgroup": "Pair Skating",
         "orientation": "v",
         "showlegend": true,
         "textposition": "auto",
         "type": "bar",
         "x": [
          "AUT",
          "CAN",
          "CHN",
          "CZE",
          "ESP",
          "GEO",
          "GER",
          "ISR",
          "ITA",
          "JPN",
          "ROC",
          "USA"
         ],
         "xaxis": "x",
         "y": {
          "bdata": "exSuR+H6SUD2KFyPwqVWQOxRuB6Fa1xAUrgehetRS0DsUbgehatWQK5H4XoUDlhArkfhehS2UkAK16NwPTpTQM3MzMzMlFVAFK5H4Xp8WkBgLPnFkg9dQEjhehSuq1lA",
          "dtype": "f8"
         },
         "yaxis": "y"
        },
        {
         "alignmentgroup": "True",
         "hovertemplate": "Discipline=Team Event - Ice Dance<br>Country=%{x}<br>Average Score=%{y}<extra></extra>",
         "legendgroup": "Team Event - Ice Dance",
         "marker": {
          "color": "#FFA15A",
          "pattern": {
           "shape": ""
          }
         },
         "name": "Team Event - Ice Dance",
         "offsetgroup": "Team Event - Ice Dance",
         "orientation": "v",
         "showlegend": true,
         "textposition": "auto",
         "type": "bar",
         "x": [
          "CAN",
          "CHN",
          "CZE",
          "GEO",
          "GER",
          "ITA",
          "JPN",
          "ROC",
          "UKR",
          "USA"
         ],
         "xaxis": "x",
         "y": {
          "bdata": "7FG4HoXjWUB7FK5H4bpWQI/C9ShcP1FAZmZmZmYmUEB7FK5H4ZpPQIXrUbge9VRAZmZmZmamVEDWo3A9CqdaQIXrUbgeBVBAXI/C9Sj0WkA=",
          "dtype": "f8"
         },
         "yaxis": "y"
        },
        {
         "alignmentgroup": "True",
         "hovertemplate": "Discipline=Team Event - Men Single Skating<br>Country=%{x}<br>Average Score=%{y}<extra></extra>",
         "legendgroup": "Team Event - Men Single Skating",
         "marker": {
          "color": "#19d3f3",
          "pattern": {
           "shape": ""
          }
         },
         "name": "Team Event - Men Single Skating",
         "offsetgroup": "Team Event - Men Single Skating",
         "orientation": "v",
         "showlegend": true,
         "textposition": "auto",
         "type": "bar",
         "x": [
          "CAN",
          "CHN",
          "CZE",
          "GEO",
          "GER",
          "ITA",
          "JPN",
          "ROC",
          "USA"
         ],
         "xaxis": "x",
         "y": {
          "bdata": "hetRuB41WECF61G4Hr1dQOF6FK5HMVNASOF6FK4XV0ApXI/C9ShRQGZmZmZmBlZAZmZmZmamY0CQwvUoXFdhQGZmZmZmsmFA",
          "dtype": "f8"
         },
         "yaxis": "y"
        },
        {
         "alignmentgroup": "True",
         "hovertemplate": "Discipline=Team Event - Pair Skating<br>Country=%{x}<br>Average Score=%{y}<extra></extra>",
         "legendgroup": "Team Event - Pair Skating",
         "marker": {
          "color": "#FF6692",
          "pattern": {
           "shape": ""
          }
         },
         "name": "Team Event - Pair Skating",
         "offsetgroup": "Team Event - Pair Skating",
         "orientation": "v",
         "showlegend": true,
         "textposition": "auto",
         "type": "bar",
         "x": [
          "CAN",
          "CHN",
          "CZE",
          "GEO",
          "ITA",
          "JPN",
          "ROC",
          "UKR",
          "USA"
         ],
         "xaxis": "x",
         "y": {
          "bdata": "hetRuB6tWEDC9Shcj9JaQJqZmZmZWUxAw/UoXI8yUEBmZmZmZiZOQJqZmZmZwVpAehSuR+F6XEAzMzMzM9NKQNejcD0Kf1lA",
          "dtype": "f8"
         },
         "yaxis": "y"
        },
        {
         "alignmentgroup": "True",
         "hovertemplate": "Discipline=Team Event - Women Single Skating<br>Country=%{x}<br>Average Score=%{y}<extra></extra>",
         "legendgroup": "Team Event - Women Single Skating",
         "marker": {
          "color": "#B6E880",
          "pattern": {
           "shape": ""
          }
         },
         "name": "Team Event - Women Single Skating",
         "offsetgroup": "Team Event - Women Single Skating",
         "orientation": "v",
         "showlegend": true,
         "textposition": "auto",
         "type": "bar",
         "x": [
          "CAN",
          "CHN",
          "CZE",
          "GEO",
          "GER",
          "ITA",
          "JPN",
          "ROC",
          "UKR",
          "USA"
         ],
         "xaxis": "x",
         "y": {
          "bdata": "FK5H4Xo0WUCuR+F6FE5RQGZmZmZmhk5ApHA9CtfjUEAUrkfhelRPQMP1KFyPQk1AFK5H4XrsW0CamZmZmdFgQB+F61G4Pk9A2KNwPQqXWEA=",
          "dtype": "f8"
         },
         "yaxis": "y"
        }
       ],
       "layout": {
        "barmode": "group",
        "legend": {
         "title": {
          "text": "Discipline"
         },
         "tracegroupgap": 0
        },
        "template": {
         "data": {
          "bar": [
           {
            "error_x": {
             "color": "#2a3f5f"
            },
            "error_y": {
             "color": "#2a3f5f"
            },
            "marker": {
             "line": {
              "color": "#E5ECF6",
              "width": 0.5
             },
             "pattern": {
              "fillmode": "overlay",
              "size": 10,
              "solidity": 0.2
             }
            },
            "type": "bar"
           }
          ],
          "barpolar": [
           {
            "marker": {
             "line": {
              "color": "#E5ECF6",
              "width": 0.5
             },
             "pattern": {
              "fillmode": "overlay",
              "size": 10,
              "solidity": 0.2
             }
            },
            "type": "barpolar"
           }
          ],
          "carpet": [
           {
            "aaxis": {
             "endlinecolor": "#2a3f5f",
             "gridcolor": "white",
             "linecolor": "white",
             "minorgridcolor": "white",
             "startlinecolor": "#2a3f5f"
            },
            "baxis": {
             "endlinecolor": "#2a3f5f",
             "gridcolor": "white",
             "linecolor": "white",
             "minorgridcolor": "white",
             "startlinecolor": "#2a3f5f"
            },
            "type": "carpet"
           }
          ],
          "choropleth": [
           {
            "colorbar": {
             "outlinewidth": 0,
             "ticks": ""
            },
            "type": "choropleth"
           }
          ],
          "contour": [
           {
            "colorbar": {
             "outlinewidth": 0,
             "ticks": ""
            },
            "colorscale": [
             [
              0,
              "#0d0887"
             ],
             [
              0.1111111111111111,
              "#46039f"
             ],
             [
              0.2222222222222222,
              "#7201a8"
             ],
             [
              0.3333333333333333,
              "#9c179e"
             ],
             [
              0.4444444444444444,
              "#bd3786"
             ],
             [
              0.5555555555555556,
              "#d8576b"
             ],
             [
              0.6666666666666666,
              "#ed7953"
             ],
             [
              0.7777777777777778,
              "#fb9f3a"
             ],
             [
              0.8888888888888888,
              "#fdca26"
             ],
             [
              1,
              "#f0f921"
             ]
            ],
            "type": "contour"
           }
          ],
          "contourcarpet": [
           {
            "colorbar": {
             "outlinewidth": 0,
             "ticks": ""
            },
            "type": "contourcarpet"
           }
          ],
          "heatmap": [
           {
            "colorbar": {
             "outlinewidth": 0,
             "ticks": ""
            },
            "colorscale": [
             [
              0,
              "#0d0887"
             ],
             [
              0.1111111111111111,
              "#46039f"
             ],
             [
              0.2222222222222222,
              "#7201a8"
             ],
             [
              0.3333333333333333,
              "#9c179e"
             ],
             [
              0.4444444444444444,
              "#bd3786"
             ],
             [
              0.5555555555555556,
              "#d8576b"
             ],
             [
              0.6666666666666666,
              "#ed7953"
             ],
             [
              0.7777777777777778,
              "#fb9f3a"
             ],
             [
              0.8888888888888888,
              "#fdca26"
             ],
             [
              1,
              "#f0f921"
             ]
            ],
            "type": "heatmap"
           }
          ],
          "histogram": [
           {
            "marker": {
             "pattern": {
              "fillmode": "overlay",
              "size": 10,
              "solidity": 0.2
             }
            },
            "type": "histogram"
           }
          ],
          "histogram2d": [
           {
            "colorbar": {
             "outlinewidth": 0,
             "ticks": ""
            },
            "colorscale": [
             [
              0,
              "#0d0887"
             ],
             [
              0.1111111111111111,
              "#46039f"
             ],
             [
              0.2222222222222222,
              "#7201a8"
             ],
             [
              0.3333333333333333,
              "#9c179e"
             ],
             [
              0.4444444444444444,
              "#bd3786"
             ],
             [
              0.5555555555555556,
              "#d8576b"
             ],
             [
              0.6666666666666666,
              "#ed7953"
             ],
             [
              0.7777777777777778,
              "#fb9f3a"
             ],
             [
              0.8888888888888888,
              "#fdca26"
             ],
             [
              1,
              "#f0f921"
             ]
            ],
            "type": "histogram2d"
           }
          ],
          "histogram2dcontour": [
           {
            "colorbar": {
             "outlinewidth": 0,
             "ticks": ""
            },
            "colorscale": [
             [
              0,
              "#0d0887"
             ],
             [
              0.1111111111111111,
              "#46039f"
             ],
             [
              0.2222222222222222,
              "#7201a8"
             ],
             [
              0.3333333333333333,
              "#9c179e"
             ],
             [
              0.4444444444444444,
              "#bd3786"
             ],
             [
              0.5555555555555556,
              "#d8576b"
             ],
             [
              0.6666666666666666,
              "#ed7953"
             ],
             [
              0.7777777777777778,
              "#fb9f3a"
             ],
             [
              0.8888888888888888,
              "#fdca26"
             ],
             [
              1,
              "#f0f921"
             ]
            ],
            "type": "histogram2dcontour"
           }
          ],
          "mesh3d": [
           {
            "colorbar": {
             "outlinewidth": 0,
             "ticks": ""
            },
            "type": "mesh3d"
           }
          ],
          "parcoords": [
           {
            "line": {
             "colorbar": {
              "outlinewidth": 0,
              "ticks": ""
             }
            },
            "type": "parcoords"
           }
          ],
          "pie": [
           {
            "automargin": true,
            "type": "pie"
           }
          ],
          "scatter": [
           {
            "fillpattern": {
             "fillmode": "overlay",
             "size": 10,
             "solidity": 0.2
            },
            "type": "scatter"
           }
          ],
          "scatter3d": [
           {
            "line": {
             "colorbar": {
              "outlinewidth": 0,
              "ticks": ""
             }
            },
            "marker": {
             "colorbar": {
              "outlinewidth": 0,
              "ticks": ""
             }
            },
            "type": "scatter3d"
           }
          ],
          "scattercarpet": [
           {
            "marker": {
             "colorbar": {
              "outlinewidth": 0,
              "ticks": ""
             }
            },
            "type": "scattercarpet"
           }
          ],
          "scattergeo": [
           {
            "marker": {
             "colorbar": {
              "outlinewidth": 0,
              "ticks": ""
             }
            },
            "type": "scattergeo"
           }
          ],
          "scattergl": [
           {
            "marker": {
             "colorbar": {
              "outlinewidth": 0,
              "ticks": ""
             }
            },
            "type": "scattergl"
           }
          ],
          "scattermap": [
           {
            "marker": {
             "colorbar": {
              "outlinewidth": 0,
              "ticks": ""
             }
            },
            "type": "scattermap"
           }
          ],
          "scattermapbox": [
           {
            "marker": {
             "colorbar": {
              "outlinewidth": 0,
              "ticks": ""
             }
            },
            "type": "scattermapbox"
           }
          ],
          "scatterpolar": [
           {
            "marker": {
             "colorbar": {
              "outlinewidth": 0,
              "ticks": ""
             }
            },
            "type": "scatterpolar"
           }
          ],
          "scatterpolargl": [
           {
            "marker": {
             "colorbar": {
              "outlinewidth": 0,
              "ticks": ""
             }
            },
            "type": "scatterpolargl"
           }
          ],
          "scatterternary": [
           {
            "marker": {
             "colorbar": {
              "outlinewidth": 0,
              "ticks": ""
             }
            },
            "type": "scatterternary"
           }
          ],
          "surface": [
           {
            "colorbar": {
             "outlinewidth": 0,
             "ticks": ""
            },
            "colorscale": [
             [
              0,
              "#0d0887"
             ],
             [
              0.1111111111111111,
              "#46039f"
             ],
             [
              0.2222222222222222,
              "#7201a8"
             ],
             [
              0.3333333333333333,
              "#9c179e"
             ],
             [
              0.4444444444444444,
              "#bd3786"
             ],
             [
              0.5555555555555556,
              "#d8576b"
             ],
             [
              0.6666666666666666,
              "#ed7953"
             ],
             [
              0.7777777777777778,
              "#fb9f3a"
             ],
             [
              0.8888888888888888,
              "#fdca26"
             ],
             [
              1,
              "#f0f921"
             ]
            ],
            "type": "surface"
           }
          ],
          "table": [
           {
            "cells": {
             "fill": {
              "color": "#EBF0F8"
             },
             "line": {
              "color": "white"
             }
            },
            "header": {
             "fill": {
              "color": "#C8D4E3"
             },
             "line": {
              "color": "white"
             }
            },
            "type": "table"
           }
          ]
         },
         "layout": {
          "annotationdefaults": {
           "arrowcolor": "#2a3f5f",
           "arrowhead": 0,
           "arrowwidth": 1
          },
          "autotypenumbers": "strict",
          "coloraxis": {
           "colorbar": {
            "outlinewidth": 0,
            "ticks": ""
           }
          },
          "colorscale": {
           "diverging": [
            [
             0,
             "#8e0152"
            ],
            [
             0.1,
             "#c51b7d"
            ],
            [
             0.2,
             "#de77ae"
            ],
            [
             0.3,
             "#f1b6da"
            ],
            [
             0.4,
             "#fde0ef"
            ],
            [
             0.5,
             "#f7f7f7"
            ],
            [
             0.6,
             "#e6f5d0"
            ],
            [
             0.7,
             "#b8e186"
            ],
            [
             0.8,
             "#7fbc41"
            ],
            [
             0.9,
             "#4d9221"
            ],
            [
             1,
             "#276419"
            ]
           ],
           "sequential": [
            [
             0,
             "#0d0887"
            ],
            [
             0.1111111111111111,
             "#46039f"
            ],
            [
             0.2222222222222222,
             "#7201a8"
            ],
            [
             0.3333333333333333,
             "#9c179e"
            ],
            [
             0.4444444444444444,
             "#bd3786"
            ],
            [
             0.5555555555555556,
             "#d8576b"
            ],
            [
             0.6666666666666666,
             "#ed7953"
            ],
            [
             0.7777777777777778,
             "#fb9f3a"
            ],
            [
             0.8888888888888888,
             "#fdca26"
            ],
            [
             1,
             "#f0f921"
            ]
           ],
           "sequentialminus": [
            [
             0,
             "#0d0887"
            ],
            [
             0.1111111111111111,
             "#46039f"
            ],
            [
             0.2222222222222222,
             "#7201a8"
            ],
            [
             0.3333333333333333,
             "#9c179e"
            ],
            [
             0.4444444444444444,
             "#bd3786"
            ],
            [
             0.5555555555555556,
             "#d8576b"
            ],
            [
             0.6666666666666666,
             "#ed7953"
            ],
            [
             0.7777777777777778,
             "#fb9f3a"
            ],
            [
             0.8888888888888888,
             "#fdca26"
            ],
            [
             1,
             "#f0f921"
            ]
           ]
          },
          "colorway": [
           "#636efa",
           "#EF553B",
           "#00cc96",
           "#ab63fa",
           "#FFA15A",
           "#19d3f3",
           "#FF6692",
           "#B6E880",
           "#FF97FF",
           "#FECB52"
          ],
          "font": {
           "color": "#2a3f5f"
          },
          "geo": {
           "bgcolor": "white",
           "lakecolor": "white",
           "landcolor": "#E5ECF6",
           "showlakes": true,
           "showland": true,
           "subunitcolor": "white"
          },
          "hoverlabel": {
           "align": "left"
          },
          "hovermode": "closest",
          "mapbox": {
           "style": "light"
          },
          "paper_bgcolor": "white",
          "plot_bgcolor": "#E5ECF6",
          "polar": {
           "angularaxis": {
            "gridcolor": "white",
            "linecolor": "white",
            "ticks": ""
           },
           "bgcolor": "#E5ECF6",
           "radialaxis": {
            "gridcolor": "white",
            "linecolor": "white",
            "ticks": ""
           }
          },
          "scene": {
           "xaxis": {
            "backgroundcolor": "#E5ECF6",
            "gridcolor": "white",
            "gridwidth": 2,
            "linecolor": "white",
            "showbackground": true,
            "ticks": "",
            "zerolinecolor": "white"
           },
           "yaxis": {
            "backgroundcolor": "#E5ECF6",
            "gridcolor": "white",
            "gridwidth": 2,
            "linecolor": "white",
            "showbackground": true,
            "ticks": "",
            "zerolinecolor": "white"
           },
           "zaxis": {
            "backgroundcolor": "#E5ECF6",
            "gridcolor": "white",
            "gridwidth": 2,
            "linecolor": "white",
            "showbackground": true,
            "ticks": "",
            "zerolinecolor": "white"
           }
          },
          "shapedefaults": {
           "line": {
            "color": "#2a3f5f"
           }
          },
          "ternary": {
           "aaxis": {
            "gridcolor": "white",
            "linecolor": "white",
            "ticks": ""
           },
           "baxis": {
            "gridcolor": "white",
            "linecolor": "white",
            "ticks": ""
           },
           "bgcolor": "#E5ECF6",
           "caxis": {
            "gridcolor": "white",
            "linecolor": "white",
            "ticks": ""
           }
          },
          "title": {
           "x": 0.05
          },
          "xaxis": {
           "automargin": true,
           "gridcolor": "white",
           "linecolor": "white",
           "ticks": "",
           "title": {
            "standoff": 15
           },
           "zerolinecolor": "white",
           "zerolinewidth": 2
          },
          "yaxis": {
           "automargin": true,
           "gridcolor": "white",
           "linecolor": "white",
           "ticks": "",
           "title": {
            "standoff": 15
           },
           "zerolinecolor": "white",
           "zerolinewidth": 2
          }
         }
        },
        "title": {
         "text": "Average Score by Country and Discipline"
        },
        "xaxis": {
         "anchor": "y",
         "domain": [
          0,
          1
         ],
         "title": {
          "text": "Country"
         }
        },
        "yaxis": {
         "anchor": "x",
         "domain": [
          0,
          1
         ],
         "title": {
          "text": "Average Score"
         }
        }
       }
      }
     },
     "metadata": {},
     "output_type": "display_data"
    }
   ],
   "source": [
    "avg_scores = df_skaters.groupby(['noc', 'category'])['total_segment_score'].mean().reset_index()\n",
    "\n",
    "fig = px.bar(\n",
    "    avg_scores, \n",
    "    x=\"noc\", \n",
    "    y=\"total_segment_score\", \n",
    "    color=\"category\",\n",
    "    barmode=\"group\",\n",
    "    title=\"Average Score by Country and Discipline\",\n",
    "    labels={\n",
    "        'noc': 'Country',\n",
    "        'total_segment_score': 'Average Score',\n",
    "        'category': 'Discipline'\n",
    "    }\n",
    ")\n",
    "fig.show()"
   ]
  },
  {
   "cell_type": "code",
   "execution_count": 267,
   "metadata": {},
   "outputs": [
    {
     "data": {
      "application/vnd.plotly.v1+json": {
       "config": {
        "plotlyServerURL": "https://plot.ly"
       },
       "data": [
        {
         "customdata": [
          [
           "10"
          ],
          [
           "25"
          ],
          [
           "24"
          ],
          [
           "6"
          ],
          [
           "26"
          ],
          [
           "19"
          ],
          [
           "4"
          ],
          [
           "1"
          ],
          [
           "12"
          ],
          [
           "8"
          ],
          [
           "11"
          ],
          [
           "2"
          ],
          [
           "17"
          ],
          [
           "15"
          ],
          [
           "5"
          ],
          [
           "27"
          ],
          [
           "18"
          ],
          [
           "20"
          ],
          [
           "9"
          ],
          [
           "21"
          ],
          [
           "23"
          ],
          [
           "13"
          ],
          [
           "29"
          ],
          [
           "28"
          ],
          [
           "7"
          ],
          [
           "22"
          ],
          [
           "14"
          ],
          [
           "3"
          ],
          [
           "16"
          ]
         ],
         "hovertemplate": "<b>%{hovertext}</b><br><br>Average Element Base Value=%{x}<br>Average GOE=%{y}<br>skater=%{text}<br>rank=%{customdata[0]}<extra></extra>",
         "hovertext": [
          "AYMOZ Kevin_Single",
          "BREZINA Michal_Single",
          "BRITSCHGI Lukas_Single",
          "BROWN Jason_Single",
          "BYCHENKO Alexei_Single",
          "CARRILLO Donovan_Single",
          "CHA Junhwan_Single",
          "CHEN Nathan_Single",
          "GRASSL Daniel_Single",
          "HANYU Yuzuru_Single",
          "JIN Boyang_Single",
          "KAGIYAMA Yuma_Single",
          "KERRY Brendan_Single",
          "KONDRATIUK Mark_Single",
          "KVITELASHVILI Morisi_Single",
          "LEE Sihyeong_Single",
          "LITVINTSEV Vladimir_Single",
          "MAJOROV Nikolaj_Single",
          "MESSING Keegan_Single",
          "MILYUKOV Konstantin_Single",
          "MOZALEV Andrei_Single",
          "RIZZO Matteo_Single",
          "SADOVSKY Roman_Single",
          "SELEVKO Aleksandr_Single",
          "SEMENENKO Evgeni_Single",
          "SHMURATKO Ivan_Single",
          "SIAO HIM FA Adam_Single",
          "UNO Shoma_Single",
          "VASILJEVS Deniss_Single"
         ],
         "legendgroup": "",
         "marker": {
          "color": "#636efa",
          "symbol": "circle"
         },
         "mode": "markers+text",
         "name": "",
         "orientation": "v",
         "showlegend": false,
         "text": [
          "AYMOZ Kevin_Single",
          "BREZINA Michal_Single",
          "BRITSCHGI Lukas_Single",
          "BROWN Jason_Single",
          "BYCHENKO Alexei_Single",
          "CARRILLO Donovan_Single",
          "CHA Junhwan_Single",
          "CHEN Nathan_Single",
          "GRASSL Daniel_Single",
          "HANYU Yuzuru_Single",
          "JIN Boyang_Single",
          "KAGIYAMA Yuma_Single",
          "KERRY Brendan_Single",
          "KONDRATIUK Mark_Single",
          "KVITELASHVILI Morisi_Single",
          "LEE Sihyeong_Single",
          "LITVINTSEV Vladimir_Single",
          "MAJOROV Nikolaj_Single",
          "MESSING Keegan_Single",
          "MILYUKOV Konstantin_Single",
          "MOZALEV Andrei_Single",
          "RIZZO Matteo_Single",
          "SADOVSKY Roman_Single",
          "SELEVKO Aleksandr_Single",
          "SEMENENKO Evgeni_Single",
          "SHMURATKO Ivan_Single",
          "SIAO HIM FA Adam_Single",
          "UNO Shoma_Single",
          "VASILJEVS Deniss_Single"
         ],
         "textposition": "top center",
         "type": "scatter",
         "x": {
          "bdata": "t23btm3bFkCogzqogzoUQF5AbCoNORZAuB6F61G4FUDSkHOfXUAWQKfSkHOfXRdAOqiDOqiDGEBa3hjBRH8cQEmSJEmSJBlAD+qgDuqgFEAzMzMzMzMbQEEd1EEd1BlAAAAAAAAAGED5iq/4iq8YQKEO6qAO6hlAif5OVssbFEBmZmZmZmYXQLuA2FQachVAXkBsKg05FkDW8sYIJvoWQA/qoA7qoBRAfcVXfMVXFkDiK77iK74OQIM6qIM6qA9AvuIrvuIrGkDYVBpy7rMUQDaVhpz77BlAoQ7qoA7qGkDBRH8nq+UTQA==",
          "dtype": "f8"
         },
         "xaxis": "x",
         "y": {
          "bdata": "jhFM9Hey9j8FE/2drJbHP6uWN0Yw0b8/3WcXEJtK+z815NxnFxDrvysNOffZBdQ/6qAO6qAO+j/77AJiU2kCQMZXfMVXfOU/XY/C9Shc+z89WS1vjGDiP6vljRFM9AFAQGwqDTn34T+erJY3RjDRP1ktb4xgovc/KKvljRFM5L8oq+WNEUzsP030d7Ja3uA/gon+TlbL9z+yWt4YwUTPPwNPVssbI7g/GyOY6O9k8T+bSkPOfXbRv4DYVBpy7sM/RX8nq+WN9T++4iu+4ivmP5tKQ859dtE/B3VQB3VQ+z/hehSuR+HyPw==",
          "dtype": "f8"
         },
         "yaxis": "y"
        },
        {
         "hovertemplate": "<b>OLS trendline</b><br>goe = 0.513549 * base_value + -2.13827<br>R<sup>2</sup>=0.240011<br><br>Average Element Base Value=%{x}<br>Average GOE=%{y} <b>(trend)</b><extra></extra>",
         "legendgroup": "",
         "marker": {
          "color": "#636efa",
          "symbol": "circle"
         },
         "mode": "lines",
         "name": "",
         "showlegend": false,
         "textposition": "top center",
         "type": "scatter",
         "x": {
          "bdata": "4iu+4iu+DkCDOqiDOqgPQMFEfyer5RNAif5OVssbFECogzqogzoUQA/qoA7qoBRAD+qgDuqgFEDYVBpy7rMUQLuA2FQachVAuB6F61G4FUBeQGwqDTkWQF5AbCoNORZA0pBzn11AFkB9xVd8xVcWQLdt27Zt2xZA1vLGCCb6FkCn0pBzn10XQGZmZmZmZhdAAAAAAAAAGEA6qIM6qIMYQPmKr/iKrxhASZIkSZIkGUBBHdRBHdQZQKEO6qAO6hlANpWGnPvsGUC+4iu+4isaQKEO6qAO6hpAMzMzMzMzG0Ba3hjBRH8cQA==",
          "dtype": "f8"
         },
         "xaxis": "x",
         "y": {
          "bdata": "kIV4t4IXxb/gY1F7oSi7v2CuO58PpNo/4PBmx8xg3D940WMjOF3dPwhfVwBPU+A/CF9XAE9T4D/QNko7cKHgP8ykxoi8ruM/vDcMOzfP5D8kxYssGODmPyTFiywY4OY/cARz9CT+5j9wNYraTV7nP/SozOgze+k/PBnLlmn56T9oqa1oF5LrP8Rb9r4mtus/OI3uJDMt7j9cgJiZDCXwP0o+TvEyf/A/vDiIMJlv8T9qMF+PMtjyP2APOrtFBfM/cIKbSUgL8z9CrMo+f4zzPz7jiGUlE/U/xh8NTWWp9T86o0Fth1P4Pw==",
          "dtype": "f8"
         },
         "yaxis": "y"
        }
       ],
       "layout": {
        "height": 800,
        "legend": {
         "tracegroupgap": 0
        },
        "template": {
         "data": {
          "bar": [
           {
            "error_x": {
             "color": "#2a3f5f"
            },
            "error_y": {
             "color": "#2a3f5f"
            },
            "marker": {
             "line": {
              "color": "#E5ECF6",
              "width": 0.5
             },
             "pattern": {
              "fillmode": "overlay",
              "size": 10,
              "solidity": 0.2
             }
            },
            "type": "bar"
           }
          ],
          "barpolar": [
           {
            "marker": {
             "line": {
              "color": "#E5ECF6",
              "width": 0.5
             },
             "pattern": {
              "fillmode": "overlay",
              "size": 10,
              "solidity": 0.2
             }
            },
            "type": "barpolar"
           }
          ],
          "carpet": [
           {
            "aaxis": {
             "endlinecolor": "#2a3f5f",
             "gridcolor": "white",
             "linecolor": "white",
             "minorgridcolor": "white",
             "startlinecolor": "#2a3f5f"
            },
            "baxis": {
             "endlinecolor": "#2a3f5f",
             "gridcolor": "white",
             "linecolor": "white",
             "minorgridcolor": "white",
             "startlinecolor": "#2a3f5f"
            },
            "type": "carpet"
           }
          ],
          "choropleth": [
           {
            "colorbar": {
             "outlinewidth": 0,
             "ticks": ""
            },
            "type": "choropleth"
           }
          ],
          "contour": [
           {
            "colorbar": {
             "outlinewidth": 0,
             "ticks": ""
            },
            "colorscale": [
             [
              0,
              "#0d0887"
             ],
             [
              0.1111111111111111,
              "#46039f"
             ],
             [
              0.2222222222222222,
              "#7201a8"
             ],
             [
              0.3333333333333333,
              "#9c179e"
             ],
             [
              0.4444444444444444,
              "#bd3786"
             ],
             [
              0.5555555555555556,
              "#d8576b"
             ],
             [
              0.6666666666666666,
              "#ed7953"
             ],
             [
              0.7777777777777778,
              "#fb9f3a"
             ],
             [
              0.8888888888888888,
              "#fdca26"
             ],
             [
              1,
              "#f0f921"
             ]
            ],
            "type": "contour"
           }
          ],
          "contourcarpet": [
           {
            "colorbar": {
             "outlinewidth": 0,
             "ticks": ""
            },
            "type": "contourcarpet"
           }
          ],
          "heatmap": [
           {
            "colorbar": {
             "outlinewidth": 0,
             "ticks": ""
            },
            "colorscale": [
             [
              0,
              "#0d0887"
             ],
             [
              0.1111111111111111,
              "#46039f"
             ],
             [
              0.2222222222222222,
              "#7201a8"
             ],
             [
              0.3333333333333333,
              "#9c179e"
             ],
             [
              0.4444444444444444,
              "#bd3786"
             ],
             [
              0.5555555555555556,
              "#d8576b"
             ],
             [
              0.6666666666666666,
              "#ed7953"
             ],
             [
              0.7777777777777778,
              "#fb9f3a"
             ],
             [
              0.8888888888888888,
              "#fdca26"
             ],
             [
              1,
              "#f0f921"
             ]
            ],
            "type": "heatmap"
           }
          ],
          "histogram": [
           {
            "marker": {
             "pattern": {
              "fillmode": "overlay",
              "size": 10,
              "solidity": 0.2
             }
            },
            "type": "histogram"
           }
          ],
          "histogram2d": [
           {
            "colorbar": {
             "outlinewidth": 0,
             "ticks": ""
            },
            "colorscale": [
             [
              0,
              "#0d0887"
             ],
             [
              0.1111111111111111,
              "#46039f"
             ],
             [
              0.2222222222222222,
              "#7201a8"
             ],
             [
              0.3333333333333333,
              "#9c179e"
             ],
             [
              0.4444444444444444,
              "#bd3786"
             ],
             [
              0.5555555555555556,
              "#d8576b"
             ],
             [
              0.6666666666666666,
              "#ed7953"
             ],
             [
              0.7777777777777778,
              "#fb9f3a"
             ],
             [
              0.8888888888888888,
              "#fdca26"
             ],
             [
              1,
              "#f0f921"
             ]
            ],
            "type": "histogram2d"
           }
          ],
          "histogram2dcontour": [
           {
            "colorbar": {
             "outlinewidth": 0,
             "ticks": ""
            },
            "colorscale": [
             [
              0,
              "#0d0887"
             ],
             [
              0.1111111111111111,
              "#46039f"
             ],
             [
              0.2222222222222222,
              "#7201a8"
             ],
             [
              0.3333333333333333,
              "#9c179e"
             ],
             [
              0.4444444444444444,
              "#bd3786"
             ],
             [
              0.5555555555555556,
              "#d8576b"
             ],
             [
              0.6666666666666666,
              "#ed7953"
             ],
             [
              0.7777777777777778,
              "#fb9f3a"
             ],
             [
              0.8888888888888888,
              "#fdca26"
             ],
             [
              1,
              "#f0f921"
             ]
            ],
            "type": "histogram2dcontour"
           }
          ],
          "mesh3d": [
           {
            "colorbar": {
             "outlinewidth": 0,
             "ticks": ""
            },
            "type": "mesh3d"
           }
          ],
          "parcoords": [
           {
            "line": {
             "colorbar": {
              "outlinewidth": 0,
              "ticks": ""
             }
            },
            "type": "parcoords"
           }
          ],
          "pie": [
           {
            "automargin": true,
            "type": "pie"
           }
          ],
          "scatter": [
           {
            "fillpattern": {
             "fillmode": "overlay",
             "size": 10,
             "solidity": 0.2
            },
            "type": "scatter"
           }
          ],
          "scatter3d": [
           {
            "line": {
             "colorbar": {
              "outlinewidth": 0,
              "ticks": ""
             }
            },
            "marker": {
             "colorbar": {
              "outlinewidth": 0,
              "ticks": ""
             }
            },
            "type": "scatter3d"
           }
          ],
          "scattercarpet": [
           {
            "marker": {
             "colorbar": {
              "outlinewidth": 0,
              "ticks": ""
             }
            },
            "type": "scattercarpet"
           }
          ],
          "scattergeo": [
           {
            "marker": {
             "colorbar": {
              "outlinewidth": 0,
              "ticks": ""
             }
            },
            "type": "scattergeo"
           }
          ],
          "scattergl": [
           {
            "marker": {
             "colorbar": {
              "outlinewidth": 0,
              "ticks": ""
             }
            },
            "type": "scattergl"
           }
          ],
          "scattermap": [
           {
            "marker": {
             "colorbar": {
              "outlinewidth": 0,
              "ticks": ""
             }
            },
            "type": "scattermap"
           }
          ],
          "scattermapbox": [
           {
            "marker": {
             "colorbar": {
              "outlinewidth": 0,
              "ticks": ""
             }
            },
            "type": "scattermapbox"
           }
          ],
          "scatterpolar": [
           {
            "marker": {
             "colorbar": {
              "outlinewidth": 0,
              "ticks": ""
             }
            },
            "type": "scatterpolar"
           }
          ],
          "scatterpolargl": [
           {
            "marker": {
             "colorbar": {
              "outlinewidth": 0,
              "ticks": ""
             }
            },
            "type": "scatterpolargl"
           }
          ],
          "scatterternary": [
           {
            "marker": {
             "colorbar": {
              "outlinewidth": 0,
              "ticks": ""
             }
            },
            "type": "scatterternary"
           }
          ],
          "surface": [
           {
            "colorbar": {
             "outlinewidth": 0,
             "ticks": ""
            },
            "colorscale": [
             [
              0,
              "#0d0887"
             ],
             [
              0.1111111111111111,
              "#46039f"
             ],
             [
              0.2222222222222222,
              "#7201a8"
             ],
             [
              0.3333333333333333,
              "#9c179e"
             ],
             [
              0.4444444444444444,
              "#bd3786"
             ],
             [
              0.5555555555555556,
              "#d8576b"
             ],
             [
              0.6666666666666666,
              "#ed7953"
             ],
             [
              0.7777777777777778,
              "#fb9f3a"
             ],
             [
              0.8888888888888888,
              "#fdca26"
             ],
             [
              1,
              "#f0f921"
             ]
            ],
            "type": "surface"
           }
          ],
          "table": [
           {
            "cells": {
             "fill": {
              "color": "#EBF0F8"
             },
             "line": {
              "color": "white"
             }
            },
            "header": {
             "fill": {
              "color": "#C8D4E3"
             },
             "line": {
              "color": "white"
             }
            },
            "type": "table"
           }
          ]
         },
         "layout": {
          "annotationdefaults": {
           "arrowcolor": "#2a3f5f",
           "arrowhead": 0,
           "arrowwidth": 1
          },
          "autotypenumbers": "strict",
          "coloraxis": {
           "colorbar": {
            "outlinewidth": 0,
            "ticks": ""
           }
          },
          "colorscale": {
           "diverging": [
            [
             0,
             "#8e0152"
            ],
            [
             0.1,
             "#c51b7d"
            ],
            [
             0.2,
             "#de77ae"
            ],
            [
             0.3,
             "#f1b6da"
            ],
            [
             0.4,
             "#fde0ef"
            ],
            [
             0.5,
             "#f7f7f7"
            ],
            [
             0.6,
             "#e6f5d0"
            ],
            [
             0.7,
             "#b8e186"
            ],
            [
             0.8,
             "#7fbc41"
            ],
            [
             0.9,
             "#4d9221"
            ],
            [
             1,
             "#276419"
            ]
           ],
           "sequential": [
            [
             0,
             "#0d0887"
            ],
            [
             0.1111111111111111,
             "#46039f"
            ],
            [
             0.2222222222222222,
             "#7201a8"
            ],
            [
             0.3333333333333333,
             "#9c179e"
            ],
            [
             0.4444444444444444,
             "#bd3786"
            ],
            [
             0.5555555555555556,
             "#d8576b"
            ],
            [
             0.6666666666666666,
             "#ed7953"
            ],
            [
             0.7777777777777778,
             "#fb9f3a"
            ],
            [
             0.8888888888888888,
             "#fdca26"
            ],
            [
             1,
             "#f0f921"
            ]
           ],
           "sequentialminus": [
            [
             0,
             "#0d0887"
            ],
            [
             0.1111111111111111,
             "#46039f"
            ],
            [
             0.2222222222222222,
             "#7201a8"
            ],
            [
             0.3333333333333333,
             "#9c179e"
            ],
            [
             0.4444444444444444,
             "#bd3786"
            ],
            [
             0.5555555555555556,
             "#d8576b"
            ],
            [
             0.6666666666666666,
             "#ed7953"
            ],
            [
             0.7777777777777778,
             "#fb9f3a"
            ],
            [
             0.8888888888888888,
             "#fdca26"
            ],
            [
             1,
             "#f0f921"
            ]
           ]
          },
          "colorway": [
           "#636efa",
           "#EF553B",
           "#00cc96",
           "#ab63fa",
           "#FFA15A",
           "#19d3f3",
           "#FF6692",
           "#B6E880",
           "#FF97FF",
           "#FECB52"
          ],
          "font": {
           "color": "#2a3f5f"
          },
          "geo": {
           "bgcolor": "white",
           "lakecolor": "white",
           "landcolor": "#E5ECF6",
           "showlakes": true,
           "showland": true,
           "subunitcolor": "white"
          },
          "hoverlabel": {
           "align": "left"
          },
          "hovermode": "closest",
          "mapbox": {
           "style": "light"
          },
          "paper_bgcolor": "white",
          "plot_bgcolor": "#E5ECF6",
          "polar": {
           "angularaxis": {
            "gridcolor": "white",
            "linecolor": "white",
            "ticks": ""
           },
           "bgcolor": "#E5ECF6",
           "radialaxis": {
            "gridcolor": "white",
            "linecolor": "white",
            "ticks": ""
           }
          },
          "scene": {
           "xaxis": {
            "backgroundcolor": "#E5ECF6",
            "gridcolor": "white",
            "gridwidth": 2,
            "linecolor": "white",
            "showbackground": true,
            "ticks": "",
            "zerolinecolor": "white"
           },
           "yaxis": {
            "backgroundcolor": "#E5ECF6",
            "gridcolor": "white",
            "gridwidth": 2,
            "linecolor": "white",
            "showbackground": true,
            "ticks": "",
            "zerolinecolor": "white"
           },
           "zaxis": {
            "backgroundcolor": "#E5ECF6",
            "gridcolor": "white",
            "gridwidth": 2,
            "linecolor": "white",
            "showbackground": true,
            "ticks": "",
            "zerolinecolor": "white"
           }
          },
          "shapedefaults": {
           "line": {
            "color": "#2a3f5f"
           }
          },
          "ternary": {
           "aaxis": {
            "gridcolor": "white",
            "linecolor": "white",
            "ticks": ""
           },
           "baxis": {
            "gridcolor": "white",
            "linecolor": "white",
            "ticks": ""
           },
           "bgcolor": "#E5ECF6",
           "caxis": {
            "gridcolor": "white",
            "linecolor": "white",
            "ticks": ""
           }
          },
          "title": {
           "x": 0.05
          },
          "xaxis": {
           "automargin": true,
           "gridcolor": "white",
           "linecolor": "white",
           "ticks": "",
           "title": {
            "standoff": 15
           },
           "zerolinecolor": "white",
           "zerolinewidth": 2
          },
          "yaxis": {
           "automargin": true,
           "gridcolor": "white",
           "linecolor": "white",
           "ticks": "",
           "title": {
            "standoff": 15
           },
           "zerolinecolor": "white",
           "zerolinewidth": 2
          }
         }
        },
        "title": {
         "text": "Element Difficulty vs Execution Quality (Men Single Skating - Short Program)"
        },
        "width": 2000,
        "xaxis": {
         "anchor": "y",
         "domain": [
          0,
          1
         ],
         "title": {
          "text": "Average Element Base Value"
         }
        },
        "yaxis": {
         "anchor": "x",
         "domain": [
          0,
          1
         ],
         "title": {
          "text": "Average GOE"
         }
        }
       }
      }
     },
     "metadata": {},
     "output_type": "display_data"
    }
   ],
   "source": [
    "df_elements['category'] = df_elements['skater_id'].apply(lambda x: x.split('_')[-1])\n",
    "df_elements['segment'] = df_elements['skater_id'].apply(lambda x: x.split('_')[-2])\n",
    "\n",
    "df_men_short = df_elements[\n",
    "    (df_elements['category'] == 'Men Single Skating') &\n",
    "    (df_elements['segment'] == 'Short Program')\n",
    "].copy()\n",
    "\n",
    "df_men_short['skater'] = df_men_short['skater_id'].apply(lambda x: '_'.join(x.split('_')[1:3]))\n",
    "df_men_short['rank'] = df_men_short['skater_id'].apply(lambda x: x.split('_')[0])\n",
    "\n",
    "df_grouped = df_men_short.groupby(['skater', 'rank']).agg({\n",
    "    'base_value': 'mean',\n",
    "    'goe': 'mean'\n",
    "}).reset_index()\n",
    "\n",
    "df_grouped['hover_label'] = df_grouped['skater'] + '<br>Rank: ' + df_grouped['rank']\n",
    "\n",
    "fig = px.scatter(df_grouped,\n",
    "                 x='base_value',\n",
    "                 y='goe',\n",
    "                 text='skater',\n",
    "                 hover_name='skater',\n",
    "                 hover_data={'rank': True, 'base_value': True, 'goe': True},\n",
    "                 title='Element Difficulty vs Execution Quality (Men Single Skating - Short Program)',\n",
    "                 labels={\n",
    "                     'base_value': 'Average Element Base Value',\n",
    "                     'goe': 'Average GOE'\n",
    "                 },\n",
    "                 trendline='ols')\n",
    "\n",
    "fig.update_traces(textposition='top center')\n",
    "fig.update_layout(height=800, width=2000)\n",
    "fig.show()"
   ]
  },
  {
   "cell_type": "code",
   "execution_count": 268,
   "metadata": {},
   "outputs": [
    {
     "data": {
      "application/vnd.plotly.v1+json": {
       "config": {
        "plotlyServerURL": "https://plot.ly"
       },
       "data": [
        {
         "customdata": [
          [
           "15"
          ],
          [
           "23"
          ],
          [
           "6"
          ],
          [
           "22"
          ],
          [
           "7"
          ],
          [
           "1"
          ],
          [
           "4"
          ],
          [
           "3"
          ],
          [
           "8"
          ],
          [
           "2"
          ],
          [
           "16"
          ],
          [
           "14"
          ],
          [
           "11"
          ],
          [
           "19"
          ],
          [
           "21"
          ],
          [
           "10"
          ],
          [
           "20"
          ],
          [
           "18"
          ],
          [
           "17"
          ],
          [
           "9"
          ],
          [
           "24"
          ],
          [
           "13"
          ],
          [
           "5"
          ],
          [
           "12"
          ]
         ],
         "hovertemplate": "<b>%{hovertext}</b><br><br>Average Element Base Value=%{x}<br>Average GOE=%{y}<br>skater=%{text}<br>rank=%{customdata[0]}<extra></extra>",
         "hovertext": [
          "AYMOZ Kevin_Single",
          "BRITSCHGI Lukas_Single",
          "BROWN Jason_Single",
          "CARRILLO Donovan_Single",
          "CHA Junhwan_Single",
          "CHEN Nathan_Single",
          "GRASSL Daniel_Single",
          "HANYU Yuzuru_Single",
          "JIN Boyang_Single",
          "KAGIYAMA Yuma_Single",
          "KERRY Brendan_Single",
          "KONDRATIUK Mark_Single",
          "KVITELASHVILI Morisi_Single",
          "LITVINTSEV Vladimir_Single",
          "MAJOROV Nikolaj_Single",
          "MESSING Keegan_Single",
          "MILYUKOV Konstantin_Single",
          "MOZALEV Andrei_Single",
          "RIZZO Matteo_Single",
          "SEMENENKO Evgeni_Single",
          "SHMURATKO Ivan_Single",
          "SIAO HIM FA Adam_Single",
          "UNO Shoma_Single",
          "VASILJEVS Deniss_Single"
         ],
         "legendgroup": "",
         "marker": {
          "color": "#636efa",
          "symbol": "circle"
         },
         "mode": "markers+text",
         "name": "",
         "orientation": "v",
         "showlegend": false,
         "text": [
          "AYMOZ Kevin_Single",
          "BRITSCHGI Lukas_Single",
          "BROWN Jason_Single",
          "CARRILLO Donovan_Single",
          "CHA Junhwan_Single",
          "CHEN Nathan_Single",
          "GRASSL Daniel_Single",
          "HANYU Yuzuru_Single",
          "JIN Boyang_Single",
          "KAGIYAMA Yuma_Single",
          "KERRY Brendan_Single",
          "KONDRATIUK Mark_Single",
          "KVITELASHVILI Morisi_Single",
          "LITVINTSEV Vladimir_Single",
          "MAJOROV Nikolaj_Single",
          "MESSING Keegan_Single",
          "MILYUKOV Konstantin_Single",
          "MOZALEV Andrei_Single",
          "RIZZO Matteo_Single",
          "SEMENENKO Evgeni_Single",
          "SHMURATKO Ivan_Single",
          "SIAO HIM FA Adam_Single",
          "UNO Shoma_Single",
          "VASILJEVS Deniss_Single"
         ],
         "textposition": "top center",
         "type": "scatter",
         "x": {
          "bdata": "AAAAAAAAF0C8u7u7u3sVQCMiIiIiYhZAuB6F61H4F0AjIiIiIqIaQPOLJb9Ych9AseQXS37xHUA7baDTBvodQKuqqqqq6htAMzMzMzNzHUAHOm2g00YYQBvotIFOWxlAuB6F61E4GkBtoNMGOu0ZQG2g0wY67RRA84slv1hyF0CF61G4HsUWQBhLfrHkFxtAl/xiyS/WFkBgLPnFkh8cQOUXS36xJBVAMJb8YskvGkDD9Shcj4IdQHA9CtejMBlA",
          "dtype": "f8"
         },
         "xaxis": "x",
         "y": {
          "bdata": "RURERERE5D8N16NwPQqXP1jyiyW/WPs/iYiIiIiI3L9Bpw102kDyP4wlv1jyCwJABzptoNMG8j/Xo3A9CtfpP/nFkl8s+fE/MJb8Yskv+j97FK5H4XrsP8T1KFyPwtU/XI/C9Shc4z/JL5b8YsnPP7WBThvotNk/Y8kvlvxi8j830GkDnTbQPzIzMzMzM8O/baDTBjpt5j/Xo3A9CtfrP7HkF0t+seC/seQXS36x0D+PwvUoXI/kP3sUrkfheug/",
          "dtype": "f8"
         },
         "yaxis": "y"
        },
        {
         "hovertemplate": "<b>OLS trendline</b><br>goe = 0.429039 * base_value + -2.06343<br>R<sup>2</sup>=0.252548<br><br>Average Element Base Value=%{x}<br>Average GOE=%{y} <b>(trend)</b><extra></extra>",
         "legendgroup": "",
         "marker": {
          "color": "#636efa",
          "symbol": "circle"
         },
         "mode": "lines",
         "name": "",
         "showlegend": false,
         "textposition": "top center",
         "type": "scatter",
         "x": {
          "bdata": "baDTBjrtFEDlF0t+sSQVQLy7u7u7exVAIyIiIiJiFkCF61G4HsUWQJf8Yskv1hZAAAAAAAAAF0DziyW/WHIXQLgehetR+BdABzptoNNGGEBwPQrXozAZQBvotIFOWxlAbaDTBjrtGUAwlvxiyS8aQLgehetROBpAIyIiIiKiGkAYS36x5BcbQKuqqqqq6htAYCz5xZIfHEAzMzMzM3MdQMP1KFyPgh1AseQXS37xHUA7baDTBvodQPOLJb9Ych9A",
          "dtype": "f8"
         },
         "xaxis": "x",
         "y": {
          "bdata": "QF2mUkkwxz8wp4lSzSnKP6D/wrjL1M4/SN4l3AGY1T9Y2aV1gz/YP5BuoXWrtNg/iAL927PT2T+40EVCpuTcP6Qrq7opPuA/dJw6VJ9L4T/IjU+HJG7kP1AISoeWAOU/CPMDVG715j9ovGG64tnnP7ShYLos9+c/gCOG7Vti6T+0TN1TjPbqP7yfW+38ye0/oGDuhpR/7j/gaZR2pIbxP6aexqkAofE/IHG/qWFf8j/K476pBm7yP8LwDJDZ8/Q/",
          "dtype": "f8"
         },
         "yaxis": "y"
        }
       ],
       "layout": {
        "height": 800,
        "legend": {
         "tracegroupgap": 0
        },
        "template": {
         "data": {
          "bar": [
           {
            "error_x": {
             "color": "#2a3f5f"
            },
            "error_y": {
             "color": "#2a3f5f"
            },
            "marker": {
             "line": {
              "color": "#E5ECF6",
              "width": 0.5
             },
             "pattern": {
              "fillmode": "overlay",
              "size": 10,
              "solidity": 0.2
             }
            },
            "type": "bar"
           }
          ],
          "barpolar": [
           {
            "marker": {
             "line": {
              "color": "#E5ECF6",
              "width": 0.5
             },
             "pattern": {
              "fillmode": "overlay",
              "size": 10,
              "solidity": 0.2
             }
            },
            "type": "barpolar"
           }
          ],
          "carpet": [
           {
            "aaxis": {
             "endlinecolor": "#2a3f5f",
             "gridcolor": "white",
             "linecolor": "white",
             "minorgridcolor": "white",
             "startlinecolor": "#2a3f5f"
            },
            "baxis": {
             "endlinecolor": "#2a3f5f",
             "gridcolor": "white",
             "linecolor": "white",
             "minorgridcolor": "white",
             "startlinecolor": "#2a3f5f"
            },
            "type": "carpet"
           }
          ],
          "choropleth": [
           {
            "colorbar": {
             "outlinewidth": 0,
             "ticks": ""
            },
            "type": "choropleth"
           }
          ],
          "contour": [
           {
            "colorbar": {
             "outlinewidth": 0,
             "ticks": ""
            },
            "colorscale": [
             [
              0,
              "#0d0887"
             ],
             [
              0.1111111111111111,
              "#46039f"
             ],
             [
              0.2222222222222222,
              "#7201a8"
             ],
             [
              0.3333333333333333,
              "#9c179e"
             ],
             [
              0.4444444444444444,
              "#bd3786"
             ],
             [
              0.5555555555555556,
              "#d8576b"
             ],
             [
              0.6666666666666666,
              "#ed7953"
             ],
             [
              0.7777777777777778,
              "#fb9f3a"
             ],
             [
              0.8888888888888888,
              "#fdca26"
             ],
             [
              1,
              "#f0f921"
             ]
            ],
            "type": "contour"
           }
          ],
          "contourcarpet": [
           {
            "colorbar": {
             "outlinewidth": 0,
             "ticks": ""
            },
            "type": "contourcarpet"
           }
          ],
          "heatmap": [
           {
            "colorbar": {
             "outlinewidth": 0,
             "ticks": ""
            },
            "colorscale": [
             [
              0,
              "#0d0887"
             ],
             [
              0.1111111111111111,
              "#46039f"
             ],
             [
              0.2222222222222222,
              "#7201a8"
             ],
             [
              0.3333333333333333,
              "#9c179e"
             ],
             [
              0.4444444444444444,
              "#bd3786"
             ],
             [
              0.5555555555555556,
              "#d8576b"
             ],
             [
              0.6666666666666666,
              "#ed7953"
             ],
             [
              0.7777777777777778,
              "#fb9f3a"
             ],
             [
              0.8888888888888888,
              "#fdca26"
             ],
             [
              1,
              "#f0f921"
             ]
            ],
            "type": "heatmap"
           }
          ],
          "histogram": [
           {
            "marker": {
             "pattern": {
              "fillmode": "overlay",
              "size": 10,
              "solidity": 0.2
             }
            },
            "type": "histogram"
           }
          ],
          "histogram2d": [
           {
            "colorbar": {
             "outlinewidth": 0,
             "ticks": ""
            },
            "colorscale": [
             [
              0,
              "#0d0887"
             ],
             [
              0.1111111111111111,
              "#46039f"
             ],
             [
              0.2222222222222222,
              "#7201a8"
             ],
             [
              0.3333333333333333,
              "#9c179e"
             ],
             [
              0.4444444444444444,
              "#bd3786"
             ],
             [
              0.5555555555555556,
              "#d8576b"
             ],
             [
              0.6666666666666666,
              "#ed7953"
             ],
             [
              0.7777777777777778,
              "#fb9f3a"
             ],
             [
              0.8888888888888888,
              "#fdca26"
             ],
             [
              1,
              "#f0f921"
             ]
            ],
            "type": "histogram2d"
           }
          ],
          "histogram2dcontour": [
           {
            "colorbar": {
             "outlinewidth": 0,
             "ticks": ""
            },
            "colorscale": [
             [
              0,
              "#0d0887"
             ],
             [
              0.1111111111111111,
              "#46039f"
             ],
             [
              0.2222222222222222,
              "#7201a8"
             ],
             [
              0.3333333333333333,
              "#9c179e"
             ],
             [
              0.4444444444444444,
              "#bd3786"
             ],
             [
              0.5555555555555556,
              "#d8576b"
             ],
             [
              0.6666666666666666,
              "#ed7953"
             ],
             [
              0.7777777777777778,
              "#fb9f3a"
             ],
             [
              0.8888888888888888,
              "#fdca26"
             ],
             [
              1,
              "#f0f921"
             ]
            ],
            "type": "histogram2dcontour"
           }
          ],
          "mesh3d": [
           {
            "colorbar": {
             "outlinewidth": 0,
             "ticks": ""
            },
            "type": "mesh3d"
           }
          ],
          "parcoords": [
           {
            "line": {
             "colorbar": {
              "outlinewidth": 0,
              "ticks": ""
             }
            },
            "type": "parcoords"
           }
          ],
          "pie": [
           {
            "automargin": true,
            "type": "pie"
           }
          ],
          "scatter": [
           {
            "fillpattern": {
             "fillmode": "overlay",
             "size": 10,
             "solidity": 0.2
            },
            "type": "scatter"
           }
          ],
          "scatter3d": [
           {
            "line": {
             "colorbar": {
              "outlinewidth": 0,
              "ticks": ""
             }
            },
            "marker": {
             "colorbar": {
              "outlinewidth": 0,
              "ticks": ""
             }
            },
            "type": "scatter3d"
           }
          ],
          "scattercarpet": [
           {
            "marker": {
             "colorbar": {
              "outlinewidth": 0,
              "ticks": ""
             }
            },
            "type": "scattercarpet"
           }
          ],
          "scattergeo": [
           {
            "marker": {
             "colorbar": {
              "outlinewidth": 0,
              "ticks": ""
             }
            },
            "type": "scattergeo"
           }
          ],
          "scattergl": [
           {
            "marker": {
             "colorbar": {
              "outlinewidth": 0,
              "ticks": ""
             }
            },
            "type": "scattergl"
           }
          ],
          "scattermap": [
           {
            "marker": {
             "colorbar": {
              "outlinewidth": 0,
              "ticks": ""
             }
            },
            "type": "scattermap"
           }
          ],
          "scattermapbox": [
           {
            "marker": {
             "colorbar": {
              "outlinewidth": 0,
              "ticks": ""
             }
            },
            "type": "scattermapbox"
           }
          ],
          "scatterpolar": [
           {
            "marker": {
             "colorbar": {
              "outlinewidth": 0,
              "ticks": ""
             }
            },
            "type": "scatterpolar"
           }
          ],
          "scatterpolargl": [
           {
            "marker": {
             "colorbar": {
              "outlinewidth": 0,
              "ticks": ""
             }
            },
            "type": "scatterpolargl"
           }
          ],
          "scatterternary": [
           {
            "marker": {
             "colorbar": {
              "outlinewidth": 0,
              "ticks": ""
             }
            },
            "type": "scatterternary"
           }
          ],
          "surface": [
           {
            "colorbar": {
             "outlinewidth": 0,
             "ticks": ""
            },
            "colorscale": [
             [
              0,
              "#0d0887"
             ],
             [
              0.1111111111111111,
              "#46039f"
             ],
             [
              0.2222222222222222,
              "#7201a8"
             ],
             [
              0.3333333333333333,
              "#9c179e"
             ],
             [
              0.4444444444444444,
              "#bd3786"
             ],
             [
              0.5555555555555556,
              "#d8576b"
             ],
             [
              0.6666666666666666,
              "#ed7953"
             ],
             [
              0.7777777777777778,
              "#fb9f3a"
             ],
             [
              0.8888888888888888,
              "#fdca26"
             ],
             [
              1,
              "#f0f921"
             ]
            ],
            "type": "surface"
           }
          ],
          "table": [
           {
            "cells": {
             "fill": {
              "color": "#EBF0F8"
             },
             "line": {
              "color": "white"
             }
            },
            "header": {
             "fill": {
              "color": "#C8D4E3"
             },
             "line": {
              "color": "white"
             }
            },
            "type": "table"
           }
          ]
         },
         "layout": {
          "annotationdefaults": {
           "arrowcolor": "#2a3f5f",
           "arrowhead": 0,
           "arrowwidth": 1
          },
          "autotypenumbers": "strict",
          "coloraxis": {
           "colorbar": {
            "outlinewidth": 0,
            "ticks": ""
           }
          },
          "colorscale": {
           "diverging": [
            [
             0,
             "#8e0152"
            ],
            [
             0.1,
             "#c51b7d"
            ],
            [
             0.2,
             "#de77ae"
            ],
            [
             0.3,
             "#f1b6da"
            ],
            [
             0.4,
             "#fde0ef"
            ],
            [
             0.5,
             "#f7f7f7"
            ],
            [
             0.6,
             "#e6f5d0"
            ],
            [
             0.7,
             "#b8e186"
            ],
            [
             0.8,
             "#7fbc41"
            ],
            [
             0.9,
             "#4d9221"
            ],
            [
             1,
             "#276419"
            ]
           ],
           "sequential": [
            [
             0,
             "#0d0887"
            ],
            [
             0.1111111111111111,
             "#46039f"
            ],
            [
             0.2222222222222222,
             "#7201a8"
            ],
            [
             0.3333333333333333,
             "#9c179e"
            ],
            [
             0.4444444444444444,
             "#bd3786"
            ],
            [
             0.5555555555555556,
             "#d8576b"
            ],
            [
             0.6666666666666666,
             "#ed7953"
            ],
            [
             0.7777777777777778,
             "#fb9f3a"
            ],
            [
             0.8888888888888888,
             "#fdca26"
            ],
            [
             1,
             "#f0f921"
            ]
           ],
           "sequentialminus": [
            [
             0,
             "#0d0887"
            ],
            [
             0.1111111111111111,
             "#46039f"
            ],
            [
             0.2222222222222222,
             "#7201a8"
            ],
            [
             0.3333333333333333,
             "#9c179e"
            ],
            [
             0.4444444444444444,
             "#bd3786"
            ],
            [
             0.5555555555555556,
             "#d8576b"
            ],
            [
             0.6666666666666666,
             "#ed7953"
            ],
            [
             0.7777777777777778,
             "#fb9f3a"
            ],
            [
             0.8888888888888888,
             "#fdca26"
            ],
            [
             1,
             "#f0f921"
            ]
           ]
          },
          "colorway": [
           "#636efa",
           "#EF553B",
           "#00cc96",
           "#ab63fa",
           "#FFA15A",
           "#19d3f3",
           "#FF6692",
           "#B6E880",
           "#FF97FF",
           "#FECB52"
          ],
          "font": {
           "color": "#2a3f5f"
          },
          "geo": {
           "bgcolor": "white",
           "lakecolor": "white",
           "landcolor": "#E5ECF6",
           "showlakes": true,
           "showland": true,
           "subunitcolor": "white"
          },
          "hoverlabel": {
           "align": "left"
          },
          "hovermode": "closest",
          "mapbox": {
           "style": "light"
          },
          "paper_bgcolor": "white",
          "plot_bgcolor": "#E5ECF6",
          "polar": {
           "angularaxis": {
            "gridcolor": "white",
            "linecolor": "white",
            "ticks": ""
           },
           "bgcolor": "#E5ECF6",
           "radialaxis": {
            "gridcolor": "white",
            "linecolor": "white",
            "ticks": ""
           }
          },
          "scene": {
           "xaxis": {
            "backgroundcolor": "#E5ECF6",
            "gridcolor": "white",
            "gridwidth": 2,
            "linecolor": "white",
            "showbackground": true,
            "ticks": "",
            "zerolinecolor": "white"
           },
           "yaxis": {
            "backgroundcolor": "#E5ECF6",
            "gridcolor": "white",
            "gridwidth": 2,
            "linecolor": "white",
            "showbackground": true,
            "ticks": "",
            "zerolinecolor": "white"
           },
           "zaxis": {
            "backgroundcolor": "#E5ECF6",
            "gridcolor": "white",
            "gridwidth": 2,
            "linecolor": "white",
            "showbackground": true,
            "ticks": "",
            "zerolinecolor": "white"
           }
          },
          "shapedefaults": {
           "line": {
            "color": "#2a3f5f"
           }
          },
          "ternary": {
           "aaxis": {
            "gridcolor": "white",
            "linecolor": "white",
            "ticks": ""
           },
           "baxis": {
            "gridcolor": "white",
            "linecolor": "white",
            "ticks": ""
           },
           "bgcolor": "#E5ECF6",
           "caxis": {
            "gridcolor": "white",
            "linecolor": "white",
            "ticks": ""
           }
          },
          "title": {
           "x": 0.05
          },
          "xaxis": {
           "automargin": true,
           "gridcolor": "white",
           "linecolor": "white",
           "ticks": "",
           "title": {
            "standoff": 15
           },
           "zerolinecolor": "white",
           "zerolinewidth": 2
          },
          "yaxis": {
           "automargin": true,
           "gridcolor": "white",
           "linecolor": "white",
           "ticks": "",
           "title": {
            "standoff": 15
           },
           "zerolinecolor": "white",
           "zerolinewidth": 2
          }
         }
        },
        "title": {
         "text": "Element Difficulty vs Execution Quality (Men Single Skating - Free Skating)"
        },
        "width": 2000,
        "xaxis": {
         "anchor": "y",
         "domain": [
          0,
          1
         ],
         "title": {
          "text": "Average Element Base Value"
         }
        },
        "yaxis": {
         "anchor": "x",
         "domain": [
          0,
          1
         ],
         "title": {
          "text": "Average GOE"
         }
        }
       }
      }
     },
     "metadata": {},
     "output_type": "display_data"
    }
   ],
   "source": [
    "df_elements['category'] = df_elements['skater_id'].apply(lambda x: x.split('_')[-1])\n",
    "df_elements['segment'] = df_elements['skater_id'].apply(lambda x: x.split('_')[-2])\n",
    "\n",
    "df_men_short = df_elements[\n",
    "    (df_elements['category'] == 'Men Single Skating') &\n",
    "    (df_elements['segment'] == 'Free Skating')\n",
    "].copy()\n",
    "\n",
    "df_men_short['skater'] = df_men_short['skater_id'].apply(lambda x: '_'.join(x.split('_')[1:3]))\n",
    "df_men_short['rank'] = df_men_short['skater_id'].apply(lambda x: x.split('_')[0])\n",
    "\n",
    "df_grouped = df_men_short.groupby(['skater', 'rank']).agg({\n",
    "    'base_value': 'mean',\n",
    "    'goe': 'mean'\n",
    "}).reset_index()\n",
    "\n",
    "df_grouped['hover_label'] = df_grouped['skater'] + '<br>Rank: ' + df_grouped['rank']\n",
    "\n",
    "fig = px.scatter(df_grouped,\n",
    "                 x='base_value',\n",
    "                 y='goe',\n",
    "                 text='skater',\n",
    "                 hover_name='skater',\n",
    "                 hover_data={'rank': True, 'base_value': True, 'goe': True},\n",
    "                 title='Element Difficulty vs Execution Quality (Men Single Skating - Free Skating)',\n",
    "                 labels={\n",
    "                     'base_value': 'Average Element Base Value',\n",
    "                     'goe': 'Average GOE'\n",
    "                 },\n",
    "                 trendline='ols')\n",
    "\n",
    "fig.update_traces(textposition='top center')\n",
    "fig.update_layout(height=800, width=2000)\n",
    "fig.show()"
   ]
  },
  {
   "cell_type": "code",
   "execution_count": 269,
   "metadata": {},
   "outputs": [
    {
     "data": {
      "application/vnd.plotly.v1+json": {
       "config": {
        "plotlyServerURL": "https://plot.ly"
       },
       "data": [
        {
         "customdata": [
          [
           "8"
          ],
          [
           "21"
          ],
          [
           "17"
          ],
          [
           "24"
          ],
          [
           "10"
          ],
          [
           "9"
          ],
          [
           "6"
          ],
          [
           "23"
          ],
          [
           "20"
          ],
          [
           "11"
          ],
          [
           "12"
          ],
          [
           "7"
          ],
          [
           "14"
          ],
          [
           "22"
          ],
          [
           "15"
          ],
          [
           "25"
          ],
          [
           "13"
          ],
          [
           "3"
          ],
          [
           "18"
          ],
          [
           "19"
          ],
          [
           "2"
          ],
          [
           "1"
          ],
          [
           "5"
          ],
          [
           "4"
          ],
          [
           "16"
          ]
         ],
         "hovertemplate": "<b>%{hovertext}</b><br><br>Average Element Base Value=%{x}<br>Average GOE=%{y}<br>skater=%{text}<br>rank=%{customdata[0]}<extra></extra>",
         "hovertext": [
          "BELL Mariah_Single",
          "BREZINOVA Eliska_Single",
          "CHEN Karen_Single",
          "FEIGIN Alexandra_Single",
          "GUBANOVA Anastasiia_Single",
          "HENDRICKX Loena_Single",
          "HIGUCHI Wakaba_Single",
          "KAWABE Mana_Single",
          "KIIBUS Eva-Lotta_Single",
          "KIM Yelim_Single",
          "KURAKOVA Ekaterina_Single",
          "LIU Alysa_Single",
          "MIKUTINA Olga_Single",
          "PAGANINI Alexia_Single",
          "RYABOVA Ekaterina_Single",
          "SAARINEN Jenni_Single",
          "SAFONOVA Viktoriia_Single",
          "SAKAMOTO Kaori_Single",
          "SCHIZAS Madeline_Single",
          "SCHOTT Nicole_Single",
          "SHCHERBAKOVA Anna_Single",
          "TRUSOVA Alexandra_Single",
          "VALIEVA Kamila_Single",
          "YOU Young_Single",
          "van ZUNDERT Lindsay_Single"
         ],
         "legendgroup": "",
         "marker": {
          "color": "#636efa",
          "symbol": "circle"
         },
         "mode": "markers+text",
         "name": "",
         "orientation": "v",
         "showlegend": false,
         "text": [
          "BELL Mariah_Single",
          "BREZINOVA Eliska_Single",
          "CHEN Karen_Single",
          "FEIGIN Alexandra_Single",
          "GUBANOVA Anastasiia_Single",
          "HENDRICKX Loena_Single",
          "HIGUCHI Wakaba_Single",
          "KAWABE Mana_Single",
          "KIIBUS Eva-Lotta_Single",
          "KIM Yelim_Single",
          "KURAKOVA Ekaterina_Single",
          "LIU Alysa_Single",
          "MIKUTINA Olga_Single",
          "PAGANINI Alexia_Single",
          "RYABOVA Ekaterina_Single",
          "SAARINEN Jenni_Single",
          "SAFONOVA Viktoriia_Single",
          "SAKAMOTO Kaori_Single",
          "SCHIZAS Madeline_Single",
          "SCHOTT Nicole_Single",
          "SHCHERBAKOVA Anna_Single",
          "TRUSOVA Alexandra_Single",
          "VALIEVA Kamila_Single",
          "YOU Young_Single",
          "van ZUNDERT Lindsay_Single"
         ],
         "textposition": "top center",
         "type": "scatter",
         "x": {
          "bdata": "16NwPQrXE0BjyS+W/OISQBWuR+F6FBBAcT0K16MwEkC1gU4b6HQUQPKLJb9YshJAgU4b6LQBFkC1gU4b6PQRQFyPwvUoXBFAAAAAAABAFEDotIFOGygUQBhLfrHk1xRAk18s+cWSE0DlF0t+seQQQFK4HoXrkRNAxpJfLPkFEUB+seQXS34UQCz5xZJfrBRAbaDTBjqtEUAt+cWSXywSQPUoXI/CdRpAjCW/WPLLH0CnDXTaQOcZQNQGOm2gExZArkfhehSuE0A=",
          "dtype": "f8"
         },
         "xaxis": "x",
         "y": {
          "bdata": "SOF6FK5H5z+9u7u7u7vDv/nFkl8s+dE/9Shcj8L12L8s+cWSXyznP+/u7u7u7uo/vLu7u7u74T8AAAAAAADgv1yPwvUoXMc/9Shcj8L15D/Fkl8s+cXePx+F61G4Huk/mZmZmZmZyT+X/GLJL5asv5HC9Shcj7I/QacNdNpA27+nDXTaQKfVP4FOG+i0gfY/vbu7u7u7qz/Hkl8s+cXCPyW/WPKLJfw/uB6F61G47D94d3d3d3fXvyW/WPKLJeU/zczMzMzMzD8=",
          "dtype": "f8"
         },
         "yaxis": "y"
        },
        {
         "hovertemplate": "<b>OLS trendline</b><br>goe = 0.311262 * base_value + -1.21322<br>R<sup>2</sup>=0.231489<br><br>Average Element Base Value=%{x}<br>Average GOE=%{y} <b>(trend)</b><extra></extra>",
         "legendgroup": "",
         "marker": {
          "color": "#636efa",
          "symbol": "circle"
         },
         "mode": "lines",
         "name": "",
         "showlegend": false,
         "textposition": "top center",
         "type": "scatter",
         "x": {
          "bdata": "Fa5H4XoUEEDlF0t+seQQQMaSXyz5BRFAXI/C9ShcEUBtoNMGOq0RQLWBThvo9BFALfnFkl8sEkBxPQrXozASQPKLJb9YshJAY8kvlvziEkBSuB6F65ETQJNfLPnFkhNArkfhehSuE0DXo3A9CtcTQOi0gU4bKBRAAAAAAABAFEC1gU4b6HQUQH6x5BdLfhRALPnFkl+sFEAYS36x5NcUQIFOG+i0ARZA1AY6baATFkCnDXTaQOcZQPUoXI/CdRpAjCW/WPLLH0A=",
          "dtype": "f8"
         },
         "xaxis": "x",
         "y": {
          "bdata": "4BA2xyN8oz/gb0jv1/G5PwBN56vOiLw/0MRRV9uewT8g0hkPUMbEP0jAThVGkMc/kHgoXb64yT+4hiXFPePJP6A1/7cr784/nGuIedJp0D8wDkxNBtHTP5yPGD5G1dM/+LyoV0Rd1D8AAQF+QSnVP6wH5dn7vNY/XC9DMPoz1z9Ah8qBdjvYP9QWlNo1atg/YGO3pbJP2T+sK3WebyjaP1yaQeWa898/EhwE02wm4D+ySY69yq3pPw6AQsilEOs/X5feH0st9D8=",
          "dtype": "f8"
         },
         "yaxis": "y"
        }
       ],
       "layout": {
        "height": 800,
        "legend": {
         "tracegroupgap": 0
        },
        "template": {
         "data": {
          "bar": [
           {
            "error_x": {
             "color": "#2a3f5f"
            },
            "error_y": {
             "color": "#2a3f5f"
            },
            "marker": {
             "line": {
              "color": "#E5ECF6",
              "width": 0.5
             },
             "pattern": {
              "fillmode": "overlay",
              "size": 10,
              "solidity": 0.2
             }
            },
            "type": "bar"
           }
          ],
          "barpolar": [
           {
            "marker": {
             "line": {
              "color": "#E5ECF6",
              "width": 0.5
             },
             "pattern": {
              "fillmode": "overlay",
              "size": 10,
              "solidity": 0.2
             }
            },
            "type": "barpolar"
           }
          ],
          "carpet": [
           {
            "aaxis": {
             "endlinecolor": "#2a3f5f",
             "gridcolor": "white",
             "linecolor": "white",
             "minorgridcolor": "white",
             "startlinecolor": "#2a3f5f"
            },
            "baxis": {
             "endlinecolor": "#2a3f5f",
             "gridcolor": "white",
             "linecolor": "white",
             "minorgridcolor": "white",
             "startlinecolor": "#2a3f5f"
            },
            "type": "carpet"
           }
          ],
          "choropleth": [
           {
            "colorbar": {
             "outlinewidth": 0,
             "ticks": ""
            },
            "type": "choropleth"
           }
          ],
          "contour": [
           {
            "colorbar": {
             "outlinewidth": 0,
             "ticks": ""
            },
            "colorscale": [
             [
              0,
              "#0d0887"
             ],
             [
              0.1111111111111111,
              "#46039f"
             ],
             [
              0.2222222222222222,
              "#7201a8"
             ],
             [
              0.3333333333333333,
              "#9c179e"
             ],
             [
              0.4444444444444444,
              "#bd3786"
             ],
             [
              0.5555555555555556,
              "#d8576b"
             ],
             [
              0.6666666666666666,
              "#ed7953"
             ],
             [
              0.7777777777777778,
              "#fb9f3a"
             ],
             [
              0.8888888888888888,
              "#fdca26"
             ],
             [
              1,
              "#f0f921"
             ]
            ],
            "type": "contour"
           }
          ],
          "contourcarpet": [
           {
            "colorbar": {
             "outlinewidth": 0,
             "ticks": ""
            },
            "type": "contourcarpet"
           }
          ],
          "heatmap": [
           {
            "colorbar": {
             "outlinewidth": 0,
             "ticks": ""
            },
            "colorscale": [
             [
              0,
              "#0d0887"
             ],
             [
              0.1111111111111111,
              "#46039f"
             ],
             [
              0.2222222222222222,
              "#7201a8"
             ],
             [
              0.3333333333333333,
              "#9c179e"
             ],
             [
              0.4444444444444444,
              "#bd3786"
             ],
             [
              0.5555555555555556,
              "#d8576b"
             ],
             [
              0.6666666666666666,
              "#ed7953"
             ],
             [
              0.7777777777777778,
              "#fb9f3a"
             ],
             [
              0.8888888888888888,
              "#fdca26"
             ],
             [
              1,
              "#f0f921"
             ]
            ],
            "type": "heatmap"
           }
          ],
          "histogram": [
           {
            "marker": {
             "pattern": {
              "fillmode": "overlay",
              "size": 10,
              "solidity": 0.2
             }
            },
            "type": "histogram"
           }
          ],
          "histogram2d": [
           {
            "colorbar": {
             "outlinewidth": 0,
             "ticks": ""
            },
            "colorscale": [
             [
              0,
              "#0d0887"
             ],
             [
              0.1111111111111111,
              "#46039f"
             ],
             [
              0.2222222222222222,
              "#7201a8"
             ],
             [
              0.3333333333333333,
              "#9c179e"
             ],
             [
              0.4444444444444444,
              "#bd3786"
             ],
             [
              0.5555555555555556,
              "#d8576b"
             ],
             [
              0.6666666666666666,
              "#ed7953"
             ],
             [
              0.7777777777777778,
              "#fb9f3a"
             ],
             [
              0.8888888888888888,
              "#fdca26"
             ],
             [
              1,
              "#f0f921"
             ]
            ],
            "type": "histogram2d"
           }
          ],
          "histogram2dcontour": [
           {
            "colorbar": {
             "outlinewidth": 0,
             "ticks": ""
            },
            "colorscale": [
             [
              0,
              "#0d0887"
             ],
             [
              0.1111111111111111,
              "#46039f"
             ],
             [
              0.2222222222222222,
              "#7201a8"
             ],
             [
              0.3333333333333333,
              "#9c179e"
             ],
             [
              0.4444444444444444,
              "#bd3786"
             ],
             [
              0.5555555555555556,
              "#d8576b"
             ],
             [
              0.6666666666666666,
              "#ed7953"
             ],
             [
              0.7777777777777778,
              "#fb9f3a"
             ],
             [
              0.8888888888888888,
              "#fdca26"
             ],
             [
              1,
              "#f0f921"
             ]
            ],
            "type": "histogram2dcontour"
           }
          ],
          "mesh3d": [
           {
            "colorbar": {
             "outlinewidth": 0,
             "ticks": ""
            },
            "type": "mesh3d"
           }
          ],
          "parcoords": [
           {
            "line": {
             "colorbar": {
              "outlinewidth": 0,
              "ticks": ""
             }
            },
            "type": "parcoords"
           }
          ],
          "pie": [
           {
            "automargin": true,
            "type": "pie"
           }
          ],
          "scatter": [
           {
            "fillpattern": {
             "fillmode": "overlay",
             "size": 10,
             "solidity": 0.2
            },
            "type": "scatter"
           }
          ],
          "scatter3d": [
           {
            "line": {
             "colorbar": {
              "outlinewidth": 0,
              "ticks": ""
             }
            },
            "marker": {
             "colorbar": {
              "outlinewidth": 0,
              "ticks": ""
             }
            },
            "type": "scatter3d"
           }
          ],
          "scattercarpet": [
           {
            "marker": {
             "colorbar": {
              "outlinewidth": 0,
              "ticks": ""
             }
            },
            "type": "scattercarpet"
           }
          ],
          "scattergeo": [
           {
            "marker": {
             "colorbar": {
              "outlinewidth": 0,
              "ticks": ""
             }
            },
            "type": "scattergeo"
           }
          ],
          "scattergl": [
           {
            "marker": {
             "colorbar": {
              "outlinewidth": 0,
              "ticks": ""
             }
            },
            "type": "scattergl"
           }
          ],
          "scattermap": [
           {
            "marker": {
             "colorbar": {
              "outlinewidth": 0,
              "ticks": ""
             }
            },
            "type": "scattermap"
           }
          ],
          "scattermapbox": [
           {
            "marker": {
             "colorbar": {
              "outlinewidth": 0,
              "ticks": ""
             }
            },
            "type": "scattermapbox"
           }
          ],
          "scatterpolar": [
           {
            "marker": {
             "colorbar": {
              "outlinewidth": 0,
              "ticks": ""
             }
            },
            "type": "scatterpolar"
           }
          ],
          "scatterpolargl": [
           {
            "marker": {
             "colorbar": {
              "outlinewidth": 0,
              "ticks": ""
             }
            },
            "type": "scatterpolargl"
           }
          ],
          "scatterternary": [
           {
            "marker": {
             "colorbar": {
              "outlinewidth": 0,
              "ticks": ""
             }
            },
            "type": "scatterternary"
           }
          ],
          "surface": [
           {
            "colorbar": {
             "outlinewidth": 0,
             "ticks": ""
            },
            "colorscale": [
             [
              0,
              "#0d0887"
             ],
             [
              0.1111111111111111,
              "#46039f"
             ],
             [
              0.2222222222222222,
              "#7201a8"
             ],
             [
              0.3333333333333333,
              "#9c179e"
             ],
             [
              0.4444444444444444,
              "#bd3786"
             ],
             [
              0.5555555555555556,
              "#d8576b"
             ],
             [
              0.6666666666666666,
              "#ed7953"
             ],
             [
              0.7777777777777778,
              "#fb9f3a"
             ],
             [
              0.8888888888888888,
              "#fdca26"
             ],
             [
              1,
              "#f0f921"
             ]
            ],
            "type": "surface"
           }
          ],
          "table": [
           {
            "cells": {
             "fill": {
              "color": "#EBF0F8"
             },
             "line": {
              "color": "white"
             }
            },
            "header": {
             "fill": {
              "color": "#C8D4E3"
             },
             "line": {
              "color": "white"
             }
            },
            "type": "table"
           }
          ]
         },
         "layout": {
          "annotationdefaults": {
           "arrowcolor": "#2a3f5f",
           "arrowhead": 0,
           "arrowwidth": 1
          },
          "autotypenumbers": "strict",
          "coloraxis": {
           "colorbar": {
            "outlinewidth": 0,
            "ticks": ""
           }
          },
          "colorscale": {
           "diverging": [
            [
             0,
             "#8e0152"
            ],
            [
             0.1,
             "#c51b7d"
            ],
            [
             0.2,
             "#de77ae"
            ],
            [
             0.3,
             "#f1b6da"
            ],
            [
             0.4,
             "#fde0ef"
            ],
            [
             0.5,
             "#f7f7f7"
            ],
            [
             0.6,
             "#e6f5d0"
            ],
            [
             0.7,
             "#b8e186"
            ],
            [
             0.8,
             "#7fbc41"
            ],
            [
             0.9,
             "#4d9221"
            ],
            [
             1,
             "#276419"
            ]
           ],
           "sequential": [
            [
             0,
             "#0d0887"
            ],
            [
             0.1111111111111111,
             "#46039f"
            ],
            [
             0.2222222222222222,
             "#7201a8"
            ],
            [
             0.3333333333333333,
             "#9c179e"
            ],
            [
             0.4444444444444444,
             "#bd3786"
            ],
            [
             0.5555555555555556,
             "#d8576b"
            ],
            [
             0.6666666666666666,
             "#ed7953"
            ],
            [
             0.7777777777777778,
             "#fb9f3a"
            ],
            [
             0.8888888888888888,
             "#fdca26"
            ],
            [
             1,
             "#f0f921"
            ]
           ],
           "sequentialminus": [
            [
             0,
             "#0d0887"
            ],
            [
             0.1111111111111111,
             "#46039f"
            ],
            [
             0.2222222222222222,
             "#7201a8"
            ],
            [
             0.3333333333333333,
             "#9c179e"
            ],
            [
             0.4444444444444444,
             "#bd3786"
            ],
            [
             0.5555555555555556,
             "#d8576b"
            ],
            [
             0.6666666666666666,
             "#ed7953"
            ],
            [
             0.7777777777777778,
             "#fb9f3a"
            ],
            [
             0.8888888888888888,
             "#fdca26"
            ],
            [
             1,
             "#f0f921"
            ]
           ]
          },
          "colorway": [
           "#636efa",
           "#EF553B",
           "#00cc96",
           "#ab63fa",
           "#FFA15A",
           "#19d3f3",
           "#FF6692",
           "#B6E880",
           "#FF97FF",
           "#FECB52"
          ],
          "font": {
           "color": "#2a3f5f"
          },
          "geo": {
           "bgcolor": "white",
           "lakecolor": "white",
           "landcolor": "#E5ECF6",
           "showlakes": true,
           "showland": true,
           "subunitcolor": "white"
          },
          "hoverlabel": {
           "align": "left"
          },
          "hovermode": "closest",
          "mapbox": {
           "style": "light"
          },
          "paper_bgcolor": "white",
          "plot_bgcolor": "#E5ECF6",
          "polar": {
           "angularaxis": {
            "gridcolor": "white",
            "linecolor": "white",
            "ticks": ""
           },
           "bgcolor": "#E5ECF6",
           "radialaxis": {
            "gridcolor": "white",
            "linecolor": "white",
            "ticks": ""
           }
          },
          "scene": {
           "xaxis": {
            "backgroundcolor": "#E5ECF6",
            "gridcolor": "white",
            "gridwidth": 2,
            "linecolor": "white",
            "showbackground": true,
            "ticks": "",
            "zerolinecolor": "white"
           },
           "yaxis": {
            "backgroundcolor": "#E5ECF6",
            "gridcolor": "white",
            "gridwidth": 2,
            "linecolor": "white",
            "showbackground": true,
            "ticks": "",
            "zerolinecolor": "white"
           },
           "zaxis": {
            "backgroundcolor": "#E5ECF6",
            "gridcolor": "white",
            "gridwidth": 2,
            "linecolor": "white",
            "showbackground": true,
            "ticks": "",
            "zerolinecolor": "white"
           }
          },
          "shapedefaults": {
           "line": {
            "color": "#2a3f5f"
           }
          },
          "ternary": {
           "aaxis": {
            "gridcolor": "white",
            "linecolor": "white",
            "ticks": ""
           },
           "baxis": {
            "gridcolor": "white",
            "linecolor": "white",
            "ticks": ""
           },
           "bgcolor": "#E5ECF6",
           "caxis": {
            "gridcolor": "white",
            "linecolor": "white",
            "ticks": ""
           }
          },
          "title": {
           "x": 0.05
          },
          "xaxis": {
           "automargin": true,
           "gridcolor": "white",
           "linecolor": "white",
           "ticks": "",
           "title": {
            "standoff": 15
           },
           "zerolinecolor": "white",
           "zerolinewidth": 2
          },
          "yaxis": {
           "automargin": true,
           "gridcolor": "white",
           "linecolor": "white",
           "ticks": "",
           "title": {
            "standoff": 15
           },
           "zerolinecolor": "white",
           "zerolinewidth": 2
          }
         }
        },
        "title": {
         "text": "Element Difficulty vs Execution Quality (Women Single Skating - Free Skating)"
        },
        "width": 2000,
        "xaxis": {
         "anchor": "y",
         "domain": [
          0,
          1
         ],
         "title": {
          "text": "Average Element Base Value"
         }
        },
        "yaxis": {
         "anchor": "x",
         "domain": [
          0,
          1
         ],
         "title": {
          "text": "Average GOE"
         }
        }
       }
      }
     },
     "metadata": {},
     "output_type": "display_data"
    }
   ],
   "source": [
    "df_elements['category'] = df_elements['skater_id'].apply(lambda x: x.split('_')[-1])\n",
    "df_elements['segment'] = df_elements['skater_id'].apply(lambda x: x.split('_')[-2])\n",
    "\n",
    "df_women_free = df_elements[\n",
    "    (df_elements['category'] == 'Women Single Skating') &\n",
    "    (df_elements['segment'] == 'Free Skating')\n",
    "].copy()\n",
    "\n",
    "df_women_free['skater'] = df_women_free['skater_id'].apply(lambda x: '_'.join(x.split('_')[1:3]))\n",
    "df_women_free['rank'] = df_women_free['skater_id'].apply(lambda x: x.split('_')[0])\n",
    "\n",
    "df_grouped = df_women_free.groupby(['skater', 'rank']).agg({\n",
    "    'base_value': 'mean',\n",
    "    'goe': 'mean'\n",
    "}).reset_index()\n",
    "\n",
    "df_grouped['hover_label'] = df_grouped['skater'] + '<br>Rank: ' + df_grouped['rank']\n",
    "\n",
    "fig = px.scatter(df_grouped,\n",
    "                 x='base_value',\n",
    "                 y='goe',\n",
    "                 text='skater',\n",
    "                 hover_name='skater',\n",
    "                 hover_data={'rank': True, 'base_value': True, 'goe': True},\n",
    "                 title='Element Difficulty vs Execution Quality (Women Single Skating - Free Skating)',\n",
    "                 labels={\n",
    "                     'base_value': 'Average Element Base Value',\n",
    "                     'goe': 'Average GOE'\n",
    "                 },\n",
    "                 trendline='ols')\n",
    "\n",
    "fig.update_traces(textposition='top center')\n",
    "fig.update_layout(height=800, width=2000)\n",
    "fig.show()"
   ]
  },
  {
   "cell_type": "code",
   "execution_count": 270,
   "metadata": {},
   "outputs": [
    {
     "data": {
      "application/vnd.plotly.v1+json": {
       "config": {
        "plotlyServerURL": "https://plot.ly"
       },
       "data": [
        {
         "customdata": [
          [
           "11"
          ],
          [
           "12"
          ],
          [
           "13"
          ],
          [
           "29"
          ],
          [
           "23"
          ],
          [
           "10"
          ],
          [
           "7"
          ],
          [
           "5"
          ],
          [
           "15"
          ],
          [
           "21"
          ],
          [
           "9"
          ],
          [
           "24"
          ],
          [
           "8"
          ],
          [
           "18"
          ],
          [
           "28"
          ],
          [
           "19"
          ],
          [
           "16"
          ],
          [
           "25"
          ],
          [
           "17"
          ],
          [
           "3"
          ],
          [
           "20"
          ],
          [
           "14"
          ],
          [
           "30"
          ],
          [
           "2"
          ],
          [
           "26"
          ],
          [
           "4"
          ],
          [
           "1"
          ],
          [
           "6"
          ],
          [
           "27"
          ],
          [
           "22"
          ]
         ],
         "hovertemplate": "<b>%{hovertext}</b><br><br>Average Element Base Value=%{x}<br>Average GOE=%{y}<br>skater=%{text}<br>rank=%{customdata[0]}<extra></extra>",
         "hovertext": [
          "BELL Mariah_Single",
          "BREZINOVA Eliska_Single",
          "CHEN Karen_Single",
          "CRAINE Kailani_Single",
          "FEIGIN Alexandra_Single",
          "GUBANOVA Anastasiia_Single",
          "HENDRICKX Loena_Single",
          "HIGUCHI Wakaba_Single",
          "KAWABE Mana_Single",
          "KIIBUS Eva-Lotta_Single",
          "KIM Yelim_Single",
          "KURAKOVA Ekaterina_Single",
          "LIU Alysa_Single",
          "MIKUTINA Olga_Single",
          "McKAY Natasha_Single",
          "PAGANINI Alexia_Single",
          "RYABOVA Ekaterina_Single",
          "SAARINEN Jenni_Single",
          "SAFONOVA Viktoriia_Single",
          "SAKAMOTO Kaori_Single",
          "SCHIZAS Madeline_Single",
          "SCHOTT Nicole_Single",
          "SHABOTOVA Anastasiia_Single",
          "SHCHERBAKOVA Anna_Single",
          "TALJEGARD Josefin_Single",
          "TRUSOVA Alexandra_Single",
          "VALIEVA Kamila_Single",
          "YOU Young_Single",
          "ZHU Yi_Single",
          "van ZUNDERT Lindsay_Single"
         ],
         "legendgroup": "",
         "marker": {
          "color": "#636efa",
          "symbol": "circle"
         },
         "mode": "markers+text",
         "name": "",
         "orientation": "v",
         "showlegend": false,
         "text": [
          "BELL Mariah_Single",
          "BREZINOVA Eliska_Single",
          "CHEN Karen_Single",
          "CRAINE Kailani_Single",
          "FEIGIN Alexandra_Single",
          "GUBANOVA Anastasiia_Single",
          "HENDRICKX Loena_Single",
          "HIGUCHI Wakaba_Single",
          "KAWABE Mana_Single",
          "KIIBUS Eva-Lotta_Single",
          "KIM Yelim_Single",
          "KURAKOVA Ekaterina_Single",
          "LIU Alysa_Single",
          "MIKUTINA Olga_Single",
          "McKAY Natasha_Single",
          "PAGANINI Alexia_Single",
          "RYABOVA Ekaterina_Single",
          "SAARINEN Jenni_Single",
          "SAFONOVA Viktoriia_Single",
          "SAKAMOTO Kaori_Single",
          "SCHIZAS Madeline_Single",
          "SCHOTT Nicole_Single",
          "SHABOTOVA Anastasiia_Single",
          "SHCHERBAKOVA Anna_Single",
          "TALJEGARD Josefin_Single",
          "TRUSOVA Alexandra_Single",
          "VALIEVA Kamila_Single",
          "YOU Young_Single",
          "ZHU Yi_Single",
          "van ZUNDERT Lindsay_Single"
         ],
         "textposition": "top center",
         "type": "scatter",
         "x": {
          "bdata": "+Yqv+IqvEUC0C4hNpSESQBsjmOjvZA9A6e9ktbwxCkAqDTn32QURQEjhehSuRxJAymp5YwQTEkDaBcSm0pAUQD+7gNhUGhNA/05WyxsjEUD2KFyPwvURQBZf8RVf8Q1AWS1vjGCiEkBltbwxgokRQBZf8RVf8Q1ATqUh5z67EUDKanljBBMSQDtZLW+MYAxAtAuITaUhEkBBHdRBHdQSQEPOfXYBsQ9A/05WyxsjEUBb3hjBRH8RQAGxqTTk3BJAT1bLGyOYDkBZLW+MYKIUQPo7WS1vjBVABRP9nayWEkBXyxsjmOgLQF5AbCoNORBA",
          "dtype": "f8"
         },
         "xaxis": "x",
         "y": {
          "bdata": "ZQQT/Z2s1j/nPruA2FTiP/PGCCb6O+E/exSuR+F6lL9a3hjBRH/XP70xgon+TtY/0d/Janlj5D9Taci5zy7gP/LZBcSm0qA/Twd1UAd1wD9Ffyer5Y3hPyer5Y0RTNQ/h5z77AJi4z+hDuqgDurQP9u2bdu2bXu8kiRJkiRJwj8b1EEd1EG9PzXk3GcXENs/PruA2FQawj8w0d/Jann3P56sljdGMNE/LyA2lYac2z8VrkfhehTuv2W1vDGCifY//k5WyxsjuL/nPruA2FTiP1/xFV/xFe8/hutRuB6F4z9CHdRBHdTRP59dQGwqDeE/",
          "dtype": "f8"
         },
         "yaxis": "y"
        },
        {
         "hovertemplate": "<b>OLS trendline</b><br>goe = 0.350973 * base_value + -1.14068<br>R<sup>2</sup>=0.157614<br><br>Average Element Base Value=%{x}<br>Average GOE=%{y} <b>(trend)</b><extra></extra>",
         "legendgroup": "",
         "marker": {
          "color": "#636efa",
          "symbol": "circle"
         },
         "mode": "lines",
         "name": "",
         "showlegend": false,
         "textposition": "top center",
         "type": "scatter",
         "x": {
          "bdata": "6e9ktbwxCkBXyxsjmOgLQDtZLW+MYAxAFl/xFV/xDUAWX/EVX/ENQE9WyxsjmA5AGyOY6O9kD0BDzn12AbEPQF5AbCoNORBAKg0599kFEUD/TlbLGyMRQP9OVssbIxFAW94YwUR/EUBltbwxgokRQPmKr/iKrxFATqUh5z67EUD2KFyPwvURQMpqeWMEExJAymp5YwQTEkC0C4hNpSESQLQLiE2lIRJASOF6FK5HEkAFE/2drJYSQFktb4xgohJAQR3UQR3UEkABsak05NwSQD+7gNhUGhNA2gXEptKQFEBZLW+MYKIUQPo7WS1vjBVA",
          "dtype": "f8"
         },
         "xaxis": "x",
         "y": {
          "bdata": "gOHYQsdsgT+QdSShdW61P/CB+Iuusbo/+L99H7Ajxj/4v30fsCPGP6iv6/orzMk/CM08WT1Kzj9oKANfaPXPP7il6fHgGNI/FMM6UPKW1j8ENf3vPTvXPwQ1/e89O9c/oOjUwMVA2T+wwyWfRnrZP2DxCCLcT9o/wOuJ+5OR2j+Qzw47K9rbP3hB0dp2ftw/eEHR2nZ+3D9serKqnNDcP2x6sqqc0Nw/IKiVLTKm3T8UQrwpy2HfP2w8PQODo98/PLLQL2hd4D8gEGEhDXbgP1ahU7yPIuE/KkdjVA0+5T/wAoQ3V2/lP5TKjbaFAOg/",
          "dtype": "f8"
         },
         "yaxis": "y"
        }
       ],
       "layout": {
        "height": 800,
        "legend": {
         "tracegroupgap": 0
        },
        "template": {
         "data": {
          "bar": [
           {
            "error_x": {
             "color": "#2a3f5f"
            },
            "error_y": {
             "color": "#2a3f5f"
            },
            "marker": {
             "line": {
              "color": "#E5ECF6",
              "width": 0.5
             },
             "pattern": {
              "fillmode": "overlay",
              "size": 10,
              "solidity": 0.2
             }
            },
            "type": "bar"
           }
          ],
          "barpolar": [
           {
            "marker": {
             "line": {
              "color": "#E5ECF6",
              "width": 0.5
             },
             "pattern": {
              "fillmode": "overlay",
              "size": 10,
              "solidity": 0.2
             }
            },
            "type": "barpolar"
           }
          ],
          "carpet": [
           {
            "aaxis": {
             "endlinecolor": "#2a3f5f",
             "gridcolor": "white",
             "linecolor": "white",
             "minorgridcolor": "white",
             "startlinecolor": "#2a3f5f"
            },
            "baxis": {
             "endlinecolor": "#2a3f5f",
             "gridcolor": "white",
             "linecolor": "white",
             "minorgridcolor": "white",
             "startlinecolor": "#2a3f5f"
            },
            "type": "carpet"
           }
          ],
          "choropleth": [
           {
            "colorbar": {
             "outlinewidth": 0,
             "ticks": ""
            },
            "type": "choropleth"
           }
          ],
          "contour": [
           {
            "colorbar": {
             "outlinewidth": 0,
             "ticks": ""
            },
            "colorscale": [
             [
              0,
              "#0d0887"
             ],
             [
              0.1111111111111111,
              "#46039f"
             ],
             [
              0.2222222222222222,
              "#7201a8"
             ],
             [
              0.3333333333333333,
              "#9c179e"
             ],
             [
              0.4444444444444444,
              "#bd3786"
             ],
             [
              0.5555555555555556,
              "#d8576b"
             ],
             [
              0.6666666666666666,
              "#ed7953"
             ],
             [
              0.7777777777777778,
              "#fb9f3a"
             ],
             [
              0.8888888888888888,
              "#fdca26"
             ],
             [
              1,
              "#f0f921"
             ]
            ],
            "type": "contour"
           }
          ],
          "contourcarpet": [
           {
            "colorbar": {
             "outlinewidth": 0,
             "ticks": ""
            },
            "type": "contourcarpet"
           }
          ],
          "heatmap": [
           {
            "colorbar": {
             "outlinewidth": 0,
             "ticks": ""
            },
            "colorscale": [
             [
              0,
              "#0d0887"
             ],
             [
              0.1111111111111111,
              "#46039f"
             ],
             [
              0.2222222222222222,
              "#7201a8"
             ],
             [
              0.3333333333333333,
              "#9c179e"
             ],
             [
              0.4444444444444444,
              "#bd3786"
             ],
             [
              0.5555555555555556,
              "#d8576b"
             ],
             [
              0.6666666666666666,
              "#ed7953"
             ],
             [
              0.7777777777777778,
              "#fb9f3a"
             ],
             [
              0.8888888888888888,
              "#fdca26"
             ],
             [
              1,
              "#f0f921"
             ]
            ],
            "type": "heatmap"
           }
          ],
          "histogram": [
           {
            "marker": {
             "pattern": {
              "fillmode": "overlay",
              "size": 10,
              "solidity": 0.2
             }
            },
            "type": "histogram"
           }
          ],
          "histogram2d": [
           {
            "colorbar": {
             "outlinewidth": 0,
             "ticks": ""
            },
            "colorscale": [
             [
              0,
              "#0d0887"
             ],
             [
              0.1111111111111111,
              "#46039f"
             ],
             [
              0.2222222222222222,
              "#7201a8"
             ],
             [
              0.3333333333333333,
              "#9c179e"
             ],
             [
              0.4444444444444444,
              "#bd3786"
             ],
             [
              0.5555555555555556,
              "#d8576b"
             ],
             [
              0.6666666666666666,
              "#ed7953"
             ],
             [
              0.7777777777777778,
              "#fb9f3a"
             ],
             [
              0.8888888888888888,
              "#fdca26"
             ],
             [
              1,
              "#f0f921"
             ]
            ],
            "type": "histogram2d"
           }
          ],
          "histogram2dcontour": [
           {
            "colorbar": {
             "outlinewidth": 0,
             "ticks": ""
            },
            "colorscale": [
             [
              0,
              "#0d0887"
             ],
             [
              0.1111111111111111,
              "#46039f"
             ],
             [
              0.2222222222222222,
              "#7201a8"
             ],
             [
              0.3333333333333333,
              "#9c179e"
             ],
             [
              0.4444444444444444,
              "#bd3786"
             ],
             [
              0.5555555555555556,
              "#d8576b"
             ],
             [
              0.6666666666666666,
              "#ed7953"
             ],
             [
              0.7777777777777778,
              "#fb9f3a"
             ],
             [
              0.8888888888888888,
              "#fdca26"
             ],
             [
              1,
              "#f0f921"
             ]
            ],
            "type": "histogram2dcontour"
           }
          ],
          "mesh3d": [
           {
            "colorbar": {
             "outlinewidth": 0,
             "ticks": ""
            },
            "type": "mesh3d"
           }
          ],
          "parcoords": [
           {
            "line": {
             "colorbar": {
              "outlinewidth": 0,
              "ticks": ""
             }
            },
            "type": "parcoords"
           }
          ],
          "pie": [
           {
            "automargin": true,
            "type": "pie"
           }
          ],
          "scatter": [
           {
            "fillpattern": {
             "fillmode": "overlay",
             "size": 10,
             "solidity": 0.2
            },
            "type": "scatter"
           }
          ],
          "scatter3d": [
           {
            "line": {
             "colorbar": {
              "outlinewidth": 0,
              "ticks": ""
             }
            },
            "marker": {
             "colorbar": {
              "outlinewidth": 0,
              "ticks": ""
             }
            },
            "type": "scatter3d"
           }
          ],
          "scattercarpet": [
           {
            "marker": {
             "colorbar": {
              "outlinewidth": 0,
              "ticks": ""
             }
            },
            "type": "scattercarpet"
           }
          ],
          "scattergeo": [
           {
            "marker": {
             "colorbar": {
              "outlinewidth": 0,
              "ticks": ""
             }
            },
            "type": "scattergeo"
           }
          ],
          "scattergl": [
           {
            "marker": {
             "colorbar": {
              "outlinewidth": 0,
              "ticks": ""
             }
            },
            "type": "scattergl"
           }
          ],
          "scattermap": [
           {
            "marker": {
             "colorbar": {
              "outlinewidth": 0,
              "ticks": ""
             }
            },
            "type": "scattermap"
           }
          ],
          "scattermapbox": [
           {
            "marker": {
             "colorbar": {
              "outlinewidth": 0,
              "ticks": ""
             }
            },
            "type": "scattermapbox"
           }
          ],
          "scatterpolar": [
           {
            "marker": {
             "colorbar": {
              "outlinewidth": 0,
              "ticks": ""
             }
            },
            "type": "scatterpolar"
           }
          ],
          "scatterpolargl": [
           {
            "marker": {
             "colorbar": {
              "outlinewidth": 0,
              "ticks": ""
             }
            },
            "type": "scatterpolargl"
           }
          ],
          "scatterternary": [
           {
            "marker": {
             "colorbar": {
              "outlinewidth": 0,
              "ticks": ""
             }
            },
            "type": "scatterternary"
           }
          ],
          "surface": [
           {
            "colorbar": {
             "outlinewidth": 0,
             "ticks": ""
            },
            "colorscale": [
             [
              0,
              "#0d0887"
             ],
             [
              0.1111111111111111,
              "#46039f"
             ],
             [
              0.2222222222222222,
              "#7201a8"
             ],
             [
              0.3333333333333333,
              "#9c179e"
             ],
             [
              0.4444444444444444,
              "#bd3786"
             ],
             [
              0.5555555555555556,
              "#d8576b"
             ],
             [
              0.6666666666666666,
              "#ed7953"
             ],
             [
              0.7777777777777778,
              "#fb9f3a"
             ],
             [
              0.8888888888888888,
              "#fdca26"
             ],
             [
              1,
              "#f0f921"
             ]
            ],
            "type": "surface"
           }
          ],
          "table": [
           {
            "cells": {
             "fill": {
              "color": "#EBF0F8"
             },
             "line": {
              "color": "white"
             }
            },
            "header": {
             "fill": {
              "color": "#C8D4E3"
             },
             "line": {
              "color": "white"
             }
            },
            "type": "table"
           }
          ]
         },
         "layout": {
          "annotationdefaults": {
           "arrowcolor": "#2a3f5f",
           "arrowhead": 0,
           "arrowwidth": 1
          },
          "autotypenumbers": "strict",
          "coloraxis": {
           "colorbar": {
            "outlinewidth": 0,
            "ticks": ""
           }
          },
          "colorscale": {
           "diverging": [
            [
             0,
             "#8e0152"
            ],
            [
             0.1,
             "#c51b7d"
            ],
            [
             0.2,
             "#de77ae"
            ],
            [
             0.3,
             "#f1b6da"
            ],
            [
             0.4,
             "#fde0ef"
            ],
            [
             0.5,
             "#f7f7f7"
            ],
            [
             0.6,
             "#e6f5d0"
            ],
            [
             0.7,
             "#b8e186"
            ],
            [
             0.8,
             "#7fbc41"
            ],
            [
             0.9,
             "#4d9221"
            ],
            [
             1,
             "#276419"
            ]
           ],
           "sequential": [
            [
             0,
             "#0d0887"
            ],
            [
             0.1111111111111111,
             "#46039f"
            ],
            [
             0.2222222222222222,
             "#7201a8"
            ],
            [
             0.3333333333333333,
             "#9c179e"
            ],
            [
             0.4444444444444444,
             "#bd3786"
            ],
            [
             0.5555555555555556,
             "#d8576b"
            ],
            [
             0.6666666666666666,
             "#ed7953"
            ],
            [
             0.7777777777777778,
             "#fb9f3a"
            ],
            [
             0.8888888888888888,
             "#fdca26"
            ],
            [
             1,
             "#f0f921"
            ]
           ],
           "sequentialminus": [
            [
             0,
             "#0d0887"
            ],
            [
             0.1111111111111111,
             "#46039f"
            ],
            [
             0.2222222222222222,
             "#7201a8"
            ],
            [
             0.3333333333333333,
             "#9c179e"
            ],
            [
             0.4444444444444444,
             "#bd3786"
            ],
            [
             0.5555555555555556,
             "#d8576b"
            ],
            [
             0.6666666666666666,
             "#ed7953"
            ],
            [
             0.7777777777777778,
             "#fb9f3a"
            ],
            [
             0.8888888888888888,
             "#fdca26"
            ],
            [
             1,
             "#f0f921"
            ]
           ]
          },
          "colorway": [
           "#636efa",
           "#EF553B",
           "#00cc96",
           "#ab63fa",
           "#FFA15A",
           "#19d3f3",
           "#FF6692",
           "#B6E880",
           "#FF97FF",
           "#FECB52"
          ],
          "font": {
           "color": "#2a3f5f"
          },
          "geo": {
           "bgcolor": "white",
           "lakecolor": "white",
           "landcolor": "#E5ECF6",
           "showlakes": true,
           "showland": true,
           "subunitcolor": "white"
          },
          "hoverlabel": {
           "align": "left"
          },
          "hovermode": "closest",
          "mapbox": {
           "style": "light"
          },
          "paper_bgcolor": "white",
          "plot_bgcolor": "#E5ECF6",
          "polar": {
           "angularaxis": {
            "gridcolor": "white",
            "linecolor": "white",
            "ticks": ""
           },
           "bgcolor": "#E5ECF6",
           "radialaxis": {
            "gridcolor": "white",
            "linecolor": "white",
            "ticks": ""
           }
          },
          "scene": {
           "xaxis": {
            "backgroundcolor": "#E5ECF6",
            "gridcolor": "white",
            "gridwidth": 2,
            "linecolor": "white",
            "showbackground": true,
            "ticks": "",
            "zerolinecolor": "white"
           },
           "yaxis": {
            "backgroundcolor": "#E5ECF6",
            "gridcolor": "white",
            "gridwidth": 2,
            "linecolor": "white",
            "showbackground": true,
            "ticks": "",
            "zerolinecolor": "white"
           },
           "zaxis": {
            "backgroundcolor": "#E5ECF6",
            "gridcolor": "white",
            "gridwidth": 2,
            "linecolor": "white",
            "showbackground": true,
            "ticks": "",
            "zerolinecolor": "white"
           }
          },
          "shapedefaults": {
           "line": {
            "color": "#2a3f5f"
           }
          },
          "ternary": {
           "aaxis": {
            "gridcolor": "white",
            "linecolor": "white",
            "ticks": ""
           },
           "baxis": {
            "gridcolor": "white",
            "linecolor": "white",
            "ticks": ""
           },
           "bgcolor": "#E5ECF6",
           "caxis": {
            "gridcolor": "white",
            "linecolor": "white",
            "ticks": ""
           }
          },
          "title": {
           "x": 0.05
          },
          "xaxis": {
           "automargin": true,
           "gridcolor": "white",
           "linecolor": "white",
           "ticks": "",
           "title": {
            "standoff": 15
           },
           "zerolinecolor": "white",
           "zerolinewidth": 2
          },
          "yaxis": {
           "automargin": true,
           "gridcolor": "white",
           "linecolor": "white",
           "ticks": "",
           "title": {
            "standoff": 15
           },
           "zerolinecolor": "white",
           "zerolinewidth": 2
          }
         }
        },
        "title": {
         "text": "Element Difficulty vs Execution Quality (Women Single Skating - Short Program)"
        },
        "width": 2000,
        "xaxis": {
         "anchor": "y",
         "domain": [
          0,
          1
         ],
         "title": {
          "text": "Average Element Base Value"
         }
        },
        "yaxis": {
         "anchor": "x",
         "domain": [
          0,
          1
         ],
         "title": {
          "text": "Average GOE"
         }
        }
       }
      }
     },
     "metadata": {},
     "output_type": "display_data"
    }
   ],
   "source": [
    "df_elements['category'] = df_elements['skater_id'].apply(lambda x: x.split('_')[-1])\n",
    "df_elements['segment'] = df_elements['skater_id'].apply(lambda x: x.split('_')[-2])\n",
    "\n",
    "df_women_short = df_elements[\n",
    "    (df_elements['category'] == 'Women Single Skating') &\n",
    "    (df_elements['segment'] == 'Short Program')\n",
    "].copy()\n",
    "\n",
    "df_women_short['skater'] = df_women_short['skater_id'].apply(lambda x: '_'.join(x.split('_')[1:3]))\n",
    "df_women_short['rank'] = df_women_short['skater_id'].apply(lambda x: x.split('_')[0])\n",
    "\n",
    "df_grouped = df_women_short.groupby(['skater', 'rank']).agg({\n",
    "    'base_value': 'mean',\n",
    "    'goe': 'mean'\n",
    "}).reset_index()\n",
    "\n",
    "df_grouped['hover_label'] = df_grouped['skater'] + '<br>Rank: ' + df_grouped['rank']\n",
    "\n",
    "fig = px.scatter(df_grouped,\n",
    "                 x='base_value',\n",
    "                 y='goe',\n",
    "                 text='skater',\n",
    "                 hover_name='skater',\n",
    "                 hover_data={'rank': True, 'base_value': True, 'goe': True},\n",
    "                 title='Element Difficulty vs Execution Quality (Women Single Skating - Short Program)',\n",
    "                 labels={\n",
    "                     'base_value': 'Average Element Base Value',\n",
    "                     'goe': 'Average GOE'\n",
    "                 },\n",
    "                 trendline='ols')\n",
    "\n",
    "fig.update_traces(textposition='top center')\n",
    "fig.update_layout(height=800, width=2000)\n",
    "fig.show()"
   ]
  }
 ],
 "metadata": {
  "kernelspec": {
   "display_name": "Python 3",
   "language": "python",
   "name": "python3"
  },
  "language_info": {
   "codemirror_mode": {
    "name": "ipython",
    "version": 3
   },
   "file_extension": ".py",
   "mimetype": "text/x-python",
   "name": "python",
   "nbconvert_exporter": "python",
   "pygments_lexer": "ipython3",
   "version": "3.12.0"
  }
 },
 "nbformat": 4,
 "nbformat_minor": 2
}
